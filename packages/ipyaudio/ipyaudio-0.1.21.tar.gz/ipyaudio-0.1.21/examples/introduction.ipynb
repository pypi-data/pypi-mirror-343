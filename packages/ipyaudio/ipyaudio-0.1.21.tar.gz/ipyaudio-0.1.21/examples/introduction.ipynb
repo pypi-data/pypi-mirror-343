{
 "cells": [
  {
   "cell_type": "markdown",
   "metadata": {},
   "source": [
    "# Introduction"
   ]
  },
  {
   "cell_type": "markdown",
   "metadata": {},
   "source": [
    "## Player"
   ]
  },
  {
   "cell_type": "code",
   "execution_count": 1,
   "metadata": {},
   "outputs": [
    {
     "data": {
      "application/vnd.jupyter.widget-view+json": {
       "model_id": "bc6fbce8ac6449f9a820780032ea6cdd",
       "version_major": 2,
       "version_minor": 0
      },
      "text/plain": [
       "Player(value=None, config={'options': {'autoScroll': True, 'backend': 'WebAudio', 'container': '', 'cursorColo…"
      ]
     },
     "metadata": {},
     "output_type": "display_data"
    },
    {
     "name": "stderr",
     "output_type": "stream",
     "text": [
      "WARNING:audiolab.av.frame:float32 array out of range: -1.0800782442092896 ~ 1.048580527305603\n"
     ]
    }
   ],
   "source": [
    "from ipyaudio import Player, play\n",
    "\n",
    "play(\"https://modelscope.cn/datasets/pengzhendong/filesamples/resolve/master/audio/aac/sample1.aac\")"
   ]
  },
  {
   "cell_type": "markdown",
   "metadata": {},
   "source": [
    "## Recorder\n",
    "\n",
    "Record audio "
   ]
  },
  {
   "cell_type": "code",
   "execution_count": 1,
   "metadata": {},
   "outputs": [
    {
     "data": {
      "application/vnd.jupyter.widget-view+json": {
       "model_id": "0b7d4de1bade4ab4b108352c49b3b0a6",
       "version_major": 2,
       "version_minor": 0
      },
      "text/plain": [
       "VBox(children=(Recorder(value=None, config={'options': {'backend': 'WebAudio', 'container': '', 'waveColor': '…"
      ]
     },
     "metadata": {},
     "output_type": "display_data"
    }
   ],
   "source": [
    "from ipyaudio import record\n",
    "\n",
    "record(\"audio.wav\", verbose=True)"
   ]
  },
  {
   "cell_type": "code",
   "execution_count": 1,
   "metadata": {},
   "outputs": [
    {
     "name": "stdout",
     "output_type": "stream",
     "text": [
      "\n",
      "Input File     : 'audio.wav'\n",
      "Channels       : 1\n",
      "Sample Rate    : 16000\n",
      "Precision      : 16-bit\n",
      "Duration       : 00:00:01.56 = 24960 samples ~ 117 CDDA sectors\n",
      "File Size      : 50 kB\n",
      "Bit Rate       : 256 kbps\n",
      "Sample Encoding: PCM signed 16-bit little-endian\n"
     ]
    }
   ],
   "source": [
    "!audioi audio.wav"
   ]
  },
  {
   "cell_type": "code",
   "execution_count": null,
   "metadata": {},
   "outputs": [],
   "source": [
    "w = ipyaudio.ExampleWidget()\n",
    "w"
   ]
  },
  {
   "cell_type": "code",
   "execution_count": null,
   "metadata": {},
   "outputs": [],
   "source": [
    "assert w.value == 'Hello World'"
   ]
  }
 ],
 "metadata": {
  "kernelspec": {
   "display_name": "Python 3 (ipykernel)",
   "language": "python",
   "name": "python3"
  },
  "language_info": {
   "codemirror_mode": {
    "name": "ipython",
    "version": 3
   },
   "file_extension": ".py",
   "mimetype": "text/x-python",
   "name": "python",
   "nbconvert_exporter": "python",
   "pygments_lexer": "ipython3",
   "version": "3.13.3"
  }
 },
 "nbformat": 4,
 "nbformat_minor": 4
}
