{
 "cells": [
  {
   "cell_type": "markdown",
   "metadata": {},
   "source": [
    "# Introduction"
   ]
  },
  {
   "cell_type": "markdown",
   "metadata": {},
   "source": [
    "## Player"
   ]
  },
  {
   "cell_type": "code",
   "execution_count": 9,
   "metadata": {},
   "outputs": [
    {
     "data": {
      "application/vnd.jupyter.widget-view+json": {
       "model_id": "990b7f145d4a40f3b582f407172fa62e",
       "version_major": 2,
       "version_minor": 0
      },
      "text/plain": [
       "Player(value=None, config={'options': {'autoScroll': True, 'backend': 'WebAudio', 'container': '', 'cursorColo…"
      ]
     },
     "metadata": {},
     "output_type": "display_data"
    },
    {
     "name": "stderr",
     "output_type": "stream",
     "text": [
      "WARNING:audiolab.av.frame:float32 array out of range: -1.0800782442092896 ~ 1.048580527305603\n"
     ]
    }
   ],
   "source": [
    "from ipyaudio import play\n",
    "\n",
    "play(\"https://modelscope.cn/datasets/pengzhendong/filesamples/resolve/master/audio/aac/sample1.aac\")"
   ]
  },
  {
   "cell_type": "code",
   "execution_count": 10,
   "metadata": {},
   "outputs": [
    {
     "data": {
      "application/vnd.jupyter.widget-view+json": {
       "model_id": "425a0fe8f63746d28b24d43d48aba706",
       "version_major": 2,
       "version_minor": 0
      },
      "text/plain": [
       "Player(value=None, config={'options': {'autoScroll': True, 'backend': 'WebAudio', 'container': '', 'cursorColo…"
      ]
     },
     "metadata": {},
     "output_type": "display_data"
    }
   ],
   "source": [
    "from ipyaudio import Player\n",
    "\n",
    "player = Player(\"https://modelscope.cn/datasets/pengzhendong/filesamples/resolve/master/audio/aac/sample1.aac\")"
   ]
  },
  {
   "cell_type": "code",
   "execution_count": 11,
   "metadata": {},
   "outputs": [
    {
     "name": "stderr",
     "output_type": "stream",
     "text": [
      "WARNING:audiolab.av.frame:float32 array out of range: -1.0800782442092896 ~ 1.048580527305603\n"
     ]
    }
   ],
   "source": [
    "player.play()"
   ]
  },
  {
   "cell_type": "markdown",
   "metadata": {},
   "source": [
    "## Recorder"
   ]
  },
  {
   "cell_type": "code",
   "execution_count": 12,
   "metadata": {},
   "outputs": [
    {
     "data": {
      "application/vnd.jupyter.widget-view+json": {
       "model_id": "acfac4ce0d8e449580200589489b42a7",
       "version_major": 2,
       "version_minor": 0
      },
      "text/plain": [
       "VBox(children=(Recorder(value=None, config={'options': {'backend': 'WebAudio', 'container': '', 'waveColor': '…"
      ]
     },
     "metadata": {},
     "output_type": "display_data"
    }
   ],
   "source": [
    "from ipyaudio import record\n",
    "\n",
    "record(\"audio.wav\", verbose=True)"
   ]
  },
  {
   "cell_type": "code",
   "execution_count": 1,
   "metadata": {},
   "outputs": [
    {
     "name": "stdout",
     "output_type": "stream",
     "text": [
      "\n",
      "Input File     : 'audio.wav'\n",
      "Channels       : 1\n",
      "Sample Rate    : 16000\n",
      "Precision      : 16-bit\n",
      "Duration       : 00:00:01.56 = 24960 samples ~ 117 CDDA sectors\n",
      "File Size      : 50 kB\n",
      "Bit Rate       : 256 kbps\n",
      "Sample Encoding: PCM signed 16-bit little-endian\n"
     ]
    }
   ],
   "source": [
    "!audioi audio.wav"
   ]
  },
  {
   "cell_type": "code",
   "execution_count": 13,
   "metadata": {},
   "outputs": [
    {
     "data": {
      "application/vnd.jupyter.widget-view+json": {
       "model_id": "2d654053965543cca27416273e4a2a1c",
       "version_major": 2,
       "version_minor": 0
      },
      "text/plain": [
       "VBox(children=(Recorder(value=None, config={'options': {'backend': 'WebAudio', 'container': '', 'waveColor': '…"
      ]
     },
     "metadata": {},
     "output_type": "display_data"
    }
   ],
   "source": [
    "from ipyaudio import Recorder\n",
    "\n",
    "recorder = Recorder(\"audio.wav\", verbose=True)"
   ]
  },
  {
   "cell_type": "code",
   "execution_count": 14,
   "metadata": {},
   "outputs": [
    {
     "data": {
      "text/plain": [
       "(1, 22080)"
      ]
     },
     "execution_count": 14,
     "metadata": {},
     "output_type": "execute_result"
    }
   ],
   "source": [
    "recorder.audio.shape"
   ]
  },
  {
   "cell_type": "code",
   "execution_count": null,
   "metadata": {},
   "outputs": [],
   "source": []
  }
 ],
 "metadata": {
  "kernelspec": {
   "display_name": "Python 3 (ipykernel)",
   "language": "python",
   "name": "python3"
  },
  "language_info": {
   "codemirror_mode": {
    "name": "ipython",
    "version": 3
   },
   "file_extension": ".py",
   "mimetype": "text/x-python",
   "name": "python",
   "nbconvert_exporter": "python",
   "pygments_lexer": "ipython3",
   "version": "3.13.3"
  }
 },
 "nbformat": 4,
 "nbformat_minor": 4
}
