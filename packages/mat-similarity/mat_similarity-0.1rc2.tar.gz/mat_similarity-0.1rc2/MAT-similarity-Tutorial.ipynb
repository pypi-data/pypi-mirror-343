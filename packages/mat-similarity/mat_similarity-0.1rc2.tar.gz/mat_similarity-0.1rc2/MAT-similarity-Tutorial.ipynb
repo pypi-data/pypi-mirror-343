{
 "cells": [
  {
   "cell_type": "markdown",
   "metadata": {},
   "source": [
    "# MAT-Similarity: Methods to measure the similarity for Multiple Aspect Trajectory Data \\[MAT-Tools Framework\\]\n",
    "\n",
    "Welcome to this tutorial on using the mat-similarity package. In this tutorial, you will learn how to measure similarity between multiple aspect trajectories using the mat-similarity as a python library.\n",
    "\n",
    "The present package offers a tool to support the user in measuring the similarity between multiple aspect trajectories. It integrates into a unique framework for multiple aspect trajectories and, in general, for multidimensional sequence data mining methods.\n",
    "\n",
    "Created on Mai, 2024\n",
    "Copyright (C) 2024, License GPL Version 3 or superior (see LICENSE file)\n"
   ]
  },
  {
   "cell_type": "code",
   "execution_count": 1,
   "metadata": {
    "tags": []
   },
   "outputs": [],
   "source": [
    "# Setup and Installation of mat-similarity package\n",
    "!pip install mat-similarity"
   ]
  },
  {
   "cell_type": "code",
   "execution_count": 2,
   "metadata": {
    "collapsed": true,
    "jupyter": {
     "outputs_hidden": true
    },
    "tags": []
   },
   "outputs": [
    {
     "name": "stdout",
     "output_type": "stream",
     "text": [
      "Requirement already satisfied: mat-model in /Library/Frameworks/Python.framework/Versions/3.11/lib/python3.11/site-packages (0.1b7)\n",
      "Requirement already satisfied: mat-data in /Library/Frameworks/Python.framework/Versions/3.11/lib/python3.11/site-packages (0.1rc5)\n",
      "Requirement already satisfied: glob2 in /Library/Frameworks/Python.framework/Versions/3.11/lib/python3.11/site-packages (from mat-model) (0.7)\n",
      "Requirement already satisfied: numpy in /Library/Frameworks/Python.framework/Versions/3.11/lib/python3.11/site-packages (from mat-model) (1.26.2)\n",
      "Requirement already satisfied: pandas in /Library/Frameworks/Python.framework/Versions/3.11/lib/python3.11/site-packages (from mat-model) (2.1.3)\n",
      "Requirement already satisfied: py7zr in /Library/Frameworks/Python.framework/Versions/3.11/lib/python3.11/site-packages (from mat-data) (0.21.0)\n",
      "Requirement already satisfied: geohash in /Library/Frameworks/Python.framework/Versions/3.11/lib/python3.11/site-packages (from mat-data) (1.0)\n",
      "Requirement already satisfied: pyarrow in /Library/Frameworks/Python.framework/Versions/3.11/lib/python3.11/site-packages (from mat-data) (16.1.0)\n",
      "Requirement already satisfied: fastparquet in /Library/Frameworks/Python.framework/Versions/3.11/lib/python3.11/site-packages (from mat-data) (2024.5.0)\n",
      "Requirement already satisfied: cramjam>=2.3 in /Library/Frameworks/Python.framework/Versions/3.11/lib/python3.11/site-packages (from fastparquet->mat-data) (2.8.3)\n",
      "Requirement already satisfied: fsspec in /Library/Frameworks/Python.framework/Versions/3.11/lib/python3.11/site-packages (from fastparquet->mat-data) (2024.5.0)\n",
      "Requirement already satisfied: packaging in /Library/Frameworks/Python.framework/Versions/3.11/lib/python3.11/site-packages (from fastparquet->mat-data) (23.2)\n",
      "Requirement already satisfied: python-dateutil>=2.8.2 in /Library/Frameworks/Python.framework/Versions/3.11/lib/python3.11/site-packages (from pandas->mat-model) (2.8.2)\n",
      "Requirement already satisfied: pytz>=2020.1 in /Library/Frameworks/Python.framework/Versions/3.11/lib/python3.11/site-packages (from pandas->mat-model) (2023.3.post1)\n",
      "Requirement already satisfied: tzdata>=2022.1 in /Library/Frameworks/Python.framework/Versions/3.11/lib/python3.11/site-packages (from pandas->mat-model) (2023.3)\n",
      "Requirement already satisfied: docutils>=0.3 in /Library/Frameworks/Python.framework/Versions/3.11/lib/python3.11/site-packages (from geohash->mat-data) (0.21.2)\n",
      "Requirement already satisfied: texttable in /Library/Frameworks/Python.framework/Versions/3.11/lib/python3.11/site-packages (from py7zr->mat-data) (1.7.0)\n",
      "Requirement already satisfied: pycryptodomex>=3.16.0 in /Library/Frameworks/Python.framework/Versions/3.11/lib/python3.11/site-packages (from py7zr->mat-data) (3.20.0)\n",
      "Requirement already satisfied: pyzstd>=0.15.9 in /Library/Frameworks/Python.framework/Versions/3.11/lib/python3.11/site-packages (from py7zr->mat-data) (0.16.0)\n",
      "Requirement already satisfied: pyppmd<1.2.0,>=1.1.0 in /Library/Frameworks/Python.framework/Versions/3.11/lib/python3.11/site-packages (from py7zr->mat-data) (1.1.0)\n",
      "Requirement already satisfied: pybcj<1.1.0,>=1.0.0 in /Library/Frameworks/Python.framework/Versions/3.11/lib/python3.11/site-packages (from py7zr->mat-data) (1.0.2)\n",
      "Requirement already satisfied: multivolumefile>=0.2.3 in /Library/Frameworks/Python.framework/Versions/3.11/lib/python3.11/site-packages (from py7zr->mat-data) (0.2.3)\n",
      "Requirement already satisfied: inflate64<1.1.0,>=1.0.0 in /Library/Frameworks/Python.framework/Versions/3.11/lib/python3.11/site-packages (from py7zr->mat-data) (1.0.0)\n",
      "Requirement already satisfied: brotli>=1.1.0 in /Library/Frameworks/Python.framework/Versions/3.11/lib/python3.11/site-packages (from py7zr->mat-data) (1.1.0)\n",
      "Requirement already satisfied: psutil in /Library/Frameworks/Python.framework/Versions/3.11/lib/python3.11/site-packages (from py7zr->mat-data) (5.9.6)\n",
      "Requirement already satisfied: six>=1.5 in /Library/Frameworks/Python.framework/Versions/3.11/lib/python3.11/site-packages (from python-dateutil>=2.8.2->pandas->mat-model) (1.16.0)\n"
     ]
    }
   ],
   "source": [
    "# Setup and instalattion of other packages of mat framework needed.\n",
    "!pip install mat-model mat-data"
   ]
  },
  {
   "cell_type": "markdown",
   "metadata": {
    "tags": []
   },
   "source": [
    "# 1. Loading data\n",
    "To use helpers for data pre-processing, import from package matdata (dependency: mat-data):\n",
    "\n",
    "## 1.1 Loading a sample data\n",
    "a) Lets start by loading FoursquareNYC data:\n",
    "(For other preprocessing functions, check the docs: https://mat-analysis.github.io/mat-tools/"
   ]
  },
  {
   "cell_type": "code",
   "execution_count": 1,
   "metadata": {},
   "outputs": [
    {
     "name": "stdout",
     "output_type": "stream",
     "text": [
      "Loading dataset file: https://github.com/mat-analysis/datasets/tree/main/mat/FoursquareNYC/\n"
     ]
    },
    {
     "name": "stderr",
     "output_type": "stream",
     "text": [
      "  % Total    % Received % Xferd  Average Speed   Time    Time     Time  Current\n",
      "                                 Dload  Upload   Total   Spent    Left  Speed\n",
      "100 1055k  100 1055k    0     0  4914k      0 --:--:-- --:--:-- --:--:-- 4978k\n"
     ]
    },
    {
     "data": {
      "application/vnd.jupyter.widget-view+json": {
       "model_id": "133ea067b7934644af0da1fdfb559871",
       "version_major": 2,
       "version_minor": 0
      },
      "text/plain": [
       "Stratification (class-balanced):   0%|          | 0/193 [00:00<?, ?it/s]"
      ]
     },
     "metadata": {},
     "output_type": "display_data"
    },
    {
     "data": {
      "application/vnd.jupyter.widget-view+json": {
       "model_id": "2864e9d2330f44e2869043c3bfe4279e",
       "version_major": 2,
       "version_minor": 0
      },
      "text/plain": [
       "Sorting data:   0%|          | 0/193 [00:00<?, ?it/s]"
      ]
     },
     "metadata": {},
     "output_type": "display_data"
    },
    {
     "data": {
      "text/html": [
       "<div>\n",
       "<style scoped>\n",
       "    .dataframe tbody tr th:only-of-type {\n",
       "        vertical-align: middle;\n",
       "    }\n",
       "\n",
       "    .dataframe tbody tr th {\n",
       "        vertical-align: top;\n",
       "    }\n",
       "\n",
       "    .dataframe thead th {\n",
       "        text-align: right;\n",
       "    }\n",
       "</style>\n",
       "<table border=\"1\" class=\"dataframe\">\n",
       "  <thead>\n",
       "    <tr style=\"text-align: right;\">\n",
       "      <th></th>\n",
       "      <th>space</th>\n",
       "      <th>time</th>\n",
       "      <th>day</th>\n",
       "      <th>poi</th>\n",
       "      <th>type</th>\n",
       "      <th>root_type</th>\n",
       "      <th>rating</th>\n",
       "      <th>weather</th>\n",
       "      <th>tid</th>\n",
       "      <th>label</th>\n",
       "    </tr>\n",
       "  </thead>\n",
       "  <tbody>\n",
       "    <tr>\n",
       "      <th>0</th>\n",
       "      <td>40.8340978041072 -73.9452672225881</td>\n",
       "      <td>788</td>\n",
       "      <td>Monday</td>\n",
       "      <td>Galaxy Gourmet Deli</td>\n",
       "      <td>Deli / Bodega</td>\n",
       "      <td>Food</td>\n",
       "      <td>8.2</td>\n",
       "      <td>Clouds</td>\n",
       "      <td>127</td>\n",
       "      <td>6</td>\n",
       "    </tr>\n",
       "    <tr>\n",
       "      <th>1</th>\n",
       "      <td>40.5671960000000 -73.8825760000000</td>\n",
       "      <td>1175</td>\n",
       "      <td>Monday</td>\n",
       "      <td>MTA Bus - Beach 169 St &amp; Rockaway Point Bl (Q2...</td>\n",
       "      <td>Bus Stop</td>\n",
       "      <td>Travel &amp; Transport</td>\n",
       "      <td>-1.0</td>\n",
       "      <td>Clouds</td>\n",
       "      <td>127</td>\n",
       "      <td>6</td>\n",
       "    </tr>\n",
       "    <tr>\n",
       "      <th>2</th>\n",
       "      <td>40.6899127194574 -73.9815044403076</td>\n",
       "      <td>1381</td>\n",
       "      <td>Monday</td>\n",
       "      <td>MTA Subway - DeKalb Ave (B/Q/R)</td>\n",
       "      <td>Metro Station</td>\n",
       "      <td>Travel &amp; Transport</td>\n",
       "      <td>-1.0</td>\n",
       "      <td>Clouds</td>\n",
       "      <td>127</td>\n",
       "      <td>6</td>\n",
       "    </tr>\n",
       "    <tr>\n",
       "      <th>3</th>\n",
       "      <td>40.7085883614824 -73.9910316467285</td>\n",
       "      <td>1404</td>\n",
       "      <td>Monday</td>\n",
       "      <td>MTA Subway - Manhattan Bridge (B/D/N/Q)</td>\n",
       "      <td>Train</td>\n",
       "      <td>Travel &amp; Transport</td>\n",
       "      <td>-1.0</td>\n",
       "      <td>Clouds</td>\n",
       "      <td>127</td>\n",
       "      <td>6</td>\n",
       "    </tr>\n",
       "    <tr>\n",
       "      <th>4</th>\n",
       "      <td>40.8331652006224 -73.9418603427692</td>\n",
       "      <td>845</td>\n",
       "      <td>Tuesday</td>\n",
       "      <td>The Grinnell</td>\n",
       "      <td>Home (private)</td>\n",
       "      <td>Residence</td>\n",
       "      <td>-1.0</td>\n",
       "      <td>Clear</td>\n",
       "      <td>127</td>\n",
       "      <td>6</td>\n",
       "    </tr>\n",
       "    <tr>\n",
       "      <th>...</th>\n",
       "      <td>...</td>\n",
       "      <td>...</td>\n",
       "      <td>...</td>\n",
       "      <td>...</td>\n",
       "      <td>...</td>\n",
       "      <td>...</td>\n",
       "      <td>...</td>\n",
       "      <td>...</td>\n",
       "      <td>...</td>\n",
       "      <td>...</td>\n",
       "    </tr>\n",
       "    <tr>\n",
       "      <th>17</th>\n",
       "      <td>40.7047332789043 -73.9877378940582</td>\n",
       "      <td>939</td>\n",
       "      <td>Thursday</td>\n",
       "      <td>Miami Ad School Brooklyn</td>\n",
       "      <td>General College &amp; University</td>\n",
       "      <td>College &amp; University</td>\n",
       "      <td>-1.0</td>\n",
       "      <td>Clear</td>\n",
       "      <td>29559</td>\n",
       "      <td>1070</td>\n",
       "    </tr>\n",
       "    <tr>\n",
       "      <th>18</th>\n",
       "      <td>40.6978026652822 -73.9941451630314</td>\n",
       "      <td>483</td>\n",
       "      <td>Friday</td>\n",
       "      <td>Eastern Athletic Club</td>\n",
       "      <td>Gym</td>\n",
       "      <td>Outdoors &amp; Recreation</td>\n",
       "      <td>6.9</td>\n",
       "      <td>Clear</td>\n",
       "      <td>29559</td>\n",
       "      <td>1070</td>\n",
       "    </tr>\n",
       "    <tr>\n",
       "      <th>19</th>\n",
       "      <td>40.6946728967503 -73.9940820360805</td>\n",
       "      <td>794</td>\n",
       "      <td>Friday</td>\n",
       "      <td>Starbucks</td>\n",
       "      <td>Coffee Shop</td>\n",
       "      <td>Food</td>\n",
       "      <td>7.0</td>\n",
       "      <td>Clear</td>\n",
       "      <td>29559</td>\n",
       "      <td>1070</td>\n",
       "    </tr>\n",
       "    <tr>\n",
       "      <th>20</th>\n",
       "      <td>40.7023694709909 -73.9875124790989</td>\n",
       "      <td>1261</td>\n",
       "      <td>Friday</td>\n",
       "      <td>Superfine</td>\n",
       "      <td>American Restaurant</td>\n",
       "      <td>Food</td>\n",
       "      <td>7.6</td>\n",
       "      <td>Clear</td>\n",
       "      <td>29559</td>\n",
       "      <td>1070</td>\n",
       "    </tr>\n",
       "    <tr>\n",
       "      <th>21</th>\n",
       "      <td>40.6977207397189 -73.9930203524269</td>\n",
       "      <td>56</td>\n",
       "      <td>Saturday</td>\n",
       "      <td>EHS St. George Residence</td>\n",
       "      <td>College Residence Hall</td>\n",
       "      <td>College &amp; University</td>\n",
       "      <td>-1.0</td>\n",
       "      <td>Clouds</td>\n",
       "      <td>29559</td>\n",
       "      <td>1070</td>\n",
       "    </tr>\n",
       "  </tbody>\n",
       "</table>\n",
       "<p>15272 rows × 10 columns</p>\n",
       "</div>"
      ],
      "text/plain": [
       "                                 space  time       day  \\\n",
       "0   40.8340978041072 -73.9452672225881   788    Monday   \n",
       "1   40.5671960000000 -73.8825760000000  1175    Monday   \n",
       "2   40.6899127194574 -73.9815044403076  1381    Monday   \n",
       "3   40.7085883614824 -73.9910316467285  1404    Monday   \n",
       "4   40.8331652006224 -73.9418603427692   845   Tuesday   \n",
       "..                                 ...   ...       ...   \n",
       "17  40.7047332789043 -73.9877378940582   939  Thursday   \n",
       "18  40.6978026652822 -73.9941451630314   483    Friday   \n",
       "19  40.6946728967503 -73.9940820360805   794    Friday   \n",
       "20  40.7023694709909 -73.9875124790989  1261    Friday   \n",
       "21  40.6977207397189 -73.9930203524269    56  Saturday   \n",
       "\n",
       "                                                  poi  \\\n",
       "0                                 Galaxy Gourmet Deli   \n",
       "1   MTA Bus - Beach 169 St & Rockaway Point Bl (Q2...   \n",
       "2                     MTA Subway - DeKalb Ave (B/Q/R)   \n",
       "3             MTA Subway - Manhattan Bridge (B/D/N/Q)   \n",
       "4                                        The Grinnell   \n",
       "..                                                ...   \n",
       "17                           Miami Ad School Brooklyn   \n",
       "18                              Eastern Athletic Club   \n",
       "19                                          Starbucks   \n",
       "20                                          Superfine   \n",
       "21                           EHS St. George Residence   \n",
       "\n",
       "                            type              root_type  rating weather  \\\n",
       "0                  Deli / Bodega                   Food     8.2  Clouds   \n",
       "1                       Bus Stop     Travel & Transport    -1.0  Clouds   \n",
       "2                  Metro Station     Travel & Transport    -1.0  Clouds   \n",
       "3                          Train     Travel & Transport    -1.0  Clouds   \n",
       "4                 Home (private)              Residence    -1.0   Clear   \n",
       "..                           ...                    ...     ...     ...   \n",
       "17  General College & University   College & University    -1.0   Clear   \n",
       "18                           Gym  Outdoors & Recreation     6.9   Clear   \n",
       "19                   Coffee Shop                   Food     7.0   Clear   \n",
       "20           American Restaurant                   Food     7.6   Clear   \n",
       "21        College Residence Hall   College & University    -1.0  Clouds   \n",
       "\n",
       "      tid  label  \n",
       "0     127      6  \n",
       "1     127      6  \n",
       "2     127      6  \n",
       "3     127      6  \n",
       "4     127      6  \n",
       "..    ...    ...  \n",
       "17  29559   1070  \n",
       "18  29559   1070  \n",
       "19  29559   1070  \n",
       "20  29559   1070  \n",
       "21  29559   1070  \n",
       "\n",
       "[15272 rows x 10 columns]"
      ]
     },
     "execution_count": 1,
     "metadata": {},
     "output_type": "execute_result"
    }
   ],
   "source": [
    "from matdata.preprocess import *\n",
    "\n",
    "from matdata.dataset import *\n",
    "ds = 'mat.FoursquareNYC'\n",
    "df = load_ds(ds, sample_size=0.25)\n",
    "df"
   ]
  },
  {
   "cell_type": "markdown",
   "metadata": {},
   "source": [
    "## 1.2 Trajectory Objects (Conversions)\n",
    "\n",
    "You can convert the dataframe into Trajectory objects (and Dataset Descriptor object)"
   ]
  },
  {
   "cell_type": "code",
   "execution_count": 2,
   "metadata": {},
   "outputs": [
    {
     "data": {
      "application/vnd.jupyter.widget-view+json": {
       "model_id": "956da15d8b6042c8b1f6dbe9fa210b65",
       "version_major": 2,
       "version_minor": 0
      },
      "text/plain": [
       "Converting Trajectories:   0%|          | 0/694 [00:00<?, ?it/s]"
      ]
     },
     "metadata": {},
     "output_type": "display_data"
    }
   ],
   "source": [
    "from matmodel.util.parsers import df2trajectory\n",
    "\n",
    "T, dataset_descriptor = df2trajectory(df, data_desc='./FoursquareNYC.json')"
   ]
  },
  {
   "cell_type": "markdown",
   "metadata": {},
   "source": [
    "At now, you can get specifc trajectory object to manipulate:"
   ]
  },
  {
   "cell_type": "code",
   "execution_count": 3,
   "metadata": {},
   "outputs": [
    {
     "name": "stdout",
     "output_type": "stream",
     "text": [
      "𝘛𐄁128 \t𝘱1⟨(40.660 -73.830), 2024-01-01 17:22:00, Monday, MTA Subway - Howard Beach/JFK Airport (A), Metro Station, Travel & Transport, -1.0, Clear⟩↴\n",
      "\t𝘱2⟨(40.609 -73.819), 2024-01-01 19:39:00, Monday, MTA Bus - Q53, Beach, Outdoors & Recreation, -1.0, Clear⟩↴\n",
      "\t𝘱3⟨(40.734 -73.871), 2024-01-01 20:08:00, Monday, Queens Center Mall, Shopping Mall, Shop & Service, 7.5, Clear⟩↴\n",
      "\t𝘱4⟨(40.733 -73.871), 2024-01-01 20:10:00, Monday, MTA Bus - Q11/Q21/Q29/Q52LTD/Q53LTD/Q59/Q60 - Queens Blvd & 59th Av, Bus Line, Travel & Transport, -1.0, Clear⟩↴\n",
      "\t𝘱5⟨(40.763 -73.875), 2024-01-01 21:13:00, Monday, MTABus Q19, Q49 (Astoria Blvd/94th St), Bus Station, Travel & Transport, -1.0, Clear⟩↴\n",
      "\t𝘱6⟨(40.757 -73.992), 2024-01-01 02:17:00, Thursday, Port Authority Bus Terminal, Bus Station, Travel & Transport, 5.5, Clear⟩↴\n",
      "\t𝘱7⟨(40.756 -73.986), 2024-01-01 02:27:00, Thursday, Times Square, Plaza, Outdoors & Recreation, 9.0, Clear⟩↴\n",
      "\t𝘱8⟨(40.816 -73.958), 2024-01-01 02:51:00, Thursday, MTA Subway - 125th St (1), Metro Station, Travel & Transport, -1.0, Clear⟩↴\n",
      "\t𝘱9⟨(40.833 -73.942), 2024-01-01 14:39:00, Saturday, The Grinnell, Home (private), Residence, -1.0, Clouds⟩↴\n",
      "\t𝘱10⟨(40.831 -73.941), 2024-01-01 15:54:00, Saturday, MTA Subway - 155th St (C), Metro Station, Travel & Transport, -1.0, Clouds⟩↴\n",
      "\t𝘱11⟨(40.690 -73.982), 2024-01-01 17:35:00, Saturday, NYCT Transit Survey Unit, Office, Professional & Other Places, -1.0, Clouds⟩↴\n",
      "\t𝘱12⟨(40.828 -73.926), 2024-01-01 18:47:00, Saturday, MTA Bus - E 161 St & River Av (Bx6/Bx13), Bus Stop, Travel & Transport, 6.2, Clouds⟩↴\n",
      "\t𝘱13⟨(40.833 -73.942), 2024-01-01 00:11:00, Sunday, The Lair Of Modern Strange Cowboy, Home (private), Residence, -1.0, Clouds⟩↴\n",
      "\t𝘱14⟨(40.709 -73.991), 2024-01-01 12:31:00, Sunday, MTA Subway - Manhattan Bridge (B/D/N/Q), Train, Travel & Transport, -1.0, Fog⟩↴\n",
      "\t𝘱15⟨(40.691 -73.987), 2024-01-01 13:58:00, Sunday, MTA Subway - Jay St/MetroTech (A/C/F/R), Metro Station, Travel & Transport, -1.0, Fog⟩↴\n",
      "\t𝘱16⟨(40.731 -74.000), 2024-01-01 14:50:00, Sunday, NYU Law | Vanderbilt Hall, Law School, College & University, -1.0, Fog⟩↴\n",
      "\t𝘱17⟨(40.800 -73.829), 2024-01-01 20:10:00, Sunday, Bronx-Whitestone Bridge, Bridge, Outdoors & Recreation, -1.0, Clouds⟩↴\n",
      "\t𝘱18⟨(40.860 -73.926), 2024-01-01 21:19:00, Sunday, MTA Subway - Dyckman St (1), Metro Station, Travel & Transport, -1.0, Clouds⟩\n",
      "𝘛𐄁135 \t𝘱1⟨(40.690 -73.982), 2024-01-01 02:25:00, Monday, NYCT Transit Survey Unit, Office, Professional & Other Places, -1.0, Clouds⟩↴\n",
      "\t𝘱2⟨(40.709 -73.991), 2024-01-01 03:21:00, Monday, MTA Subway - Manhattan Bridge (B/D/N/Q), Train, Travel & Transport, -1.0, Clouds⟩↴\n",
      "\t𝘱3⟨(40.828 -73.926), 2024-01-01 23:02:00, Monday, MTA Subway - 161st St/Yankee Stadium (4/B/D), Metro Station, Travel & Transport, -1.0, Clouds⟩↴\n",
      "\t𝘱4⟨(40.709 -73.991), 2024-01-01 01:40:00, Tuesday, MTA Subway - Manhattan Bridge (B/D/N/Q), Train, Travel & Transport, -1.0, Clouds⟩↴\n",
      "\t𝘱5⟨(40.690 -73.982), 2024-01-01 02:25:00, Tuesday, NYCT Transit Survey Unit, Office, Professional & Other Places, -1.0, Rain⟩↴\n",
      "\t𝘱6⟨(40.759 -73.988), 2024-01-01 04:07:00, Tuesday, MTA Bus - 8 Av & W 46 St (M20/M104), Bus Stop, Travel & Transport, -1.0, Rain⟩↴\n",
      "\t𝘱7⟨(40.653 -74.002), 2024-01-01 05:07:00, Wednesday, MTA Regional Bus Depot - Jackie Gleason, Bus Station, Travel & Transport, -1.0, Clouds⟩↴\n",
      "\t𝘱8⟨(40.638 -73.979), 2024-01-01 05:53:00, Wednesday, MTA B67, B69 (McDonald Ave/Cortelyou Road), Bus Station, Travel & Transport, -1.0, Clouds⟩↴\n",
      "\t𝘱9⟨(40.688 -73.981), 2024-01-01 07:05:00, Wednesday, MTA Bus - Livingston St & Nevins St (B41/B41LTD/B45/B67/B103LTD), Bus Station, Travel & Transport, -1.0, Clouds⟩↴\n",
      "\t𝘱10⟨(40.647 -73.980), 2024-01-01 07:55:00, Wednesday, MTA B67, B69, B103 (McDonald Ave/Caton Ave), Bus Station, Travel & Transport, -1.0, Rain⟩↴\n",
      "\t𝘱11⟨(40.654 -74.005), 2024-01-01 09:19:00, Wednesday, MTA Subway - 36th St (D/N/R), Metro Station, Travel & Transport, -1.0, Rain⟩↴\n",
      "\t𝘱12⟨(40.690 -73.985), 2024-01-01 03:14:00, Thursday, MTA Subway - Hoyt St (2/3), Metro Station, Travel & Transport, -1.0, Clear⟩↴\n",
      "\t𝘱13⟨(40.833 -73.942), 2024-01-01 04:48:00, Thursday, The Lair Of Modern Strange Cowboy, Home (private), Residence, -1.0, Clouds⟩↴\n",
      "\t𝘱14⟨(40.651 -73.950), 2024-01-01 00:44:00, Friday, MTA Subway - Church Ave (2/5), Metro Station, Travel & Transport, -1.0, Clouds⟩\n"
     ]
    }
   ],
   "source": [
    "traj1 = T[1]\n",
    "traj1.display()\n",
    "\n",
    "traj2 = T[2]\n",
    "traj2.display()"
   ]
  },
  {
   "cell_type": "markdown",
   "metadata": {},
   "source": [
    "# 2. Similarity trajectory methods\n",
    "\n",
    "\n",
    "## 2.1 Similarity methods for Multiple Aspect Trajectories\n",
    "\n",
    "### 2.1.1 MUITAS:\n",
    "\n",
    "A similarity measure for trajectory data with heterogeneous semantic dimensions considers the semantic relationship between attributes.\n",
    "(paper Towards Semantic-Aware Multiple-Aspect Trajectory Similarity Measuring, published in Transactions in GIS, available in: \\url{https://doi.org/10.1111/tgis.12542})\n",
    "\n",
    "## Using the MUITAS Class for Measuring Similarity Between Multiple Aspect Trajectories.\n",
    "\n",
    "Welcome to this tutorial on using the MUITAS (Multiple Aspect Trajectory Similarity) class. In this tutorial, you will learn how to measure similarity between multiple aspect trajectories using the MUITAS class.\n",
    "\n",
    "Objectives:\n",
    "\n",
    "- Understand the MUITAS class and its functionalities.\n",
    "- Learn how to set up and initialize the MUITAS class.\n",
    "- Measure similarity between trajectories using the MUITAS class.\n",
    "- Visualize the trajectories and similarity scores.\n",
    "\n",
    "\n",
    "positional arguments:\n",
    "  input                  two trajectories objects to compute distances/similarities\n",
    "  output                 the distance/similarity score\n",
    "  config                 parameter configuration\n",
    "\n",
    "    \n",
    "\n",
    "To compute the similarity between two trajectories (P and Q), MUITAS(P,Q) needs to configure an Application. An application essentially defines the context of the problem, that is, how trajectories will be analyzed. An application 𝔸 is defined by a tuple 𝔸 = (attributes, distance function, thresholds, features, weights). In the following, we exemplify how to configure all elements in the application.\n",
    "\n",
    "The set of attributes is automatically obtained from the dataset descriptor, following the dataset read, such as the distance function is defined following the comparator in matmodel package, e.g:\n",
    "\n",
    "Attributes type and comparator:\n",
    "\n",
    "| Type    | Comparator      |\n",
    "|---------|-----------------|\n",
    "| space2d | euclidean/-1.0  |\n",
    "| time    | difference/-1.0 |\n",
    "| nominal | equals/-1.0     |\n",
    "| numeric | diffnotneg/-1.0 |\n",
    "\n",
    "\n"
   ]
  },
  {
   "cell_type": "code",
   "execution_count": 4,
   "metadata": {},
   "outputs": [
    {
     "name": "stdout",
     "output_type": "stream",
     "text": [
      "Attributes in Application: [1. space (space2d), 2. time (time), 3. day (nominal), 4. poi (nominal), 5. type (nominal), 6. root_type (nominal), 7. rating (numeric), 8. weather (nominal)]\n"
     ]
    }
   ],
   "source": [
    "print(f\"Attributes in Application: {dataset_descriptor.attributes}\")"
   ]
  },
  {
   "cell_type": "markdown",
   "metadata": {},
   "source": [
    "#### a) First, it is necessary create the similarity object given the dataset descriptor to be analysed"
   ]
  },
  {
   "cell_type": "code",
   "execution_count": 5,
   "metadata": {},
   "outputs": [],
   "source": [
    "# importing all functions refering similarity measure method:\n",
    "from matsimilarity.methods.mat.MUITAS import *\n",
    "\n",
    "# Create the MUITAS object \n",
    "muitas = MUITAS(dataset_descriptor)"
   ]
  },
  {
   "cell_type": "markdown",
   "metadata": {},
   "source": [
    "#### b) Second, it is necessary to define other parameter configurations of MUITAS:\n",
    "\n",
    "- Defining the features:\n",
    "--  which attributes will be analyzed, and if they will be examined individually or join with which other.\n",
    "-- To define features to measure similarity using MUITAS in this implementation, we define each feature with the set of attributes and the weight defined for the relative feature by the add_feature method.\n",
    "   "
   ]
  },
  {
   "cell_type": "code",
   "execution_count": 6,
   "metadata": {},
   "outputs": [
    {
     "name": "stdout",
     "output_type": "stream",
     "text": [
      "Feature: Attributes: [0], Weight: 1\n",
      "Feature: Attributes: [1], Weight: 1\n",
      "Feature: Attributes: [2], Weight: 0.25\n",
      "Feature: Attributes: [3, 4, 5], Weight: 0.25\n",
      "Feature: Attributes: [3, 6], Weight: 0.25\n",
      "Feature: Attributes: [7], Weight: 0.25\n"
     ]
    }
   ],
   "source": [
    "# Add features to the MUITAS object\n",
    "muitas.add_feature([dataset_descriptor.attributes[0]], 1)\n",
    "muitas.add_feature([dataset_descriptor.attributes[1]], 1)\n",
    "muitas.add_feature([dataset_descriptor.attributes[2]], 0.25)\n",
    "muitas.add_feature([dataset_descriptor.attributes[3], dataset_descriptor.attributes[4], dataset_descriptor.attributes[5]], 0.25)\n",
    "muitas.add_feature([dataset_descriptor.attributes[3], dataset_descriptor.attributes[6]], 0.25)\n",
    "muitas.add_feature([dataset_descriptor.attributes[7]], 0.25)"
   ]
  },
  {
   "cell_type": "markdown",
   "metadata": {},
   "source": [
    "#### c) Setting Thresholds\n",
    "\n",
    "It is possible to define the thresholds to be considered when two attributes are a match, according to each attribute type, following the attributes in the dataset descriptor. If not defined, default values will be considered according to attribute types:\n",
    "\n",
    "Attributes type and threshold:\n",
    "\n",
    "| Type              | Threshold |\n",
    "|-------------------|-----------|\n",
    "| space2d / space3d | 0.2       |\n",
    "| time              | 100       |\n",
    "| nominal           | 0.0       |\n",
    "| numeric           | 0.1       |\n",
    "\n",
    "\n",
    "\n",
    "In this implementation, we define thresholds for measuring similarity using the `MUITAS` class. Below is an example demonstrating how to set thresholds for each attribute and display them.\n"
   ]
  },
  {
   "cell_type": "code",
   "execution_count": 7,
   "metadata": {},
   "outputs": [
    {
     "name": "stdout",
     "output_type": "stream",
     "text": [
      "Attribute: space, Type: space2d, Threshold: 0.2\n",
      "Attribute: time, Type: time, Threshold: 100\n",
      "Attribute: day, Type: nominal, Threshold: 0.0\n",
      "Attribute: poi, Type: nominal, Threshold: 0.0\n",
      "Attribute: type, Type: nominal, Threshold: 0.0\n",
      "Attribute: root_type, Type: nominal, Threshold: 0.0\n",
      "Attribute: rating, Type: numeric, Threshold: 0.1\n",
      "Attribute: weather, Type: nominal, Threshold: 0.0\n"
     ]
    }
   ],
   "source": [
    "# Set thresholds\n",
    "muitas.set_threshold(threshold_value=[0.2, 100, 0.0, 0.0, 0.0, 0.0, 0.1, 0.0])\n",
    "muitas.display_attributes_and_thresholds()\n"
   ]
  },
  {
   "cell_type": "markdown",
   "metadata": {},
   "source": [
    "#### d) Measuring Similarity\n",
    "\n",
    "Finally, it is possible to measure similarity between two trajectories:"
   ]
  },
  {
   "cell_type": "code",
   "execution_count": 9,
   "metadata": {},
   "outputs": [
    {
     "name": "stdout",
     "output_type": "stream",
     "text": [
      "Similarity Score: 0.5442708333333333\n"
     ]
    }
   ],
   "source": [
    "# Measure similarity\n",
    "similarity_score = muitas.similarity(traj1, traj2)\n",
    "print(f\"Similarity Score: {similarity_score}\")"
   ]
  },
  {
   "cell_type": "markdown",
   "metadata": {
    "jp-MarkdownHeadingCollapsed": true,
    "tags": []
   },
   "source": [
    "#### e) Other Measures (#TODO)\n",
    "To use other measures, the process is similar. Just change the similarity class."
   ]
  },
  {
   "cell_type": "code",
   "execution_count": 8,
   "metadata": {},
   "outputs": [
    {
     "name": "stdout",
     "output_type": "stream",
     "text": [
      "Similarity Scores: 1.0; 0.0; 0.5703125\n",
      "Similarity Scores: 0.9285714285714286; 0.0; 0.5703125\n"
     ]
    }
   ],
   "source": [
    "from matsimilarity.methods.mat import LCSS, EDR, MSM\n",
    "\n",
    "# Create the MUITAS object \n",
    "lcss = LCSS(dataset_descriptor)\n",
    "edr  = EDR(dataset_descriptor)\n",
    "msm  = MSM(dataset_descriptor)\n",
    "\n",
    "# Measure similarity\n",
    "s1 = lcss.similarity(traj1, traj2)\n",
    "s2 = edr.similarity(traj1, traj2)\n",
    "s3 = msm.similarity(traj1, traj2)\n",
    "print(f\"Similarity Scores: {s1}; {s2}; {s3}\")\n",
    "\n",
    "s1 = lcss.similarity(traj2, traj1)\n",
    "s2 = edr.similarity(traj2, traj1)\n",
    "s3 = msm.similarity(traj2, traj1)\n",
    "print(f\"Similarity Scores: {s1}; {s2}; {s3}\")"
   ]
  },
  {
   "cell_type": "markdown",
   "metadata": {},
   "source": [
    "## Conclusion:\n",
    "\n",
    "In this tutorial, you learned how to use the MUITAS class to measure the similarity between multiple aspect trajectories. We covered:\n",
    "\n",
    "- Initializing the MUITAS class.\n",
    "- Setting thresholds for different attributes.\n",
    "- Defining features with different numbers of attributes and with different weights\n",
    "- Measuring similarity between trajectories."
   ]
  },
  {
   "cell_type": "markdown",
   "metadata": {},
   "source": [
    "\\# By Vanessa Lago Machado (2024)"
   ]
  }
 ],
 "metadata": {
  "kernelspec": {
   "display_name": "Python 3 (ipykernel)",
   "language": "python",
   "name": "python3"
  },
  "language_info": {
   "codemirror_mode": {
    "name": "ipython",
    "version": 3
   },
   "file_extension": ".py",
   "mimetype": "text/x-python",
   "name": "python",
   "nbconvert_exporter": "python",
   "pygments_lexer": "ipython3",
   "version": "3.9.13"
  }
 },
 "nbformat": 4,
 "nbformat_minor": 4
}
