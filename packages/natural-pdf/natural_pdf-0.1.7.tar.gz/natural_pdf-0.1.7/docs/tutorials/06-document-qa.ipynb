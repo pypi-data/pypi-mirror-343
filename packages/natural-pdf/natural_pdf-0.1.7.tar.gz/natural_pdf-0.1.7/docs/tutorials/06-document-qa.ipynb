{
 "cells": [
  {
   "cell_type": "markdown",
   "id": "a0347143",
   "metadata": {},
   "source": [
    "# Document Question Answering (QA)\n",
    "\n",
    "Sometimes, instead of searching for specific text patterns, you just want to ask the document a question directly. `natural-pdf` includes an extractive Question Answering feature.\n",
    "\n",
    "\"Extractive\" means it finds the literal answer text within the document, rather than generating a new answer or summarizing.\n",
    "\n",
    "Let's ask our `01-practice.pdf` a few questions."
   ]
  },
  {
   "cell_type": "code",
   "execution_count": 1,
   "id": "883ee2f6",
   "metadata": {
    "execution": {
     "iopub.execute_input": "2025-04-21T21:24:21.452596Z",
     "iopub.status.busy": "2025-04-21T21:24:21.452452Z",
     "iopub.status.idle": "2025-04-21T21:24:21.457320Z",
     "shell.execute_reply": "2025-04-21T21:24:21.456901Z"
    }
   },
   "outputs": [],
   "source": [
    "#%pip install \"natural-pdf[all]\""
   ]
  },
  {
   "cell_type": "code",
   "execution_count": 2,
   "id": "abecda7a",
   "metadata": {
    "execution": {
     "iopub.execute_input": "2025-04-21T21:24:21.459009Z",
     "iopub.status.busy": "2025-04-21T21:24:21.458879Z",
     "iopub.status.idle": "2025-04-21T21:24:30.401038Z",
     "shell.execute_reply": "2025-04-21T21:24:30.400660Z"
    }
   },
   "outputs": [
    {
     "name": "stderr",
     "output_type": "stream",
     "text": [
      "Device set to use cpu\n"
     ]
    },
    {
     "data": {
      "text/plain": [
       "{'answer': 'February 3, 1905',\n",
       " 'confidence': 0.9979940056800842,\n",
       " 'start': 6,\n",
       " 'end': 6,\n",
       " 'found': True,\n",
       " 'page_num': 0,\n",
       " 'source_elements': <ElementCollection[TextElement](count=1)>}"
      ]
     },
     "execution_count": 2,
     "metadata": {},
     "output_type": "execute_result"
    }
   ],
   "source": [
    "from natural_pdf import PDF\n",
    "\n",
    "# Load the PDF and get the page\n",
    "pdf = PDF(\"https://github.com/jsoma/natural-pdf/raw/refs/heads/main/pdfs/01-practice.pdf\")\n",
    "page = pdf.pages[0]\n",
    "\n",
    "# Ask about the date\n",
    "question_1 = \"What is the inspection date?\"\n",
    "answer_1 = page.ask(question_1)\n",
    "\n",
    "# The result is a dictionary with the answer, confidence, etc.\n",
    "answer_1"
   ]
  },
  {
   "cell_type": "code",
   "execution_count": 3,
   "id": "d6b5a66f",
   "metadata": {
    "execution": {
     "iopub.execute_input": "2025-04-21T21:24:30.403287Z",
     "iopub.status.busy": "2025-04-21T21:24:30.402917Z",
     "iopub.status.idle": "2025-04-21T21:24:31.285240Z",
     "shell.execute_reply": "2025-04-21T21:24:31.284848Z"
    }
   },
   "outputs": [
    {
     "data": {
      "text/plain": [
       "{'answer': 'Jungle Health and Safety Inspection Service',\n",
       " 'confidence': 0.9988948106765747,\n",
       " 'start': 0,\n",
       " 'end': 0,\n",
       " 'found': True,\n",
       " 'page_num': 0,\n",
       " 'source_elements': <ElementCollection[TextElement](count=1)>}"
      ]
     },
     "execution_count": 3,
     "metadata": {},
     "output_type": "execute_result"
    }
   ],
   "source": [
    "# Ask about the company name\n",
    "question_2 = \"What company was inspected?\"\n",
    "answer_2 = page.ask(question_2)\n",
    "\n",
    "# Display the answer dictionary\n",
    "answer_2"
   ]
  },
  {
   "cell_type": "code",
   "execution_count": 4,
   "id": "babaee28",
   "metadata": {
    "execution": {
     "iopub.execute_input": "2025-04-21T21:24:31.286992Z",
     "iopub.status.busy": "2025-04-21T21:24:31.286826Z",
     "iopub.status.idle": "2025-04-21T21:24:32.069026Z",
     "shell.execute_reply": "2025-04-21T21:24:32.068668Z"
    }
   },
   "outputs": [
    {
     "data": {
      "text/plain": [
       "{'answer': 'Inadequate Protective Equipment.',\n",
       " 'confidence': 0.9997999668121338,\n",
       " 'start': 26,\n",
       " 'end': 26,\n",
       " 'found': True,\n",
       " 'page_num': 0,\n",
       " 'source_elements': <ElementCollection[TextElement](count=1)>}"
      ]
     },
     "execution_count": 4,
     "metadata": {},
     "output_type": "execute_result"
    }
   ],
   "source": [
    "# Ask about specific content from the table\n",
    "question_3 = \"What is statute 5.8.3 about?\"\n",
    "answer_3 = page.ask(question_3)\n",
    "\n",
    "# Display the answer\n",
    "answer_3"
   ]
  },
  {
   "cell_type": "markdown",
   "id": "cf24e07d",
   "metadata": {},
   "source": [
    "The results include the extracted `answer`, a `confidence` score (useful for filtering uncertain answers), the `page_num`, and the `source_elements`.\n",
    "\n",
    "## Collecting Results into a DataFrame\n",
    "\n",
    "If you're asking multiple questions, it's often useful to collect the results into a pandas DataFrame for easier analysis."
   ]
  },
  {
   "cell_type": "code",
   "execution_count": 5,
   "id": "00b777b5",
   "metadata": {
    "execution": {
     "iopub.execute_input": "2025-04-21T21:24:32.070771Z",
     "iopub.status.busy": "2025-04-21T21:24:32.070607Z",
     "iopub.status.idle": "2025-04-21T21:24:35.309130Z",
     "shell.execute_reply": "2025-04-21T21:24:35.308744Z"
    }
   },
   "outputs": [
    {
     "data": {
      "text/html": [
       "<div>\n",
       "<style scoped>\n",
       "    .dataframe tbody tr th:only-of-type {\n",
       "        vertical-align: middle;\n",
       "    }\n",
       "\n",
       "    .dataframe tbody tr th {\n",
       "        vertical-align: top;\n",
       "    }\n",
       "\n",
       "    .dataframe thead th {\n",
       "        text-align: right;\n",
       "    }\n",
       "</style>\n",
       "<table border=\"1\" class=\"dataframe\">\n",
       "  <thead>\n",
       "    <tr style=\"text-align: right;\">\n",
       "      <th></th>\n",
       "      <th>question</th>\n",
       "      <th>answer</th>\n",
       "      <th>confidence</th>\n",
       "    </tr>\n",
       "  </thead>\n",
       "  <tbody>\n",
       "    <tr>\n",
       "      <th>0</th>\n",
       "      <td>What is the inspection date?</td>\n",
       "      <td>February 3, 1905</td>\n",
       "      <td>0.997994</td>\n",
       "    </tr>\n",
       "    <tr>\n",
       "      <th>1</th>\n",
       "      <td>What company was inspected?</td>\n",
       "      <td>Jungle Health and Safety Inspection Service</td>\n",
       "      <td>0.998895</td>\n",
       "    </tr>\n",
       "    <tr>\n",
       "      <th>2</th>\n",
       "      <td>What is statute 5.8.3 about?</td>\n",
       "      <td>Inadequate Protective Equipment.</td>\n",
       "      <td>0.999800</td>\n",
       "    </tr>\n",
       "    <tr>\n",
       "      <th>3</th>\n",
       "      <td>How many violations were there in total?</td>\n",
       "      <td>4.12.7</td>\n",
       "      <td>0.662557</td>\n",
       "    </tr>\n",
       "  </tbody>\n",
       "</table>\n",
       "</div>"
      ],
      "text/plain": [
       "                                   question  \\\n",
       "0              What is the inspection date?   \n",
       "1               What company was inspected?   \n",
       "2              What is statute 5.8.3 about?   \n",
       "3  How many violations were there in total?   \n",
       "\n",
       "                                        answer  confidence  \n",
       "0                             February 3, 1905    0.997994  \n",
       "1  Jungle Health and Safety Inspection Service    0.998895  \n",
       "2             Inadequate Protective Equipment.    0.999800  \n",
       "3                                       4.12.7    0.662557  "
      ]
     },
     "execution_count": 5,
     "metadata": {},
     "output_type": "execute_result"
    }
   ],
   "source": [
    "from natural_pdf import PDF\n",
    "import pandas as pd\n",
    "\n",
    "pdf = PDF(\"https://github.com/jsoma/natural-pdf/raw/refs/heads/main/pdfs/01-practice.pdf\")\n",
    "page = pdf.pages[0]\n",
    "\n",
    "# List of questions to ask\n",
    "questions = [\n",
    "    \"What is the inspection date?\",\n",
    "    \"What company was inspected?\",\n",
    "    \"What is statute 5.8.3 about?\",\n",
    "    \"How many violations were there in total?\" # This might be less reliable\n",
    "]\n",
    "\n",
    "# Collect answers for each question\n",
    "results = []\n",
    "for q in questions:\n",
    "    answer_dict = page.ask(q)\n",
    "    # Add the original question to the dictionary\n",
    "    answer_dict['question'] = q\n",
    "    results.append(answer_dict)\n",
    "\n",
    "# Convert the list of dictionaries to a DataFrame\n",
    "# We select only the most relevant columns here\n",
    "df_results = pd.DataFrame(results)[['question', 'answer', 'confidence']]\n",
    "\n",
    "# Display the DataFrame\n",
    "df_results"
   ]
  },
  {
   "cell_type": "markdown",
   "id": "381130c6",
   "metadata": {},
   "source": [
    "This shows how you can iterate through questions, collect the answer dictionaries, and then create a structured DataFrame, making it easy to review questions, answers, and their confidence levels together.\n",
    "\n",
    "<div class=\"admonition note\">\n",
    "<p class=\"admonition-title\">QA Model and Limitations</p>\n",
    "\n",
    "    *   The QA system relies on underlying transformer models. Performance and confidence scores vary.\n",
    "    *   It works best for questions where the answer is explicitly stated. It cannot synthesize information or perform calculations (e.g., counting items might fail or return text containing a number rather than the count itself).\n",
    "    *   You can potentially specify different QA models via the `model=` argument in `page.ask()` if others are configured.\n",
    "</div> "
   ]
  }
 ],
 "metadata": {
  "jupytext": {
   "cell_metadata_filter": "-all",
   "main_language": "python",
   "notebook_metadata_filter": "-all"
  },
  "language_info": {
   "codemirror_mode": {
    "name": "ipython",
    "version": 3
   },
   "file_extension": ".py",
   "mimetype": "text/x-python",
   "name": "python",
   "nbconvert_exporter": "python",
   "pygments_lexer": "ipython3",
   "version": "3.10.13"
  }
 },
 "nbformat": 4,
 "nbformat_minor": 5
}
