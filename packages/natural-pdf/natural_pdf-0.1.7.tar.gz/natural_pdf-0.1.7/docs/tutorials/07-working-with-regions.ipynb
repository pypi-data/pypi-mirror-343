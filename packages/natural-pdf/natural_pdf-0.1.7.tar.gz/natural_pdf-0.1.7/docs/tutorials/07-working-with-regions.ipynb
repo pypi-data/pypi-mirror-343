{
 "cells": [
  {
   "cell_type": "markdown",
   "id": "289614f6",
   "metadata": {},
   "source": [
    "# Working with Regions\n",
    "\n",
    "Regions are rectangular areas on a page that let you focus on specific parts of a document. They're perfect for extracting text from defined areas, finding elements within certain boundaries, and working with document sections."
   ]
  },
  {
   "cell_type": "code",
   "execution_count": 1,
   "id": "ee7b29db",
   "metadata": {
    "execution": {
     "iopub.execute_input": "2025-04-21T21:32:06.104242Z",
     "iopub.status.busy": "2025-04-21T21:32:06.104024Z",
     "iopub.status.idle": "2025-04-21T21:32:06.108388Z",
     "shell.execute_reply": "2025-04-21T21:32:06.107767Z"
    }
   },
   "outputs": [],
   "source": [
    "#%pip install \"natural-pdf[all]\""
   ]
  },
  {
   "cell_type": "code",
   "execution_count": 2,
   "id": "392a4d3b",
   "metadata": {
    "execution": {
     "iopub.execute_input": "2025-04-21T21:32:06.110143Z",
     "iopub.status.busy": "2025-04-21T21:32:06.109959Z",
     "iopub.status.idle": "2025-04-21T21:32:14.111600Z",
     "shell.execute_reply": "2025-04-21T21:32:14.111045Z"
    }
   },
   "outputs": [
    {
     "data": {
      "text/plain": [
       "'                                       INS-UP70N51NCL41R               \\nSite: Durham’s Meatpacking Chicago, Ill.                               \\nDate: February 3, 1905                                                 \\nViolation Count: 7                                                     \\nSummary: Worst of any, however, were the fertilizer men, and those who served in the cooking rooms.\\nThese people could not be shown to the visitor - for the odor of a fertilizer man would scare any ordinary\\nvisitor at a hundred yards, and as for the other men, who worked in tank rooms full of steam, and in\\nsome of which there were open vats near the level of the floor, their peculiar trouble was that they fell\\n                                                                       \\n                                                                       \\n                                                                       '"
      ]
     },
     "execution_count": 2,
     "metadata": {},
     "output_type": "execute_result"
    }
   ],
   "source": [
    "from natural_pdf import PDF\n",
    "\n",
    "# Load a PDF\n",
    "pdf = PDF(\"https://github.com/jsoma/natural-pdf/raw/refs/heads/main/pdfs/01-practice.pdf\")\n",
    "page = pdf.pages[0]\n",
    "\n",
    "# Create a region in the top portion of the page\n",
    "top_region = page.create_region(\n",
    "    50,          # x0 (left)\n",
    "    50,          # y0 (top)\n",
    "    page.width - 50,  # x1 (right)\n",
    "    200          # y1 (bottom)\n",
    ")\n",
    "\n",
    "# Visualize the region\n",
    "top_region.show(color=\"blue\", label=\"Top Region\")\n",
    "\n",
    "# Extract text from this region\n",
    "top_region.extract_text()"
   ]
  },
  {
   "cell_type": "markdown",
   "id": "326305f6",
   "metadata": {},
   "source": [
    "## Creating Regions from Elements"
   ]
  },
  {
   "cell_type": "code",
   "execution_count": 3,
   "id": "76a034f2",
   "metadata": {
    "execution": {
     "iopub.execute_input": "2025-04-21T21:32:14.113859Z",
     "iopub.status.busy": "2025-04-21T21:32:14.113455Z",
     "iopub.status.idle": "2025-04-21T21:32:14.187851Z",
     "shell.execute_reply": "2025-04-21T21:32:14.187217Z"
    }
   },
   "outputs": [
    {
     "data": {
      "text/plain": [
       "'                                                     INS-UP70N51NCL41R              \\n       Site: Durham’s Meatpacking Chicago, Ill.                                     \\n       Date: February 3, 1905                                                       \\n       Violation Count: 7                                                           \\n                                                                                    \\n                                                                                    \\n                                                                                    '"
      ]
     },
     "execution_count": 3,
     "metadata": {},
     "output_type": "execute_result"
    }
   ],
   "source": [
    "# Find an element to create regions around\n",
    "title = page.find('text:contains(\"Jungle Health\")')\n",
    "\n",
    "# Create regions relative to this element\n",
    "below_title = title.below(height=100)\n",
    "right_of_title = title.right(width=200) \n",
    "above_title = title.above(height=50)\n",
    "\n",
    "# Visualize these regions\n",
    "below_title.show(color=\"green\", label=\"Below\")\n",
    "right_of_title.show(color=\"red\", label=\"Right\")\n",
    "above_title.show(color=\"orange\", label=\"Above\")\n",
    "\n",
    "# Extract text from the region below the title\n",
    "below_title.extract_text()"
   ]
  },
  {
   "cell_type": "markdown",
   "id": "ad3b2337",
   "metadata": {},
   "source": [
    "## Finding Elements Within Regions"
   ]
  },
  {
   "cell_type": "code",
   "execution_count": 4,
   "id": "633bdc8b",
   "metadata": {
    "execution": {
     "iopub.execute_input": "2025-04-21T21:32:14.189588Z",
     "iopub.status.busy": "2025-04-21T21:32:14.189354Z",
     "iopub.status.idle": "2025-04-21T21:32:14.245744Z",
     "shell.execute_reply": "2025-04-21T21:32:14.245287Z"
    }
   },
   "outputs": [
    {
     "data": {
      "text/plain": [
       "3"
      ]
     },
     "execution_count": 4,
     "metadata": {},
     "output_type": "execute_result"
    }
   ],
   "source": [
    "# Create a region for a specific document section\n",
    "form_region = page.create_region(50, 100, page.width - 50, 300)\n",
    "\n",
    "# Find elements only within this region\n",
    "labels = form_region.find_all('text:contains(\":\")') \n",
    "\n",
    "# Visualize the region and the elements found\n",
    "form_region.show(color=(0, 0, 1, 0.2), label=\"Form Region\")\n",
    "labels.show(color=\"purple\", label=\"Labels\")\n",
    "\n",
    "# Count the elements found\n",
    "len(labels)"
   ]
  },
  {
   "cell_type": "markdown",
   "id": "1016d6de",
   "metadata": {},
   "source": [
    "## Expanding and Adjusting Regions"
   ]
  },
  {
   "cell_type": "code",
   "execution_count": 5,
   "id": "ef6db1c1",
   "metadata": {
    "execution": {
     "iopub.execute_input": "2025-04-21T21:32:14.247620Z",
     "iopub.status.busy": "2025-04-21T21:32:14.247431Z",
     "iopub.status.idle": "2025-04-21T21:32:14.297797Z",
     "shell.execute_reply": "2025-04-21T21:32:14.297383Z"
    }
   },
   "outputs": [
    {
     "data": {
      "text/plain": [
       "'Summary: Worst of any, however, were the fertilizer men\\nThese people could not be shown to the visitor - for the o\\nvisitor at a hundred yards, and as for the other men, who\\nsome of which there were open vats near the level of the\\ninto the vats; and when they were fished out, there was n\\nexhibiting - sometimes they would be overlooked for days\\nto the world as Durham’s Pure Leaf Lard!\\n                                    '"
      ]
     },
     "execution_count": 5,
     "metadata": {},
     "output_type": "execute_result"
    }
   ],
   "source": [
    "# Find an element to work with\n",
    "element = page.find('text:contains(\"Summary:\")')\n",
    "\n",
    "# Create a tight region around the element\n",
    "tight_region = page.create_region(\n",
    "    element.x0, element.top, \n",
    "    element.x1, element.bottom\n",
    ")\n",
    "\n",
    "# Expand it to include surrounding content\n",
    "expanded_region = tight_region.expand(\n",
    "    left=10,       # Expand 10 points to the left\n",
    "    right=200,     # Expand 200 points to the right\n",
    "    top=5,  # Expand 5 points above\n",
    "    bottom=100  # Expand 100 points below\n",
    ")\n",
    "\n",
    "# Visualize both regions\n",
    "tight_region.show(color=\"red\", label=\"Original\")\n",
    "expanded_region.show(color=\"blue\", label=\"Expanded\")\n",
    "\n",
    "# Extract the content from the expanded region\n",
    "expanded_region.extract_text()"
   ]
  },
  {
   "cell_type": "markdown",
   "id": "3a0a59e5",
   "metadata": {},
   "source": [
    "## Creating Bounded Regions"
   ]
  },
  {
   "cell_type": "code",
   "execution_count": 6,
   "id": "083c200e",
   "metadata": {
    "execution": {
     "iopub.execute_input": "2025-04-21T21:32:14.299580Z",
     "iopub.status.busy": "2025-04-21T21:32:14.299178Z",
     "iopub.status.idle": "2025-04-21T21:32:14.330220Z",
     "shell.execute_reply": "2025-04-21T21:32:14.329836Z"
    }
   },
   "outputs": [
    {
     "data": {
      "text/plain": [
       "'                                       Jungle Health and Safety Inspection Service\\n                                       INS-UP70N51NCL41R              \\nSite: Durham’s Meatpacking Chicago, Ill.      ...'"
      ]
     },
     "execution_count": 6,
     "metadata": {},
     "output_type": "execute_result"
    }
   ],
   "source": [
    "# Find two elements to serve as boundaries\n",
    "start_elem = page.find('text:contains(\"Summary:\")')\n",
    "end_elem = page.find('text:contains(\"Statute\")')\n",
    "\n",
    "# Create a region from start to end element\n",
    "bounded_region = start_elem.until(end_elem)\n",
    "\n",
    "# Visualize the bounded region\n",
    "bounded_region.show(color=\"green\", label=\"Bounded Region\")\n",
    "\n",
    "# Extract text from this bounded region\n",
    "bounded_region.extract_text()[:200] + \"...\" if len(bounded_region.extract_text()) > 200 else bounded_region.extract_text()"
   ]
  },
  {
   "cell_type": "markdown",
   "id": "231224fa",
   "metadata": {},
   "source": [
    "## Working with Multiple Regions"
   ]
  },
  {
   "cell_type": "code",
   "execution_count": 7,
   "id": "d520009e",
   "metadata": {
    "execution": {
     "iopub.execute_input": "2025-04-21T21:32:14.331874Z",
     "iopub.status.busy": "2025-04-21T21:32:14.331693Z",
     "iopub.status.idle": "2025-04-21T21:32:14.410562Z",
     "shell.execute_reply": "2025-04-21T21:32:14.410194Z"
    }
   },
   "outputs": [
    {
     "data": {
      "text/plain": [
       "{'header': '                                                                                    \\n                                                                                    \\n                                                                                    \\n                                                     Jungle Health and Safety Inspection Service\\n                                                     INS-UP70N51NCL41R              \\n                                                                                    \\n       Site: Durham’s Meatpacking Chicago, Ill.                                     ',\n",
       " 'main': 'ruary 3, 1905                                            \\nCount: 7                                  ...',\n",
       " 'footer': '                                Jungle Health and Safety Inspection Service         \\n                                                                                    \\n                                                                                    '}"
      ]
     },
     "execution_count": 7,
     "metadata": {},
     "output_type": "execute_result"
    }
   ],
   "source": [
    "# Define multiple regions to extract different parts of the document\n",
    "header_region = page.create_region(0, 0, page.width, 100)\n",
    "main_region = page.create_region(100, 100, page.width - 100, page.height - 150)\n",
    "footer_region = page.create_region(0, page.height - 50, page.width, page.height)\n",
    "\n",
    "# Visualize all regions\n",
    "header_region.show(color=\"blue\", label=\"Header\")\n",
    "main_region.show(color=\"green\", label=\"Main Content\")\n",
    "footer_region.show(color=\"red\", label=\"Footer\")\n",
    "\n",
    "# Extract content from each region\n",
    "document_parts = {\n",
    "    \"header\": header_region.extract_text(),\n",
    "    \"main\": main_region.extract_text()[:100] + \"...\",\n",
    "    \"footer\": footer_region.extract_text()\n",
    "}\n",
    "\n",
    "# Show what we extracted\n",
    "document_parts"
   ]
  },
  {
   "cell_type": "markdown",
   "id": "3168edfa",
   "metadata": {},
   "source": [
    "## Creating an Image of a Region"
   ]
  },
  {
   "cell_type": "code",
   "execution_count": 8,
   "id": "eb460e68",
   "metadata": {
    "execution": {
     "iopub.execute_input": "2025-04-21T21:32:14.412800Z",
     "iopub.status.busy": "2025-04-21T21:32:14.412651Z",
     "iopub.status.idle": "2025-04-21T21:32:14.469471Z",
     "shell.execute_reply": "2025-04-21T21:32:14.469002Z"
    }
   },
   "outputs": [
    {
     "data": {
      "image/png": "[encoded data removed]",
      "text/plain": [
       "<PIL.Image.Image image mode=RGBA size=1275x206>"
      ]
     },
     "execution_count": 8,
     "metadata": {},
     "output_type": "execute_result"
    }
   ],
   "source": [
    "# Find a region of interest\n",
    "table_header = page.find('text:contains(\"Statute\")')\n",
    "table_region = table_header.below(height=100)\n",
    "\n",
    "# Visualize the region\n",
    "table_region.show(color=\"purple\", label=\"Table Region\")\n",
    "\n",
    "# Create an image of just this region\n",
    "table_region.to_image(resolution=150)"
   ]
  },
  {
   "cell_type": "markdown",
   "id": "20c711fe",
   "metadata": {},
   "source": [
    "Regions allow you to precisely target specific parts of a document for extraction and analysis. They're essential for handling complex document layouts and isolating the exact content you need. "
   ]
  }
 ],
 "metadata": {
  "jupytext": {
   "cell_metadata_filter": "-all",
   "main_language": "python",
   "notebook_metadata_filter": "-all",
   "text_representation": {
    "extension": ".md",
    "format_name": "markdown"
   }
  },
  "language_info": {
   "codemirror_mode": {
    "name": "ipython",
    "version": 3
   },
   "file_extension": ".py",
   "mimetype": "text/x-python",
   "name": "python",
   "nbconvert_exporter": "python",
   "pygments_lexer": "ipython3",
   "version": "3.10.13"
  }
 },
 "nbformat": 4,
 "nbformat_minor": 5
}
