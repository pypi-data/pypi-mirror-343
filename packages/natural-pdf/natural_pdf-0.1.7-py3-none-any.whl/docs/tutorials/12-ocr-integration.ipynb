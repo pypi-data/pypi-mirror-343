{
 "cells": [
  {
   "cell_type": "markdown",
   "id": "8b02fa9e",
   "metadata": {},
   "source": [
    "# OCR Integration for Scanned Documents\n",
    "\n",
    "Optical Character Recognition (OCR) allows you to extract text from scanned documents where the text isn't embedded in the PDF. This tutorial demonstrates how to work with scanned documents."
   ]
  },
  {
   "cell_type": "code",
   "execution_count": 1,
   "id": "bde55ac1",
   "metadata": {
    "execution": {
     "iopub.execute_input": "2025-04-21T21:32:06.104226Z",
     "iopub.status.busy": "2025-04-21T21:32:06.104019Z",
     "iopub.status.idle": "2025-04-21T21:32:06.108232Z",
     "shell.execute_reply": "2025-04-21T21:32:06.107754Z"
    }
   },
   "outputs": [],
   "source": [
    "#%pip install \"natural-pdf[all]\""
   ]
  },
  {
   "cell_type": "code",
   "execution_count": 2,
   "id": "5c624a53",
   "metadata": {
    "execution": {
     "iopub.execute_input": "2025-04-21T21:32:06.110125Z",
     "iopub.status.busy": "2025-04-21T21:32:06.109925Z",
     "iopub.status.idle": "2025-04-21T21:32:14.008764Z",
     "shell.execute_reply": "2025-04-21T21:32:14.008268Z"
    }
   },
   "outputs": [
    {
     "data": {
      "text/plain": [
       "'Without OCR: 0 characters extracted'"
      ]
     },
     "execution_count": 2,
     "metadata": {},
     "output_type": "execute_result"
    }
   ],
   "source": [
    "from natural_pdf import PDF\n",
    "\n",
    "# Load a PDF\n",
    "pdf = PDF(\"https://github.com/jsoma/natural-pdf/raw/refs/heads/main/pdfs/needs-ocr.pdf\")\n",
    "page = pdf.pages[0]\n",
    "\n",
    "# Try extracting text without OCR\n",
    "text_without_ocr = page.extract_text()\n",
    "f\"Without OCR: {len(text_without_ocr)} characters extracted\""
   ]
  },
  {
   "cell_type": "markdown",
   "id": "461a5090",
   "metadata": {},
   "source": [
    "## Finding Text Elements with OCR"
   ]
  },
  {
   "cell_type": "code",
   "execution_count": 3,
   "id": "895e3c2c",
   "metadata": {
    "execution": {
     "iopub.execute_input": "2025-04-21T21:32:14.010745Z",
     "iopub.status.busy": "2025-04-21T21:32:14.010324Z",
     "iopub.status.idle": "2025-04-21T21:32:28.416856Z",
     "shell.execute_reply": "2025-04-21T21:32:28.416360Z"
    }
   },
   "outputs": [
    {
     "name": "stderr",
     "output_type": "stream",
     "text": [
      "\u001b[2m2025-04-21T21:32:14.064078Z\u001b[0m [\u001b[33m\u001b[1mwarning  \u001b[0m] \u001b[1mUsing CPU. Note: This module is much faster with a GPU.\u001b[0m \u001b[36mlineno\u001b[0m=\u001b[35m71\u001b[0m \u001b[36mmodule\u001b[0m=\u001b[35measyocr.easyocr\u001b[0m\n"
     ]
    },
    {
     "name": "stderr",
     "output_type": "stream",
     "text": [
      "[2025-04-21 17:32:14,064] [ WARNING] easyocr.py:71 - Using CPU. Note: This module is much faster with a GPU.\n"
     ]
    },
    {
     "data": {
      "text/plain": [
       "<ElementCollection[TextElement](count=47)>"
      ]
     },
     "execution_count": 3,
     "metadata": {},
     "output_type": "execute_result"
    }
   ],
   "source": [
    "# Convert text-as-image to text elements\n",
    "page.apply_ocr()\n",
    "\n",
    "# Select all text pieces on the page\n",
    "text_elements = page.find_all('text')\n",
    "f\"Found {len(text_elements)} text elements\"\n",
    "\n",
    "# Visualize the elements\n",
    "text_elements.highlight()"
   ]
  },
  {
   "cell_type": "markdown",
   "id": "36051d57",
   "metadata": {},
   "source": [
    "## OCR Configuration Options"
   ]
  },
  {
   "cell_type": "code",
   "execution_count": 4,
   "id": "d4461746",
   "metadata": {
    "execution": {
     "iopub.execute_input": "2025-04-21T21:32:28.418763Z",
     "iopub.status.busy": "2025-04-21T21:32:28.418565Z",
     "iopub.status.idle": "2025-04-21T21:32:28.423024Z",
     "shell.execute_reply": "2025-04-21T21:32:28.422671Z"
    }
   },
   "outputs": [
    {
     "data": {
      "text/plain": [
       "'                                                                                    \\n                                                                                    \\n                              ...'"
      ]
     },
     "execution_count": 4,
     "metadata": {},
     "output_type": "execute_result"
    }
   ],
   "source": [
    "# Set OCR configuration for better results\n",
    "page.ocr_config = {\n",
    "    'language': 'eng',  # English\n",
    "    'dpi': 300,         # Higher resolution\n",
    "}\n",
    "\n",
    "# Extract text with the improved configuration\n",
    "improved_text = page.extract_text()\n",
    "\n",
    "# Preview the text\n",
    "improved_text[:200] + \"...\" if len(improved_text) > 200 else improved_text"
   ]
  },
  {
   "cell_type": "markdown",
   "id": "d5a96ac7",
   "metadata": {},
   "source": [
    "## Working with Multi-language Documents"
   ]
  },
  {
   "cell_type": "code",
   "execution_count": 5,
   "id": "9fa156f5",
   "metadata": {
    "execution": {
     "iopub.execute_input": "2025-04-21T21:32:28.424374Z",
     "iopub.status.busy": "2025-04-21T21:32:28.424235Z",
     "iopub.status.idle": "2025-04-21T21:32:28.428114Z",
     "shell.execute_reply": "2025-04-21T21:32:28.427816Z"
    }
   },
   "outputs": [
    {
     "data": {
      "text/plain": [
       "'                                                                                    \\n                                                                                    \\n                              '"
      ]
     },
     "execution_count": 5,
     "metadata": {},
     "output_type": "execute_result"
    }
   ],
   "source": [
    "# Configure for multiple languages\n",
    "page.ocr_config = {\n",
    "    'language': 'eng+fra+deu',  # English, French, German\n",
    "    'dpi': 300\n",
    "}\n",
    "\n",
    "# Extract text with multi-language support\n",
    "multilang_text = page.extract_text()\n",
    "multilang_text[:200]"
   ]
  },
  {
   "cell_type": "markdown",
   "id": "d3ccf43f",
   "metadata": {},
   "source": [
    "## Extracting Tables from Scanned Documents"
   ]
  },
  {
   "cell_type": "code",
   "execution_count": 6,
   "id": "ee7a7e7d",
   "metadata": {
    "execution": {
     "iopub.execute_input": "2025-04-21T21:32:28.429414Z",
     "iopub.status.busy": "2025-04-21T21:32:28.429283Z",
     "iopub.status.idle": "2025-04-21T21:32:30.754086Z",
     "shell.execute_reply": "2025-04-21T21:32:30.753700Z"
    }
   },
   "outputs": [
    {
     "name": "stderr",
     "output_type": "stream",
     "text": [
      "\u001b[2m2025-04-21T21:32:28.446098Z\u001b[0m [\u001b[33m\u001b[1mwarning  \u001b[0m] \u001b[1mGOOGLE_API_KEY environment variable not set. Gemini detector (via OpenAI lib) will not be available.\u001b[0m \u001b[36mlineno\u001b[0m=\u001b[35m72\u001b[0m \u001b[36mmodule\u001b[0m=\u001b[35mnatural_pdf.analyzers.layout.gemini\u001b[0m\n"
     ]
    },
    {
     "name": "stderr",
     "output_type": "stream",
     "text": [
      "[2025-04-21 17:32:28,446] [ WARNING] gemini.py:72 - GOOGLE_API_KEY environment variable not set. Gemini detector (via OpenAI lib) will not be available.\n"
     ]
    },
    {
     "name": "stderr",
     "output_type": "stream",
     "text": [
      "\u001b[2m2025-04-21T21:32:28.446834Z\u001b[0m [\u001b[33m\u001b[1mwarning  \u001b[0m] \u001b[1mGOOGLE_API_KEY environment variable not set. Gemini detector (via OpenAI lib) will not be available.\u001b[0m \u001b[36mlineno\u001b[0m=\u001b[35m72\u001b[0m \u001b[36mmodule\u001b[0m=\u001b[35mnatural_pdf.analyzers.layout.gemini\u001b[0m\n"
     ]
    },
    {
     "name": "stderr",
     "output_type": "stream",
     "text": [
      "[2025-04-21 17:32:28,446] [ WARNING] gemini.py:72 - GOOGLE_API_KEY environment variable not set. Gemini detector (via OpenAI lib) will not be available.\n"
     ]
    },
    {
     "name": "stdout",
     "output_type": "stream",
     "text": [
      "\n"
     ]
    },
    {
     "name": "stdout",
     "output_type": "stream",
     "text": [
      "image 1/1 /var/folders/25/h3prywj14qb0mlkl2s8bxq5m0000gn/T/tmpjbbxsx1v/temp_layout_image.png: 1024x800 2 titles, 2 plain texts, 3 abandons, 1 table, 1940.4ms\n"
     ]
    },
    {
     "name": "stdout",
     "output_type": "stream",
     "text": [
      "Speed: 5.4ms preprocess, 1940.4ms inference, 1.0ms postprocess per image at shape (1, 3, 1024, 800)\n"
     ]
    }
   ],
   "source": [
    "# Enable OCR and analyze the document layout\n",
    "page.use_ocr = True\n",
    "page.analyze_layout()\n",
    "\n",
    "# Find table regions\n",
    "table_regions = page.find_all('region[type=table]')\n",
    "\n",
    "# Visualize any detected tables\n",
    "table_regions.highlight()\n",
    "\n",
    "# Extract the first table if found\n",
    "if table_regions:\n",
    "    table_data = table_regions[0].extract_table()\n",
    "    table_data\n",
    "else:\n",
    "    \"No tables found in the document\""
   ]
  },
  {
   "cell_type": "markdown",
   "id": "6a3c701e",
   "metadata": {},
   "source": [
    "## Finding Form Fields in Scanned Documents"
   ]
  },
  {
   "cell_type": "code",
   "execution_count": 7,
   "id": "7180badd",
   "metadata": {
    "execution": {
     "iopub.execute_input": "2025-04-21T21:32:30.755960Z",
     "iopub.status.busy": "2025-04-21T21:32:30.755766Z",
     "iopub.status.idle": "2025-04-21T21:32:30.762760Z",
     "shell.execute_reply": "2025-04-21T21:32:30.762434Z"
    }
   },
   "outputs": [
    {
     "data": {
      "text/plain": [
       "{\"Site: Durham's Meatpacking Chicago, IIl.\": 'Jungle Health and Satety Inspection Service\\nINS-UPONSINCLAIR           \\n                           \\n                           \\n                           \\n                           \\n                           \\nSummary: Worst of any, however; were the fertilizer men, and those who served in the cooking rooms\\nThese people could not be shown to the visitor for the odor of a fertilizer man would scare any\\nvisitor at a hundred yards, and as for the other men, who worked in tank rooms full of steam, and in\\nsome of which there were open vats near the level of the floor; their peculiar trouble was that they fell\\ninlo the vats; and when they were fished out; there was never enough of them left to be worth\\nwould be overlooked for days, till all but the bones of them had gone out\\n                           \\n                           \\n                           \\n                           \\n                           \\n                           \\n                           \\n                           \\n                           \\n                           \\n                           \\nLevel                      \\nUnsanitary Working Conditions Critical\\nInadequate Protective Equipment: Serious\\n                           \\nSerious                    \\nFailure to Properly Storc Hazardous Materials_ Critical\\nSafety Measures_ Serious   \\nInadequate Ventilation Systems Serious\\n                           \\nInsufficient Employee Training for Safe Work Practices Serious\\n                           \\n                           \\n                           \\n                           \\n                           \\n                           \\n                           \\n                           \\n                           \\n                           \\n                           \\n                           \\n                           \\n                           \\nJungle Health and Salety Irspection Service',\n",
       " 'Date: February 3, 1905': \"Jungle Health and Satety Inspection Service\\n        INS-UPONSINCLAIR   \\n                           \\nSite: Durham's Meatpacking Chicago, IIl.\\n                           \\n                           \\n                           \\nSummary: Worst of any, however; were the fertilizer men, and those who served in the cooking rooms\\nThese people could not be shown to the visitor for the odor of a fertilizer man would scare any\\nvisitor at a hundred yards, and as for the other men, who worked in tank rooms full of steam, and in\\nsome of which there were open vats near the level of the floor; their peculiar trouble was that they fell\\ninlo the vats; and when they were fished out; there was never enough of them left to be worth\\ntheywould be overlooked for days, till all but the bones of them had gone out\\nto thc world as Durham's Purc Lcaf Lard!\\n                           \\n                           \\n                           \\n                           \\n                           \\n                           \\n                           \\n                           \\n                           \\nDescription                \\n                           \\nUnsanitary Working Conditions\\nInadequate Protective Equipment:\\nIneffective Injury Prevention _\\n                           \\nFailure to Properly Storc Hazardous Materials_\\nLack of AdequateFireSafety Measures_\\nInadequate Ventilation Systems\\n                           \\nInsufficient Employee Training for Safe Work Practices\\n                           \\n                           \\n                           \\n                           \\n                           \\n                           \\n                           \\n                           \\n                           \\n                           \\n                           \\n                           \\n                           \\n                           \\nJungle Health and Salety Irspection Service\",\n",
       " 'Violation Count': \"Site: Durham's Meatpacking Chicago, IIl.\\nDate: February 3, 1905     \\n                           \\n                           \\nSummary: Worst of any, however; were the fertilizer men, and those who served in the cooking rooms\\nThese people could not be shown to the visitor for the odor of a fertilizer man would scare any\\nvisitor at a hundred yards, and as for the other men, who worked in tank rooms full of steam, and in\\nsome of which there were open vats near the level of the floor; their peculiar trouble was that they fell\\ninlo the vats; and when they were fished out; there was never enough of them left to be worth\\nsometimestheywould be overlooked for days, till all but the bones of them had gone out\\nto thc world as Durham's Purc Lcaf Lard!\\n                           \\n                           \\n                           \\n                           \\n                           \\n                           \\n                           \\n                           \\n                           \\nDescription                \\n                           \\nUnsanitary Working Conditions\\nInadequate Protective Equipment:\\nIneffective Injury Prevention _\\n                           \\nFailure to Properly Storc Hazardous Materials_\\nLack of AdequateFireSafety Measures_\\nInadequate Ventilation Systems\\n                           \\nInsufficient Employee Training for Safe Work Practices\\n                           \\n                           \\n                           \\n                           \\n                           \\n                           \\n                           \\n                           \\n                           \\n                           \\n                           \\n                           \\n                           \\n                           \\nJungle Health and Salety Irspection Service\",\n",
       " 'Summary: Worst of any, however; were the fertilizer men, and those who served in the cooking rooms': 'Red (ZGB tuple]         \\n                        \\nJungle Health and Satety Inspection Service\\n                        \\n                        \\n                        \\n                        \\n                        \\n                        \\n                        \\nordinary                \\n                        \\n                        \\n                        \\n                        \\n                        \\n                        \\n                        \\n                        \\n                        \\n                        \\n                        \\n                        \\n                        \\n                        \\nRepeat?',\n",
       " 'Inadequate Protective Equipment': 'Jungle Health and Satety Inspection Service\\nINS-UPONSINCLAIR           \\n                           \\n                           \\n                           \\n                           \\n                           \\nSummary: Worst of any, however; were the fertilizer men, and those who served in the cooking rooms\\nThese people could not be shown to the visitor for the odor of a fertilizer man would scare anyordinary\\nvisitor at a hundred yards, and as for the other men, who worked in tank rooms full of steam, and in\\nsome of which there were open vats near the level of the floor; their peculiar trouble was that they fell\\ninlo the vats; and when they were fished out; there was never enough of them left to be worth\\nwould be overlooked for days, till all but the bones of them had gone out\\n                           \\n                           \\n                           \\n                           \\n                           \\n                           \\n                           \\n                           \\n                           \\n                           \\n                           \\nLevel                      \\nCritical                   \\nSerious                    \\n                           \\nSerious                    \\nFailure to Properly Storc Hazardous Materials_ Critical\\nSafety Measures_ Serious   \\nSerious                    \\n                           \\nInsufficient Employee Training for Safe Work Practices Serious\\n                           \\n                           \\n                           \\n                           \\n                           \\n                           \\n                           \\n                           \\n                           \\n                           \\n                           \\n                           \\n                           \\n                           \\nJungle Health and Salety Irspection Service'}"
      ]
     },
     "execution_count": 7,
     "metadata": {},
     "output_type": "execute_result"
    }
   ],
   "source": [
    "# Look for potential form labels (containing a colon)\n",
    "labels = page.find_all('text:contains(\":\")') \n",
    "\n",
    "# Visualize the labels\n",
    "labels.highlight()\n",
    "\n",
    "# Extract form data by looking to the right of each label\n",
    "form_data = {}\n",
    "for label in labels:\n",
    "    # Clean the label text\n",
    "    field_name = label.text.strip().rstrip(':')\n",
    "    \n",
    "    # Find the value to the right\n",
    "    value_element = label.right(width=200)\n",
    "    value = value_element.extract_text().strip()\n",
    "    \n",
    "    # Add to our dictionary\n",
    "    form_data[field_name] = value\n",
    "\n",
    "# Display the extracted data\n",
    "form_data"
   ]
  },
  {
   "cell_type": "markdown",
   "id": "5495e93c",
   "metadata": {},
   "source": [
    "## Combining OCR with Layout Analysis"
   ]
  },
  {
   "cell_type": "code",
   "execution_count": 8,
   "id": "20b489df",
   "metadata": {
    "execution": {
     "iopub.execute_input": "2025-04-21T21:32:30.764203Z",
     "iopub.status.busy": "2025-04-21T21:32:30.764045Z",
     "iopub.status.idle": "2025-04-21T21:32:32.790129Z",
     "shell.execute_reply": "2025-04-21T21:32:32.789771Z"
    }
   },
   "outputs": [
    {
     "name": "stderr",
     "output_type": "stream",
     "text": [
      "\u001b[2m2025-04-21T21:32:30.782293Z\u001b[0m [\u001b[33m\u001b[1mwarning  \u001b[0m] \u001b[1mGOOGLE_API_KEY environment variable not set. Gemini detector (via OpenAI lib) will not be available.\u001b[0m \u001b[36mlineno\u001b[0m=\u001b[35m72\u001b[0m \u001b[36mmodule\u001b[0m=\u001b[35mnatural_pdf.analyzers.layout.gemini\u001b[0m\n"
     ]
    },
    {
     "name": "stderr",
     "output_type": "stream",
     "text": [
      "[2025-04-21 17:32:30,782] [ WARNING] gemini.py:72 - GOOGLE_API_KEY environment variable not set. Gemini detector (via OpenAI lib) will not be available.\n"
     ]
    },
    {
     "name": "stderr",
     "output_type": "stream",
     "text": [
      "\u001b[2m2025-04-21T21:32:30.783192Z\u001b[0m [\u001b[33m\u001b[1mwarning  \u001b[0m] \u001b[1mGOOGLE_API_KEY environment variable not set. Gemini detector (via OpenAI lib) will not be available.\u001b[0m \u001b[36mlineno\u001b[0m=\u001b[35m72\u001b[0m \u001b[36mmodule\u001b[0m=\u001b[35mnatural_pdf.analyzers.layout.gemini\u001b[0m\n"
     ]
    },
    {
     "name": "stderr",
     "output_type": "stream",
     "text": [
      "[2025-04-21 17:32:30,783] [ WARNING] gemini.py:72 - GOOGLE_API_KEY environment variable not set. Gemini detector (via OpenAI lib) will not be available.\n"
     ]
    },
    {
     "name": "stdout",
     "output_type": "stream",
     "text": [
      "\n"
     ]
    },
    {
     "name": "stdout",
     "output_type": "stream",
     "text": [
      "image 1/1 /var/folders/25/h3prywj14qb0mlkl2s8bxq5m0000gn/T/tmprtsl29ey/temp_layout_image.png: 1024x800 2 titles, 2 plain texts, 3 abandons, 1 table, 1925.6ms\n"
     ]
    },
    {
     "name": "stdout",
     "output_type": "stream",
     "text": [
      "Speed: 4.7ms preprocess, 1925.6ms inference, 1.2ms postprocess per image at shape (1, 3, 1024, 800)\n"
     ]
    },
    {
     "data": {
      "text/plain": [
       "[]"
      ]
     },
     "execution_count": 8,
     "metadata": {},
     "output_type": "execute_result"
    }
   ],
   "source": [
    "# Apply OCR and analyze layout\n",
    "page.use_ocr = True\n",
    "page.analyze_layout()\n",
    "\n",
    "# Find document structure elements\n",
    "headings = page.find_all('region[type=heading]')\n",
    "paragraphs = page.find_all('region[type=paragraph]')\n",
    "\n",
    "# Visualize the structure\n",
    "headings.highlight(color=\"red\", label=\"Headings\")\n",
    "paragraphs.highlight(color=\"blue\", label=\"Paragraphs\")\n",
    "\n",
    "# Create a simple document outline\n",
    "document_outline = []\n",
    "for heading in headings:\n",
    "    heading_text = heading.extract_text()\n",
    "    document_outline.append(heading_text)\n",
    "\n",
    "document_outline"
   ]
  },
  {
   "cell_type": "markdown",
   "id": "320bdfc4",
   "metadata": {},
   "source": [
    "## Working with Multiple Pages"
   ]
  },
  {
   "cell_type": "code",
   "execution_count": 9,
   "id": "9421a04d",
   "metadata": {
    "execution": {
     "iopub.execute_input": "2025-04-21T21:32:32.791525Z",
     "iopub.status.busy": "2025-04-21T21:32:32.791398Z",
     "iopub.status.idle": "2025-04-21T21:32:32.796295Z",
     "shell.execute_reply": "2025-04-21T21:32:32.795973Z"
    }
   },
   "outputs": [
    {
     "data": {
      "text/plain": [
       "['Page 1:                                                                                     \\n               ...']"
      ]
     },
     "execution_count": 9,
     "metadata": {},
     "output_type": "execute_result"
    }
   ],
   "source": [
    "# Process all pages in the document\n",
    "all_text = []\n",
    "\n",
    "for i, page in enumerate(pdf.pages):\n",
    "    # Enable OCR for each page\n",
    "    page.use_ocr = True\n",
    "    \n",
    "    # Extract text\n",
    "    page_text = page.extract_text()\n",
    "    \n",
    "    # Add to our collection with page number\n",
    "    all_text.append(f\"Page {i+1}: {page_text[:100]}...\")\n",
    "\n",
    "# Show the first few pages\n",
    "all_text"
   ]
  },
  {
   "cell_type": "markdown",
   "id": "d69c14d1",
   "metadata": {},
   "source": [
    "## Saving PDFs with Searchable Text\n",
    "\n",
    "After applying OCR to a PDF, you can save a new version of the PDF where the recognized text is embedded as an invisible layer. This makes the text searchable and copyable in standard PDF viewers.\n",
    "\n",
    "Use the `save_searchable()` method on the `PDF` object:"
   ]
  },
  {
   "cell_type": "code",
   "execution_count": 10,
   "id": "e84f8946",
   "metadata": {
    "execution": {
     "iopub.execute_input": "2025-04-21T21:32:32.797789Z",
     "iopub.status.busy": "2025-04-21T21:32:32.797610Z",
     "iopub.status.idle": "2025-04-21T21:32:49.165749Z",
     "shell.execute_reply": "2025-04-21T21:32:49.165293Z"
    }
   },
   "outputs": [
    {
     "name": "stderr",
     "output_type": "stream",
     "text": [
      "\u001b[2m2025-04-21T21:32:32.910436Z\u001b[0m [\u001b[33m\u001b[1mwarning  \u001b[0m] \u001b[1mUsing CPU. Note: This module is much faster with a GPU.\u001b[0m \u001b[36mlineno\u001b[0m=\u001b[35m71\u001b[0m \u001b[36mmodule\u001b[0m=\u001b[35measyocr.easyocr\u001b[0m\n"
     ]
    },
    {
     "name": "stderr",
     "output_type": "stream",
     "text": [
      "[2025-04-21 17:32:32,910] [ WARNING] easyocr.py:71 - Using CPU. Note: This module is much faster with a GPU.\n"
     ]
    }
   ],
   "source": [
    "from natural_pdf import PDF\n",
    "\n",
    "input_pdf_path = \"https://github.com/jsoma/natural-pdf/raw/refs/heads/main/pdfs/needs-ocr.pdf\"\n",
    "\n",
    "pdf = PDF(input_pdf_path)\n",
    "pdf.apply_ocr() \n",
    "\n",
    "pdf.save_searchable(\"needs-ocr-searchable.pdf\")"
   ]
  },
  {
   "cell_type": "markdown",
   "id": "cd0b43ed",
   "metadata": {},
   "source": [
    "This creates `needs-ocr-searchable.pdf`, which looks identical to the original but now has a text layer corresponding to the OCR results. You can adjust the rendering resolution used during saving with the `dpi` parameter (default is 300).\n",
    "\n",
    "OCR integration enables you to work with scanned documents, historical archives, and image-based PDFs that don't have embedded text. By combining OCR with natural-pdf's layout analysis capabilities, you can turn any document into structured, searchable data. "
   ]
  }
 ],
 "metadata": {
  "jupytext": {
   "cell_metadata_filter": "-all",
   "main_language": "python",
   "notebook_metadata_filter": "-all",
   "text_representation": {
    "extension": ".md",
    "format_name": "markdown"
   }
  },
  "language_info": {
   "codemirror_mode": {
    "name": "ipython",
    "version": 3
   },
   "file_extension": ".py",
   "mimetype": "text/x-python",
   "name": "python",
   "nbconvert_exporter": "python",
   "pygments_lexer": "ipython3",
   "version": "3.10.13"
  }
 },
 "nbformat": 4,
 "nbformat_minor": 5
}
