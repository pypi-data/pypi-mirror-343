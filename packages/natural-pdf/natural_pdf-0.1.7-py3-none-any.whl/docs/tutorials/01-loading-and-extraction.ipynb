{
 "cells": [
  {
   "cell_type": "markdown",
   "id": "2e20408a",
   "metadata": {},
   "source": [
    "# Loading and Basic Text Extraction"
   ]
  },
  {
   "cell_type": "code",
   "execution_count": null,
   "id": "0fee7ac5",
   "metadata": {},
   "outputs": [],
   "source": [
    "#%pip install \"natural-pdf[all]\""
   ]
  },
  {
   "cell_type": "markdown",
   "id": "765def8e",
   "metadata": {},
   "source": [
    "In this tutorial, we'll learn how to:\n",
    "\n",
    "1. Load a PDF document\n",
    "2. Extract text from pages\n",
    "3. Extract specific elements \n",
    "\n",
    "## Loading a PDF\n",
    "\n",
    "Let's start by loading a PDF file:"
   ]
  },
  {
   "cell_type": "code",
   "execution_count": null,
   "id": "2aca41e4",
   "metadata": {},
   "outputs": [],
   "source": [
    "from natural_pdf import PDF\n",
    "import os\n",
    "\n",
    "# Load a PDF file\n",
    "pdf = PDF(\"https://github.com/jsoma/natural-pdf/raw/refs/heads/main/pdfs/01-practice.pdf\")\n",
    "\n",
    "# Basic info about the document\n",
    "{\n",
    "    \"Filename\": os.path.basename(pdf.path),\n",
    "    \"Pages\": len(pdf.pages),\n",
    "    \"Title\": pdf.metadata.get(\"Title\", \"N/A\"),\n",
    "    \"Author\": pdf.metadata.get(\"Author\", \"N/A\")\n",
    "}"
   ]
  },
  {
   "cell_type": "markdown",
   "id": "4e425d78",
   "metadata": {},
   "source": [
    "## Extracting Text\n",
    "\n",
    "Now that we have loaded the PDF, let's extract the text from the first page:"
   ]
  },
  {
   "cell_type": "code",
   "execution_count": null,
   "id": "a6fa636e",
   "metadata": {},
   "outputs": [],
   "source": [
    "# Get the first page\n",
    "page = pdf.pages[0]\n",
    "\n",
    "# Extract text from the page\n",
    "text = page.extract_text()\n",
    "\n",
    "# Show the first 200 characters of the text\n",
    "print(text[:200])"
   ]
  },
  {
   "cell_type": "markdown",
   "id": "03e5318c",
   "metadata": {},
   "source": [
    "## Finding and Extracting Specific Elements\n",
    "\n",
    "We can find specific elements using spatial queries and text content:"
   ]
  },
  {
   "cell_type": "code",
   "execution_count": null,
   "id": "ca478166",
   "metadata": {},
   "outputs": [],
   "source": [
    "# Find text elements containing specific words\n",
    "elements = page.find_all('text:contains(\"Inadequate\")')\n",
    "\n",
    "# Show these elements on the page\n",
    "page.clear_highlights()\n",
    "elements.highlight(color=\"red\", label=\"Contains 'Inadequate'\")\n",
    "\n",
    "# Display the page to see them\n",
    "page.to_image(width=700)"
   ]
  },
  {
   "cell_type": "markdown",
   "id": "85311beb",
   "metadata": {},
   "source": [
    "## Working with Layout Regions\n",
    "\n",
    "We can analyze the layout of the page to identify different regions:"
   ]
  },
  {
   "cell_type": "code",
   "execution_count": null,
   "id": "d2eaa3cb",
   "metadata": {},
   "outputs": [],
   "source": [
    "# Analyze the page layout\n",
    "page.analyze_layout(engine='yolo')\n",
    "\n",
    "# Find and highlight all detected regions\n",
    "page.clear_highlights()\n",
    "page.find_all('region').highlight(group_by='type')\n",
    "\n",
    "# Display the page to see the regions\n",
    "page.to_image(width=900)"
   ]
  },
  {
   "cell_type": "markdown",
   "id": "5e562020",
   "metadata": {},
   "source": [
    "## Working with Multiple Pages\n",
    "\n",
    "You can also work with multiple pages:"
   ]
  },
  {
   "cell_type": "code",
   "execution_count": null,
   "id": "ed5bb91e",
   "metadata": {},
   "outputs": [],
   "source": [
    "# Process all pages\n",
    "for page in pdf.pages:\n",
    "    page_text = page.extract_text()\n",
    "    print(f\"Page {page.number}\", page_text[:100])  # First 100 chars of each page"
   ]
  },
  {
   "cell_type": "markdown",
   "id": "e2b04ab1",
   "metadata": {},
   "source": [
    "This tutorial covered the basics of loading PDFs and extracting text. In the next tutorials, we'll explore more advanced features like searching for specific elements, extracting structured content, and working with tables. "
   ]
  },
  {
   "cell_type": "code",
   "execution_count": null,
   "id": "3112c5b6",
   "metadata": {},
   "outputs": [],
   "source": [
    "%%bash\n",
    "pip install \"natural-pdf[all]\""
   ]
  }
 ],
 "metadata": {
  "jupytext": {
   "cell_metadata_filter": "-all",
   "main_language": "python",
   "notebook_metadata_filter": "-all"
  }
 },
 "nbformat": 4,
 "nbformat_minor": 5
}
