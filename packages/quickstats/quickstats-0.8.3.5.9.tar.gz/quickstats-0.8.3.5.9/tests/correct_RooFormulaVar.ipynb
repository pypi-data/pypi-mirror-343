{
 "cells": [
  {
   "cell_type": "code",
   "execution_count": 1,
   "metadata": {
    "execution": {
     "iopub.execute_input": "2024-02-02T21:51:21.020023Z",
     "iopub.status.busy": "2024-02-02T21:51:21.019666Z",
     "iopub.status.idle": "2024-02-02T21:51:26.402268Z",
     "shell.execute_reply": "2024-02-02T21:51:26.401846Z"
    }
   },
   "outputs": [
    {
     "name": "stdout",
     "output_type": "stream",
     "text": [
      "Welcome to JupyROOT 6.26/08\n",
      "\n",
      "\u001b[1mRooFit v3.60 -- Developed by Wouter Verkerke and David Kirkby\u001b[0m \n",
      "                Copyright (C) 2000-2013 NIKHEF, University of California & Stanford University\n",
      "                All rights reserved, please read http://roofit.sourceforge.net/license.txt\n",
      "\n",
      "[INFO] Set stack size to unlimited\n",
      "[INFO] Loaded extension module \"RooTwoSidedCBShape\"\n",
      "[INFO] Loaded extension module \"ResponseFunction\"\n",
      "\n",
      "RooWorkspace(original) original contents\n",
      "\n",
      "variables\n",
      "---------\n",
      "(cate_orig,mean,sigma,x,y)\n",
      "\n",
      "p.d.f.s\n",
      "-------\n",
      "RooGaussian::gauss_pdf[ x=formula_var mean=mean sigma=sigma ] = 1\n",
      "RooSimultaneous::pdf_orig[ indexCat=cate_orig cat=gauss_pdf ] = 1\n",
      "\n",
      "functions\n",
      "--------\n",
      "RooFormulaVar::formula_var[ actualVars=(x,y) formula=\"x+y\" ] = 0\n",
      "\n",
      "named sets\n",
      "----------\n",
      "ModelConfig_NuisParams:(mean,sigma,y)\n",
      "\n",
      "generic objects\n",
      "---------------\n",
      "RooStats::ModelConfig::ModelConfig\n",
      "\n"
     ]
    }
   ],
   "source": [
    "import ROOT\n",
    "from quickstats.components.workspaces import XMLWSModifier\n",
    "\n",
    "ws_orig = ROOT.RooWorkspace('original')\n",
    "\n",
    "x = ROOT.RooRealVar(\"x\", \"x\", -10, 10)\n",
    "y = ROOT.RooRealVar(\"y\", \"y\", -10, 10)\n",
    "formula_var = ROOT.RooFormulaVar(\"formula_var\", \"x+y\", ROOT.RooArgList(x, y))\n",
    "\n",
    "mean = ROOT.RooRealVar(\"mean\", \"Mean of Gaussian\", 0, -10, 10)\n",
    "sigma = ROOT.RooRealVar(\"sigma\", \"Width of Gaussian\", 1, 0.1, 10)\n",
    "gauss_pdf = ROOT.RooGaussian(\"gauss_pdf\", \"Gaussian PDF\", formula_var, mean, sigma)\n",
    "cate_orig = ROOT.RooCategory(\"cate_orig\", \"cate_orig\")\n",
    "cate_orig.defineType(\"cat\")\n",
    "pdf_orig = ROOT.RooSimultaneous(\"pdf_orig\", \"Simultaneous PDF\", cate_orig)\n",
    "pdf_orig.addPdf(gauss_pdf, \"cat\")\n",
    "\n",
    "mc_orig = ROOT.RooStats.ModelConfig(\"ModelConfig\", ws_orig)\n",
    "mc_orig.SetPdf(pdf_orig)\n",
    "mc_orig.SetNuisanceParameters(ROOT.RooArgSet(mean, sigma, y))\n",
    "ws_orig.Import(mc_orig)\n",
    "\n",
    "\n",
    "modifier = XMLWSModifier(source={})\n",
    "rename_map = {'y': 'y_new'}\n",
    "\n",
    "ws_orig.Print()"
   ]
  },
  {
   "cell_type": "code",
   "execution_count": 2,
   "metadata": {
    "execution": {
     "iopub.execute_input": "2024-02-02T21:51:26.473523Z",
     "iopub.status.busy": "2024-02-02T21:51:26.413290Z",
     "iopub.status.idle": "2024-02-02T21:51:26.580145Z",
     "shell.execute_reply": "2024-02-02T21:51:26.579818Z"
    }
   },
   "outputs": [
    {
     "name": "stdout",
     "output_type": "stream",
     "text": [
      "[INFO] Renamed variables\n",
      "\n",
      "           \u001b[91my\u001b[0m -> \u001b[92my\u001b[0m_new\n",
      "\n",
      "RooWorkspace(final1) final1 contents\n",
      "\n",
      "variables\n",
      "---------\n",
      "(cate_orig,mean,sigma,x,y_new)\n",
      "\n",
      "p.d.f.s\n",
      "-------\n",
      "RooGaussian::gauss_pdf[ x=formula_var mean=mean sigma=sigma ] = 1\n",
      "RooSimultaneous::pdf_orig[ indexCat=cate_orig cat=gauss_pdf ] = 1\n",
      "\n",
      "functions\n",
      "--------\n",
      "RooFormulaVar::formula_var[ actualVars=(x,y_new) formula=\"x+y\" ] = 0\n",
      "\n"
     ]
    }
   ],
   "source": [
    "ws_final1 = ROOT.RooWorkspace('final1')\n",
    "modifier.rename_variables(mc_orig, ws_final1, rename_map)\n",
    "ws_final1.Print()"
   ]
  },
  {
   "cell_type": "code",
   "execution_count": 3,
   "metadata": {
    "execution": {
     "iopub.execute_input": "2024-02-02T21:51:26.603926Z",
     "iopub.status.busy": "2024-02-02T21:51:26.582101Z",
     "iopub.status.idle": "2024-02-02T21:51:26.822351Z",
     "shell.execute_reply": "2024-02-02T21:51:26.822635Z"
    }
   },
   "outputs": [
    {
     "name": "stdout",
     "output_type": "stream",
     "text": [
      "[INFO] Renamed variables\n",
      "\n",
      "           \u001b[91my\u001b[0m -> \u001b[92my\u001b[0m_new\n",
      "\n",
      "RooWorkspace(final) final contents\n",
      "\n",
      "variables\n",
      "---------\n",
      "(cate_orig,mean,sigma,x,y_new)\n",
      "\n",
      "p.d.f.s\n",
      "-------\n",
      "RooGaussian::gauss_pdf[ x=formula_var mean=mean sigma=sigma ] = 1\n",
      "RooSimultaneous::pdf_orig[ indexCat=cate_orig cat=gauss_pdf ] = 1\n",
      "\n",
      "functions\n",
      "--------\n",
      "RooFormulaVar::formula_var[ actualVars=(x,y_new) formula=\"@0+@1\" ] = 0\n",
      "\n"
     ]
    }
   ],
   "source": [
    "ws_final2 = ROOT.RooWorkspace('final')\n",
    "modifier.correct_formula(ws_orig, ws_final2, rename_map)\n",
    "modifier.rename_variables(mc_orig, ws_final2, rename_map)\n",
    "ws_final2.Print()"
   ]
  }
 ],
 "metadata": {
  "language_info": {
   "codemirror_mode": {
    "name": "ipython",
    "version": 3
   },
   "file_extension": ".py",
   "mimetype": "text/x-python",
   "name": "python",
   "nbconvert_exporter": "python",
   "pygments_lexer": "ipython3",
   "version": "3.9.12"
  }
 },
 "nbformat": 4,
 "nbformat_minor": 2
}
