{
 "cells": [
  {
   "cell_type": "markdown",
   "metadata": {},
   "source": [
    "## New API for viewing results\n",
    "\n",
    "Stole some ideas, like the @property df."
   ]
  },
  {
   "cell_type": "code",
   "execution_count": 21,
   "metadata": {},
   "outputs": [],
   "source": [
    "from heavylight import LightModel\n",
    "import numpy as np\n",
    "\n",
    "class DemoModel(LightModel):\n",
    "    def __init__(self):\n",
    "        super().__init__()\n",
    "        self.size = 10\n",
    "\n",
    "    def pols_if(self, t):\n",
    "        if t == 0:\n",
    "            return np.ones((self.size,))\n",
    "        return self.pols_if(t - 1) - self.pols_death(t - 1)\n",
    "    \n",
    "    def pols_death(self, t):\n",
    "        self.what(t, \"letsgo\") # just so the function gets executed\n",
    "        return .01 * self.pols_if(t)\n",
    "    \n",
    "    def what(self, t, okay):\n",
    "        return str(t) + okay\n",
    "    \n",
    "    def cashflows(self, t):\n",
    "        return self.pols_death(t) * 100\n",
    "\n",
    "\n",
    "model = DemoModel()\n",
    "model.RunModel(3)\n"
   ]
  },
  {
   "cell_type": "markdown",
   "metadata": {},
   "source": [
    "## Viewing results that are not aggregated\n",
    "\n",
    "By default, it will show all of the single parameter t values. The index is always the timesteps."
   ]
  },
  {
   "cell_type": "code",
   "execution_count": 22,
   "metadata": {},
   "outputs": [
    {
     "data": {
      "text/html": [
       "<div>\n",
       "<style scoped>\n",
       "    .dataframe tbody tr th:only-of-type {\n",
       "        vertical-align: middle;\n",
       "    }\n",
       "\n",
       "    .dataframe tbody tr th {\n",
       "        vertical-align: top;\n",
       "    }\n",
       "\n",
       "    .dataframe thead th {\n",
       "        text-align: right;\n",
       "    }\n",
       "</style>\n",
       "<table border=\"1\" class=\"dataframe\">\n",
       "  <thead>\n",
       "    <tr style=\"text-align: right;\">\n",
       "      <th></th>\n",
       "      <th>cashflows</th>\n",
       "      <th>pols_death</th>\n",
       "      <th>pols_if</th>\n",
       "    </tr>\n",
       "  </thead>\n",
       "  <tbody>\n",
       "    <tr>\n",
       "      <th>0</th>\n",
       "      <td>[1.0, 1.0, 1.0, 1.0, 1.0, 1.0, 1.0, 1.0, 1.0, ...</td>\n",
       "      <td>[0.01, 0.01, 0.01, 0.01, 0.01, 0.01, 0.01, 0.0...</td>\n",
       "      <td>[1.0, 1.0, 1.0, 1.0, 1.0, 1.0, 1.0, 1.0, 1.0, ...</td>\n",
       "    </tr>\n",
       "    <tr>\n",
       "      <th>1</th>\n",
       "      <td>[0.9900000000000001, 0.9900000000000001, 0.990...</td>\n",
       "      <td>[0.0099, 0.0099, 0.0099, 0.0099, 0.0099, 0.009...</td>\n",
       "      <td>[0.99, 0.99, 0.99, 0.99, 0.99, 0.99, 0.99, 0.9...</td>\n",
       "    </tr>\n",
       "    <tr>\n",
       "      <th>2</th>\n",
       "      <td>[0.9801000000000001, 0.9801000000000001, 0.980...</td>\n",
       "      <td>[0.009801, 0.009801, 0.009801, 0.009801, 0.009...</td>\n",
       "      <td>[0.9801, 0.9801, 0.9801, 0.9801, 0.9801, 0.980...</td>\n",
       "    </tr>\n",
       "    <tr>\n",
       "      <th>3</th>\n",
       "      <td>[0.970299, 0.970299, 0.970299, 0.970299, 0.970...</td>\n",
       "      <td>[0.00970299, 0.00970299, 0.00970299, 0.0097029...</td>\n",
       "      <td>[0.970299, 0.970299, 0.970299, 0.970299, 0.970...</td>\n",
       "    </tr>\n",
       "  </tbody>\n",
       "</table>\n",
       "</div>"
      ],
      "text/plain": [
       "                                           cashflows  \\\n",
       "0  [1.0, 1.0, 1.0, 1.0, 1.0, 1.0, 1.0, 1.0, 1.0, ...   \n",
       "1  [0.9900000000000001, 0.9900000000000001, 0.990...   \n",
       "2  [0.9801000000000001, 0.9801000000000001, 0.980...   \n",
       "3  [0.970299, 0.970299, 0.970299, 0.970299, 0.970...   \n",
       "\n",
       "                                          pols_death  \\\n",
       "0  [0.01, 0.01, 0.01, 0.01, 0.01, 0.01, 0.01, 0.0...   \n",
       "1  [0.0099, 0.0099, 0.0099, 0.0099, 0.0099, 0.009...   \n",
       "2  [0.009801, 0.009801, 0.009801, 0.009801, 0.009...   \n",
       "3  [0.00970299, 0.00970299, 0.00970299, 0.0097029...   \n",
       "\n",
       "                                             pols_if  \n",
       "0  [1.0, 1.0, 1.0, 1.0, 1.0, 1.0, 1.0, 1.0, 1.0, ...  \n",
       "1  [0.99, 0.99, 0.99, 0.99, 0.99, 0.99, 0.99, 0.9...  \n",
       "2  [0.9801, 0.9801, 0.9801, 0.9801, 0.9801, 0.980...  \n",
       "3  [0.970299, 0.970299, 0.970299, 0.970299, 0.970...  "
      ]
     },
     "execution_count": 22,
     "metadata": {},
     "output_type": "execute_result"
    }
   ],
   "source": [
    "model.df"
   ]
  },
  {
   "cell_type": "markdown",
   "metadata": {},
   "source": [
    "Each method has a `df` attribute too. Even methods that don't show up in the main model's dataframe because the index is bad."
   ]
  },
  {
   "cell_type": "code",
   "execution_count": 23,
   "metadata": {},
   "outputs": [
    {
     "data": {
      "text/html": [
       "<div>\n",
       "<style scoped>\n",
       "    .dataframe tbody tr th:only-of-type {\n",
       "        vertical-align: middle;\n",
       "    }\n",
       "\n",
       "    .dataframe tbody tr th {\n",
       "        vertical-align: top;\n",
       "    }\n",
       "\n",
       "    .dataframe thead th {\n",
       "        text-align: right;\n",
       "    }\n",
       "</style>\n",
       "<table border=\"1\" class=\"dataframe\">\n",
       "  <thead>\n",
       "    <tr style=\"text-align: right;\">\n",
       "      <th></th>\n",
       "      <th></th>\n",
       "      <th>what</th>\n",
       "    </tr>\n",
       "  </thead>\n",
       "  <tbody>\n",
       "    <tr>\n",
       "      <th>0</th>\n",
       "      <th>letsgo</th>\n",
       "      <td>0letsgo</td>\n",
       "    </tr>\n",
       "    <tr>\n",
       "      <th>1</th>\n",
       "      <th>letsgo</th>\n",
       "      <td>1letsgo</td>\n",
       "    </tr>\n",
       "    <tr>\n",
       "      <th>2</th>\n",
       "      <th>letsgo</th>\n",
       "      <td>2letsgo</td>\n",
       "    </tr>\n",
       "    <tr>\n",
       "      <th>3</th>\n",
       "      <th>letsgo</th>\n",
       "      <td>3letsgo</td>\n",
       "    </tr>\n",
       "  </tbody>\n",
       "</table>\n",
       "</div>"
      ],
      "text/plain": [
       "             what\n",
       "0 letsgo  0letsgo\n",
       "1 letsgo  1letsgo\n",
       "2 letsgo  2letsgo\n",
       "3 letsgo  3letsgo"
      ]
     },
     "execution_count": 23,
     "metadata": {},
     "output_type": "execute_result"
    }
   ],
   "source": [
    "model.what.df"
   ]
  },
  {
   "cell_type": "markdown",
   "metadata": {},
   "source": [
    "If you need to see everything, use the cache."
   ]
  },
  {
   "cell_type": "code",
   "execution_count": 24,
   "metadata": {},
   "outputs": [
    {
     "data": {
      "text/plain": [
       "defaultdict(dict,\n",
       "            {'what': {(0, 'letsgo'): '0letsgo',\n",
       "              (1, 'letsgo'): '1letsgo',\n",
       "              (2, 'letsgo'): '2letsgo',\n",
       "              (3, 'letsgo'): '3letsgo'},\n",
       "             'pols_if': {0: array([1., 1., 1., 1., 1., 1., 1., 1., 1., 1.]),\n",
       "              1: array([0.99, 0.99, 0.99, 0.99, 0.99, 0.99, 0.99, 0.99, 0.99, 0.99]),\n",
       "              2: array([0.9801, 0.9801, 0.9801, 0.9801, 0.9801, 0.9801, 0.9801, 0.9801,\n",
       "                     0.9801, 0.9801]),\n",
       "              3: array([0.970299, 0.970299, 0.970299, 0.970299, 0.970299, 0.970299,\n",
       "                     0.970299, 0.970299, 0.970299, 0.970299])},\n",
       "             'pols_death': {0: array([0.01, 0.01, 0.01, 0.01, 0.01, 0.01, 0.01, 0.01, 0.01, 0.01]),\n",
       "              1: array([0.0099, 0.0099, 0.0099, 0.0099, 0.0099, 0.0099, 0.0099, 0.0099,\n",
       "                     0.0099, 0.0099]),\n",
       "              2: array([0.009801, 0.009801, 0.009801, 0.009801, 0.009801, 0.009801,\n",
       "                     0.009801, 0.009801, 0.009801, 0.009801]),\n",
       "              3: array([0.00970299, 0.00970299, 0.00970299, 0.00970299, 0.00970299,\n",
       "                     0.00970299, 0.00970299, 0.00970299, 0.00970299, 0.00970299])},\n",
       "             'cashflows': {0: array([1., 1., 1., 1., 1., 1., 1., 1., 1., 1.]),\n",
       "              1: array([0.99, 0.99, 0.99, 0.99, 0.99, 0.99, 0.99, 0.99, 0.99, 0.99]),\n",
       "              2: array([0.9801, 0.9801, 0.9801, 0.9801, 0.9801, 0.9801, 0.9801, 0.9801,\n",
       "                     0.9801, 0.9801]),\n",
       "              3: array([0.970299, 0.970299, 0.970299, 0.970299, 0.970299, 0.970299,\n",
       "                     0.970299, 0.970299, 0.970299, 0.970299])}})"
      ]
     },
     "execution_count": 24,
     "metadata": {},
     "output_type": "execute_result"
    }
   ],
   "source": [
    "model.cache"
   ]
  },
  {
   "cell_type": "markdown",
   "metadata": {},
   "source": [
    "The cache also exists on methods."
   ]
  },
  {
   "cell_type": "code",
   "execution_count": 25,
   "metadata": {},
   "outputs": [
    {
     "data": {
      "text/plain": [
       "{0: array([1., 1., 1., 1., 1., 1., 1., 1., 1., 1.]),\n",
       " 1: array([0.99, 0.99, 0.99, 0.99, 0.99, 0.99, 0.99, 0.99, 0.99, 0.99]),\n",
       " 2: array([0.9801, 0.9801, 0.9801, 0.9801, 0.9801, 0.9801, 0.9801, 0.9801,\n",
       "        0.9801, 0.9801]),\n",
       " 3: array([0.970299, 0.970299, 0.970299, 0.970299, 0.970299, 0.970299,\n",
       "        0.970299, 0.970299, 0.970299, 0.970299])}"
      ]
     },
     "execution_count": 25,
     "metadata": {},
     "output_type": "execute_result"
    }
   ],
   "source": [
    "model.pols_if.cache"
   ]
  },
  {
   "cell_type": "markdown",
   "metadata": {},
   "source": [
    "## Viewing aggregated results\n",
    "\n",
    "There is aggregation that happens by default. Here is the default aggregation function.\n",
    "\n",
    "```py\n",
    "def default_agg_function(x: Any):\n",
    "    \"\"\"Default aggregation function for storing results.\"\"\"\n",
    "    if isinstance(x, np.ndarray) and issubclass(x.dtype.type, np.number):\n",
    "        return np.sum(x)\n",
    "    return x\n",
    "```\n",
    "\n",
    "We have just seen `df` and `cache`. Viewing aggregated results works the exact same way, just with `df_agg` and `cache_agg`."
   ]
  },
  {
   "cell_type": "code",
   "execution_count": 26,
   "metadata": {},
   "outputs": [
    {
     "data": {
      "text/html": [
       "<div>\n",
       "<style scoped>\n",
       "    .dataframe tbody tr th:only-of-type {\n",
       "        vertical-align: middle;\n",
       "    }\n",
       "\n",
       "    .dataframe tbody tr th {\n",
       "        vertical-align: top;\n",
       "    }\n",
       "\n",
       "    .dataframe thead th {\n",
       "        text-align: right;\n",
       "    }\n",
       "</style>\n",
       "<table border=\"1\" class=\"dataframe\">\n",
       "  <thead>\n",
       "    <tr style=\"text-align: right;\">\n",
       "      <th></th>\n",
       "      <th>cashflows</th>\n",
       "      <th>pols_death</th>\n",
       "      <th>pols_if</th>\n",
       "    </tr>\n",
       "  </thead>\n",
       "  <tbody>\n",
       "    <tr>\n",
       "      <th>0</th>\n",
       "      <td>10.00000</td>\n",
       "      <td>0.10000</td>\n",
       "      <td>10.00000</td>\n",
       "    </tr>\n",
       "    <tr>\n",
       "      <th>1</th>\n",
       "      <td>9.90000</td>\n",
       "      <td>0.09900</td>\n",
       "      <td>9.90000</td>\n",
       "    </tr>\n",
       "    <tr>\n",
       "      <th>2</th>\n",
       "      <td>9.80100</td>\n",
       "      <td>0.09801</td>\n",
       "      <td>9.80100</td>\n",
       "    </tr>\n",
       "    <tr>\n",
       "      <th>3</th>\n",
       "      <td>9.70299</td>\n",
       "      <td>0.09703</td>\n",
       "      <td>9.70299</td>\n",
       "    </tr>\n",
       "  </tbody>\n",
       "</table>\n",
       "</div>"
      ],
      "text/plain": [
       "   cashflows  pols_death   pols_if\n",
       "0   10.00000     0.10000  10.00000\n",
       "1    9.90000     0.09900   9.90000\n",
       "2    9.80100     0.09801   9.80100\n",
       "3    9.70299     0.09703   9.70299"
      ]
     },
     "execution_count": 26,
     "metadata": {},
     "output_type": "execute_result"
    }
   ],
   "source": [
    "model.df_agg"
   ]
  },
  {
   "cell_type": "code",
   "execution_count": 27,
   "metadata": {},
   "outputs": [
    {
     "data": {
      "text/html": [
       "<div>\n",
       "<style scoped>\n",
       "    .dataframe tbody tr th:only-of-type {\n",
       "        vertical-align: middle;\n",
       "    }\n",
       "\n",
       "    .dataframe tbody tr th {\n",
       "        vertical-align: top;\n",
       "    }\n",
       "\n",
       "    .dataframe thead th {\n",
       "        text-align: right;\n",
       "    }\n",
       "</style>\n",
       "<table border=\"1\" class=\"dataframe\">\n",
       "  <thead>\n",
       "    <tr style=\"text-align: right;\">\n",
       "      <th></th>\n",
       "      <th>pols_death</th>\n",
       "    </tr>\n",
       "  </thead>\n",
       "  <tbody>\n",
       "    <tr>\n",
       "      <th>0</th>\n",
       "      <td>0.10000</td>\n",
       "    </tr>\n",
       "    <tr>\n",
       "      <th>1</th>\n",
       "      <td>0.09900</td>\n",
       "    </tr>\n",
       "    <tr>\n",
       "      <th>2</th>\n",
       "      <td>0.09801</td>\n",
       "    </tr>\n",
       "    <tr>\n",
       "      <th>3</th>\n",
       "      <td>0.09703</td>\n",
       "    </tr>\n",
       "  </tbody>\n",
       "</table>\n",
       "</div>"
      ],
      "text/plain": [
       "   pols_death\n",
       "0     0.10000\n",
       "1     0.09900\n",
       "2     0.09801\n",
       "3     0.09703"
      ]
     },
     "execution_count": 27,
     "metadata": {},
     "output_type": "execute_result"
    }
   ],
   "source": [
    "\n",
    "model.pols_death.df_agg"
   ]
  },
  {
   "cell_type": "code",
   "execution_count": 28,
   "metadata": {},
   "outputs": [
    {
     "data": {
      "text/plain": [
       "defaultdict(dict,\n",
       "            {'what': {(0, 'letsgo'): '0letsgo',\n",
       "              (1, 'letsgo'): '1letsgo',\n",
       "              (2, 'letsgo'): '2letsgo',\n",
       "              (3, 'letsgo'): '3letsgo'},\n",
       "             'pols_if': {0: 10.0, 1: 9.9, 2: 9.801, 3: 9.702990000000002},\n",
       "             'pols_death': {0: 0.09999999999999999,\n",
       "              1: 0.09900000000000002,\n",
       "              2: 0.09801000000000001,\n",
       "              3: 0.09702989999999999},\n",
       "             'cashflows': {0: 10.0, 1: 9.9, 2: 9.801, 3: 9.702990000000002}})"
      ]
     },
     "execution_count": 28,
     "metadata": {},
     "output_type": "execute_result"
    }
   ],
   "source": [
    "model.cache_agg"
   ]
  },
  {
   "cell_type": "code",
   "execution_count": 31,
   "metadata": {},
   "outputs": [
    {
     "data": {
      "text/plain": [
       "{0: 0.09999999999999999,\n",
       " 1: 0.09900000000000002,\n",
       " 2: 0.09801000000000001,\n",
       " 3: 0.09702989999999999}"
      ]
     },
     "execution_count": 31,
     "metadata": {},
     "output_type": "execute_result"
    }
   ],
   "source": [
    "model.pols_death.cache_agg"
   ]
  },
  {
   "cell_type": "markdown",
   "metadata": {},
   "source": [
    "## Controlling aggregation at the method level\n",
    "\n",
    "Our previous model didn't allow customization of the aggregation function, it used the default one. Let's turn off aggregation of all np arrays and just aggregate one of them for example."
   ]
  },
  {
   "cell_type": "code",
   "execution_count": 29,
   "metadata": {},
   "outputs": [
    {
     "data": {
      "text/html": [
       "<div>\n",
       "<style scoped>\n",
       "    .dataframe tbody tr th:only-of-type {\n",
       "        vertical-align: middle;\n",
       "    }\n",
       "\n",
       "    .dataframe tbody tr th {\n",
       "        vertical-align: top;\n",
       "    }\n",
       "\n",
       "    .dataframe thead th {\n",
       "        text-align: right;\n",
       "    }\n",
       "</style>\n",
       "<table border=\"1\" class=\"dataframe\">\n",
       "  <thead>\n",
       "    <tr style=\"text-align: right;\">\n",
       "      <th></th>\n",
       "      <th>cashflows</th>\n",
       "    </tr>\n",
       "  </thead>\n",
       "  <tbody>\n",
       "    <tr>\n",
       "      <th>0</th>\n",
       "      <td>10.00000</td>\n",
       "    </tr>\n",
       "    <tr>\n",
       "      <th>1</th>\n",
       "      <td>9.90000</td>\n",
       "    </tr>\n",
       "    <tr>\n",
       "      <th>2</th>\n",
       "      <td>9.80100</td>\n",
       "    </tr>\n",
       "    <tr>\n",
       "      <th>3</th>\n",
       "      <td>9.70299</td>\n",
       "    </tr>\n",
       "  </tbody>\n",
       "</table>\n",
       "</div>"
      ],
      "text/plain": [
       "   cashflows\n",
       "0   10.00000\n",
       "1    9.90000\n",
       "2    9.80100\n",
       "3    9.70299"
      ]
     },
     "execution_count": 29,
     "metadata": {},
     "output_type": "execute_result"
    }
   ],
   "source": [
    "from typing import Union, Callable\n",
    "from heavylight import agg\n",
    "\n",
    "\n",
    "class DemoModel2(LightModel):\n",
    "    def __init__(self, agg_func: Union[Callable, None]):\n",
    "        super().__init__(agg_function=agg_func)\n",
    "        self.size = 10\n",
    "\n",
    "    def pols_if(self, t):\n",
    "        if t == 0:\n",
    "            return np.ones((self.size,))\n",
    "        return self.pols_if(t - 1) - self.pols_death(t - 1)\n",
    "    \n",
    "    def pols_death(self, t):\n",
    "        self.what(t, \"letsgo\") # just so the function gets executed\n",
    "        return .01 * self.pols_if(t)\n",
    "    \n",
    "    def what(self, t, okay):\n",
    "        return str(t) + okay\n",
    "    \n",
    "    @agg(np.sum)\n",
    "    def cashflows(self, t):\n",
    "        return self.pols_death(t) * 100\n",
    "\n",
    "\n",
    "model2 = DemoModel2(None)\n",
    "model2.RunModel(3)\n",
    "model2.df_agg"
   ]
  },
  {
   "cell_type": "markdown",
   "metadata": {},
   "source": [
    "The above scenario might cause some small performance increase in applications that are trying to calculate a specific number. You can still turn back on the aggregations without editing the source code of the model."
   ]
  },
  {
   "cell_type": "code",
   "execution_count": 32,
   "metadata": {},
   "outputs": [
    {
     "data": {
      "text/html": [
       "<div>\n",
       "<style scoped>\n",
       "    .dataframe tbody tr th:only-of-type {\n",
       "        vertical-align: middle;\n",
       "    }\n",
       "\n",
       "    .dataframe tbody tr th {\n",
       "        vertical-align: top;\n",
       "    }\n",
       "\n",
       "    .dataframe thead th {\n",
       "        text-align: right;\n",
       "    }\n",
       "</style>\n",
       "<table border=\"1\" class=\"dataframe\">\n",
       "  <thead>\n",
       "    <tr style=\"text-align: right;\">\n",
       "      <th></th>\n",
       "      <th>cashflows</th>\n",
       "      <th>pols_death</th>\n",
       "      <th>pols_if</th>\n",
       "    </tr>\n",
       "  </thead>\n",
       "  <tbody>\n",
       "    <tr>\n",
       "      <th>0</th>\n",
       "      <td>10.00000</td>\n",
       "      <td>0.10000</td>\n",
       "      <td>10.00000</td>\n",
       "    </tr>\n",
       "    <tr>\n",
       "      <th>1</th>\n",
       "      <td>9.90000</td>\n",
       "      <td>0.09900</td>\n",
       "      <td>9.90000</td>\n",
       "    </tr>\n",
       "    <tr>\n",
       "      <th>2</th>\n",
       "      <td>9.80100</td>\n",
       "      <td>0.09801</td>\n",
       "      <td>9.80100</td>\n",
       "    </tr>\n",
       "    <tr>\n",
       "      <th>3</th>\n",
       "      <td>9.70299</td>\n",
       "      <td>0.09703</td>\n",
       "      <td>9.70299</td>\n",
       "    </tr>\n",
       "  </tbody>\n",
       "</table>\n",
       "</div>"
      ],
      "text/plain": [
       "   cashflows  pols_death   pols_if\n",
       "0   10.00000     0.10000  10.00000\n",
       "1    9.90000     0.09900   9.90000\n",
       "2    9.80100     0.09801   9.80100\n",
       "3    9.70299     0.09703   9.70299"
      ]
     },
     "execution_count": 32,
     "metadata": {},
     "output_type": "execute_result"
    }
   ],
   "source": [
    "from heavylight import default_agg_function\n",
    "\n",
    "model3 = DemoModel2(default_agg_function)\n",
    "model3.RunModel(3)\n",
    "model3.df_agg"
   ]
  }
 ],
 "metadata": {
  "kernelspec": {
   "display_name": "Python 3",
   "language": "python",
   "name": "python3"
  },
  "language_info": {
   "codemirror_mode": {
    "name": "ipython",
    "version": 3
   },
   "file_extension": ".py",
   "mimetype": "text/x-python",
   "name": "python",
   "nbconvert_exporter": "python",
   "pygments_lexer": "ipython3",
   "version": "3.8.18"
  }
 },
 "nbformat": 4,
 "nbformat_minor": 2
}
