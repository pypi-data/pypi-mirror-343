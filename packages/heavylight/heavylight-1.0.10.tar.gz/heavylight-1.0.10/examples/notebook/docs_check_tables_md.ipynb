{
 "cells": [
  {
   "cell_type": "code",
   "execution_count": 1,
   "metadata": {},
   "outputs": [
    {
     "name": "stdout",
     "output_type": "stream",
     "text": [
      "0.2\n"
     ]
    },
    {
     "data": {
      "text/plain": [
       "array([0.22, 0.55, 0.49, ..., 0.45, 0.18, 0.62])"
      ]
     },
     "execution_count": 1,
     "metadata": {},
     "output_type": "execute_result"
    }
   ],
   "source": [
    "from heavylight import Table\n",
    "import pandas as pd\n",
    "import numpy as np\n",
    "# typically you would import the table from a csv or other source\n",
    "\n",
    "df = pd.DataFrame(\n",
    "  {'age|int': np.arange(18, 66)}\n",
    ")\n",
    "df['values'] = df['age|int'] * 0.01\n",
    "\n",
    "tab = Table(df)\n",
    "\n",
    "# we can query a single value\n",
    "print(tab[20])   # prints(0.20)\n",
    "\n",
    "# we can query multiple values at once using numpy arrays.\n",
    "rng = np.random.default_rng(seed=42)   # set up random number generator\n",
    "ages = rng.integers(low=18, high=65, size=100_000, endpoint=True)   # sample 100k ages\n",
    "vals = tab[ages]    # query the table and store values\n",
    "vals"
   ]
  },
  {
   "cell_type": "code",
   "execution_count": 2,
   "metadata": {},
   "outputs": [
    {
     "data": {
      "text/plain": [
       "(array([10416, 10401, 10461,  8272, 10361, 10384,  8445, 10528, 10377,\n",
       "        10355]),\n",
       " array([0.18 , 0.227, 0.274, 0.321, 0.368, 0.415, 0.462, 0.509, 0.556,\n",
       "        0.603, 0.65 ]))"
      ]
     },
     "execution_count": 2,
     "metadata": {},
     "output_type": "execute_result"
    }
   ],
   "source": [
    "np.histogram(vals)"
   ]
  },
  {
   "cell_type": "code",
   "execution_count": null,
   "metadata": {},
   "outputs": [],
   "source": []
  }
 ],
 "metadata": {
  "kernelspec": {
   "display_name": "heavylight",
   "language": "python",
   "name": "python3"
  },
  "language_info": {
   "codemirror_mode": {
    "name": "ipython",
    "version": 3
   },
   "file_extension": ".py",
   "mimetype": "text/x-python",
   "name": "python",
   "nbconvert_exporter": "python",
   "pygments_lexer": "ipython3",
   "version": "3.11.5"
  }
 },
 "nbformat": 4,
 "nbformat_minor": 2
}
