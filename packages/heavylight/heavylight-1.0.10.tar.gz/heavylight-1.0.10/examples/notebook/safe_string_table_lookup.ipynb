{
 "cells": [
  {
   "cell_type": "markdown",
   "metadata": {},
   "source": [
    "# Safe String Lookup\n",
    "\n",
    "Current heavylight.Table functionality (1.0.5) doesn't carry out validation of table keys before use, i.e. it uses the Band functionality.\n",
    "\n",
    "This works fine as long as the lookup values are all in the keys (and the keys are sorted in order), however it fails where keys don't exist.\n",
    "\n",
    "This notebook explores adding a np.isin() test before doing the lookup.\n",
    "\n",
    "This is likely to be relatively expensive, as the key check only really needs to happen at the start (string keys are from data)"
   ]
  },
  {
   "cell_type": "code",
   "execution_count": 1,
   "metadata": {},
   "outputs": [],
   "source": [
    "import numpy as np\n",
    "import numba as nb"
   ]
  },
  {
   "cell_type": "code",
   "execution_count": 2,
   "metadata": {},
   "outputs": [],
   "source": [
    "table_keys = np.array(['A', 'B', 'C', 'D'], dtype='<U2')\n",
    "table_vals = np.array(['AA', 'BB', 'CC', 'DD'], dtype='<U2')\n"
   ]
  },
  {
   "cell_type": "code",
   "execution_count": 3,
   "metadata": {},
   "outputs": [
    {
     "data": {
      "text/plain": [
       "array(['BB', 'CC', 'AA', 'BB', 'DD'], dtype='<U2')"
      ]
     },
     "execution_count": 3,
     "metadata": {},
     "output_type": "execute_result"
    }
   ],
   "source": [
    "xs = np.array(['B', 'C', 'A', 'AB', 'D']) # 'AB' should return an error\n",
    "table_vals[np.searchsorted(table_keys, xs)]"
   ]
  },
  {
   "cell_type": "markdown",
   "metadata": {},
   "source": [
    "Here, 'AB' should return an error, however because 'A' < 'AB' < 'B', searchsorted identifies it as being at index B."
   ]
  },
  {
   "cell_type": "code",
   "execution_count": 4,
   "metadata": {},
   "outputs": [
    {
     "data": {
      "text/plain": [
       "array([ True,  True,  True, False,  True])"
      ]
     },
     "execution_count": 4,
     "metadata": {},
     "output_type": "execute_result"
    }
   ],
   "source": [
    "np.isin(xs, table_keys)"
   ]
  },
  {
   "cell_type": "code",
   "execution_count": 5,
   "metadata": {},
   "outputs": [
    {
     "data": {
      "text/plain": [
       "array(['B', 'AB', 'AB', ..., 'A', 'B', 'D'], dtype='<U2')"
      ]
     },
     "execution_count": 5,
     "metadata": {},
     "output_type": "execute_result"
    }
   ],
   "source": [
    "rng = np.random.default_rng(seed=42)\n",
    "big_xs = rng.choice(xs, 100_000)\n",
    "big_xs"
   ]
  },
  {
   "cell_type": "markdown",
   "metadata": {},
   "source": [
    "## Alternative: numba exact equality testing"
   ]
  },
  {
   "cell_type": "code",
   "execution_count": 6,
   "metadata": {},
   "outputs": [],
   "source": [
    "@nb.njit(nogil=True, parallel=True)\n",
    "def find_exact(keys:np.ndarray, key_array:np.ndarray) -> np.ndarray:\n",
    "    ret_arr = -9999 * np.ones(keys.shape[0], dtype=np.int32)   # start with sentinel\n",
    "    for i in nb.prange(keys.shape[0]):\n",
    "        for j in nb.prange(key_array.shape[0]):\n",
    "            if keys[i] == key_array[j]:\n",
    "                ret_arr[i] = j\n",
    "                # break ## break is commented out as using parallelisation\n",
    "    return ret_arr"
   ]
  },
  {
   "cell_type": "code",
   "execution_count": 7,
   "metadata": {},
   "outputs": [
    {
     "data": {
      "text/plain": [
       "array([    1,     2,     0, -9999,     3])"
      ]
     },
     "execution_count": 7,
     "metadata": {},
     "output_type": "execute_result"
    }
   ],
   "source": [
    "find_exact(xs, table_keys)"
   ]
  },
  {
   "cell_type": "code",
   "execution_count": 8,
   "metadata": {},
   "outputs": [],
   "source": [
    "def find_exact_py(keys:np.ndarray, key_array:np.ndarray) -> np.ndarray:\n",
    "    ret_arr = -9999 * np.ones(keys.shape[0], dtype=np.int32)   # start with sentinel\n",
    "    for i in range(keys.shape[0]):\n",
    "        for j in range(key_array.shape[0]):\n",
    "            if keys[i] == key_array[j]:\n",
    "                ret_arr[i] = j\n",
    "                break\n",
    "    return ret_arr"
   ]
  },
  {
   "cell_type": "code",
   "execution_count": 9,
   "metadata": {},
   "outputs": [
    {
     "data": {
      "text/plain": [
       "array([    1,     2,     0, -9999,     3], dtype=int32)"
      ]
     },
     "execution_count": 9,
     "metadata": {},
     "output_type": "execute_result"
    }
   ],
   "source": [
    "find_exact_py(xs, table_keys)"
   ]
  },
  {
   "cell_type": "code",
   "execution_count": 10,
   "metadata": {},
   "outputs": [
    {
     "name": "stdout",
     "output_type": "stream",
     "text": [
      "8.19 ms ± 24.2 µs per loop (mean ± std. dev. of 7 runs, 100 loops each)\n"
     ]
    }
   ],
   "source": [
    "%timeit find_exact(big_xs, table_keys)"
   ]
  },
  {
   "cell_type": "code",
   "execution_count": 11,
   "metadata": {},
   "outputs": [
    {
     "name": "stdout",
     "output_type": "stream",
     "text": [
      "82 ms ± 141 µs per loop (mean ± std. dev. of 7 runs, 10 loops each)\n"
     ]
    }
   ],
   "source": [
    "%timeit find_exact_py(big_xs, table_keys)"
   ]
  },
  {
   "cell_type": "code",
   "execution_count": 12,
   "metadata": {},
   "outputs": [],
   "source": [
    "def find_exact_ss(keys:np.ndarray, key_array:np.ndarray) -> np.ndarray:\n",
    "    return np.where(np.isin(keys, key_array), \n",
    "                    np.searchsorted(key_array, keys),\n",
    "                    -9999)"
   ]
  },
  {
   "cell_type": "code",
   "execution_count": 13,
   "metadata": {},
   "outputs": [
    {
     "data": {
      "text/plain": [
       "array([    1,     2,     0, -9999,     3])"
      ]
     },
     "execution_count": 13,
     "metadata": {},
     "output_type": "execute_result"
    }
   ],
   "source": [
    "find_exact_ss(xs, table_keys)"
   ]
  },
  {
   "cell_type": "code",
   "execution_count": 14,
   "metadata": {},
   "outputs": [
    {
     "name": "stdout",
     "output_type": "stream",
     "text": [
      "2.65 ms ± 33.1 µs per loop (mean ± std. dev. of 7 runs, 100 loops each)\n"
     ]
    }
   ],
   "source": [
    "%timeit find_exact_ss(big_xs, table_keys)"
   ]
  },
  {
   "cell_type": "code",
   "execution_count": 15,
   "metadata": {},
   "outputs": [],
   "source": [
    "def find_exact_unsafe(keys: np.ndarray, key_array:np.ndarray) -> np.ndarray:\n",
    "    return np.searchsorted(key_array, keys)\n"
   ]
  },
  {
   "cell_type": "code",
   "execution_count": 16,
   "metadata": {},
   "outputs": [
    {
     "name": "stdout",
     "output_type": "stream",
     "text": [
      "1.48 ms ± 8.44 µs per loop (mean ± std. dev. of 7 runs, 1,000 loops each)\n"
     ]
    }
   ],
   "source": [
    "%timeit find_exact_unsafe(big_xs, table_keys)"
   ]
  },
  {
   "cell_type": "code",
   "execution_count": 17,
   "metadata": {},
   "outputs": [
    {
     "data": {
      "text/plain": [
       "array([    1, -9999, -9999, ...,     0,     1,     3])"
      ]
     },
     "execution_count": 17,
     "metadata": {},
     "output_type": "execute_result"
    }
   ],
   "source": [
    "find_exact(big_xs, table_keys)"
   ]
  },
  {
   "cell_type": "code",
   "execution_count": 18,
   "metadata": {},
   "outputs": [
    {
     "data": {
      "text/plain": [
       "UnicodeCharSeq(2)"
      ]
     },
     "execution_count": 18,
     "metadata": {},
     "output_type": "execute_result"
    }
   ],
   "source": [
    "nb.types.UnicodeCharSeq(2)"
   ]
  },
  {
   "cell_type": "code",
   "execution_count": 19,
   "metadata": {},
   "outputs": [],
   "source": [
    "# nb.types.Array(nb.types.UnicodeCharSeq(2))"
   ]
  },
  {
   "cell_type": "code",
   "execution_count": 20,
   "metadata": {},
   "outputs": [
    {
     "name": "stdout",
     "output_type": "stream",
     "text": [
      "find_exact (Array(UnicodeCharSeq(2), 1, 'C', False, aligned=True), Array(UnicodeCharSeq(2), 1, 'C', False, aligned=True))\n",
      "--------------------------------------------------------------------------------\n",
      "# File: /var/folders/n4/gpw_j7653_l052l8phfj8lbr0000gn/T/ipykernel_48347/3325116556.py\n",
      "# --- LINE 1 --- \n",
      "# label 0\n",
      "#   keys = arg(0, name=keys)  :: array([unichr x 2], 1d, C)\n",
      "#   keys_shape.0 = getattr(value=keys, attr=shape)  :: UniTuple(int64 x 1)\n",
      "#   keys_size0.1 = static_getitem(value=keys_shape.0, index=0, index_var=None, fn=<built-in function getitem>)  :: int64\n",
      "#   del keys_shape.0\n",
      "#   key_array = arg(1, name=key_array)  :: array([unichr x 2], 1d, C)\n",
      "\n",
      "@nb.njit(nogil=True, parallel=True)\n",
      "\n",
      "# --- LINE 2 --- \n",
      "\n",
      "def find_exact(keys:np.ndarray, key_array:np.ndarray) -> np.ndarray:\n",
      "\n",
      "    # --- LINE 3 --- \n",
      "    #   id=0[LoopNest(index_variable = parfor_index.9, range = (0, keys_size0.1, 1))]{315: <ir.Block at /var/folders/n4/gpw_j7653_l052l8phfj8lbr0000gn/T/ipykernel_48347/3325116556.py (3)>}Var(parfor_index.9, 3325116556.py:3)\n",
      "    #   del parfor_index.21\n",
      "    #   del keys\n",
      "    #   del key_array\n",
      "    #   del j\n",
      "\n",
      "    ret_arr = -9999 * np.ones(keys.shape[0], dtype=np.int32)   # start with sentinel\n",
      "\n",
      "    # --- LINE 4 --- \n",
      "\n",
      "    for i in nb.prange(keys.shape[0]):\n",
      "\n",
      "        # --- LINE 5 --- \n",
      "\n",
      "        for j in nb.prange(key_array.shape[0]):\n",
      "\n",
      "            # --- LINE 6 --- \n",
      "\n",
      "            if keys[i] == key_array[j]:\n",
      "\n",
      "                # --- LINE 7 --- \n",
      "\n",
      "                ret_arr[i] = j\n",
      "\n",
      "                # --- LINE 8 --- \n",
      "\n",
      "                # break ## break is commented out as using parallelisation\n",
      "\n",
      "    # --- LINE 9 --- \n",
      "    #   $316return_value.1 = cast(value=ret_arr)  :: array(int64, 1d, C)\n",
      "    #   del ret_arr\n",
      "    #   return $316return_value.1\n",
      "\n",
      "    return ret_arr\n",
      "\n",
      "\n",
      "================================================================================\n"
     ]
    }
   ],
   "source": [
    "find_exact.inspect_types()"
   ]
  },
  {
   "cell_type": "code",
   "execution_count": 21,
   "metadata": {},
   "outputs": [],
   "source": [
    "\n",
    "\n",
    "@nb.njit(nogil=True, parallel=True)\n",
    "def find_exact_typed(keys:nb.types.UnicodeCharSeq(2)[:], key_array:nb.types.UnicodeCharSeq(2)[:]) -> np.ndarray:\n",
    "    ret_arr = -9999 * np.ones(keys.shape[0], dtype=np.int32)   # start with sentinel\n",
    "    for i in nb.prange(keys.shape[0]):\n",
    "        for j in nb.prange(key_array.shape[0]):\n",
    "            if keys[i] == key_array[j]:\n",
    "                ret_arr[i] = j\n",
    "                # break ## break is commented out as using parallelisation\n",
    "    return ret_arr"
   ]
  },
  {
   "cell_type": "code",
   "execution_count": 22,
   "metadata": {},
   "outputs": [
    {
     "data": {
      "text/plain": [
       "Array(UnicodeCharSeq(2), 1, 'A', False, aligned=True)"
      ]
     },
     "execution_count": 22,
     "metadata": {},
     "output_type": "execute_result"
    }
   ],
   "source": [
    "nb.types.UnicodeCharSeq(2)[:]"
   ]
  },
  {
   "cell_type": "code",
   "execution_count": 23,
   "metadata": {},
   "outputs": [
    {
     "data": {
      "text/plain": [
       "array([    1, -9999, -9999, ...,     0,     1,     3])"
      ]
     },
     "execution_count": 23,
     "metadata": {},
     "output_type": "execute_result"
    }
   ],
   "source": [
    "find_exact_typed(big_xs, table_keys)"
   ]
  },
  {
   "cell_type": "code",
   "execution_count": 24,
   "metadata": {},
   "outputs": [
    {
     "name": "stdout",
     "output_type": "stream",
     "text": [
      "8.28 ms ± 44.2 µs per loop (mean ± std. dev. of 7 runs, 100 loops each)\n"
     ]
    }
   ],
   "source": [
    "%timeit find_exact_typed(big_xs, table_keys)"
   ]
  },
  {
   "cell_type": "code",
   "execution_count": 25,
   "metadata": {},
   "outputs": [
    {
     "name": "stdout",
     "output_type": "stream",
     "text": [
      "8.29 ms ± 31.4 µs per loop (mean ± std. dev. of 7 runs, 100 loops each)\n"
     ]
    }
   ],
   "source": [
    "%timeit find_exact(big_xs, table_keys)"
   ]
  },
  {
   "cell_type": "markdown",
   "metadata": {},
   "source": [
    "Very little difference (I may not have configured it correctly)"
   ]
  },
  {
   "cell_type": "code",
   "execution_count": 31,
   "metadata": {},
   "outputs": [
    {
     "data": {
      "text/plain": [
       "array([ True, False, False, ...,  True,  True,  True])"
      ]
     },
     "execution_count": 31,
     "metadata": {},
     "output_type": "execute_result"
    }
   ],
   "source": [
    "table_keys[np.searchsorted(table_keys, big_xs)] == big_xs"
   ]
  },
  {
   "cell_type": "code",
   "execution_count": 27,
   "metadata": {},
   "outputs": [
    {
     "data": {
      "text/plain": [
       "array(['B', 'AB', 'AB', ..., 'A', 'B', 'D'], dtype='<U2')"
      ]
     },
     "execution_count": 27,
     "metadata": {},
     "output_type": "execute_result"
    }
   ],
   "source": [
    "big_xs"
   ]
  },
  {
   "cell_type": "code",
   "execution_count": 28,
   "metadata": {},
   "outputs": [
    {
     "data": {
      "text/plain": [
       "array(['A', 'B', 'C', 'D'], dtype='<U2')"
      ]
     },
     "execution_count": 28,
     "metadata": {},
     "output_type": "execute_result"
    }
   ],
   "source": [
    "table_keys"
   ]
  },
  {
   "cell_type": "code",
   "execution_count": null,
   "metadata": {},
   "outputs": [],
   "source": []
  }
 ],
 "metadata": {
  "kernelspec": {
   "display_name": "heavylight",
   "language": "python",
   "name": "python3"
  },
  "language_info": {
   "codemirror_mode": {
    "name": "ipython",
    "version": 3
   },
   "file_extension": ".py",
   "mimetype": "text/x-python",
   "name": "python",
   "nbconvert_exporter": "python",
   "pygments_lexer": "ipython3",
   "version": "3.11.5"
  }
 },
 "nbformat": 4,
 "nbformat_minor": 2
}
