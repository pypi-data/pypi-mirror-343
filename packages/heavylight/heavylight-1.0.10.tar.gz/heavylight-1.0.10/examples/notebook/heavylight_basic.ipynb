{
 "cells": [
  {
   "cell_type": "markdown",
   "id": "62a375d3-e011-4f97-863f-399660e3a3d0",
   "metadata": {},
   "source": [
    "# Heavylight example notebook"
   ]
  },
  {
   "cell_type": "code",
   "execution_count": 1,
   "id": "2c0620e8-f047-4c82-b924-a8a88f6efef7",
   "metadata": {
    "tags": []
   },
   "outputs": [],
   "source": [
    "from heavylight import Model"
   ]
  },
  {
   "cell_type": "markdown",
   "id": "223844b8-0e8f-4fd6-b8e4-d72a3bd3f3c8",
   "metadata": {},
   "source": [
    "Define the model as a class - note that it doesn't need to be defined in terms of `t` for time, but this is fairly standard"
   ]
  },
  {
   "cell_type": "code",
   "execution_count": 2,
   "id": "2fa05b8f-c670-43c8-8a2a-dbe050661c64",
   "metadata": {
    "tags": []
   },
   "outputs": [],
   "source": [
    "class Annuity(Model):\n",
    "    def t(self, t):\n",
    "        return t\n",
    "\n",
    "    def expected_claim(self, t):\n",
    "        return self.number_alive(t) * self.data[\"annuity_per_period\"]\n",
    "\n",
    "    def number_alive(self, t):\n",
    "        if t == 0:\n",
    "            return self.data[\"initial_policies\"]\n",
    "        else:\n",
    "            return self.number_alive(t - 1) - self.deaths(t - 1)\n",
    "    \n",
    "    def deaths(self, t):\n",
    "        return self.number_alive(t) * self.mortality_rate(t)\n",
    "\n",
    "    def mortality_rate(self, t):\n",
    "        return self.basis[\"q_x\"](t)"
   ]
  },
  {
   "cell_type": "markdown",
   "id": "72ed411e-5706-4fdb-ac04-a395fd3b522a",
   "metadata": {},
   "source": [
    "Define the data for the model, as a python dictionary (can use any storage object)"
   ]
  },
  {
   "cell_type": "code",
   "execution_count": 3,
   "id": "a5497421-ce9d-44b7-991f-df61dc3a2db3",
   "metadata": {
    "tags": []
   },
   "outputs": [],
   "source": [
    "policy_data = {\n",
    "    \"initial_policies\": 10,\n",
    "    \"annuity_per_period\": 55,\n",
    "}"
   ]
  },
  {
   "cell_type": "markdown",
   "id": "bfa9f0c9-1c62-423d-973f-ff57a9269182",
   "metadata": {},
   "source": [
    "Rather than using a table of mortality rates, we could define a function"
   ]
  },
  {
   "cell_type": "code",
   "execution_count": 4,
   "id": "46737aba-0264-4795-8edb-1ba95ff25598",
   "metadata": {
    "tags": []
   },
   "outputs": [],
   "source": [
    "def q_x(t):\n",
    "    return 0.02*2.64**(0.04 * (t + 30)) + 0.002"
   ]
  },
  {
   "cell_type": "markdown",
   "id": "983ff576-cd33-44f9-b207-567f2f6d6d4f",
   "metadata": {},
   "source": [
    "Store this function in a basis dictionary so we can pass into the model"
   ]
  },
  {
   "cell_type": "code",
   "execution_count": 5,
   "id": "f6f4aa4a-6d10-467e-a715-a0cdbf84a7b9",
   "metadata": {
    "tags": []
   },
   "outputs": [],
   "source": [
    "basis = {\n",
    "    \"q_x\": q_x,\n",
    "}"
   ]
  },
  {
   "cell_type": "markdown",
   "id": "ca5ed51e-fcb1-4329-bff7-d7e75c07962a",
   "metadata": {},
   "source": [
    "Create an instance of the model, passing in the data and basis."
   ]
  },
  {
   "cell_type": "code",
   "execution_count": 6,
   "id": "6684b54a-fafd-4c28-bae2-6c9196d24064",
   "metadata": {
    "tags": []
   },
   "outputs": [
    {
     "name": "stderr",
     "output_type": "stream",
     "text": [
      "/Users/lewisfogden/Dev/heavylight/src/heavylight/heavylight.py:78: UserWarning: Warning: `do_run` will be removed in a future version, use `proj_len` to control projection\n",
      "  warnings.warn(\"Warning: `do_run` will be removed in a future version, use `proj_len` to control projection\")\n"
     ]
    }
   ],
   "source": [
    "model = Annuity(data = policy_data,\n",
    "                basis = basis,\n",
    "                do_run = True,\n",
    "                proj_len = 40,\n",
    "                )"
   ]
  },
  {
   "cell_type": "markdown",
   "id": "fe23fa8c-c58b-4991-b4d9-2af0eb2b15ca",
   "metadata": {},
   "source": [
    "We can look-up individual results of the model directly"
   ]
  },
  {
   "cell_type": "code",
   "execution_count": 7,
   "id": "2460b718-9c85-4cae-8779-b42d6031726e",
   "metadata": {
    "tags": []
   },
   "outputs": [
    {
     "data": {
      "text/plain": [
       "379.7484060121289"
      ]
     },
     "execution_count": 7,
     "metadata": {},
     "output_type": "execute_result"
    }
   ],
   "source": [
    "model.expected_claim(5)"
   ]
  },
  {
   "cell_type": "markdown",
   "id": "84d43a47-d7e9-4893-82f3-02c894a10b81",
   "metadata": {},
   "source": [
    "Pull all single parameter functions into a dataframe"
   ]
  },
  {
   "cell_type": "code",
   "execution_count": 8,
   "id": "77c5845a-a119-4476-aa47-f0403c1450c8",
   "metadata": {
    "tags": []
   },
   "outputs": [
    {
     "data": {
      "text/html": [
       "<div>\n",
       "<style scoped>\n",
       "    .dataframe tbody tr th:only-of-type {\n",
       "        vertical-align: middle;\n",
       "    }\n",
       "\n",
       "    .dataframe tbody tr th {\n",
       "        vertical-align: top;\n",
       "    }\n",
       "\n",
       "    .dataframe thead th {\n",
       "        text-align: right;\n",
       "    }\n",
       "</style>\n",
       "<table border=\"1\" class=\"dataframe\">\n",
       "  <thead>\n",
       "    <tr style=\"text-align: right;\">\n",
       "      <th></th>\n",
       "      <th>t</th>\n",
       "      <th>deaths</th>\n",
       "      <th>expected_claim</th>\n",
       "      <th>mortality_rate</th>\n",
       "      <th>number_alive</th>\n",
       "    </tr>\n",
       "  </thead>\n",
       "  <tbody>\n",
       "    <tr>\n",
       "      <th>0</th>\n",
       "      <td>0</td>\n",
       "      <td>0.661143</td>\n",
       "      <td>550.000000</td>\n",
       "      <td>0.066114</td>\n",
       "      <td>10.000000</td>\n",
       "    </tr>\n",
       "    <tr>\n",
       "      <th>1</th>\n",
       "      <td>1</td>\n",
       "      <td>0.641139</td>\n",
       "      <td>513.637151</td>\n",
       "      <td>0.068653</td>\n",
       "      <td>9.338857</td>\n",
       "    </tr>\n",
       "    <tr>\n",
       "      <th>2</th>\n",
       "      <td>2</td>\n",
       "      <td>0.620078</td>\n",
       "      <td>478.374486</td>\n",
       "      <td>0.071292</td>\n",
       "      <td>8.697718</td>\n",
       "    </tr>\n",
       "    <tr>\n",
       "      <th>3</th>\n",
       "      <td>3</td>\n",
       "      <td>0.598033</td>\n",
       "      <td>444.270217</td>\n",
       "      <td>0.074036</td>\n",
       "      <td>8.077640</td>\n",
       "    </tr>\n",
       "    <tr>\n",
       "      <th>4</th>\n",
       "      <td>4</td>\n",
       "      <td>0.575091</td>\n",
       "      <td>411.378405</td>\n",
       "      <td>0.076888</td>\n",
       "      <td>7.479607</td>\n",
       "    </tr>\n",
       "  </tbody>\n",
       "</table>\n",
       "</div>"
      ],
      "text/plain": [
       "   t    deaths  expected_claim  mortality_rate  number_alive\n",
       "0  0  0.661143      550.000000        0.066114     10.000000\n",
       "1  1  0.641139      513.637151        0.068653      9.338857\n",
       "2  2  0.620078      478.374486        0.071292      8.697718\n",
       "3  3  0.598033      444.270217        0.074036      8.077640\n",
       "4  4  0.575091      411.378405        0.076888      7.479607"
      ]
     },
     "execution_count": 8,
     "metadata": {},
     "output_type": "execute_result"
    }
   ],
   "source": [
    "model_cashflows = model.df\n",
    "model_cashflows.head()"
   ]
  },
  {
   "cell_type": "code",
   "execution_count": 9,
   "id": "5c5e9e0b",
   "metadata": {},
   "outputs": [
    {
     "name": "stdout",
     "output_type": "stream",
     "text": [
      "|    |   t |   deaths |   expected_claim |   mortality_rate |   number_alive |\n",
      "|---:|----:|---------:|-----------------:|-----------------:|---------------:|\n",
      "|  0 |   0 | 0.661143 |          550     |        0.0661143 |       10       |\n",
      "|  1 |   1 | 0.641139 |          513.637 |        0.0686529 |        9.33886 |\n",
      "|  2 |   2 | 0.620078 |          478.374 |        0.071292  |        8.69772 |\n",
      "|  3 |   3 | 0.598033 |          444.27  |        0.0740356 |        8.07764 |\n",
      "|  4 |   4 | 0.575091 |          411.378 |        0.0768878 |        7.47961 |\n"
     ]
    }
   ],
   "source": [
    "print(model_cashflows.head(5).to_markdown())"
   ]
  },
  {
   "cell_type": "markdown",
   "id": "38da052e-6a1f-4075-9621-da401e9561ac",
   "metadata": {},
   "source": [
    "Plot the key output"
   ]
  },
  {
   "cell_type": "code",
   "execution_count": 10,
   "id": "ee35f832-25c3-4d16-abed-23704666ae45",
   "metadata": {
    "tags": []
   },
   "outputs": [
    {
     "data": {
      "image/png": "[encoded data removed]",
      "text/plain": [
       "<Figure size 640x480 with 1 Axes>"
      ]
     },
     "metadata": {},
     "output_type": "display_data"
    }
   ],
   "source": [
    "model_cashflows.plot(x=\"t\", y=\"expected_claim\");"
   ]
  },
  {
   "cell_type": "code",
   "execution_count": 11,
   "id": "60355de2-d475-40d7-9cef-119abbd6507a",
   "metadata": {
    "tags": []
   },
   "outputs": [
    {
     "data": {
      "image/png": "[encoded data removed]",
      "text/plain": [
       "<Figure size 640x480 with 1 Axes>"
      ]
     },
     "metadata": {},
     "output_type": "display_data"
    }
   ],
   "source": [
    "model_cashflows.plot(x=\"t\", y=\"mortality_rate\");"
   ]
  },
  {
   "cell_type": "code",
   "execution_count": 12,
   "id": "71f0a83e-9430-4cc3-8675-254611e60fe7",
   "metadata": {
    "tags": []
   },
   "outputs": [],
   "source": [
    "## Calculate the present value"
   ]
  },
  {
   "cell_type": "code",
   "execution_count": 13,
   "id": "eefd51a4-9050-4e45-a1e8-77206cafe9d0",
   "metadata": {
    "tags": []
   },
   "outputs": [],
   "source": [
    "def npv(cashflows, rate):\n",
    "    return sum(cashflow / ((1 + rate) ** t) for t, cashflow in enumerate(cashflows, 1))"
   ]
  },
  {
   "cell_type": "code",
   "execution_count": 14,
   "id": "cd8ff8bb-1674-4f8c-809a-540456c571e6",
   "metadata": {
    "tags": []
   },
   "outputs": [
    {
     "data": {
      "text/plain": [
       "4364.808437169173"
      ]
     },
     "execution_count": 14,
     "metadata": {},
     "output_type": "execute_result"
    }
   ],
   "source": [
    "npv(model_cashflows[\"expected_claim\"], 0.04)"
   ]
  },
  {
   "cell_type": "markdown",
   "id": "2b745b14-2426-48cb-97b7-5b5343da2dd3",
   "metadata": {},
   "source": [
    "Quick check that the NPV formula is sensible"
   ]
  },
  {
   "cell_type": "code",
   "execution_count": 15,
   "id": "537d294e-184c-414c-b927-84d53eb3ec92",
   "metadata": {
    "tags": []
   },
   "outputs": [
    {
     "data": {
      "text/plain": [
       "5963.772020370224"
      ]
     },
     "execution_count": 15,
     "metadata": {},
     "output_type": "execute_result"
    }
   ],
   "source": [
    "npv(model_cashflows[\"expected_claim\"], 0)"
   ]
  },
  {
   "cell_type": "code",
   "execution_count": 16,
   "id": "aabb14a3-77c9-41e6-a302-6e9955ccbd2c",
   "metadata": {
    "tags": []
   },
   "outputs": [
    {
     "data": {
      "text/plain": [
       "5963.772020370224"
      ]
     },
     "execution_count": 16,
     "metadata": {},
     "output_type": "execute_result"
    }
   ],
   "source": [
    "model_cashflows.expected_claim.sum()"
   ]
  },
  {
   "cell_type": "code",
   "execution_count": null,
   "id": "b6805aec-90ff-49fa-b8a7-bd1dcc737edd",
   "metadata": {},
   "outputs": [],
   "source": []
  }
 ],
 "metadata": {
  "kernelspec": {
   "display_name": "Python 3 (ipykernel)",
   "language": "python",
   "name": "python3"
  },
  "language_info": {
   "codemirror_mode": {
    "name": "ipython",
    "version": 3
   },
   "file_extension": ".py",
   "mimetype": "text/x-python",
   "name": "python",
   "nbconvert_exporter": "python",
   "pygments_lexer": "ipython3",
   "version": "3.11.5"
  }
 },
 "nbformat": 4,
 "nbformat_minor": 5
}
