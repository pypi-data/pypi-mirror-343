{
 "cells": [
  {
   "cell_type": "code",
   "execution_count": 19,
   "id": "0dd23882-5116-426c-bf00-00d6ae97594a",
   "metadata": {
    "tags": []
   },
   "outputs": [],
   "source": [
    "# Create a table"
   ]
  },
  {
   "cell_type": "code",
   "execution_count": 1,
   "id": "21f519af-6a0a-4d17-84a8-5129968278ea",
   "metadata": {
    "tags": []
   },
   "outputs": [],
   "source": [
    "import pandas as pd\n",
    "import numpy as np"
   ]
  },
  {
   "cell_type": "code",
   "execution_count": 2,
   "id": "6ab56227-8814-4e0a-969d-91174c8576c9",
   "metadata": {
    "tags": []
   },
   "outputs": [],
   "source": [
    "def q_x(t):\n",
    "    return 0.02*2.64**(0.04 * (t + 30)) + 0.002"
   ]
  },
  {
   "cell_type": "code",
   "execution_count": 3,
   "id": "3232999b-691d-48be-9e87-45d74fb91f04",
   "metadata": {
    "tags": []
   },
   "outputs": [
    {
     "data": {
      "text/plain": [
       "array([ 0,  1,  2,  3,  4,  5,  6,  7,  8,  9, 10, 11, 12, 13, 14, 15, 16,\n",
       "       17, 18, 19, 20, 21, 22, 23, 24, 25, 26, 27, 28, 29, 30, 31, 32, 33,\n",
       "       34, 35, 36, 37, 38, 39, 40, 41, 42, 43, 44, 45, 46, 47, 48, 49, 50])"
      ]
     },
     "execution_count": 3,
     "metadata": {},
     "output_type": "execute_result"
    }
   ],
   "source": [
    "x = np.arange(0, 51)\n",
    "x"
   ]
  },
  {
   "cell_type": "code",
   "execution_count": 4,
   "id": "a73b5d75-f0f1-4c4c-8dcc-68bcf3e30444",
   "metadata": {
    "tags": []
   },
   "outputs": [
    {
     "data": {
      "text/html": [
       "<div>\n",
       "<style scoped>\n",
       "    .dataframe tbody tr th:only-of-type {\n",
       "        vertical-align: middle;\n",
       "    }\n",
       "\n",
       "    .dataframe tbody tr th {\n",
       "        vertical-align: top;\n",
       "    }\n",
       "\n",
       "    .dataframe thead th {\n",
       "        text-align: right;\n",
       "    }\n",
       "</style>\n",
       "<table border=\"1\" class=\"dataframe\">\n",
       "  <thead>\n",
       "    <tr style=\"text-align: right;\">\n",
       "      <th></th>\n",
       "      <th>x|int</th>\n",
       "    </tr>\n",
       "  </thead>\n",
       "  <tbody>\n",
       "    <tr>\n",
       "      <th>46</th>\n",
       "      <td>46</td>\n",
       "    </tr>\n",
       "    <tr>\n",
       "      <th>47</th>\n",
       "      <td>47</td>\n",
       "    </tr>\n",
       "    <tr>\n",
       "      <th>48</th>\n",
       "      <td>48</td>\n",
       "    </tr>\n",
       "    <tr>\n",
       "      <th>49</th>\n",
       "      <td>49</td>\n",
       "    </tr>\n",
       "    <tr>\n",
       "      <th>50</th>\n",
       "      <td>50</td>\n",
       "    </tr>\n",
       "  </tbody>\n",
       "</table>\n",
       "</div>"
      ],
      "text/plain": [
       "    x|int\n",
       "46     46\n",
       "47     47\n",
       "48     48\n",
       "49     49\n",
       "50     50"
      ]
     },
     "execution_count": 4,
     "metadata": {},
     "output_type": "execute_result"
    }
   ],
   "source": [
    "df = pd.DataFrame({\"x|int\":x})\n",
    "df.tail()"
   ]
  },
  {
   "cell_type": "code",
   "execution_count": 6,
   "id": "924f1e36-2737-4aa1-bfbf-d7291bf67a43",
   "metadata": {
    "tags": []
   },
   "outputs": [],
   "source": [
    "df[\"value|float\"] = df[\"x|int\"].map(q_x)"
   ]
  },
  {
   "cell_type": "code",
   "execution_count": 7,
   "id": "50cb659e-db88-4f90-a58c-aab3eadb2bf3",
   "metadata": {
    "tags": []
   },
   "outputs": [
    {
     "data": {
      "text/html": [
       "<div>\n",
       "<style scoped>\n",
       "    .dataframe tbody tr th:only-of-type {\n",
       "        vertical-align: middle;\n",
       "    }\n",
       "\n",
       "    .dataframe tbody tr th {\n",
       "        vertical-align: top;\n",
       "    }\n",
       "\n",
       "    .dataframe thead th {\n",
       "        text-align: right;\n",
       "    }\n",
       "</style>\n",
       "<table border=\"1\" class=\"dataframe\">\n",
       "  <thead>\n",
       "    <tr style=\"text-align: right;\">\n",
       "      <th></th>\n",
       "      <th>x|int</th>\n",
       "      <th>value|float</th>\n",
       "    </tr>\n",
       "  </thead>\n",
       "  <tbody>\n",
       "    <tr>\n",
       "      <th>46</th>\n",
       "      <td>46</td>\n",
       "      <td>0.384566</td>\n",
       "    </tr>\n",
       "    <tr>\n",
       "      <th>47</th>\n",
       "      <td>47</td>\n",
       "      <td>0.399713</td>\n",
       "    </tr>\n",
       "    <tr>\n",
       "      <th>48</th>\n",
       "      <td>48</td>\n",
       "      <td>0.415461</td>\n",
       "    </tr>\n",
       "    <tr>\n",
       "      <th>49</th>\n",
       "      <td>49</td>\n",
       "      <td>0.431832</td>\n",
       "    </tr>\n",
       "    <tr>\n",
       "      <th>50</th>\n",
       "      <td>50</td>\n",
       "      <td>0.448851</td>\n",
       "    </tr>\n",
       "  </tbody>\n",
       "</table>\n",
       "</div>"
      ],
      "text/plain": [
       "    x|int  value|float\n",
       "46     46     0.384566\n",
       "47     47     0.399713\n",
       "48     48     0.415461\n",
       "49     49     0.431832\n",
       "50     50     0.448851"
      ]
     },
     "execution_count": 7,
     "metadata": {},
     "output_type": "execute_result"
    }
   ],
   "source": [
    "df.tail()"
   ]
  },
  {
   "cell_type": "code",
   "execution_count": 7,
   "id": "4d1376b6-a8aa-4712-b6aa-bba8904efc3c",
   "metadata": {
    "tags": []
   },
   "outputs": [],
   "source": [
    "df.to_csv(\"sample_q_x_table.csv\", index=False, encoding=\"UTF8\")"
   ]
  },
  {
   "cell_type": "markdown",
   "id": "1278ca45-fe8d-4ef0-9b5a-cd709146ace8",
   "metadata": {},
   "source": [
    "# Check it works"
   ]
  },
  {
   "cell_type": "code",
   "execution_count": 8,
   "id": "c002596d-dc16-4bfd-9e3a-e79fc67565bb",
   "metadata": {
    "tags": []
   },
   "outputs": [],
   "source": [
    "from heavylight import Table"
   ]
  },
  {
   "cell_type": "code",
   "execution_count": 9,
   "id": "27f75f42-26d4-469e-b8dd-fba6b3e2f4df",
   "metadata": {
    "tags": []
   },
   "outputs": [],
   "source": [
    "table = Table.from_csv(\"sample_q_x_table.csv\")"
   ]
  },
  {
   "cell_type": "code",
   "execution_count": 10,
   "id": "24c137ed-d834-4b44-b0eb-44a2462893ae",
   "metadata": {
    "tags": []
   },
   "outputs": [
    {
     "data": {
      "text/plain": [
       "<heavylight.Table at 0x2a2fe826d10>"
      ]
     },
     "execution_count": 10,
     "metadata": {},
     "output_type": "execute_result"
    }
   ],
   "source": [
    "table"
   ]
  },
  {
   "cell_type": "markdown",
   "id": "5209faea-7be6-4fc9-aa68-0dae549864ef",
   "metadata": {},
   "source": [
    "Can use a call `table(x)` or an index lookup `table[x]` to get the value"
   ]
  },
  {
   "cell_type": "code",
   "execution_count": 17,
   "id": "ac03f311-8139-4595-a9de-8163f0ebfd7f",
   "metadata": {
    "tags": []
   },
   "outputs": [
    {
     "data": {
      "text/plain": [
       "0.2075319866730252"
      ]
     },
     "execution_count": 17,
     "metadata": {},
     "output_type": "execute_result"
    }
   ],
   "source": [
    "table(30)"
   ]
  },
  {
   "cell_type": "code",
   "execution_count": 18,
   "id": "54cb0aa7-5834-42bc-9e06-9be04e0c7341",
   "metadata": {
    "tags": []
   },
   "outputs": [
    {
     "data": {
      "text/plain": [
       "0.2075319866730252"
      ]
     },
     "execution_count": 18,
     "metadata": {},
     "output_type": "execute_result"
    }
   ],
   "source": [
    "table[30]"
   ]
  },
  {
   "cell_type": "code",
   "execution_count": 11,
   "id": "2b210014-6996-4ab5-a6f1-cec88439dbc9",
   "metadata": {
    "tags": []
   },
   "outputs": [
    {
     "data": {
      "text/plain": [
       "0.20753198667302525"
      ]
     },
     "execution_count": 11,
     "metadata": {},
     "output_type": "execute_result"
    }
   ],
   "source": [
    "q_x(30)"
   ]
  },
  {
   "cell_type": "code",
   "execution_count": 14,
   "id": "45fc9f32-8869-4e42-a44e-0cffd9088f51",
   "metadata": {
    "tags": []
   },
   "outputs": [],
   "source": [
    "df[\"from_table\"] = df[\"x|int\"].map(table)\n",
    "df[\"error\"] = df[\"from_table\"] - df[\"value|float\"]"
   ]
  },
  {
   "cell_type": "code",
   "execution_count": 16,
   "id": "65a88d8b-63d0-4e64-945e-c3664bedd526",
   "metadata": {
    "tags": []
   },
   "outputs": [
    {
     "data": {
      "text/plain": [
       "1.817990202823694e-15"
      ]
     },
     "execution_count": 16,
     "metadata": {},
     "output_type": "execute_result"
    }
   ],
   "source": [
    "df[\"error\"].abs().sum()"
   ]
  },
  {
   "cell_type": "code",
   "execution_count": null,
   "id": "bcb3d271-89d9-45bd-b7c1-15c9675453ed",
   "metadata": {},
   "outputs": [],
   "source": []
  }
 ],
 "metadata": {
  "kernelspec": {
   "display_name": "Python 3 (ipykernel)",
   "language": "python",
   "name": "python3"
  },
  "language_info": {
   "codemirror_mode": {
    "name": "ipython",
    "version": 3
   },
   "file_extension": ".py",
   "mimetype": "text/x-python",
   "name": "python",
   "nbconvert_exporter": "python",
   "pygments_lexer": "ipython3",
   "version": "3.12.2"
  }
 },
 "nbformat": 4,
 "nbformat_minor": 5
}
