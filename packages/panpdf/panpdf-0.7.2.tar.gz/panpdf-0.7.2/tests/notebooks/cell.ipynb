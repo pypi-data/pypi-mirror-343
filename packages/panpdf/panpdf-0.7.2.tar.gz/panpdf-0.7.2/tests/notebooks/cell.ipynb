{
 "cells": [
  {
   "cell_type": "code",
   "execution_count": 1,
   "metadata": {},
   "outputs": [],
   "source": [
    "import matplotlib.pyplot as plt\n",
    "import matplotlib_inline.backend_inline\n",
    "from nbstore import set_formatter\n",
    "\n",
    "matplotlib_inline.backend_inline.set_matplotlib_formats(\"retina\")\n",
    "set_formatter(\"matplotlib\", \"pgf\")"
   ]
  },
  {
   "cell_type": "code",
   "execution_count": 2,
   "metadata": {},
   "outputs": [
    {
     "data": {
      "text/plain": [
       "[<matplotlib.lines.Line2D at 0x7fa2a69c6d50>]"
      ]
     },
     "execution_count": 2,
     "metadata": {},
     "output_type": "execute_result"
    },
    {
     "data": {
      "image/png": "[encoded data removed]",
      "text/plain": [
       "%% Creator: Matplotlib, PGF backend\n",
       "%%\n",
       "%% To include the figure in your LaTeX document, write\n",
       "%%   \\input{<filename>.pgf}\n",
       "%%\n",
       "%% Make sure the required packages are loaded in your preamble\n",
       "%%   \\usepackage{pgf}\n",
       "%%\n",
       "%% Also ensure that all the required font packages are loaded; for instance,\n",
       "%% the lmodern package is sometimes necessary when using math font.\n",
       "%%   \\usepackage{lmodern}\n",
       "%%\n",
       "%% Figures using additional raster images can only be included by \\input if\n",
       "%% they are in the same directory as the main LaTeX file. For loading figures\n",
       "%% from other directories you can use the `import` package\n",
       "%%   \\usepackage{import}\n",
       "%%\n",
       "%% and then include the figures with\n",
       "%%   \\import{<path to file>}{<filename>.pgf}\n",
       "%%\n",
       "%% Matplotlib used the following preamble\n",
       "%%   \\def\\mathdefault#1{#1}\n",
       "%%   \\everymath=\\expandafter{\\the\\everymath\\displaystyle}\n",
       "%%   \\IfFileExists{scrextend.sty}{\n",
       "%%     \\usepackage[fontsize=10.000000pt]{scrextend}\n",
       "%%   }{\n",
       "%%     \\renewcommand{\\normalsize}{\\fontsize{10.000000}{12.000000}\\selectfont}\n",
       "%%     \\normalsize\n",
       "%%   }\n",
       "%%   \n",
       "%%   \\ifdefined\\pdftexversion\\else  % non-pdftex case.\n",
       "%%     \\usepackage{fontspec}\n",
       "%%     \\setmainfont{DejaVuSerif.ttf}[Path=\\detokenize{/workspaces/panpdf/.venv/lib/python3.13/site-packages/matplotlib/mpl-data/fonts/ttf/}]\n",
       "%%     \\setsansfont{DejaVuSans.ttf}[Path=\\detokenize{/workspaces/panpdf/.venv/lib/python3.13/site-packages/matplotlib/mpl-data/fonts/ttf/}]\n",
       "%%     \\setmonofont{DejaVuSansMono.ttf}[Path=\\detokenize{/workspaces/panpdf/.venv/lib/python3.13/site-packages/matplotlib/mpl-data/fonts/ttf/}]\n",
       "%%   \\fi\n",
       "%%   \\makeatletter\\@ifpackageloaded{underscore}{}{\\usepackage[strings]{underscore}}\\makeatother\n",
       "%%\n",
       "\\begingroup%\n",
       "\\makeatletter%\n",
       "\\begin{pgfpicture}%\n",
       "\\pgfpathrectangle{\\pgfpointorigin}{\\pgfqpoint{2.083598in}{1.219397in}}%\n",
       "\\pgfusepath{use as bounding box, clip}%\n",
       "\\begin{pgfscope}%\n",
       "\\pgfsetbuttcap%\n",
       "\\pgfsetmiterjoin%\n",
       "\\definecolor{currentfill}{rgb}{1.000000,1.000000,1.000000}%\n",
       "\\pgfsetfillcolor{currentfill}%\n",
       "\\pgfsetlinewidth{0.000000pt}%\n",
       "\\definecolor{currentstroke}{rgb}{1.000000,1.000000,1.000000}%\n",
       "\\pgfsetstrokecolor{currentstroke}%\n",
       "\\pgfsetdash{}{0pt}%\n",
       "\\pgfpathmoveto{\\pgfqpoint{0.000000in}{0.000000in}}%\n",
       "\\pgfpathlineto{\\pgfqpoint{2.083598in}{0.000000in}}%\n",
       "\\pgfpathlineto{\\pgfqpoint{2.083598in}{1.219397in}}%\n",
       "\\pgfpathlineto{\\pgfqpoint{0.000000in}{1.219397in}}%\n",
       "\\pgfpathlineto{\\pgfqpoint{0.000000in}{0.000000in}}%\n",
       "\\pgfpathclose%\n",
       "\\pgfusepath{fill}%\n",
       "\\end{pgfscope}%\n",
       "\\begin{pgfscope}%\n",
       "\\pgfsetbuttcap%\n",
       "\\pgfsetmiterjoin%\n",
       "\\definecolor{currentfill}{rgb}{1.000000,1.000000,1.000000}%\n",
       "\\pgfsetfillcolor{currentfill}%\n",
       "\\pgfsetlinewidth{0.000000pt}%\n",
       "\\definecolor{currentstroke}{rgb}{0.000000,0.000000,0.000000}%\n",
       "\\pgfsetstrokecolor{currentstroke}%\n",
       "\\pgfsetstrokeopacity{0.000000}%\n",
       "\\pgfsetdash{}{0pt}%\n",
       "\\pgfpathmoveto{\\pgfqpoint{0.393612in}{0.331635in}}%\n",
       "\\pgfpathlineto{\\pgfqpoint{1.943612in}{0.331635in}}%\n",
       "\\pgfpathlineto{\\pgfqpoint{1.943612in}{1.101635in}}%\n",
       "\\pgfpathlineto{\\pgfqpoint{0.393612in}{1.101635in}}%\n",
       "\\pgfpathlineto{\\pgfqpoint{0.393612in}{0.331635in}}%\n",
       "\\pgfpathclose%\n",
       "\\pgfusepath{fill}%\n",
       "\\end{pgfscope}%\n",
       "\\begin{pgfscope}%\n",
       "\\pgfsetbuttcap%\n",
       "\\pgfsetroundjoin%\n",
       "\\definecolor{currentfill}{rgb}{0.000000,0.000000,0.000000}%\n",
       "\\pgfsetfillcolor{currentfill}%\n",
       "\\pgfsetlinewidth{0.803000pt}%\n",
       "\\definecolor{currentstroke}{rgb}{0.000000,0.000000,0.000000}%\n",
       "\\pgfsetstrokecolor{currentstroke}%\n",
       "\\pgfsetdash{}{0pt}%\n",
       "\\pgfsys@defobject{currentmarker}{\\pgfqpoint{0.000000in}{-0.048611in}}{\\pgfqpoint{0.000000in}{0.000000in}}{%\n",
       "\\pgfpathmoveto{\\pgfqpoint{0.000000in}{0.000000in}}%\n",
       "\\pgfpathlineto{\\pgfqpoint{0.000000in}{-0.048611in}}%\n",
       "\\pgfusepath{stroke,fill}%\n",
       "}%\n",
       "\\begin{pgfscope}%\n",
       "\\pgfsys@transformshift{0.464067in}{0.331635in}%\n",
       "\\pgfsys@useobject{currentmarker}{}%\n",
       "\\end{pgfscope}%\n",
       "\\end{pgfscope}%\n",
       "\\begin{pgfscope}%\n",
       "\\definecolor{textcolor}{rgb}{0.000000,0.000000,0.000000}%\n",
       "\\pgfsetstrokecolor{textcolor}%\n",
       "\\pgfsetfillcolor{textcolor}%\n",
       "\\pgftext[x=0.464067in,y=0.234413in,,top]{\\color{textcolor}{\\sffamily\\fontsize{10.000000}{12.000000}\\selectfont\\catcode`\\^=\\active\\def^{\\ifmmode\\sp\\else\\^{}\\fi}\\catcode`\\%=\\active\\def%{\\%}0.0}}%\n",
       "\\end{pgfscope}%\n",
       "\\begin{pgfscope}%\n",
       "\\pgfsetbuttcap%\n",
       "\\pgfsetroundjoin%\n",
       "\\definecolor{currentfill}{rgb}{0.000000,0.000000,0.000000}%\n",
       "\\pgfsetfillcolor{currentfill}%\n",
       "\\pgfsetlinewidth{0.803000pt}%\n",
       "\\definecolor{currentstroke}{rgb}{0.000000,0.000000,0.000000}%\n",
       "\\pgfsetstrokecolor{currentstroke}%\n",
       "\\pgfsetdash{}{0pt}%\n",
       "\\pgfsys@defobject{currentmarker}{\\pgfqpoint{0.000000in}{-0.048611in}}{\\pgfqpoint{0.000000in}{0.000000in}}{%\n",
       "\\pgfpathmoveto{\\pgfqpoint{0.000000in}{0.000000in}}%\n",
       "\\pgfpathlineto{\\pgfqpoint{0.000000in}{-0.048611in}}%\n",
       "\\pgfusepath{stroke,fill}%\n",
       "}%\n",
       "\\begin{pgfscope}%\n",
       "\\pgfsys@transformshift{1.168613in}{0.331635in}%\n",
       "\\pgfsys@useobject{currentmarker}{}%\n",
       "\\end{pgfscope}%\n",
       "\\end{pgfscope}%\n",
       "\\begin{pgfscope}%\n",
       "\\definecolor{textcolor}{rgb}{0.000000,0.000000,0.000000}%\n",
       "\\pgfsetstrokecolor{textcolor}%\n",
       "\\pgfsetfillcolor{textcolor}%\n",
       "\\pgftext[x=1.168613in,y=0.234413in,,top]{\\color{textcolor}{\\sffamily\\fontsize{10.000000}{12.000000}\\selectfont\\catcode`\\^=\\active\\def^{\\ifmmode\\sp\\else\\^{}\\fi}\\catcode`\\%=\\active\\def%{\\%}0.5}}%\n",
       "\\end{pgfscope}%\n",
       "\\begin{pgfscope}%\n",
       "\\pgfsetbuttcap%\n",
       "\\pgfsetroundjoin%\n",
       "\\definecolor{currentfill}{rgb}{0.000000,0.000000,0.000000}%\n",
       "\\pgfsetfillcolor{currentfill}%\n",
       "\\pgfsetlinewidth{0.803000pt}%\n",
       "\\definecolor{currentstroke}{rgb}{0.000000,0.000000,0.000000}%\n",
       "\\pgfsetstrokecolor{currentstroke}%\n",
       "\\pgfsetdash{}{0pt}%\n",
       "\\pgfsys@defobject{currentmarker}{\\pgfqpoint{0.000000in}{-0.048611in}}{\\pgfqpoint{0.000000in}{0.000000in}}{%\n",
       "\\pgfpathmoveto{\\pgfqpoint{0.000000in}{0.000000in}}%\n",
       "\\pgfpathlineto{\\pgfqpoint{0.000000in}{-0.048611in}}%\n",
       "\\pgfusepath{stroke,fill}%\n",
       "}%\n",
       "\\begin{pgfscope}%\n",
       "\\pgfsys@transformshift{1.873158in}{0.331635in}%\n",
       "\\pgfsys@useobject{currentmarker}{}%\n",
       "\\end{pgfscope}%\n",
       "\\end{pgfscope}%\n",
       "\\begin{pgfscope}%\n",
       "\\definecolor{textcolor}{rgb}{0.000000,0.000000,0.000000}%\n",
       "\\pgfsetstrokecolor{textcolor}%\n",
       "\\pgfsetfillcolor{textcolor}%\n",
       "\\pgftext[x=1.873158in,y=0.234413in,,top]{\\color{textcolor}{\\sffamily\\fontsize{10.000000}{12.000000}\\selectfont\\catcode`\\^=\\active\\def^{\\ifmmode\\sp\\else\\^{}\\fi}\\catcode`\\%=\\active\\def%{\\%}1.0}}%\n",
       "\\end{pgfscope}%\n",
       "\\begin{pgfscope}%\n",
       "\\pgfsetbuttcap%\n",
       "\\pgfsetroundjoin%\n",
       "\\definecolor{currentfill}{rgb}{0.000000,0.000000,0.000000}%\n",
       "\\pgfsetfillcolor{currentfill}%\n",
       "\\pgfsetlinewidth{0.803000pt}%\n",
       "\\definecolor{currentstroke}{rgb}{0.000000,0.000000,0.000000}%\n",
       "\\pgfsetstrokecolor{currentstroke}%\n",
       "\\pgfsetdash{}{0pt}%\n",
       "\\pgfsys@defobject{currentmarker}{\\pgfqpoint{-0.048611in}{0.000000in}}{\\pgfqpoint{-0.000000in}{0.000000in}}{%\n",
       "\\pgfpathmoveto{\\pgfqpoint{-0.000000in}{0.000000in}}%\n",
       "\\pgfpathlineto{\\pgfqpoint{-0.048611in}{0.000000in}}%\n",
       "\\pgfusepath{stroke,fill}%\n",
       "}%\n",
       "\\begin{pgfscope}%\n",
       "\\pgfsys@transformshift{0.393612in}{0.366635in}%\n",
       "\\pgfsys@useobject{currentmarker}{}%\n",
       "\\end{pgfscope}%\n",
       "\\end{pgfscope}%\n",
       "\\begin{pgfscope}%\n",
       "\\definecolor{textcolor}{rgb}{0.000000,0.000000,0.000000}%\n",
       "\\pgfsetstrokecolor{textcolor}%\n",
       "\\pgfsetfillcolor{textcolor}%\n",
       "\\pgftext[x=0.100000in, y=0.313873in, left, base]{\\color{textcolor}{\\sffamily\\fontsize{10.000000}{12.000000}\\selectfont\\catcode`\\^=\\active\\def^{\\ifmmode\\sp\\else\\^{}\\fi}\\catcode`\\%=\\active\\def%{\\%}\\ensuremath{-}1}}%\n",
       "\\end{pgfscope}%\n",
       "\\begin{pgfscope}%\n",
       "\\pgfsetbuttcap%\n",
       "\\pgfsetroundjoin%\n",
       "\\definecolor{currentfill}{rgb}{0.000000,0.000000,0.000000}%\n",
       "\\pgfsetfillcolor{currentfill}%\n",
       "\\pgfsetlinewidth{0.803000pt}%\n",
       "\\definecolor{currentstroke}{rgb}{0.000000,0.000000,0.000000}%\n",
       "\\pgfsetstrokecolor{currentstroke}%\n",
       "\\pgfsetdash{}{0pt}%\n",
       "\\pgfsys@defobject{currentmarker}{\\pgfqpoint{-0.048611in}{0.000000in}}{\\pgfqpoint{-0.000000in}{0.000000in}}{%\n",
       "\\pgfpathmoveto{\\pgfqpoint{-0.000000in}{0.000000in}}%\n",
       "\\pgfpathlineto{\\pgfqpoint{-0.048611in}{0.000000in}}%\n",
       "\\pgfusepath{stroke,fill}%\n",
       "}%\n",
       "\\begin{pgfscope}%\n",
       "\\pgfsys@transformshift{0.393612in}{0.716635in}%\n",
       "\\pgfsys@useobject{currentmarker}{}%\n",
       "\\end{pgfscope}%\n",
       "\\end{pgfscope}%\n",
       "\\begin{pgfscope}%\n",
       "\\definecolor{textcolor}{rgb}{0.000000,0.000000,0.000000}%\n",
       "\\pgfsetstrokecolor{textcolor}%\n",
       "\\pgfsetfillcolor{textcolor}%\n",
       "\\pgftext[x=0.208025in, y=0.663873in, left, base]{\\color{textcolor}{\\sffamily\\fontsize{10.000000}{12.000000}\\selectfont\\catcode`\\^=\\active\\def^{\\ifmmode\\sp\\else\\^{}\\fi}\\catcode`\\%=\\active\\def%{\\%}0}}%\n",
       "\\end{pgfscope}%\n",
       "\\begin{pgfscope}%\n",
       "\\pgfsetbuttcap%\n",
       "\\pgfsetroundjoin%\n",
       "\\definecolor{currentfill}{rgb}{0.000000,0.000000,0.000000}%\n",
       "\\pgfsetfillcolor{currentfill}%\n",
       "\\pgfsetlinewidth{0.803000pt}%\n",
       "\\definecolor{currentstroke}{rgb}{0.000000,0.000000,0.000000}%\n",
       "\\pgfsetstrokecolor{currentstroke}%\n",
       "\\pgfsetdash{}{0pt}%\n",
       "\\pgfsys@defobject{currentmarker}{\\pgfqpoint{-0.048611in}{0.000000in}}{\\pgfqpoint{-0.000000in}{0.000000in}}{%\n",
       "\\pgfpathmoveto{\\pgfqpoint{-0.000000in}{0.000000in}}%\n",
       "\\pgfpathlineto{\\pgfqpoint{-0.048611in}{0.000000in}}%\n",
       "\\pgfusepath{stroke,fill}%\n",
       "}%\n",
       "\\begin{pgfscope}%\n",
       "\\pgfsys@transformshift{0.393612in}{1.066635in}%\n",
       "\\pgfsys@useobject{currentmarker}{}%\n",
       "\\end{pgfscope}%\n",
       "\\end{pgfscope}%\n",
       "\\begin{pgfscope}%\n",
       "\\definecolor{textcolor}{rgb}{0.000000,0.000000,0.000000}%\n",
       "\\pgfsetstrokecolor{textcolor}%\n",
       "\\pgfsetfillcolor{textcolor}%\n",
       "\\pgftext[x=0.208025in, y=1.013873in, left, base]{\\color{textcolor}{\\sffamily\\fontsize{10.000000}{12.000000}\\selectfont\\catcode`\\^=\\active\\def^{\\ifmmode\\sp\\else\\^{}\\fi}\\catcode`\\%=\\active\\def%{\\%}1}}%\n",
       "\\end{pgfscope}%\n",
       "\\begin{pgfscope}%\n",
       "\\pgfpathrectangle{\\pgfqpoint{0.393612in}{0.331635in}}{\\pgfqpoint{1.550000in}{0.770000in}}%\n",
       "\\pgfusepath{clip}%\n",
       "\\pgfsetrectcap%\n",
       "\\pgfsetroundjoin%\n",
       "\\pgfsetlinewidth{1.505625pt}%\n",
       "\\definecolor{currentstroke}{rgb}{0.121569,0.466667,0.705882}%\n",
       "\\pgfsetstrokecolor{currentstroke}%\n",
       "\\pgfsetdash{}{0pt}%\n",
       "\\pgfpathmoveto{\\pgfqpoint{0.464067in}{0.366635in}}%\n",
       "\\pgfpathlineto{\\pgfqpoint{1.873158in}{1.066635in}}%\n",
       "\\pgfusepath{stroke}%\n",
       "\\end{pgfscope}%\n",
       "\\begin{pgfscope}%\n",
       "\\pgfsetrectcap%\n",
       "\\pgfsetmiterjoin%\n",
       "\\pgfsetlinewidth{0.803000pt}%\n",
       "\\definecolor{currentstroke}{rgb}{0.000000,0.000000,0.000000}%\n",
       "\\pgfsetstrokecolor{currentstroke}%\n",
       "\\pgfsetdash{}{0pt}%\n",
       "\\pgfpathmoveto{\\pgfqpoint{0.393612in}{0.331635in}}%\n",
       "\\pgfpathlineto{\\pgfqpoint{0.393612in}{1.101635in}}%\n",
       "\\pgfusepath{stroke}%\n",
       "\\end{pgfscope}%\n",
       "\\begin{pgfscope}%\n",
       "\\pgfsetrectcap%\n",
       "\\pgfsetmiterjoin%\n",
       "\\pgfsetlinewidth{0.803000pt}%\n",
       "\\definecolor{currentstroke}{rgb}{0.000000,0.000000,0.000000}%\n",
       "\\pgfsetstrokecolor{currentstroke}%\n",
       "\\pgfsetdash{}{0pt}%\n",
       "\\pgfpathmoveto{\\pgfqpoint{1.943612in}{0.331635in}}%\n",
       "\\pgfpathlineto{\\pgfqpoint{1.943612in}{1.101635in}}%\n",
       "\\pgfusepath{stroke}%\n",
       "\\end{pgfscope}%\n",
       "\\begin{pgfscope}%\n",
       "\\pgfsetrectcap%\n",
       "\\pgfsetmiterjoin%\n",
       "\\pgfsetlinewidth{0.803000pt}%\n",
       "\\definecolor{currentstroke}{rgb}{0.000000,0.000000,0.000000}%\n",
       "\\pgfsetstrokecolor{currentstroke}%\n",
       "\\pgfsetdash{}{0pt}%\n",
       "\\pgfpathmoveto{\\pgfqpoint{0.393612in}{0.331635in}}%\n",
       "\\pgfpathlineto{\\pgfqpoint{1.943613in}{0.331635in}}%\n",
       "\\pgfusepath{stroke}%\n",
       "\\end{pgfscope}%\n",
       "\\begin{pgfscope}%\n",
       "\\pgfsetrectcap%\n",
       "\\pgfsetmiterjoin%\n",
       "\\pgfsetlinewidth{0.803000pt}%\n",
       "\\definecolor{currentstroke}{rgb}{0.000000,0.000000,0.000000}%\n",
       "\\pgfsetstrokecolor{currentstroke}%\n",
       "\\pgfsetdash{}{0pt}%\n",
       "\\pgfpathmoveto{\\pgfqpoint{0.393612in}{1.101635in}}%\n",
       "\\pgfpathlineto{\\pgfqpoint{1.943613in}{1.101635in}}%\n",
       "\\pgfusepath{stroke}%\n",
       "\\end{pgfscope}%\n",
       "\\end{pgfpicture}%\n",
       "\\makeatother%\n",
       "\\endgroup%\n"
      ]
     },
     "metadata": {
      "image/png": {
       "height": 122,
       "width": 209
      }
     },
     "output_type": "display_data"
    }
   ],
   "source": [
    "# #fig:source\n",
    "fig, ax = plt.subplots(figsize=(2, 1))\n",
    "ax.plot([-1, 1])"
   ]
  },
  {
   "cell_type": "code",
   "execution_count": 3,
   "metadata": {},
   "outputs": [
    {
     "data": {
      "text/plain": [
       "'stdout'"
      ]
     },
     "execution_count": 3,
     "metadata": {},
     "output_type": "execute_result"
    }
   ],
   "source": [
    "# #text:stdout\n",
    "a = \"stdout\"\n",
    "a"
   ]
  },
  {
   "cell_type": "code",
   "execution_count": 4,
   "metadata": {},
   "outputs": [
    {
     "name": "stdout",
     "output_type": "stream",
     "text": [
      "print\n"
     ]
    }
   ],
   "source": [
    "# #text:print\n",
    "print(\"print\")"
   ]
  },
  {
   "cell_type": "code",
   "execution_count": 5,
   "metadata": {},
   "outputs": [
    {
     "name": "stdout",
     "output_type": "stream",
     "text": [
      "print\n"
     ]
    },
    {
     "data": {
      "text/plain": [
       "'hello'"
      ]
     },
     "execution_count": 5,
     "metadata": {},
     "output_type": "execute_result"
    }
   ],
   "source": [
    "# #text:both\n",
    "print(\"print\")\n",
    "\"hello\""
   ]
  },
  {
   "cell_type": "code",
   "execution_count": 6,
   "metadata": {},
   "outputs": [
    {
     "data": {
      "text/html": [
       "<div>\n",
       "<style scoped>\n",
       "    .dataframe tbody tr th:only-of-type {\n",
       "        vertical-align: middle;\n",
       "    }\n",
       "\n",
       "    .dataframe tbody tr th {\n",
       "        vertical-align: top;\n",
       "    }\n",
       "\n",
       "    .dataframe thead th {\n",
       "        text-align: right;\n",
       "    }\n",
       "</style>\n",
       "<table border=\"1\" class=\"dataframe\">\n",
       "  <thead>\n",
       "    <tr style=\"text-align: right;\">\n",
       "      <th></th>\n",
       "      <th>a</th>\n",
       "      <th>b</th>\n",
       "    </tr>\n",
       "  </thead>\n",
       "  <tbody>\n",
       "    <tr>\n",
       "      <th>0</th>\n",
       "      <td>1</td>\n",
       "      <td>4</td>\n",
       "    </tr>\n",
       "    <tr>\n",
       "      <th>1</th>\n",
       "      <td>2</td>\n",
       "      <td>5</td>\n",
       "    </tr>\n",
       "    <tr>\n",
       "      <th>2</th>\n",
       "      <td>3</td>\n",
       "      <td>6</td>\n",
       "    </tr>\n",
       "  </tbody>\n",
       "</table>\n",
       "</div>"
      ],
      "text/plain": [
       "   a  b\n",
       "0  1  4\n",
       "1  2  5\n",
       "2  3  6"
      ]
     },
     "execution_count": 6,
     "metadata": {},
     "output_type": "execute_result"
    }
   ],
   "source": [
    "# #text:pandas\n",
    "import pandas as pd\n",
    "\n",
    "df = pd.DataFrame({\"a\": [1, 2, 3], \"b\": [4, 5, 6]})\n",
    "df\n"
   ]
  },
  {
   "cell_type": "code",
   "execution_count": 7,
   "metadata": {},
   "outputs": [
    {
     "data": {
      "text/html": [
       "<div><style>\n",
       ".dataframe > thead > tr,\n",
       ".dataframe > tbody > tr {\n",
       "  text-align: right;\n",
       "  white-space: pre-wrap;\n",
       "}\n",
       "</style>\n",
       "<small>shape: (3, 2)</small><table border=\"1\" class=\"dataframe\"><thead><tr><th>a</th><th>b</th></tr><tr><td>i64</td><td>i64</td></tr></thead><tbody><tr><td>1</td><td>4</td></tr><tr><td>2</td><td>5</td></tr><tr><td>3</td><td>6</td></tr></tbody></table></div>"
      ],
      "text/plain": [
       "shape: (3, 2)\n",
       "┌─────┬─────┐\n",
       "│ a   ┆ b   │\n",
       "│ --- ┆ --- │\n",
       "│ i64 ┆ i64 │\n",
       "╞═════╪═════╡\n",
       "│ 1   ┆ 4   │\n",
       "│ 2   ┆ 5   │\n",
       "│ 3   ┆ 6   │\n",
       "└─────┴─────┘"
      ]
     },
     "execution_count": 7,
     "metadata": {},
     "output_type": "execute_result"
    }
   ],
   "source": [
    "# #text:polars\n",
    "import polars as pl\n",
    "\n",
    "df = pl.DataFrame({\"a\": [1, 2, 3], \"b\": [4, 5, 6]})\n",
    "df\n"
   ]
  },
  {
   "cell_type": "code",
   "execution_count": 8,
   "metadata": {},
   "outputs": [
    {
     "data": {
      "image/jpeg": "[encoded data removed]",
      "image/png": "[encoded data removed]",
      "text/plain": [
       "<PIL.Image.Image image mode=RGB size=100x100>"
      ]
     },
     "execution_count": 8,
     "metadata": {},
     "output_type": "execute_result"
    }
   ],
   "source": [
    "# #fig:cell-png\n",
    "from PIL import Image\n",
    "\n",
    "Image.new(\"RGB\", (100, 100), (255, 0, 0))"
   ]
  }
 ],
 "metadata": {
  "kernelspec": {
   "display_name": ".venv",
   "language": "python",
   "name": "python3"
  },
  "language_info": {
   "codemirror_mode": {
    "name": "ipython",
    "version": 3
   },
   "file_extension": ".py",
   "mimetype": "text/x-python",
   "name": "python",
   "nbconvert_exporter": "python",
   "pygments_lexer": "ipython3",
   "version": "3.13.2"
  }
 },
 "nbformat": 4,
 "nbformat_minor": 2
}
