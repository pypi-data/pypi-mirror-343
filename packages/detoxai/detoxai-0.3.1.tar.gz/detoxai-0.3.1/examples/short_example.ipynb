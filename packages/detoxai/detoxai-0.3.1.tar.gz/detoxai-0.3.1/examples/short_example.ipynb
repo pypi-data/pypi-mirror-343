{
 "cells": [
  {
   "cell_type": "code",
   "execution_count": null,
   "id": "c98f3a6b",
   "metadata": {},
   "outputs": [],
   "source": [
    "import torch\n",
    "import torch.nn as nn\n",
    "import torchvision\n",
    "import src.modules.detoxai.src.detoxai as detoxai  # import detoxai\n",
    "\n",
    "\n",
    "model = torchvision.models.resnet18(pretrained=True)\n",
    "model.fc = nn.Linear(model.fc.in_features, 2)  # Make it binary classification\n",
    "\n",
    "X = torch.rand(128, 3, 224, 224)\n",
    "Y = torch.randint(0, 2, size=(128,))\n",
    "PA = torch.randint(0, 2, size=(128,))\n",
    "\n",
    "dataloader = torch.utils.data.DataLoader(list(zip(X, Y, PA)), batch_size=32)\n",
    "\n",
    "results: dict[str, detoxai.CorrectionResult] = detoxai.debias(model, dataloader)"
   ]
  }
 ],
 "metadata": {
  "language_info": {
   "name": "python"
  }
 },
 "nbformat": 4,
 "nbformat_minor": 5
}
