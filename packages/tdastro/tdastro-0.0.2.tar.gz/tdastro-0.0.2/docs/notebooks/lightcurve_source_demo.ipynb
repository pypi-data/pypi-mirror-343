{
 "cells": [
  {
   "cell_type": "markdown",
   "id": "e5b7a501",
   "metadata": {},
   "source": [
    "# LightcurveSource Demo\n",
    "\n",
    "The `LightcurveSource` model is designed to replicate given lightcurves in specific bands. It is specified as a separate lightcurve for each passband. The underlying model produces estimated SEDs at each time, so that all of TDAstro’s effects can be applied.\n",
    "\n",
    "In this notebook we provide an introductory demo to setting up and using the `LightcurveSource` model.\n",
    "\n",
    "## Setup"
   ]
  },
  {
   "cell_type": "code",
   "execution_count": null,
   "id": "463f4ed7",
   "metadata": {},
   "outputs": [],
   "source": [
    "import matplotlib.pyplot as plt\n",
    "import numpy as np\n",
    "\n",
    "from tdastro.astro_utils.passbands import PassbandGroup\n",
    "from tdastro.consts import lsst_filter_plot_colors\n",
    "from tdastro.sources.lightcurve_source import LightcurveSource"
   ]
  },
  {
   "cell_type": "markdown",
   "id": "d5098537",
   "metadata": {},
   "source": [
    "We start be loading the passbands that we will use to define the model. In this case we use the passbands from the LSST preset."
   ]
  },
  {
   "cell_type": "code",
   "execution_count": null,
   "id": "71aa0508",
   "metadata": {},
   "outputs": [],
   "source": [
    "passband_group = PassbandGroup(preset=\"LSST\")\n",
    "filters = passband_group.passbands.keys()\n",
    "print(passband_group)\n",
    "\n",
    "wavelengths = passband_group.waves\n",
    "min_wave, max_wave = passband_group.wave_bounds()\n",
    "print(f\"Wavelengths range [{min_wave}, {max_wave}]\")\n",
    "\n",
    "passband_group.plot()"
   ]
  },
  {
   "cell_type": "markdown",
   "id": "6b6db695",
   "metadata": {},
   "source": [
    "## Creating the model\n",
    "\n",
    "We create the model from lightcurves for each passbands of interest. This is what we want the model to reproduce then we call get_band_fluxes(). While these lightcurves do no need to be the same as in the `PassbandGroup` every lightcurve must have a corresponding entry in the `PassbandGroup`.\n",
    "\n",
    "For simplicity of the demo, we create each curve as a randomly parameterized sin wave.  Note that the times for all the lightcurves do not need to be the same."
   ]
  },
  {
   "cell_type": "code",
   "execution_count": null,
   "id": "173d88fd",
   "metadata": {},
   "outputs": [],
   "source": [
    "num_times = 100\n",
    "times = np.linspace(0, 20, num_times)\n",
    "\n",
    "lightcurves = {}\n",
    "for filter in filters:\n",
    "    amp = 5.0 * np.random.random() + 1.0\n",
    "    flux_offset = np.random.random() * 25 + 10\n",
    "    time_offset = np.random.random() * 10\n",
    "    filter_flux = amp * np.sin(times + time_offset) + flux_offset\n",
    "    print(f\"Filter {filter}: {amp:.2f} * sin(t + {time_offset:.2f}) + {flux_offset:.2f}\")\n",
    "\n",
    "    lightcurves[filter] = np.array([times + time_offset, filter_flux]).T"
   ]
  },
  {
   "cell_type": "code",
   "execution_count": null,
   "id": "8bd002c7",
   "metadata": {},
   "outputs": [],
   "source": [
    "# Plot the lightcurves\n",
    "figure = plt.figure()\n",
    "ax = figure.add_axes([0, 0, 1, 1])\n",
    "for filter, lightcurve in lightcurves.items():\n",
    "    color = lsst_filter_plot_colors.get(filter, \"black\")\n",
    "    ax.plot(lightcurve[:, 0], lightcurve[:, 1], color=color, label=filter)"
   ]
  },
  {
   "cell_type": "markdown",
   "id": "188eba77",
   "metadata": {},
   "source": [
    "We then create the model from the dictionary of lightcurve information "
   ]
  },
  {
   "cell_type": "code",
   "execution_count": null,
   "id": "f81cfd42",
   "metadata": {},
   "outputs": [],
   "source": [
    "model = LightcurveSource(lightcurves, passband_group, t0=0.0)"
   ]
  },
  {
   "cell_type": "markdown",
   "id": "c2281f9e",
   "metadata": {},
   "source": [
    "If we plot the underlying lightcurves we can see they matched the provided ones."
   ]
  },
  {
   "cell_type": "code",
   "execution_count": null,
   "id": "0c7e8516",
   "metadata": {},
   "outputs": [],
   "source": [
    "model.plot_lightcurves()"
   ]
  },
  {
   "cell_type": "markdown",
   "id": "91a6f52f",
   "metadata": {},
   "source": [
    "We can also plot the SEDs for each filter to see how the underlying model is computing the total SED. Each passband's SED basis is multiplied by the corresponding lightcurve's values over time to give its contributions to the overall SED.  Note that, in order to avoid overcounting the contributions of some wavelengths, the SED basis functions only contain wavelengths where the filters do not overlap."
   ]
  },
  {
   "cell_type": "code",
   "execution_count": null,
   "id": "dcdf9745",
   "metadata": {},
   "outputs": [],
   "source": [
    "model.plot_sed_basis()"
   ]
  },
  {
   "cell_type": "markdown",
   "id": "c21e6520",
   "metadata": {},
   "source": [
    "## Generating Flux Densities\n",
    "\n",
    "We evaluate the `LightcurveSource` model the same way we evaltuate any `PhysicalModel` with functions such as `evaluate()`, `sample_parameters()`, and `get_band_fluxes()`. This model was specifically designed for the `get_band_fluxes()` function, so we explore that below.\n",
    "\n",
    "Let's model a sequence of observations in the g and r filters only."
   ]
  },
  {
   "cell_type": "code",
   "execution_count": null,
   "id": "9498659c",
   "metadata": {},
   "outputs": [],
   "source": [
    "# The state is not used since we do not have any random parameters, but we need it for get_band_fluxes().\n",
    "state = model.sample_parameters(num_samples=1)\n",
    "\n",
    "# Create query times over the middle of the range. Make 3/4 of them r and the rest g.\n",
    "query_times = np.linspace(5, 15, 200)\n",
    "query_filters = np.array([\"g\" if int(t) % 4 == 0 else \"r\" for t in query_times])\n",
    "\n",
    "# Get the fluxes for the query times and filters\n",
    "flux = model.get_band_fluxes(passband_group, query_times, query_filters, state)"
   ]
  },
  {
   "cell_type": "code",
   "execution_count": null,
   "id": "bf65595e",
   "metadata": {},
   "outputs": [],
   "source": [
    "# Plot the fluxes\n",
    "figure = plt.figure()\n",
    "ax = figure.add_axes([0, 0, 1, 1])\n",
    "for filter in [\"g\", \"r\"]:\n",
    "    mask = query_filters == filter\n",
    "    color = lsst_filter_plot_colors.get(filter, \"black\")\n",
    "    label = f\"Observation in {filter}\"\n",
    "    ax.plot(query_times[mask], flux[mask], color=color, label=label, linewidth=0, marker=\".\")\n",
    "\n",
    "ax.set_xlabel(\"Time\")\n",
    "ax.set_ylabel(\"Flux\")\n",
    "ax.legend()\n",
    "plt.show()"
   ]
  }
 ],
 "metadata": {
  "kernelspec": {
   "display_name": "tdastro",
   "language": "python",
   "name": "python3"
  },
  "language_info": {
   "codemirror_mode": {
    "name": "ipython",
    "version": 3
   },
   "file_extension": ".py",
   "mimetype": "text/x-python",
   "name": "python",
   "nbconvert_exporter": "python",
   "pygments_lexer": "ipython3",
   "version": "3.10.4"
  }
 },
 "nbformat": 4,
 "nbformat_minor": 5
}
