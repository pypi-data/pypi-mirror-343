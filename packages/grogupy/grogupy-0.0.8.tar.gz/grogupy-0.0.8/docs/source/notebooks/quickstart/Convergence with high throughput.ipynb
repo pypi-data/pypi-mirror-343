{
 "cells": [
  {
   "cell_type": "markdown",
   "metadata": {},
   "source": [
    "# Convergence with high throughput"
   ]
  },
  {
   "cell_type": "markdown",
   "metadata": {},
   "source": [
    "## Coming soon..."
   ]
  },
  {
   "cell_type": "markdown",
   "metadata": {},
   "source": []
  }
 ],
 "metadata": {
  "language_info": {
   "name": "python"
  }
 },
 "nbformat": 4,
 "nbformat_minor": 2
}
