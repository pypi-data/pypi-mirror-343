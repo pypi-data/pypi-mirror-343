{
 "cells": [
  {
   "cell_type": "markdown",
   "metadata": {},
   "source": [
    "## TODO\n",
    "\n",
    "- get automatic emax\n",
    "- warning for insulators about the fermi level positioning\n",
    "- add mesh and converge to batch\n",
    "- More tests\n",
    "- Better docs\n",
    "- dependency on how we choose the perpendicular directions\n",
    "- Use ReadThe Docs [addons](https://docs.readthedocs.io/en/stable/addons.html)\n"
   ]
  },
  {
   "cell_type": "code",
   "execution_count": 1,
   "metadata": {},
   "outputs": [
    {
     "name": "stderr",
     "output_type": "stream",
     "text": [
      "/Users/danielpozsar/Documents/studies/elte/phd/grogu/.venv/lib/python3.12/site-packages/grogupy/_tqdm.py:26: TqdmWarning: IProgress not found. Please update jupyter and ipywidgets. See https://ipywidgets.readthedocs.io/en/stable/user_install.html\n",
      "  from tqdm.autonotebook import tqdm\n"
     ]
    }
   ],
   "source": [
    "import numpy as np\n",
    "\n",
    "import grogupy\n",
    "import grogupy.viz"
   ]
  },
  {
   "cell_type": "code",
   "execution_count": 2,
   "metadata": {},
   "outputs": [],
   "source": [
    "# infile = \"../benchmarks/Fe_colinear/Fe.fdf\"\n",
    "infile = \"../benchmarks/Cr3/Cr3.fdf\"\n",
    "# infile = \"../benchmarks/Fe3GeTe2/Fe3GeTe2.fdf\""
   ]
  },
  {
   "cell_type": "code",
   "execution_count": 3,
   "metadata": {},
   "outputs": [
    {
     "data": {
      "application/vnd.plotly.v1+json": {
       "config": {
        "plotlyServerURL": "https://plot.ly"
       },
       "data": [
        {
         "marker": {
          "color": {
           "bdata": "AAAAAAAA8D8=",
           "dtype": "f8"
          },
          "colorbar": {
           "title": {
            "text": "Weights of kpoints"
           },
           "x": 0.75
          },
          "colorscale": [
           [
            0,
            "#440154"
           ],
           [
            0.1111111111111111,
            "#482878"
           ],
           [
            0.2222222222222222,
            "#3e4989"
           ],
           [
            0.3333333333333333,
            "#31688e"
           ],
           [
            0.4444444444444444,
            "#26828e"
           ],
           [
            0.5555555555555556,
            "#1f9e89"
           ],
           [
            0.6666666666666666,
            "#35b779"
           ],
           [
            0.7777777777777778,
            "#6ece58"
           ],
           [
            0.8888888888888888,
            "#b5de2b"
           ],
           [
            1,
            "#fde725"
           ]
          ],
          "opacity": 1,
          "size": 5
         },
         "mode": "markers",
         "name": "Kpoints",
         "type": "scatter3d",
         "x": {
          "bdata": "AAAAAAAAAAA=",
          "dtype": "f8"
         },
         "y": {
          "bdata": "AAAAAAAAAAA=",
          "dtype": "f8"
         },
         "z": {
          "bdata": "AAAAAAAAAAA=",
          "dtype": "f8"
         }
        }
       ],
       "layout": {
        "autosize": false,
        "height": 500,
        "scene": {
         "aspectmode": "data",
         "xaxis": {
          "gridwidth": 1,
          "showgrid": true,
          "title": {
           "text": "X Axis"
          }
         },
         "yaxis": {
          "gridwidth": 1,
          "showgrid": true,
          "title": {
           "text": "Y Axis"
          }
         },
         "zaxis": {
          "gridwidth": 1,
          "showgrid": true,
          "title": {
           "text": "Z Axis"
          }
         }
        },
        "template": {
         "data": {
          "bar": [
           {
            "error_x": {
             "color": "#2a3f5f"
            },
            "error_y": {
             "color": "#2a3f5f"
            },
            "marker": {
             "line": {
              "color": "#E5ECF6",
              "width": 0.5
             },
             "pattern": {
              "fillmode": "overlay",
              "size": 10,
              "solidity": 0.2
             }
            },
            "type": "bar"
           }
          ],
          "barpolar": [
           {
            "marker": {
             "line": {
              "color": "#E5ECF6",
              "width": 0.5
             },
             "pattern": {
              "fillmode": "overlay",
              "size": 10,
              "solidity": 0.2
             }
            },
            "type": "barpolar"
           }
          ],
          "carpet": [
           {
            "aaxis": {
             "endlinecolor": "#2a3f5f",
             "gridcolor": "white",
             "linecolor": "white",
             "minorgridcolor": "white",
             "startlinecolor": "#2a3f5f"
            },
            "baxis": {
             "endlinecolor": "#2a3f5f",
             "gridcolor": "white",
             "linecolor": "white",
             "minorgridcolor": "white",
             "startlinecolor": "#2a3f5f"
            },
            "type": "carpet"
           }
          ],
          "choropleth": [
           {
            "colorbar": {
             "outlinewidth": 0,
             "ticks": ""
            },
            "type": "choropleth"
           }
          ],
          "contour": [
           {
            "colorbar": {
             "outlinewidth": 0,
             "ticks": ""
            },
            "colorscale": [
             [
              0,
              "#0d0887"
             ],
             [
              0.1111111111111111,
              "#46039f"
             ],
             [
              0.2222222222222222,
              "#7201a8"
             ],
             [
              0.3333333333333333,
              "#9c179e"
             ],
             [
              0.4444444444444444,
              "#bd3786"
             ],
             [
              0.5555555555555556,
              "#d8576b"
             ],
             [
              0.6666666666666666,
              "#ed7953"
             ],
             [
              0.7777777777777778,
              "#fb9f3a"
             ],
             [
              0.8888888888888888,
              "#fdca26"
             ],
             [
              1,
              "#f0f921"
             ]
            ],
            "type": "contour"
           }
          ],
          "contourcarpet": [
           {
            "colorbar": {
             "outlinewidth": 0,
             "ticks": ""
            },
            "type": "contourcarpet"
           }
          ],
          "heatmap": [
           {
            "colorbar": {
             "outlinewidth": 0,
             "ticks": ""
            },
            "colorscale": [
             [
              0,
              "#0d0887"
             ],
             [
              0.1111111111111111,
              "#46039f"
             ],
             [
              0.2222222222222222,
              "#7201a8"
             ],
             [
              0.3333333333333333,
              "#9c179e"
             ],
             [
              0.4444444444444444,
              "#bd3786"
             ],
             [
              0.5555555555555556,
              "#d8576b"
             ],
             [
              0.6666666666666666,
              "#ed7953"
             ],
             [
              0.7777777777777778,
              "#fb9f3a"
             ],
             [
              0.8888888888888888,
              "#fdca26"
             ],
             [
              1,
              "#f0f921"
             ]
            ],
            "type": "heatmap"
           }
          ],
          "histogram": [
           {
            "marker": {
             "pattern": {
              "fillmode": "overlay",
              "size": 10,
              "solidity": 0.2
             }
            },
            "type": "histogram"
           }
          ],
          "histogram2d": [
           {
            "colorbar": {
             "outlinewidth": 0,
             "ticks": ""
            },
            "colorscale": [
             [
              0,
              "#0d0887"
             ],
             [
              0.1111111111111111,
              "#46039f"
             ],
             [
              0.2222222222222222,
              "#7201a8"
             ],
             [
              0.3333333333333333,
              "#9c179e"
             ],
             [
              0.4444444444444444,
              "#bd3786"
             ],
             [
              0.5555555555555556,
              "#d8576b"
             ],
             [
              0.6666666666666666,
              "#ed7953"
             ],
             [
              0.7777777777777778,
              "#fb9f3a"
             ],
             [
              0.8888888888888888,
              "#fdca26"
             ],
             [
              1,
              "#f0f921"
             ]
            ],
            "type": "histogram2d"
           }
          ],
          "histogram2dcontour": [
           {
            "colorbar": {
             "outlinewidth": 0,
             "ticks": ""
            },
            "colorscale": [
             [
              0,
              "#0d0887"
             ],
             [
              0.1111111111111111,
              "#46039f"
             ],
             [
              0.2222222222222222,
              "#7201a8"
             ],
             [
              0.3333333333333333,
              "#9c179e"
             ],
             [
              0.4444444444444444,
              "#bd3786"
             ],
             [
              0.5555555555555556,
              "#d8576b"
             ],
             [
              0.6666666666666666,
              "#ed7953"
             ],
             [
              0.7777777777777778,
              "#fb9f3a"
             ],
             [
              0.8888888888888888,
              "#fdca26"
             ],
             [
              1,
              "#f0f921"
             ]
            ],
            "type": "histogram2dcontour"
           }
          ],
          "mesh3d": [
           {
            "colorbar": {
             "outlinewidth": 0,
             "ticks": ""
            },
            "type": "mesh3d"
           }
          ],
          "parcoords": [
           {
            "line": {
             "colorbar": {
              "outlinewidth": 0,
              "ticks": ""
             }
            },
            "type": "parcoords"
           }
          ],
          "pie": [
           {
            "automargin": true,
            "type": "pie"
           }
          ],
          "scatter": [
           {
            "fillpattern": {
             "fillmode": "overlay",
             "size": 10,
             "solidity": 0.2
            },
            "type": "scatter"
           }
          ],
          "scatter3d": [
           {
            "line": {
             "colorbar": {
              "outlinewidth": 0,
              "ticks": ""
             }
            },
            "marker": {
             "colorbar": {
              "outlinewidth": 0,
              "ticks": ""
             }
            },
            "type": "scatter3d"
           }
          ],
          "scattercarpet": [
           {
            "marker": {
             "colorbar": {
              "outlinewidth": 0,
              "ticks": ""
             }
            },
            "type": "scattercarpet"
           }
          ],
          "scattergeo": [
           {
            "marker": {
             "colorbar": {
              "outlinewidth": 0,
              "ticks": ""
             }
            },
            "type": "scattergeo"
           }
          ],
          "scattergl": [
           {
            "marker": {
             "colorbar": {
              "outlinewidth": 0,
              "ticks": ""
             }
            },
            "type": "scattergl"
           }
          ],
          "scattermap": [
           {
            "marker": {
             "colorbar": {
              "outlinewidth": 0,
              "ticks": ""
             }
            },
            "type": "scattermap"
           }
          ],
          "scattermapbox": [
           {
            "marker": {
             "colorbar": {
              "outlinewidth": 0,
              "ticks": ""
             }
            },
            "type": "scattermapbox"
           }
          ],
          "scatterpolar": [
           {
            "marker": {
             "colorbar": {
              "outlinewidth": 0,
              "ticks": ""
             }
            },
            "type": "scatterpolar"
           }
          ],
          "scatterpolargl": [
           {
            "marker": {
             "colorbar": {
              "outlinewidth": 0,
              "ticks": ""
             }
            },
            "type": "scatterpolargl"
           }
          ],
          "scatterternary": [
           {
            "marker": {
             "colorbar": {
              "outlinewidth": 0,
              "ticks": ""
             }
            },
            "type": "scatterternary"
           }
          ],
          "surface": [
           {
            "colorbar": {
             "outlinewidth": 0,
             "ticks": ""
            },
            "colorscale": [
             [
              0,
              "#0d0887"
             ],
             [
              0.1111111111111111,
              "#46039f"
             ],
             [
              0.2222222222222222,
              "#7201a8"
             ],
             [
              0.3333333333333333,
              "#9c179e"
             ],
             [
              0.4444444444444444,
              "#bd3786"
             ],
             [
              0.5555555555555556,
              "#d8576b"
             ],
             [
              0.6666666666666666,
              "#ed7953"
             ],
             [
              0.7777777777777778,
              "#fb9f3a"
             ],
             [
              0.8888888888888888,
              "#fdca26"
             ],
             [
              1,
              "#f0f921"
             ]
            ],
            "type": "surface"
           }
          ],
          "table": [
           {
            "cells": {
             "fill": {
              "color": "#EBF0F8"
             },
             "line": {
              "color": "white"
             }
            },
            "header": {
             "fill": {
              "color": "#C8D4E3"
             },
             "line": {
              "color": "white"
             }
            },
            "type": "table"
           }
          ]
         },
         "layout": {
          "annotationdefaults": {
           "arrowcolor": "#2a3f5f",
           "arrowhead": 0,
           "arrowwidth": 1
          },
          "autotypenumbers": "strict",
          "coloraxis": {
           "colorbar": {
            "outlinewidth": 0,
            "ticks": ""
           }
          },
          "colorscale": {
           "diverging": [
            [
             0,
             "#8e0152"
            ],
            [
             0.1,
             "#c51b7d"
            ],
            [
             0.2,
             "#de77ae"
            ],
            [
             0.3,
             "#f1b6da"
            ],
            [
             0.4,
             "#fde0ef"
            ],
            [
             0.5,
             "#f7f7f7"
            ],
            [
             0.6,
             "#e6f5d0"
            ],
            [
             0.7,
             "#b8e186"
            ],
            [
             0.8,
             "#7fbc41"
            ],
            [
             0.9,
             "#4d9221"
            ],
            [
             1,
             "#276419"
            ]
           ],
           "sequential": [
            [
             0,
             "#0d0887"
            ],
            [
             0.1111111111111111,
             "#46039f"
            ],
            [
             0.2222222222222222,
             "#7201a8"
            ],
            [
             0.3333333333333333,
             "#9c179e"
            ],
            [
             0.4444444444444444,
             "#bd3786"
            ],
            [
             0.5555555555555556,
             "#d8576b"
            ],
            [
             0.6666666666666666,
             "#ed7953"
            ],
            [
             0.7777777777777778,
             "#fb9f3a"
            ],
            [
             0.8888888888888888,
             "#fdca26"
            ],
            [
             1,
             "#f0f921"
            ]
           ],
           "sequentialminus": [
            [
             0,
             "#0d0887"
            ],
            [
             0.1111111111111111,
             "#46039f"
            ],
            [
             0.2222222222222222,
             "#7201a8"
            ],
            [
             0.3333333333333333,
             "#9c179e"
            ],
            [
             0.4444444444444444,
             "#bd3786"
            ],
            [
             0.5555555555555556,
             "#d8576b"
            ],
            [
             0.6666666666666666,
             "#ed7953"
            ],
            [
             0.7777777777777778,
             "#fb9f3a"
            ],
            [
             0.8888888888888888,
             "#fdca26"
            ],
            [
             1,
             "#f0f921"
            ]
           ]
          },
          "colorway": [
           "#636efa",
           "#EF553B",
           "#00cc96",
           "#ab63fa",
           "#FFA15A",
           "#19d3f3",
           "#FF6692",
           "#B6E880",
           "#FF97FF",
           "#FECB52"
          ],
          "font": {
           "color": "#2a3f5f"
          },
          "geo": {
           "bgcolor": "white",
           "lakecolor": "white",
           "landcolor": "#E5ECF6",
           "showlakes": true,
           "showland": true,
           "subunitcolor": "white"
          },
          "hoverlabel": {
           "align": "left"
          },
          "hovermode": "closest",
          "mapbox": {
           "style": "light"
          },
          "paper_bgcolor": "white",
          "plot_bgcolor": "#E5ECF6",
          "polar": {
           "angularaxis": {
            "gridcolor": "white",
            "linecolor": "white",
            "ticks": ""
           },
           "bgcolor": "#E5ECF6",
           "radialaxis": {
            "gridcolor": "white",
            "linecolor": "white",
            "ticks": ""
           }
          },
          "scene": {
           "xaxis": {
            "backgroundcolor": "#E5ECF6",
            "gridcolor": "white",
            "gridwidth": 2,
            "linecolor": "white",
            "showbackground": true,
            "ticks": "",
            "zerolinecolor": "white"
           },
           "yaxis": {
            "backgroundcolor": "#E5ECF6",
            "gridcolor": "white",
            "gridwidth": 2,
            "linecolor": "white",
            "showbackground": true,
            "ticks": "",
            "zerolinecolor": "white"
           },
           "zaxis": {
            "backgroundcolor": "#E5ECF6",
            "gridcolor": "white",
            "gridwidth": 2,
            "linecolor": "white",
            "showbackground": true,
            "ticks": "",
            "zerolinecolor": "white"
           }
          },
          "shapedefaults": {
           "line": {
            "color": "#2a3f5f"
           }
          },
          "ternary": {
           "aaxis": {
            "gridcolor": "white",
            "linecolor": "white",
            "ticks": ""
           },
           "baxis": {
            "gridcolor": "white",
            "linecolor": "white",
            "ticks": ""
           },
           "bgcolor": "#E5ECF6",
           "caxis": {
            "gridcolor": "white",
            "linecolor": "white",
            "ticks": ""
           }
          },
          "title": {
           "x": 0.05
          },
          "xaxis": {
           "automargin": true,
           "gridcolor": "white",
           "linecolor": "white",
           "ticks": "",
           "title": {
            "standoff": 15
           },
           "zerolinecolor": "white",
           "zerolinewidth": 2
          },
          "yaxis": {
           "automargin": true,
           "gridcolor": "white",
           "linecolor": "white",
           "ticks": "",
           "title": {
            "standoff": 15
           },
           "zerolinecolor": "white",
           "zerolinewidth": 2
          }
         }
        },
        "title": {
         "text": "Brillouin zone sampling"
        },
        "width": 800
       }
      }
     },
     "metadata": {},
     "output_type": "display_data"
    },
    {
     "data": {
      "text/plain": [
       "<grogupy.Kspace kset=[1 1 1], NK=1>"
      ]
     },
     "execution_count": 3,
     "metadata": {},
     "output_type": "execute_result"
    }
   ],
   "source": [
    "simulation_kspace = grogupy.Kspace([1, 1, 1])\n",
    "simulation_kspace.plot().show()\n",
    "simulation_kspace"
   ]
  },
  {
   "cell_type": "code",
   "execution_count": 4,
   "metadata": {},
   "outputs": [
    {
     "data": {
      "application/vnd.plotly.v1+json": {
       "config": {
        "plotlyServerURL": "https://plot.ly"
       },
       "data": [
        {
         "mode": "markers",
         "type": "scatter",
         "x": {
          "bdata": "5A44rCAmIMAiUodviCUgwCG8Qv13IiDAGy6Q/68ZIMBnKBCF4AYgwOUpq/Mhyh/A+x5m9ENeH8D3/JNyvsAewOIzokIl6h3AdsIFbgzWHMDU+6iew4MbwMiCa36q9hnAev/bKg42GMA4pl9Fk0wWwM8MX35DRxTA9Vqn/WM0EsDkw9hxQCIQwOn+LgEoPAzACg06wl5mCMAJZrqw2tQEwF6QyY/wkwHATExiM15V/b/0A2gOzzb4v+Jot+b3yPO/QHP8rZoC8L9AQOeApqzpv4C4tkGOaOS/BHueMB0X4L8ojmNjMy3Zv2gclMXhjdO/QOhHi+Yqzr8Q2JEACx/Hv7BJMoMdncG/IGWwMxmvur8gcrwA4Bq0vwAgyxc0Ja6/wHbwDbR+pr8A/p+YrbagvwASSJyfvJi/AJ2Sef88kr8AKBTqls2KvwDaV5pwooO/AJQk7tevfL8A8OuCned0vwCoM8XJZm6/AHgEwaIQZr8AEJUMfvpfvwDwxrqsJFe/AABOhH67UL8AgM4CcS1IvwCgLD/DdUG/AMB57Kw2Ob8AACwd9TQyvwCAV0a+TSq/AAAo1AcDI78AAMkiYoEbvwAAElPb6hO/AAAkL5zhDL8AAIJKN/gEvwAAuOi/f/6+AADE0Nk39r4AAMi7RTfwvgAA8N2Jt+e+AACYOhxh4b4AAHDjFIbZvgAAUG8ryNK+AAAg/BCzy74AAABSl3fEvgAAgK8oTr6+AACAnCB6tr4AAMDcy7KwvgAAAOSp2Ki+AACAiayBor4AAADdlpebvgAAAL4slJS+AAAAJn2yjr4AAABKb+KGvgAAAJbICoG+AAAA4K9Web4AAADYM8pyvgAAAFDPxWu+AAAA0C5vZL4AAAAwveZdvgAAALBkuVW+AAAAYFtLT74AAABgY01GvgAAAIDtYD++AAAAwFC6Nb4AAACAXYMtvgAAAIBokiO+AAAAAKYzGb4AAAAAOkQPvgAAAADOfgK+AAAAAEyQ9L0AAAAA+AblvQAAAAAgHdO9AAAAAAAlvb0AAAAAgKagvQAAAAAA0HW9AAAAAAAAKb0=",
          "dtype": "f8"
         },
         "y": {
          "bdata": "vxILjZs8kz/YCtG8dUC5P1w6xY/f084/LAMxAItU3D/GB4U/PmPmP1C8cQruFPA/1njPnUCa9T9p4bcEvZL7P7ndqnBD4wBAur5kpZr7A0C8qNNVyfEGQI+iw+ccpglAr/Fo0Tb8C0BUauyaOt0NQIdkr45sOQ9Ad7t6NYUEEEDazFPuJSYQQGHVzqpOBRBAsJWqlURRD0AxqdbrrTEOQGaWruCivwxADJ1jPqEPC0DKnXLheDUJQFCFj0hEQwdAzFg/Yb9IBUDvjUTZ81IDQL5YG/4qbAFA33Q03iQ4/z/484P3AtD7P6S/KVafpvg/Z04n7GC/9T+q94HAFxvzP5gZd5WduPA/iEPglMEq7T88yJ3Hr1vpP9KeNQa9++U/aBx48fsB4z/rMY52SGXgP348QdcwOdw/fN/v4Wg+2D9ayIwivMnUP/CFnsLOy9E/QpI6jv5szj9GYF0g3/nJP5X0PisEJ8Y/eSwf0Z3fwj8NQiBpJhHAP2Wr/FF1Vrs/Gw7VLdw+tz9Jvy4oPMKzP/pqBluKyrA/kBOAhj+JrD9usROdzj+oP0d63dsinKQ/ixWCeZuFoT9l5ZXXK86dP5lvAMv0XJk/t3k8CamYlT/FnOIh72aSP5TspRC2Yo8/QqHR+b/Jij8+PtAFqeKGPwIBiS4NkoM/Tyud1LzAgD9mndLVN7Z8P9rP8owvoXg/3tNuf2EmdT/sUXspKi5yPwJjlv4qSW8/AmOP0Zjxaj9NM6jbMDlnP50DGsz0B2Q/PkZ5zaJJYT9QlwQePtpdP5Nx6afpx1k/waKc7NZDVj+8gfaZWDlTP6JIua/tllA/uiZY3YObTD+70bkrhaJIP+sD23GILUU/LlcB8m0qQj/W3GZYmxM/P/M8sqsYfTo/NxeezQJ7Nj+IvV4CV/oyPy2rHqXD1S8/hQ/Jh6h9Kj/KPbNF1NQlPx/3Slg9xyE/bQpmWLWHHD+Jyttlc3gWPzctlKZLSBE/5Q2mf3rFCT8lCIu2am0CP5W+0x+q2Pg+844wIVeu7j53ZDPD1GXgPiipITf9i8o+5dDtoQYYpD4=",
          "dtype": "f8"
         }
        }
       ],
       "layout": {
        "autosize": false,
        "height": 500,
        "template": {
         "data": {
          "bar": [
           {
            "error_x": {
             "color": "#2a3f5f"
            },
            "error_y": {
             "color": "#2a3f5f"
            },
            "marker": {
             "line": {
              "color": "#E5ECF6",
              "width": 0.5
             },
             "pattern": {
              "fillmode": "overlay",
              "size": 10,
              "solidity": 0.2
             }
            },
            "type": "bar"
           }
          ],
          "barpolar": [
           {
            "marker": {
             "line": {
              "color": "#E5ECF6",
              "width": 0.5
             },
             "pattern": {
              "fillmode": "overlay",
              "size": 10,
              "solidity": 0.2
             }
            },
            "type": "barpolar"
           }
          ],
          "carpet": [
           {
            "aaxis": {
             "endlinecolor": "#2a3f5f",
             "gridcolor": "white",
             "linecolor": "white",
             "minorgridcolor": "white",
             "startlinecolor": "#2a3f5f"
            },
            "baxis": {
             "endlinecolor": "#2a3f5f",
             "gridcolor": "white",
             "linecolor": "white",
             "minorgridcolor": "white",
             "startlinecolor": "#2a3f5f"
            },
            "type": "carpet"
           }
          ],
          "choropleth": [
           {
            "colorbar": {
             "outlinewidth": 0,
             "ticks": ""
            },
            "type": "choropleth"
           }
          ],
          "contour": [
           {
            "colorbar": {
             "outlinewidth": 0,
             "ticks": ""
            },
            "colorscale": [
             [
              0,
              "#0d0887"
             ],
             [
              0.1111111111111111,
              "#46039f"
             ],
             [
              0.2222222222222222,
              "#7201a8"
             ],
             [
              0.3333333333333333,
              "#9c179e"
             ],
             [
              0.4444444444444444,
              "#bd3786"
             ],
             [
              0.5555555555555556,
              "#d8576b"
             ],
             [
              0.6666666666666666,
              "#ed7953"
             ],
             [
              0.7777777777777778,
              "#fb9f3a"
             ],
             [
              0.8888888888888888,
              "#fdca26"
             ],
             [
              1,
              "#f0f921"
             ]
            ],
            "type": "contour"
           }
          ],
          "contourcarpet": [
           {
            "colorbar": {
             "outlinewidth": 0,
             "ticks": ""
            },
            "type": "contourcarpet"
           }
          ],
          "heatmap": [
           {
            "colorbar": {
             "outlinewidth": 0,
             "ticks": ""
            },
            "colorscale": [
             [
              0,
              "#0d0887"
             ],
             [
              0.1111111111111111,
              "#46039f"
             ],
             [
              0.2222222222222222,
              "#7201a8"
             ],
             [
              0.3333333333333333,
              "#9c179e"
             ],
             [
              0.4444444444444444,
              "#bd3786"
             ],
             [
              0.5555555555555556,
              "#d8576b"
             ],
             [
              0.6666666666666666,
              "#ed7953"
             ],
             [
              0.7777777777777778,
              "#fb9f3a"
             ],
             [
              0.8888888888888888,
              "#fdca26"
             ],
             [
              1,
              "#f0f921"
             ]
            ],
            "type": "heatmap"
           }
          ],
          "histogram": [
           {
            "marker": {
             "pattern": {
              "fillmode": "overlay",
              "size": 10,
              "solidity": 0.2
             }
            },
            "type": "histogram"
           }
          ],
          "histogram2d": [
           {
            "colorbar": {
             "outlinewidth": 0,
             "ticks": ""
            },
            "colorscale": [
             [
              0,
              "#0d0887"
             ],
             [
              0.1111111111111111,
              "#46039f"
             ],
             [
              0.2222222222222222,
              "#7201a8"
             ],
             [
              0.3333333333333333,
              "#9c179e"
             ],
             [
              0.4444444444444444,
              "#bd3786"
             ],
             [
              0.5555555555555556,
              "#d8576b"
             ],
             [
              0.6666666666666666,
              "#ed7953"
             ],
             [
              0.7777777777777778,
              "#fb9f3a"
             ],
             [
              0.8888888888888888,
              "#fdca26"
             ],
             [
              1,
              "#f0f921"
             ]
            ],
            "type": "histogram2d"
           }
          ],
          "histogram2dcontour": [
           {
            "colorbar": {
             "outlinewidth": 0,
             "ticks": ""
            },
            "colorscale": [
             [
              0,
              "#0d0887"
             ],
             [
              0.1111111111111111,
              "#46039f"
             ],
             [
              0.2222222222222222,
              "#7201a8"
             ],
             [
              0.3333333333333333,
              "#9c179e"
             ],
             [
              0.4444444444444444,
              "#bd3786"
             ],
             [
              0.5555555555555556,
              "#d8576b"
             ],
             [
              0.6666666666666666,
              "#ed7953"
             ],
             [
              0.7777777777777778,
              "#fb9f3a"
             ],
             [
              0.8888888888888888,
              "#fdca26"
             ],
             [
              1,
              "#f0f921"
             ]
            ],
            "type": "histogram2dcontour"
           }
          ],
          "mesh3d": [
           {
            "colorbar": {
             "outlinewidth": 0,
             "ticks": ""
            },
            "type": "mesh3d"
           }
          ],
          "parcoords": [
           {
            "line": {
             "colorbar": {
              "outlinewidth": 0,
              "ticks": ""
             }
            },
            "type": "parcoords"
           }
          ],
          "pie": [
           {
            "automargin": true,
            "type": "pie"
           }
          ],
          "scatter": [
           {
            "fillpattern": {
             "fillmode": "overlay",
             "size": 10,
             "solidity": 0.2
            },
            "type": "scatter"
           }
          ],
          "scatter3d": [
           {
            "line": {
             "colorbar": {
              "outlinewidth": 0,
              "ticks": ""
             }
            },
            "marker": {
             "colorbar": {
              "outlinewidth": 0,
              "ticks": ""
             }
            },
            "type": "scatter3d"
           }
          ],
          "scattercarpet": [
           {
            "marker": {
             "colorbar": {
              "outlinewidth": 0,
              "ticks": ""
             }
            },
            "type": "scattercarpet"
           }
          ],
          "scattergeo": [
           {
            "marker": {
             "colorbar": {
              "outlinewidth": 0,
              "ticks": ""
             }
            },
            "type": "scattergeo"
           }
          ],
          "scattergl": [
           {
            "marker": {
             "colorbar": {
              "outlinewidth": 0,
              "ticks": ""
             }
            },
            "type": "scattergl"
           }
          ],
          "scattermap": [
           {
            "marker": {
             "colorbar": {
              "outlinewidth": 0,
              "ticks": ""
             }
            },
            "type": "scattermap"
           }
          ],
          "scattermapbox": [
           {
            "marker": {
             "colorbar": {
              "outlinewidth": 0,
              "ticks": ""
             }
            },
            "type": "scattermapbox"
           }
          ],
          "scatterpolar": [
           {
            "marker": {
             "colorbar": {
              "outlinewidth": 0,
              "ticks": ""
             }
            },
            "type": "scatterpolar"
           }
          ],
          "scatterpolargl": [
           {
            "marker": {
             "colorbar": {
              "outlinewidth": 0,
              "ticks": ""
             }
            },
            "type": "scatterpolargl"
           }
          ],
          "scatterternary": [
           {
            "marker": {
             "colorbar": {
              "outlinewidth": 0,
              "ticks": ""
             }
            },
            "type": "scatterternary"
           }
          ],
          "surface": [
           {
            "colorbar": {
             "outlinewidth": 0,
             "ticks": ""
            },
            "colorscale": [
             [
              0,
              "#0d0887"
             ],
             [
              0.1111111111111111,
              "#46039f"
             ],
             [
              0.2222222222222222,
              "#7201a8"
             ],
             [
              0.3333333333333333,
              "#9c179e"
             ],
             [
              0.4444444444444444,
              "#bd3786"
             ],
             [
              0.5555555555555556,
              "#d8576b"
             ],
             [
              0.6666666666666666,
              "#ed7953"
             ],
             [
              0.7777777777777778,
              "#fb9f3a"
             ],
             [
              0.8888888888888888,
              "#fdca26"
             ],
             [
              1,
              "#f0f921"
             ]
            ],
            "type": "surface"
           }
          ],
          "table": [
           {
            "cells": {
             "fill": {
              "color": "#EBF0F8"
             },
             "line": {
              "color": "white"
             }
            },
            "header": {
             "fill": {
              "color": "#C8D4E3"
             },
             "line": {
              "color": "white"
             }
            },
            "type": "table"
           }
          ]
         },
         "layout": {
          "annotationdefaults": {
           "arrowcolor": "#2a3f5f",
           "arrowhead": 0,
           "arrowwidth": 1
          },
          "autotypenumbers": "strict",
          "coloraxis": {
           "colorbar": {
            "outlinewidth": 0,
            "ticks": ""
           }
          },
          "colorscale": {
           "diverging": [
            [
             0,
             "#8e0152"
            ],
            [
             0.1,
             "#c51b7d"
            ],
            [
             0.2,
             "#de77ae"
            ],
            [
             0.3,
             "#f1b6da"
            ],
            [
             0.4,
             "#fde0ef"
            ],
            [
             0.5,
             "#f7f7f7"
            ],
            [
             0.6,
             "#e6f5d0"
            ],
            [
             0.7,
             "#b8e186"
            ],
            [
             0.8,
             "#7fbc41"
            ],
            [
             0.9,
             "#4d9221"
            ],
            [
             1,
             "#276419"
            ]
           ],
           "sequential": [
            [
             0,
             "#0d0887"
            ],
            [
             0.1111111111111111,
             "#46039f"
            ],
            [
             0.2222222222222222,
             "#7201a8"
            ],
            [
             0.3333333333333333,
             "#9c179e"
            ],
            [
             0.4444444444444444,
             "#bd3786"
            ],
            [
             0.5555555555555556,
             "#d8576b"
            ],
            [
             0.6666666666666666,
             "#ed7953"
            ],
            [
             0.7777777777777778,
             "#fb9f3a"
            ],
            [
             0.8888888888888888,
             "#fdca26"
            ],
            [
             1,
             "#f0f921"
            ]
           ],
           "sequentialminus": [
            [
             0,
             "#0d0887"
            ],
            [
             0.1111111111111111,
             "#46039f"
            ],
            [
             0.2222222222222222,
             "#7201a8"
            ],
            [
             0.3333333333333333,
             "#9c179e"
            ],
            [
             0.4444444444444444,
             "#bd3786"
            ],
            [
             0.5555555555555556,
             "#d8576b"
            ],
            [
             0.6666666666666666,
             "#ed7953"
            ],
            [
             0.7777777777777778,
             "#fb9f3a"
            ],
            [
             0.8888888888888888,
             "#fdca26"
            ],
            [
             1,
             "#f0f921"
            ]
           ]
          },
          "colorway": [
           "#636efa",
           "#EF553B",
           "#00cc96",
           "#ab63fa",
           "#FFA15A",
           "#19d3f3",
           "#FF6692",
           "#B6E880",
           "#FF97FF",
           "#FECB52"
          ],
          "font": {
           "color": "#2a3f5f"
          },
          "geo": {
           "bgcolor": "white",
           "lakecolor": "white",
           "landcolor": "#E5ECF6",
           "showlakes": true,
           "showland": true,
           "subunitcolor": "white"
          },
          "hoverlabel": {
           "align": "left"
          },
          "hovermode": "closest",
          "mapbox": {
           "style": "light"
          },
          "paper_bgcolor": "white",
          "plot_bgcolor": "#E5ECF6",
          "polar": {
           "angularaxis": {
            "gridcolor": "white",
            "linecolor": "white",
            "ticks": ""
           },
           "bgcolor": "#E5ECF6",
           "radialaxis": {
            "gridcolor": "white",
            "linecolor": "white",
            "ticks": ""
           }
          },
          "scene": {
           "xaxis": {
            "backgroundcolor": "#E5ECF6",
            "gridcolor": "white",
            "gridwidth": 2,
            "linecolor": "white",
            "showbackground": true,
            "ticks": "",
            "zerolinecolor": "white"
           },
           "yaxis": {
            "backgroundcolor": "#E5ECF6",
            "gridcolor": "white",
            "gridwidth": 2,
            "linecolor": "white",
            "showbackground": true,
            "ticks": "",
            "zerolinecolor": "white"
           },
           "zaxis": {
            "backgroundcolor": "#E5ECF6",
            "gridcolor": "white",
            "gridwidth": 2,
            "linecolor": "white",
            "showbackground": true,
            "ticks": "",
            "zerolinecolor": "white"
           }
          },
          "shapedefaults": {
           "line": {
            "color": "#2a3f5f"
           }
          },
          "ternary": {
           "aaxis": {
            "gridcolor": "white",
            "linecolor": "white",
            "ticks": ""
           },
           "baxis": {
            "gridcolor": "white",
            "linecolor": "white",
            "ticks": ""
           },
           "bgcolor": "#E5ECF6",
           "caxis": {
            "gridcolor": "white",
            "linecolor": "white",
            "ticks": ""
           }
          },
          "title": {
           "x": 0.05
          },
          "xaxis": {
           "automargin": true,
           "gridcolor": "white",
           "linecolor": "white",
           "ticks": "",
           "title": {
            "standoff": 15
           },
           "zerolinecolor": "white",
           "zerolinewidth": 2
          },
          "yaxis": {
           "automargin": true,
           "gridcolor": "white",
           "linecolor": "white",
           "ticks": "",
           "title": {
            "standoff": 15
           },
           "zerolinecolor": "white",
           "zerolinewidth": 2
          }
         }
        },
        "title": {
         "text": "Energy contour integral"
        },
        "width": 800,
        "xaxis": {
         "gridwidth": 1,
         "showgrid": true,
         "title": {
          "text": "Real axis [eV]"
         }
        },
        "yaxis": {
         "gridwidth": 1,
         "scaleanchor": "x",
         "scaleratio": 1,
         "showgrid": true,
         "title": {
          "text": "Imaginary axis [eV]"
         }
        }
       }
      }
     },
     "metadata": {},
     "output_type": "display_data"
    },
    {
     "data": {
      "text/plain": [
       "<grogupy.Contour emin=-8.074511730000001, emax=0, eset=100, esetp=10000>"
      ]
     },
     "execution_count": 4,
     "metadata": {},
     "output_type": "execute_result"
    }
   ],
   "source": [
    "simulation_contour = grogupy.Contour(\n",
    "    eset=100,\n",
    "    esetp=10000,\n",
    "    emin=None,\n",
    "    emax=0,\n",
    "    emin_shift=-5,\n",
    "    emax_shift=0,\n",
    "    eigfile=infile,\n",
    ")\n",
    "simulation_contour.plot().show()\n",
    "simulation_contour"
   ]
  },
  {
   "cell_type": "code",
   "execution_count": 5,
   "metadata": {},
   "outputs": [
    {
     "name": "stderr",
     "output_type": "stream",
     "text": [
      "Spin box Hamiltonian: 100%|██████████| 1/1 [00:00<00:00, 339.34it/s]\n",
      "Spin box Overlap matrix: 100%|██████████| 1/1 [00:00<00:00, 1700.85it/s]\n",
      "Symmetrize Hamiltonian: 100%|██████████| 1/1 [00:00<00:00, 2145.42it/s]\n",
      "Transpose Hamiltonian: 100%|██████████| 1/1 [00:00<00:00, 4505.16it/s]\n",
      "Calculate V_XCF: 100%|██████████| 1/1 [00:00<00:00, 4462.03it/s]\n",
      "Calculate H_XC: 100%|██████████| 3/3 [00:00<00:00, 9137.92it/s]\n"
     ]
    }
   ],
   "source": [
    "simulation_hamiltonian = grogupy.Hamiltonian(\n",
    "    infile,\n",
    "    [0, 0, 1],\n",
    ")"
   ]
  },
  {
   "cell_type": "code",
   "execution_count": 6,
   "metadata": {},
   "outputs": [
    {
     "name": "stderr",
     "output_type": "stream",
     "text": [
      "/Users/danielpozsar/Documents/studies/elte/phd/grogu/.venv/lib/python3.12/site-packages/grogupy/physics/builder.py:233: UserWarning:\n",
      "\n",
      "Matlabmode is used, the exchange field reference directions were set to x,y,z!\n",
      "\n"
     ]
    },
    {
     "data": {
      "text/plain": [
       "[{'o': array([1, 0, 0]),\n",
       "  'vw': [array([0, 1, 0]),\n",
       "   array([0, 0, 1]),\n",
       "   array([0.        , 0.70710678, 0.70710678])]},\n",
       " {'o': array([0, 1, 0]),\n",
       "  'vw': [array([1, 0, 0]),\n",
       "   array([0, 0, 1]),\n",
       "   array([0.70710678, 0.        , 0.70710678])]},\n",
       " {'o': array([0, 0, 1]),\n",
       "  'vw': [array([1, 0, 0]),\n",
       "   array([0, 1, 0]),\n",
       "   array([0.70710678, 0.70710678, 0.        ])]}]"
      ]
     },
     "execution_count": 6,
     "metadata": {},
     "output_type": "execute_result"
    }
   ],
   "source": [
    "xyz = np.array([[1, 0, 0], [0, 1, 0], [0, 0, 1]])\n",
    "\n",
    "simulation = grogupy.Builder(xyz, matlabmode=True)\n",
    "\n",
    "simulation.add_kspace(simulation_kspace)\n",
    "simulation.add_contour(simulation_contour)\n",
    "simulation.add_hamiltonian(simulation_hamiltonian)\n",
    "simulation.ref_xcf_orientations"
   ]
  },
  {
   "cell_type": "code",
   "execution_count": 7,
   "metadata": {},
   "outputs": [
    {
     "name": "stderr",
     "output_type": "stream",
     "text": [
      "Add magnetic entities:: 100%|██████████| 3/3 [00:00<00:00, 530.21it/s]\n"
     ]
    },
    {
     "data": {
      "text/plain": [
       "[<grogupy.MagneticEntity tag=0Cr(l:2), SBS=20>,\n",
       " <grogupy.MagneticEntity tag=1Cr(l:2), SBS=20>,\n",
       " <grogupy.MagneticEntity tag=2Cr(l:2), SBS=20>]"
      ]
     },
     "execution_count": 7,
     "metadata": {},
     "output_type": "execute_result"
    }
   ],
   "source": [
    "magnetic_entities = [\n",
    "    dict(atom=0, l=2),\n",
    "    dict(atom=1, l=2),\n",
    "    dict(atom=2, l=2),\n",
    "]\n",
    "simulation.add_magnetic_entities(magnetic_entities)\n",
    "simulation.magnetic_entities"
   ]
  },
  {
   "cell_type": "code",
   "execution_count": 8,
   "metadata": {},
   "outputs": [
    {
     "name": "stderr",
     "output_type": "stream",
     "text": [
      "Add pairs:: 100%|██████████| 3/3 [00:00<00:00, 10856.70it/s]\n"
     ]
    },
    {
     "data": {
      "text/plain": [
       "[<grogupy.Pair tag1=0Cr(l:2), tag2=1Cr(l:2), Ruc=[0 0 0]>,\n",
       " <grogupy.Pair tag1=1Cr(l:2), tag2=2Cr(l:2), Ruc=[0 0 0]>,\n",
       " <grogupy.Pair tag1=2Cr(l:2), tag2=0Cr(l:2), Ruc=[0 0 0]>]"
      ]
     },
     "execution_count": 8,
     "metadata": {},
     "output_type": "execute_result"
    }
   ],
   "source": [
    "pairs = [\n",
    "    dict(ai=0, aj=1, Ruc=np.array([0, 0, 0])),\n",
    "    dict(ai=1, aj=2, Ruc=np.array([0, 0, 0])),\n",
    "    dict(ai=2, aj=0, Ruc=np.array([0, 0, 0])),\n",
    "]\n",
    "simulation.add_pairs(pairs)\n",
    "simulation.pairs"
   ]
  },
  {
   "cell_type": "code",
   "execution_count": 9,
   "metadata": {},
   "outputs": [
    {
     "name": "stderr",
     "output_type": "stream",
     "text": [
      "Rotating Exchange field: 100%|██████████| 3/3 [00:00<00:00, 11759.73it/s]\n",
      "Setup magnetic entities for rotated hamiltonian: 100%|██████████| 3/3 [00:00<00:00, 13706.88it/s]\n",
      "Setup pairs for rotated hamiltonian: 100%|██████████| 3/3 [00:00<00:00, 5737.76it/s]\n",
      "Parallel over k on CPU0:: 100%|██████████| 1/1 [00:00<00:00, 13.21it/s]\n",
      "Setup perturbations for rotated hamiltonian: 100%|██████████| 3/3 [00:00<00:00, 21921.45it/s]\n",
      "Setup perturbations for rotated hamiltonian: 100%|██████████| 3/3 [00:00<00:00, 31536.12it/s]\n",
      "Setup perturbations for rotated hamiltonian: 100%|██████████| 3/3 [00:00<00:00, 26602.35it/s]\n",
      "Rotating Exchange field: 100%|██████████| 3/3 [00:00<00:00, 13273.11it/s]\n",
      "Setup magnetic entities for rotated hamiltonian: 100%|██████████| 3/3 [00:00<00:00, 26772.15it/s]\n",
      "Setup pairs for rotated hamiltonian: 100%|██████████| 3/3 [00:00<00:00, 12985.46it/s]\n",
      "Setup perturbations for rotated hamiltonian: 100%|██████████| 3/3 [00:00<00:00, 28859.89it/s]\n",
      "Setup perturbations for rotated hamiltonian: 100%|██████████| 3/3 [00:00<00:00, 42945.09it/s]\n",
      "Setup perturbations for rotated hamiltonian: 100%|██████████| 3/3 [00:00<00:00, 23786.22it/s]\n",
      "Rotating Exchange field: 100%|██████████| 3/3 [00:00<00:00, 8879.97it/s]\n",
      "Setup magnetic entities for rotated hamiltonian: 100%|██████████| 3/3 [00:00<00:00, 28597.53it/s]\n",
      "Setup pairs for rotated hamiltonian: 100%|██████████| 3/3 [00:00<00:00, 11770.73it/s]\n",
      "Setup perturbations for rotated hamiltonian: 100%|██████████| 3/3 [00:00<00:00, 65196.44it/s]\n",
      "Setup perturbations for rotated hamiltonian: 100%|██████████| 3/3 [00:00<00:00, 21883.33it/s]\n",
      "Setup perturbations for rotated hamiltonian: 100%|██████████| 3/3 [00:00<00:00, 18423.00it/s]\n"
     ]
    }
   ],
   "source": [
    "simulation.solve()"
   ]
  },
  {
   "cell_type": "code",
   "execution_count": 10,
   "metadata": {},
   "outputs": [
    {
     "name": "stdout",
     "output_type": "stream",
     "text": [
      "# ================================================================================\n",
      "# grogupy version: 0.0.9\n",
      "# Input file: ../benchmarks/Cr3/Cr3.fdf\n",
      "# Spin mode: SPIN-ORBIT\n",
      "# ================================================================================\n",
      "# SLURM job ID: Could not be determined.\n",
      "# Architecture: CPU\n",
      "# Number of nodes in the parallel cluster: 1\n",
      "# Parallelization is over: K\n",
      "# Solver used for Greens function calculation: Sequential\n",
      "# Solver used for Exchange tensor: grogupy\n",
      "# Solver used for Anisotropy tensor: grogupy\n",
      "# ================================================================================\n",
      "# Cell [Ang]:\n",
      "# 1.442498074906033700e+01 -2.498479955557547072e+01 0.000000000000000000e+00\n",
      "# 1.442498074906033700e+01 2.498479955557547072e+01 0.000000000000000000e+00\n",
      "# 0.000000000000000000e+00 0.000000000000000000e+00 2.884996149812067401e+01\n",
      "# ================================================================================\n",
      "# DFT axis: [0 0 1]\n",
      "# Quantization axis and perpendicular rotation directions:\n",
      "# [1 0 0] --> [array([0, 1, 0]), array([0, 0, 1]), array([0.        , 0.70710678, 0.70710678])]\n",
      "# [0 1 0] --> [array([1, 0, 0]), array([0, 0, 1]), array([0.70710678, 0.        , 0.70710678])]\n",
      "# [0 0 1] --> [array([1, 0, 0]), array([0, 1, 0]), array([0.70710678, 0.70710678, 0.        ])]\n",
      "# ================================================================================\n",
      "# Parameters for the Brillouin zone sampling:\n",
      "# Number of k points: 1\n",
      "# K points in each directions: [1 1 1]\n",
      "# Parameters for the contour integral:\n",
      "# Eset: 100\n",
      "# Esetp: 10000\n",
      "# Ebot: -8.074511730000001        WARNING: This was automatically determined!\n",
      "# Etop: 0\n",
      "# ================================================================================\n",
      "# \n",
      "================================================================================\n",
      "cell Angstrom\n",
      "1.442498074906033700e+01 -2.498479955557547072e+01 0.000000000000000000e+00\n",
      "1.442498074906033700e+01 2.498479955557547072e+01 0.000000000000000000e+00\n",
      "0.000000000000000000e+00 0.000000000000000000e+00 2.884996149812067401e+01\n",
      "================================================================================\n",
      "atoms Angstrom\n",
      "name\tx\ty\tz\tSx\tSy\tSz\t# Q\n",
      "0Cr(l:2) 0.0 -1.4424980749060339 0.0 -1.1382265866336597e-12 -1.511320394498882e-12 5.3324805164117155 # 6.000000053627466\n",
      "1Cr(l:2) 0.0 1.4424980749060339 0.0 -4.1734441751070037e-13 1.1434426732941116e-12 5.3324805141618485 # 6.000000060529188\n",
      "2Cr(l:2) 2.4984799555575465 0.0 0.0 1.5328357268162278e-12 3.5438638755929483e-13 5.332480995312197 # 5.999999885843348\n",
      "================================================================================\n",
      "notation\n",
      "double-counting True\n",
      "spin-normalized True\n",
      "exchange-factor 0.5\n",
      "on-site-factor 1\n",
      "================================================================================\n",
      "exchange meV\n",
      "--------------------------------------------------------------------------------\n",
      "0Cr(l:2) 1Cr(l:2) 0 0 0 # distance [Ang]: 2.8849961498120678\n",
      "isotropic 148.44855662923675\n",
      "DMI 0.0005591999336621936 0.00013167760357612066 -14.267560379343777 # Dx Dy Dz\n",
      "symmetric-anisotropy 0.7325281367498064 -1.4654309229179887 -14.267560384234931 -0.00013167776517098928 0.0005591999627550817 # Sxx Syy Sxy Sxz Syz\n",
      "--------------------------------------------------------------------------------\n",
      "1Cr(l:2) 2Cr(l:2) 0 0 0 # distance [Ang]: 2.8849961498120673\n",
      "isotropic 148.46881446442214\n",
      "DMI 0.00023854267298685164 0.00045230269542161214 -14.267391824334847 # Dx Dy Dz\n",
      "symmetric-anisotropy 0.847800871136087 -1.5519484322296364 -14.305502837808453 0.000995055037517751 0.0016857321071196815 # Sxx Syy Sxy Sxz Syz\n",
      "--------------------------------------------------------------------------------\n",
      "2Cr(l:2) 0Cr(l:2) 0 0 0 # distance [Ang]: 2.8849961498120673\n",
      "isotropic 148.46881147213227\n",
      "DMI 0.00023854269177157048 0.00045230242964461 -14.267393257914554 # Dx Dy Dz\n",
      "symmetric-anisotropy 0.8478039572327987 -1.5519546037145346 -14.229282276888542 -0.0018996598361232279 -0.0012086466117076193 # Sxx Syy Sxy Sxz Syz\n",
      "--------------------------------------------------------------------------------\n",
      "================================================================================\n",
      "on-site meV\n",
      "--------------------------------------------------------------------------------\n",
      "0Cr(l:2)\n",
      "-0.11606723966717247 -0.1515601004342948 0.0 0.042959752044685606 0.0014454952836084889 0.0014443747097248052 # Kxx Kyy Kzz Kxy Kxz Kyz\n",
      "--------------------------------------------------------------------------------\n",
      "1Cr(l:2)\n",
      "-0.11606723949153518 -0.15156009693681471 0.0 -0.04295972255424774 -0.0014454947825925932 -0.0014443748665715628 # Kxx Kyy Kzz Kxy Kxz Kyz\n",
      "--------------------------------------------------------------------------------\n",
      "2Cr(l:2)\n",
      "-0.1692643261471116 -0.09827964523370647 0.0 2.3635232659913186e-08 -7.806533197651788e-10 -2.069455717901292e-10 # Kxx Kyy Kzz Kxy Kxz Kyz\n",
      "--------------------------------------------------------------------------------\n",
      "================================================================================\n",
      "\n"
     ]
    }
   ],
   "source": [
    "print(simulation.to_magnopy())"
   ]
  },
  {
   "cell_type": "code",
   "execution_count": 11,
   "metadata": {},
   "outputs": [
    {
     "name": "stderr",
     "output_type": "stream",
     "text": [
      "/Users/danielpozsar/Documents/studies/elte/phd/grogu/.venv/lib/python3.12/site-packages/grogupy/physics/utilities.py:534: UserWarning:\n",
      "\n",
      "This is experimenal!\n",
      "\n",
      "/Users/danielpozsar/Documents/studies/elte/phd/grogu/.venv/lib/python3.12/site-packages/grogupy/physics/utilities.py:676: UserWarning:\n",
      "\n",
      "This is experimenal!\n",
      "\n"
     ]
    }
   ],
   "source": [
    "K_fit = []\n",
    "K_calc = []\n",
    "K_cons = []\n",
    "for mag_ent in simulation.magnetic_entities:\n",
    "    mag_ent.fit_anisotropy_tensor(simulation.ref_xcf_orientations)\n",
    "    K_fit.append(mag_ent.K_meV)\n",
    "    mag_ent.calculate_anisotropy()\n",
    "    K_calc.append(mag_ent.K_meV)\n",
    "    K_cons.append(mag_ent.K_consistency_meV)\n",
    "\n",
    "K_fit = np.array(K_fit)\n",
    "K_calc = np.array(K_calc)\n",
    "\n",
    "\n",
    "J_fit = []\n",
    "D_fit = []\n",
    "S_fit = []\n",
    "J_calc = []\n",
    "D_calc = []\n",
    "S_calc = []\n",
    "for pair in simulation.pairs:\n",
    "    pair.fit_exchange_tensor(simulation.ref_xcf_orientations)\n",
    "    J_fit.append(pair.J_meV)\n",
    "    D_fit.append(pair.D_meV)\n",
    "    S_fit.append(pair.J_S_meV)\n",
    "    pair.calculate_exchange_tensor()\n",
    "    J_calc.append(pair.J_meV)\n",
    "    D_calc.append(pair.D_meV)\n",
    "    S_calc.append(pair.J_S_meV)\n",
    "\n",
    "J_fit = np.array(J_fit)\n",
    "J_calc = np.array(J_calc)\n",
    "D_fit = np.array(D_fit)\n",
    "D_calc = np.array(D_calc)\n",
    "S_fit = np.array(S_fit)\n",
    "S_calc = np.array(S_calc)"
   ]
  },
  {
   "cell_type": "code",
   "execution_count": 12,
   "metadata": {},
   "outputs": [
    {
     "name": "stderr",
     "output_type": "stream",
     "text": [
      "Add magnetic entities:: 100%|██████████| 3/3 [00:00<00:00, 1541.65it/s]\n",
      "Add pairs:: 100%|██████████| 3/3 [00:00<00:00, 20971.52it/s]\n",
      "Rotating Exchange field: 100%|██████████| 3/3 [00:00<00:00, 13259.13it/s]\n",
      "Setup magnetic entities for rotated hamiltonian: 100%|██████████| 3/3 [00:00<00:00, 21112.27it/s]\n",
      "Setup pairs for rotated hamiltonian: 100%|██████████| 3/3 [00:00<00:00, 12396.96it/s]\n",
      "Parallel over k on CPU0:: 100%|██████████| 1/1 [00:00<00:00, 14.97it/s]\n",
      "Setup perturbations for rotated hamiltonian: 100%|██████████| 3/3 [00:00<00:00, 16131.94it/s]\n",
      "Setup perturbations for rotated hamiltonian: 100%|██████████| 3/3 [00:00<00:00, 73156.47it/s]\n",
      "Rotating Exchange field: 100%|██████████| 3/3 [00:00<00:00, 12348.29it/s]\n",
      "Setup magnetic entities for rotated hamiltonian: 100%|██████████| 3/3 [00:00<00:00, 19122.97it/s]\n",
      "Setup pairs for rotated hamiltonian: 100%|██████████| 3/3 [00:00<00:00, 8479.05it/s]\n",
      "Setup perturbations for rotated hamiltonian: 100%|██████████| 3/3 [00:00<00:00, 49344.75it/s]\n",
      "Setup perturbations for rotated hamiltonian: 100%|██████████| 3/3 [00:00<00:00, 63872.65it/s]\n",
      "Rotating Exchange field: 100%|██████████| 3/3 [00:00<00:00, 10941.66it/s]\n",
      "Setup magnetic entities for rotated hamiltonian: 100%|██████████| 3/3 [00:00<00:00, 28024.30it/s]\n",
      "Setup pairs for rotated hamiltonian: 100%|██████████| 3/3 [00:00<00:00, 17119.61it/s]\n",
      "Setup perturbations for rotated hamiltonian: 100%|██████████| 3/3 [00:00<00:00, 39444.87it/s]\n",
      "Setup perturbations for rotated hamiltonian: 100%|██████████| 3/3 [00:00<00:00, 22753.91it/s]\n"
     ]
    }
   ],
   "source": [
    "xyz = np.array([[1, 0, 0], [0, 1, 0], [0, 0, 1]])\n",
    "\n",
    "simulation_2 = grogupy.Builder(xyz, matlabmode=False)\n",
    "\n",
    "simulation_2.add_kspace(simulation_kspace)\n",
    "simulation_2.add_contour(simulation_contour)\n",
    "simulation_2.add_hamiltonian(simulation_hamiltonian)\n",
    "simulation_2.add_magnetic_entities(magnetic_entities)\n",
    "simulation_2.add_pairs(pairs)\n",
    "simulation_2.pairs\n",
    "simulation_2.solve()\n",
    "\n",
    "J_fit_2 = []\n",
    "D_fit_2 = []\n",
    "S_fit_2 = []\n",
    "for pair in simulation_2.pairs:\n",
    "    pair.fit_exchange_tensor(simulation_2.ref_xcf_orientations)\n",
    "    J_fit_2.append(pair.J_meV)\n",
    "    D_fit_2.append(pair.D_meV)\n",
    "    S_fit_2.append(pair.J_S_meV)\n",
    "\n",
    "J_fit_2 = np.array(J_fit_2)\n",
    "D_fit_2 = np.array(D_fit_2)\n",
    "S_fit_2 = np.array(S_fit_2)\n",
    "\n",
    "K_fit_2 = []\n",
    "for mag_ent in simulation_2.magnetic_entities:\n",
    "    mag_ent.fit_anisotropy_tensor(simulation_2.ref_xcf_orientations)\n",
    "    K_fit_2.append(mag_ent.K_meV)\n",
    "K_fit_2 = np.array(K_fit_2)"
   ]
  },
  {
   "cell_type": "code",
   "execution_count": 13,
   "metadata": {},
   "outputs": [
    {
     "name": "stderr",
     "output_type": "stream",
     "text": [
      "Add magnetic entities:: 100%|██████████| 3/3 [00:00<00:00, 1307.04it/s]\n",
      "Add pairs:: 100%|██████████| 3/3 [00:00<00:00, 21254.92it/s]\n",
      "Rotating Exchange field: 100%|██████████| 3/3 [00:00<00:00, 8024.82it/s]\n",
      "Setup magnetic entities for rotated hamiltonian: 100%|██████████| 3/3 [00:00<00:00, 21883.33it/s]\n",
      "Setup pairs for rotated hamiltonian: 100%|██████████| 3/3 [00:00<00:00, 13329.36it/s]\n",
      "Parallel over k on CPU0:: 100%|██████████| 1/1 [00:00<00:00, 15.58it/s]\n",
      "Setup perturbations for rotated hamiltonian: 100%|██████████| 3/3 [00:00<00:00, 16822.07it/s]\n",
      "Setup perturbations for rotated hamiltonian: 100%|██████████| 3/3 [00:00<00:00, 63872.65it/s]\n",
      "Rotating Exchange field: 100%|██████████| 3/3 [00:00<00:00, 15087.42it/s]\n",
      "Setup magnetic entities for rotated hamiltonian: 100%|██████████| 3/3 [00:00<00:00, 21006.53it/s]\n",
      "Setup pairs for rotated hamiltonian: 100%|██████████| 3/3 [00:00<00:00, 10627.46it/s]\n",
      "Setup perturbations for rotated hamiltonian: 100%|██████████| 3/3 [00:00<00:00, 54471.48it/s]\n",
      "Setup perturbations for rotated hamiltonian: 100%|██████████| 3/3 [00:00<00:00, 31536.12it/s]\n",
      "Rotating Exchange field: 100%|██████████| 3/3 [00:00<00:00, 11672.46it/s]\n",
      "Setup magnetic entities for rotated hamiltonian: 100%|██████████| 3/3 [00:00<00:00, 17355.74it/s]\n",
      "Setup pairs for rotated hamiltonian: 100%|██████████| 3/3 [00:00<00:00, 8768.58it/s]\n",
      "Setup perturbations for rotated hamiltonian: 100%|██████████| 3/3 [00:00<00:00, 65536.00it/s]\n",
      "Setup perturbations for rotated hamiltonian: 100%|██████████| 3/3 [00:00<00:00, 65196.44it/s]\n"
     ]
    }
   ],
   "source": [
    "xyz = np.array(\n",
    "    [\n",
    "        [np.cos(np.pi / 3), np.sin(np.pi / 3), 0],\n",
    "        [np.cos(2 * np.pi / 3), np.sin(2 * np.pi / 3), 0],\n",
    "        [1, 0, 0],\n",
    "        # [0, 1, 0],\n",
    "        # [0, 0, 1],\n",
    "    ]\n",
    ")\n",
    "\n",
    "simulation_3 = grogupy.Builder(xyz)\n",
    "\n",
    "simulation_3.add_kspace(simulation_kspace)\n",
    "simulation_3.add_contour(simulation_contour)\n",
    "simulation_3.add_hamiltonian(simulation_hamiltonian)\n",
    "simulation_3.add_magnetic_entities(magnetic_entities)\n",
    "simulation_3.add_pairs(pairs)\n",
    "simulation_3.solve()\n",
    "\n",
    "J_fit_3 = []\n",
    "D_fit_3 = []\n",
    "S_fit_3 = []\n",
    "for pair in simulation_3.pairs:\n",
    "    pair.fit_exchange_tensor(simulation_3.ref_xcf_orientations)\n",
    "    J_fit_3.append(pair.J_meV)\n",
    "    D_fit_3.append(pair.D_meV)\n",
    "    S_fit_3.append(pair.J_S_meV)\n",
    "\n",
    "J_fit_3 = np.array(J_fit_3)\n",
    "D_fit_3 = np.array(D_fit_3)\n",
    "S_fit_3 = np.array(S_fit_3)\n",
    "\n",
    "K_fit_3 = []\n",
    "for mag_ent in simulation_3.magnetic_entities:\n",
    "    mag_ent.fit_anisotropy_tensor(simulation_3.ref_xcf_orientations)\n",
    "    K_fit_3.append(mag_ent.K_meV)\n",
    "K_fit_3 = np.array(K_fit_3)"
   ]
  },
  {
   "cell_type": "code",
   "execution_count": 14,
   "metadata": {},
   "outputs": [],
   "source": [
    "rounding = 3\n",
    "K_cons = np.around(K_cons, rounding)\n",
    "\n",
    "J_calc = np.around(J_calc, rounding)\n",
    "D_calc = np.around(D_calc, rounding)\n",
    "S_calc = np.around(S_calc, rounding)\n",
    "K_calc = np.around(K_calc, rounding)\n",
    "\n",
    "\n",
    "J_fit = np.around(J_fit, rounding)\n",
    "D_fit = np.around(D_fit, rounding)\n",
    "S_fit = np.around(S_fit, rounding)\n",
    "K_fit = np.around(K_fit, rounding)\n",
    "\n",
    "J_fit_2 = np.around(J_fit_2, rounding)\n",
    "D_fit_2 = np.around(D_fit_2, rounding)\n",
    "S_fit_2 = np.around(S_fit_2, rounding)\n",
    "K_fit_2 = np.around(K_fit_2, rounding)\n",
    "\n",
    "J_fit_3 = np.around(J_fit_3, rounding)\n",
    "D_fit_3 = np.around(D_fit_3, rounding)\n",
    "S_fit_3 = np.around(S_fit_3, rounding)\n",
    "K_fit_3 = np.around(K_fit_3, rounding)"
   ]
  },
  {
   "cell_type": "code",
   "execution_count": 15,
   "metadata": {},
   "outputs": [
    {
     "name": "stdout",
     "output_type": "stream",
     "text": [
      "K_cons should be zero\n"
     ]
    },
    {
     "data": {
      "text/plain": [
       "array([0.085, 0.085, 0.17 ])"
      ]
     },
     "execution_count": 15,
     "metadata": {},
     "output_type": "execute_result"
    }
   ],
   "source": [
    "print(\"K_cons should be zero\")\n",
    "K_cons"
   ]
  },
  {
   "cell_type": "code",
   "execution_count": 16,
   "metadata": {},
   "outputs": [
    {
     "name": "stdout",
     "output_type": "stream",
     "text": [
      "J_fit, J_calc\n",
      "False\n",
      "K_fit, K_calc\n",
      "False\n",
      "\n",
      "J_fit, J_fit2\n",
      "True\n",
      "K_fit, K_fit2\n",
      "True\n",
      "\n",
      "J_fit, J_fit3\n",
      "False\n",
      "K_fit, K_fit3\n",
      "False\n"
     ]
    }
   ],
   "source": [
    "print(\"J_fit, J_calc\")\n",
    "print((J_fit == J_calc).all())\n",
    "print(\"K_fit, K_calc\")\n",
    "print((K_fit == K_calc).all())\n",
    "print()\n",
    "print(\"J_fit, J_fit2\")\n",
    "print((J_fit == J_fit_2).all())\n",
    "print(\"K_fit, K_fit2\")\n",
    "print((K_fit == K_fit_2).all())\n",
    "print()\n",
    "print(\"J_fit, J_fit3\")\n",
    "print((J_fit == J_fit_3).all())\n",
    "print(\"K_fit, K_fit3\")\n",
    "print((K_fit == K_fit_3).all())"
   ]
  },
  {
   "cell_type": "code",
   "execution_count": 17,
   "metadata": {},
   "outputs": [
    {
     "name": "stdout",
     "output_type": "stream",
     "text": [
      "Off diagonal part is equal\n",
      "D_fit, D_calc\n",
      "True\n",
      "\n",
      "S_fit, S_calc\n",
      "True\n",
      "\n",
      "Jfit, Jcalc\n",
      "[148.038 148.139 148.139]\n",
      "[149.181 149.317 149.317]\n",
      "\n",
      "[148.173 148.071 148.071]\n",
      "[146.983 146.917 146.917]\n",
      "\n",
      "[149.176 149.176 149.176]\n",
      "[149.181 149.173 149.173]\n"
     ]
    }
   ],
   "source": [
    "print(\"Off diagonal part is equal\")\n",
    "print(\"D_fit, D_calc\")\n",
    "print((D_fit == D_calc).all())\n",
    "print()\n",
    "print(\"S_fit, S_calc\")\n",
    "print((S_fit == S_calc).all())\n",
    "print()\n",
    "print(\"Jfit, Jcalc\")\n",
    "print(J_fit[:, 0, 0])\n",
    "print(J_calc[:, 0, 0])\n",
    "print()\n",
    "print(J_fit[:, 1, 1])\n",
    "print(J_calc[:, 1, 1])\n",
    "print()\n",
    "print(J_fit[:, 2, 2])\n",
    "print(J_calc[:, 2, 2])"
   ]
  },
  {
   "cell_type": "code",
   "execution_count": 18,
   "metadata": {},
   "outputs": [
    {
     "name": "stdout",
     "output_type": "stream",
     "text": [
      "K_fit, K_calc\n",
      "[-0.144 -0.144 -0.113]\n",
      "[-0.116 -0.116 -0.169]\n",
      "\n",
      "[-0.123 -0.123 -0.155]\n",
      "[-0.152 -0.152 -0.098]\n",
      "\n",
      "[ 0.042 -0.042  0.   ]\n",
      "[ 0.043 -0.043  0.   ]\n",
      "\n",
      "[ 0.002 -0.002 -0.   ]\n",
      "[ 0.001 -0.001 -0.   ]\n",
      "\n",
      "[ 0.002 -0.002 -0.   ]\n",
      "[ 0.001 -0.001 -0.   ]\n"
     ]
    }
   ],
   "source": [
    "print(\"K_fit, K_calc\")\n",
    "print(K_fit[:, 0, 0])\n",
    "print(K_calc[:, 0, 0])\n",
    "print()\n",
    "print(K_fit[:, 1, 1])\n",
    "print(K_calc[:, 1, 1])\n",
    "print()\n",
    "print(K_fit[:, 0, 1])\n",
    "print(K_calc[:, 0, 1])\n",
    "print()\n",
    "print(K_fit[:, 0, 2])\n",
    "print(K_calc[:, 0, 2])\n",
    "print()\n",
    "print(K_fit[:, 1, 2])\n",
    "print(K_calc[:, 1, 2])"
   ]
  },
  {
   "cell_type": "code",
   "execution_count": 19,
   "metadata": {},
   "outputs": [
    {
     "name": "stdout",
     "output_type": "stream",
     "text": [
      "Off diagonal part is equal\n",
      "D_fit, D_fit_3\n",
      "False\n",
      "\n",
      "S_fit, S_fit_3\n",
      "False\n",
      "\n",
      "J_fit, J_fit_3\n",
      "[148.038 148.139 148.139]\n",
      "[-2045.355 -1487.242 -1895.59 ]\n",
      "\n",
      "[148.173 148.071 148.071]\n",
      "[880.875 694.745 830.862]\n",
      "\n",
      "[149.176 149.176 149.176]\n",
      "[149.176 149.176 149.176]\n"
     ]
    }
   ],
   "source": [
    "print(\"Off diagonal part is equal\")\n",
    "print(\"D_fit, D_fit_3\")\n",
    "print((D_fit == D_fit_3).all())\n",
    "print()\n",
    "print(\"S_fit, S_fit_3\")\n",
    "print((S_fit == S_fit_3).all())\n",
    "print()\n",
    "print(\"J_fit, J_fit_3\")\n",
    "print(J_fit[:, 0, 0])\n",
    "print(J_fit_3[:, 0, 0])\n",
    "print()\n",
    "print(J_fit[:, 1, 1])\n",
    "print(J_fit_3[:, 1, 1])\n",
    "print()\n",
    "print(J_fit[:, 2, 2])\n",
    "print(J_fit_3[:, 2, 2])"
   ]
  },
  {
   "cell_type": "code",
   "execution_count": 20,
   "metadata": {},
   "outputs": [
    {
     "name": "stdout",
     "output_type": "stream",
     "text": [
      "K_fit, K_fit_3\n",
      "[-0.144 -0.144 -0.113]\n",
      "[0.187 0.184 0.188]\n",
      "\n",
      "[-0.123 -0.123 -0.155]\n",
      "[-0.152 -0.152 -0.098]\n",
      "\n",
      "[ 0.042 -0.042  0.   ]\n",
      "[-0.021  0.021  0.   ]\n",
      "\n",
      "[ 0.002 -0.002 -0.   ]\n",
      "[ 0.01 -0.01 -0.  ]\n",
      "\n",
      "[ 0.002 -0.002 -0.   ]\n",
      "[0.044 0.042 0.053]\n"
     ]
    }
   ],
   "source": [
    "print(\"K_fit, K_fit_3\")\n",
    "print(K_fit[:, 0, 0])\n",
    "print(K_fit_3[:, 0, 0])\n",
    "print()\n",
    "print(K_fit[:, 1, 1])\n",
    "print(K_fit_3[:, 1, 1])\n",
    "print()\n",
    "print(K_fit[:, 0, 1])\n",
    "print(K_fit_3[:, 0, 1])\n",
    "print()\n",
    "print(K_fit[:, 0, 2])\n",
    "print(K_fit_3[:, 0, 2])\n",
    "print()\n",
    "print(K_fit[:, 1, 2])\n",
    "print(K_fit_3[:, 1, 2])"
   ]
  },
  {
   "cell_type": "code",
   "execution_count": 21,
   "metadata": {},
   "outputs": [
    {
     "data": {
      "text/plain": [
       "array([[ 2.22044605e-16, -1.00000000e+00,  0.00000000e+00],\n",
       "       [ 1.00000000e+00,  2.22044605e-16,  0.00000000e+00],\n",
       "       [ 0.00000000e+00,  0.00000000e+00,  1.00000000e+00]])"
      ]
     },
     "execution_count": 21,
     "metadata": {},
     "output_type": "execute_result"
    }
   ],
   "source": [
    "from scipy.spatial.transform import Rotation as R\n",
    "import numpy as np\n",
    "\n",
    "r = R.from_rotvec(np.pi / 2 * np.array([0, 0, 1]))\n",
    "r.as_matrix()"
   ]
  },
  {
   "cell_type": "code",
   "execution_count": 22,
   "metadata": {},
   "outputs": [],
   "source": [
    "grogupy.save(simulation, \"test_builder.pkl\", compress=0)\n",
    "grogupy.save(simulation.contour, \"test_contour.pkl\", compress=0)\n",
    "grogupy.save(simulation.kspace, \"test_kspace.pkl\", compress=0)\n",
    "grogupy.save(simulation.hamiltonian, \"test_hamiltonian.pkl\", compress=0)\n",
    "grogupy.save(simulation.pairs[0], \"test_pair.pkl\", compress=0)\n",
    "grogupy.save(simulation.magnetic_entities[0], \"test_magnetic_entity.pkl\", compress=0)"
   ]
  },
  {
   "cell_type": "code",
   "execution_count": 23,
   "metadata": {},
   "outputs": [],
   "source": [
    "grogupy.save_UppASD(simulation, \"./\")"
   ]
  },
  {
   "cell_type": "code",
   "execution_count": null,
   "metadata": {},
   "outputs": [],
   "source": []
  }
 ],
 "metadata": {
  "kernelspec": {
   "display_name": ".venv",
   "language": "python",
   "name": "python3"
  },
  "language_info": {
   "codemirror_mode": {
    "name": "ipython",
    "version": 3
   },
   "file_extension": ".py",
   "mimetype": "text/x-python",
   "name": "python",
   "nbconvert_exporter": "python",
   "pygments_lexer": "ipython3",
   "version": "3.12.9"
  }
 },
 "nbformat": 4,
 "nbformat_minor": 2
}
