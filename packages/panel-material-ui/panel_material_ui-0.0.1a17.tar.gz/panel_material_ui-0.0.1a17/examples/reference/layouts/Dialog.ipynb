{
 "cells": [
  {
   "cell_type": "code",
   "execution_count": null,
   "id": "a5b5692e-c760-4019-a6c7-80b555e94963",
   "metadata": {},
   "outputs": [],
   "source": [
    "import panel as pn\n",
    "import panel_material_ui as pnmui\n",
    "from panel_material_ui import Button, Dialog\n",
    "\n",
    "pn.extension()"
   ]
  },
  {
   "cell_type": "markdown",
   "id": "986d6f98-044d-4031-9e7e-3073cd218250",
   "metadata": {},
   "source": [
    "The `Dialog` component creates modal dialogs for important content or actions.\n",
    "\n",
    "## Parameters:\n",
    "\n",
    "### Core\n",
    "\n",
    "* **`full_screen`** (`boolean`): Whether the dialog takes up the full screen.\n",
    "* **`open`** (`boolean`): Whether the dialog is visible.\n",
    "* **`title`** (`str`): Header text for the dialog.\n",
    "\n",
    "---"
   ]
  },
  {
   "cell_type": "markdown",
   "id": "f251256c-d718-44f3-8ea2-cc8c6710c8e1",
   "metadata": {},
   "source": [
    "The `Dialog` can be programmatically opened and closed by setting the `open` parameter:"
   ]
  },
  {
   "cell_type": "code",
   "execution_count": null,
   "id": "c2ac2780-ed7a-4315-b85e-4183d6a38ec2",
   "metadata": {},
   "outputs": [],
   "source": [
    "open = Button(label='Open')\n",
    "close = Button(label='Close')\n",
    "\n",
    "dialog = Dialog('# This is a dialog', close)\n",
    "\n",
    "open.js_on_click(args={'dialog': dialog}, code=\"dialog.data.open = true\")\n",
    "close.js_on_click(args={'dialog': dialog}, code=\"dialog.data.open = false\")\n",
    "\n",
    "pn.Column(open, dialog)"
   ]
  },
  {
   "cell_type": "markdown",
   "id": "1a328814-f434-4597-8e8e-1c4379299c2c",
   "metadata": {},
   "source": [
    "It can also be rendered in full screen:"
   ]
  },
  {
   "cell_type": "code",
   "execution_count": null,
   "id": "066d86cd-3f4d-4c0d-88da-a59197fca570",
   "metadata": {},
   "outputs": [],
   "source": [
    "open = Button(label='Open')\n",
    "close = Button(label='Close')\n",
    "\n",
    "dialog = Dialog(close, full_screen=True)\n",
    "\n",
    "open.js_on_click(args={'dialog': dialog}, code=\"dialog.data.open = true\")\n",
    "close.js_on_click(args={'dialog': dialog}, code=\"dialog.data.open = false\")\n",
    "\n",
    "pn.Column(open, dialog)"
   ]
  }
 ],
 "metadata": {
  "kernelspec": {
   "display_name": "Python 3 (ipykernel)",
   "language": "python",
   "name": "python3"
  },
  "language_info": {
   "codemirror_mode": {
    "name": "ipython",
    "version": 3
   },
   "file_extension": ".py",
   "mimetype": "text/x-python",
   "name": "python",
   "nbconvert_exporter": "python",
   "pygments_lexer": "ipython3",
   "version": "3.12.2"
  }
 },
 "nbformat": 4,
 "nbformat_minor": 5
}
