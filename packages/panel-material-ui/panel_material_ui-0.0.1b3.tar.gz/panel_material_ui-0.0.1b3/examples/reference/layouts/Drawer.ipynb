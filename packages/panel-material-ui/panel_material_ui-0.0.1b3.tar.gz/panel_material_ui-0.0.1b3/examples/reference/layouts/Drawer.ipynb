{
 "cells": [
  {
   "cell_type": "code",
   "execution_count": null,
   "id": "5ccb1a30-351b-47dd-8dca-caf18dd097ed",
   "metadata": {},
   "outputs": [],
   "source": [
    "import panel as pn\n",
    "from panel_material_ui import Button, Container, Drawer, Toggle\n",
    "\n",
    "pn.extension()"
   ]
  },
  {
   "cell_type": "markdown",
   "id": "a6c6a705-0ea1-4a19-a264-eacac2b2544e",
   "metadata": {},
   "source": [
    "The `Drawer` component (akin to a sidebar) provides ergonomic access to destinations in a site or app functionality.\n",
    "\n",
    "## Parameters:\n",
    "For details on other options for customizing the component see the layout and styling how-to guides.\n",
    "\n",
    "### Core\n",
    "\n",
    "* **`open`** (`boolean`): Whether the `Drawer` is open.\n",
    "* **`variant`** (`Literal[\"temporary\", \"persistent\"]`): Whether the Drawer is temporary or persistent.\n",
    "\n",
    "### Display\n",
    "\n",
    "* **`anchor`** (`Literal[\"left\", \"right\", \"bottom\", \"right\"]`): Where to position the `Drawer`.\n",
    "* **`size`** (`int`): The width or height depending on whether the `Drawer` is rendered on the left/right or top/bottom respectively.\n",
    "* **`variant`** (`Literal[\"filled\", \"outlined\"]`): Whether to show an outline instead of elevation.\n",
    "\n",
    "---"
   ]
  },
  {
   "cell_type": "markdown",
   "id": "70597098-996d-44cd-b511-ad6dc1702c61",
   "metadata": {},
   "source": [
    "Temporary navigation drawers can toggle open or closed. Closed by default, the drawer opens temporarily above all other content until a section is selected.\n",
    "\n",
    "The `Drawer` can be cancelled by clicking the overlay or pressing the Esc key. It closes when an item is selected, handled by controlling the `open` parameter."
   ]
  },
  {
   "cell_type": "code",
   "execution_count": null,
   "id": "a9e7a8a4-3cb9-4c7a-8f2a-1068cee48cf2",
   "metadata": {},
   "outputs": [],
   "source": [
    "drawer = Drawer(\"I'm in a Drawer\", size=300)\n",
    "\n",
    "button = Button(label='Open Drawer')\n",
    "\n",
    "button.js_on_click(args={'drawer': drawer}, code='drawer.data.open = true')\n",
    "\n",
    "Container(button, drawer)"
   ]
  },
  {
   "cell_type": "markdown",
   "id": "424988c8-1da9-495a-8c98-7a1c3e9ef5c4",
   "metadata": {},
   "source": [
    "### Anchor\n",
    "\n",
    "Use the `anchor` parameter to specify which side of the screen the `Drawer` should originate from.\n",
    "\n",
    "The default value is left."
   ]
  },
  {
   "cell_type": "code",
   "execution_count": null,
   "id": "ada8993e-14c3-4f3d-b663-38edee773d07",
   "metadata": {},
   "outputs": [],
   "source": [
    "container = pn.Row()\n",
    "for anchor in Drawer.param.anchor.objects:\n",
    "    drawer = Drawer(f\"I'm in a Drawer on the {anchor}\", size=300, anchor=anchor)\n",
    "    button = Button(label=anchor.upper(), width=100)\n",
    "    button.js_on_click(args={'drawer': drawer}, code='drawer.data.open = true')\n",
    "    container.extend([button, drawer])\n",
    "\n",
    "container"
   ]
  },
  {
   "cell_type": "markdown",
   "id": "9c7bdd10-0deb-43f4-8de9-a0a945199e8a",
   "metadata": {},
   "source": [
    "### Persistent drawer\n",
    "\n",
    "Persistent navigation drawers can toggle open or closed. The drawer sits on the same surface elevation as the content. It is closed by default and opens by selecting the menu icon, and stays open until closed by the user. The state of the drawer is remembered from action to action and session to session.\n",
    "\n",
    "When the drawer is outside of the page grid and opens, the drawer forces other content to change size and adapt to the smaller viewport.\n",
    "\n",
    "Persistent navigation drawers are acceptable for all sizes larger than mobile. They are not recommended for apps with multiple levels of hierarchy that require using an up arrow for navigation."
   ]
  },
  {
   "cell_type": "code",
   "execution_count": null,
   "id": "ed9114f8-6f77-436f-bc00-7b562364bbc0",
   "metadata": {},
   "outputs": [],
   "source": [
    "drawer = Drawer(\"I'm in a Drawer\", size=300, variant=\"persistent\")\n",
    "\n",
    "button = Toggle(label='Toggle Drawer')\n",
    "\n",
    "button.jslink(drawer, value='open')\n",
    "\n",
    "Container(button, drawer)"
   ]
  },
  {
   "cell_type": "markdown",
   "id": "52078d10-646d-4809-8e39-38bb723e8779",
   "metadata": {},
   "source": [
    "When working with a persistent drawer you will usually also want to ensure that the rest of the Page contents shifts along with the drawer:"
   ]
  },
  {
   "cell_type": "code",
   "execution_count": null,
   "id": "9c451806-c98b-403a-979b-e6ec05efa78f",
   "metadata": {},
   "outputs": [],
   "source": [
    "drawer = Drawer(\"I'm in a Drawer\", size=300, variant=\"persistent\")\n",
    "\n",
    "button = Toggle(label='Toggle Drawer')\n",
    "\n",
    "container = Container(button, drawer)\n",
    "\n",
    "button.jscallback(args={'drawer': drawer, 'container': container}, value=\"\"\"\n",
    "container.data.sx = cb_obj.value ? {marginLeft: `${drawer.data.size}px`} : {}\n",
    "drawer.data.open = cb_obj.value\n",
    "\"\"\")\n",
    "\n",
    "container"
   ]
  }
 ],
 "metadata": {
  "kernelspec": {
   "display_name": "Python 3 (ipykernel)",
   "language": "python",
   "name": "python3"
  },
  "language_info": {
   "codemirror_mode": {
    "name": "ipython",
    "version": 3
   },
   "file_extension": ".py",
   "mimetype": "text/x-python",
   "name": "python",
   "nbconvert_exporter": "python",
   "pygments_lexer": "ipython3",
   "version": "3.12.2"
  }
 },
 "nbformat": 4,
 "nbformat_minor": 5
}
