{
 "cells": [
  {
   "cell_type": "code",
   "execution_count": 1,
   "id": "5f55f140-8720-42ac-b000-50e99886b7df",
   "metadata": {},
   "outputs": [],
   "source": [
    "import sys\n",
    "import os"
   ]
  },
  {
   "cell_type": "code",
   "execution_count": 2,
   "id": "a2018dc1-087f-4dda-aa9a-f1632a91da32",
   "metadata": {},
   "outputs": [],
   "source": [
    "sys.path.append(os.path.abspath('../../app'))"
   ]
  },
  {
   "cell_type": "code",
   "execution_count": 3,
   "id": "c8315d12-0fd0-4f1b-b313-733e593cb62b",
   "metadata": {},
   "outputs": [],
   "source": [
    "from core.feluda import Feluda,ComponentType\n",
    "from core.models.media import MediaType\n",
    "from core.models.media_factory import ImageFactory\n",
    "from datetime import datetime"
   ]
  },
  {
   "cell_type": "markdown",
   "id": "07d21783-b48c-4d4f-8a46-840b4ac0aaa6",
   "metadata": {},
   "source": [
    "### Initializing Feluda class with config file\n",
    "\n",
    "We'll use two operators for this example. One for extracting embeddings from text and other for extracting text from image (newspapers for this example)."
   ]
  },
  {
   "cell_type": "code",
   "execution_count": 4,
   "id": "de8f9d53-86f4-4a5a-ae76-768fc002852a",
   "metadata": {},
   "outputs": [
    {
     "name": "stderr",
     "output_type": "stream",
     "text": [
      "/usr/app/venv/lib/python3.11/site-packages/tqdm/auto.py:21: TqdmWarning: IProgress not found. Please update jupyter and ipywidgets. See https://ipywidgets.readthedocs.io/en/stable/user_install.html\n",
      "  from .autonotebook import tqdm as notebook_tqdm\n",
      "/usr/app/venv/lib/python3.11/site-packages/huggingface_hub/file_download.py:1132: FutureWarning: `resume_download` is deprecated and will be removed in version 1.0.0. Downloads always resume when possible. If you want to force a new download, use `force_download=True`.\n",
      "  warnings.warn(\n"
     ]
    }
   ],
   "source": [
    "feluda = Feluda(\"find-text-config.yml\")\n",
    "feluda.setup()\n",
    "\n",
    "# Extracting operator name from config and getting operators from Feluda\n",
    "text_vectorizer_operator = feluda.operators.get()[feluda.config.operators.parameters[0].type] \n",
    "ocr_operator = feluda.operators.get()[feluda.config.operators.parameters[1].type]"
   ]
  },
  {
   "cell_type": "code",
   "execution_count": 5,
   "id": "f5e57f34-3dcc-4a87-b4e7-9d19c6c738f3",
   "metadata": {},
   "outputs": [],
   "source": [
    "if feluda.config.store:\n",
    "    feluda.start_component(ComponentType.STORE)"
   ]
  },
  {
   "cell_type": "code",
   "execution_count": 6,
   "id": "485fb7e3-3de6-4712-933e-b960165cd1b5",
   "metadata": {},
   "outputs": [],
   "source": [
    "newspaper_image_links = [\n",
    "    \"https://github.com/aatmanvaidya/audio-files/raw/main/newspaper-clipings/news1.png\",\n",
    "    \"https://github.com/aatmanvaidya/audio-files/raw/main/newspaper-clipings/news2.png\",\n",
    "    \"https://github.com/aatmanvaidya/audio-files/raw/main/newspaper-clipings/news3.png\",\n",
    "    \"https://github.com/aatmanvaidya/audio-files/raw/main/newspaper-clipings/news4.png\",\n",
    "    \"https://github.com/aatmanvaidya/audio-files/raw/main/newspaper-clipings/news5.png\",\n",
    "    \"https://github.com/aatmanvaidya/audio-files/raw/main/newspaper-clipings/news6.png\",\n",
    "    \"https://github.com/aatmanvaidya/audio-files/raw/main/newspaper-clipings/news7.png\"\n",
    "]"
   ]
  },
  {
   "cell_type": "code",
   "execution_count": 7,
   "id": "4048a515-a557-48ea-9753-ee38fdbca60a",
   "metadata": {},
   "outputs": [],
   "source": [
    "def generate_document(rep, data):\n",
    "    doc = {\n",
    "        \"e_kosh_id\": \"\",\n",
    "        \"dataset\":rep,\n",
    "        \"metadata\": None,\n",
    "        \"text\": None,\n",
    "        \"text_vec\": data,\n",
    "        \"suggestion\" : None,\n",
    "        \"lang\" : None,\n",
    "        \"date_added\": datetime.utcnow(),\n",
    "    }\n",
    "    return doc\n",
    "\n",
    "def store_text(text_embedding,file_name):\n",
    "    if feluda.store:\n",
    "        doc = generate_document(file_name,text_embedding)\n",
    "        media_type = MediaType.TEXT\n",
    "        result = feluda.store[feluda.config.store.entities[0].type].store(media_type,doc)\n",
    "        return(\"result:\",result)\n",
    "    else:\n",
    "        raise Exception(\"Store is not Configured\")\n",
    "\n",
    "\n",
    "def search_text(text,operator):\n",
    "    embedding = operator.run(text)\n",
    "    if feluda.store:\n",
    "        result = feluda.store[feluda.config.store.entities[0].type].find(\"text\",embedding)\n",
    "        return result\n",
    "    else:\n",
    "        raise Exception(\"Store is not Configured\")"
   ]
  },
  {
   "cell_type": "markdown",
   "id": "02524f9a-c859-4bb2-bb36-363af8096df5",
   "metadata": {},
   "source": [
    "Downloading image and then extracting text from it using detect_text_in_image_tesseract operator. It is called ocr_operator in this notebook."
   ]
  },
  {
   "cell_type": "code",
   "execution_count": 8,
   "id": "2fdf5788-95ff-4c60-b98b-18adf33ce2d3",
   "metadata": {},
   "outputs": [
    {
     "name": "stdout",
     "output_type": "stream",
     "text": [
      "Downloading image from URL\n",
      "100% [..........................................................................] 1132191 / 1132191\n",
      "Image downloaded\n",
      "Downloading image from URL\n",
      "100% [............................................................................] 966126 / 966126\n",
      "Image downloaded\n",
      "Downloading image from URL\n",
      "100% [............................................................................] 789249 / 789249\n",
      "Image downloaded\n",
      "Downloading image from URL\n",
      "100% [..........................................................................] 2335024 / 2335024\n",
      "Image downloaded\n",
      "Downloading image from URL\n",
      "100% [..........................................................................] 1011769 / 1011769\n",
      "Image downloaded\n",
      "Downloading image from URL\n",
      "100% [..........................................................................] 2064945 / 2064945\n",
      "Image downloaded\n",
      "Downloading image from URL\n",
      "100% [..........................................................................] 1024285 / 1024285\n",
      "Image downloaded\n"
     ]
    }
   ],
   "source": [
    "# Converting image to text\n",
    "\n",
    "text_from_image = []\n",
    "\n",
    "for url in newspaper_image_links:\n",
    "    image_path = ImageFactory.make_from_url_to_path(url)\n",
    "    text_from_image.append([ocr_operator.run(image_path[\"path\"]),image_path[\"path\"].split('/')[-1]])"
   ]
  },
  {
   "cell_type": "markdown",
   "id": "5f51ca47-2d1d-4cd2-8863-d32bf405361e",
   "metadata": {},
   "source": [
    "Converting text to vector using text_vec_rep_paraphrase_lxml operator. It is named as text_vectorizer_operator in this notebook."
   ]
  },
  {
   "cell_type": "code",
   "execution_count": 9,
   "id": "1a447264-9ead-4fab-a87d-c5e94ff8c9cd",
   "metadata": {
    "scrolled": true
   },
   "outputs": [
    {
     "name": "stdout",
     "output_type": "stream",
     "text": [
      "('result:', ObjectApiResponse({'_index': 'text', '_id': 'RgclyJIBiNxwOmDoggGp', '_version': 1, 'result': 'created', '_shards': {'total': 2, 'successful': 1, 'failed': 0}, '_seq_no': 0, '_primary_term': 1}))\n",
      "('result:', ObjectApiResponse({'_index': 'text', '_id': 'RwclyJIBiNxwOmDogwEP', '_version': 1, 'result': 'created', '_shards': {'total': 2, 'successful': 1, 'failed': 0}, '_seq_no': 1, '_primary_term': 1}))\n",
      "('result:', ObjectApiResponse({'_index': 'text', '_id': 'SAclyJIBiNxwOmDogwF1', '_version': 1, 'result': 'created', '_shards': {'total': 2, 'successful': 1, 'failed': 0}, '_seq_no': 2, '_primary_term': 1}))\n",
      "('result:', ObjectApiResponse({'_index': 'text', '_id': 'SQclyJIBiNxwOmDogwHf', '_version': 1, 'result': 'created', '_shards': {'total': 2, 'successful': 1, 'failed': 0}, '_seq_no': 3, '_primary_term': 1}))\n",
      "('result:', ObjectApiResponse({'_index': 'text', '_id': 'SgclyJIBiNxwOmDohAFI', '_version': 1, 'result': 'created', '_shards': {'total': 2, 'successful': 1, 'failed': 0}, '_seq_no': 4, '_primary_term': 1}))\n",
      "('result:', ObjectApiResponse({'_index': 'text', '_id': 'SwclyJIBiNxwOmDohAG2', '_version': 1, 'result': 'created', '_shards': {'total': 2, 'successful': 1, 'failed': 0}, '_seq_no': 5, '_primary_term': 1}))\n",
      "('result:', ObjectApiResponse({'_index': 'text', '_id': 'TAclyJIBiNxwOmDohQEE', '_version': 1, 'result': 'created', '_shards': {'total': 2, 'successful': 1, 'failed': 0}, '_seq_no': 6, '_primary_term': 1}))\n"
     ]
    }
   ],
   "source": [
    "# Storing text in elastic search\n",
    "\n",
    "for data in text_from_image:\n",
    "    image_text = data[0]\n",
    "    file_name = data[1]\n",
    "\n",
    "    embedding = text_vectorizer_operator.run(image_text)\n",
    "\n",
    "    result = store_text(embedding,file_name)\n",
    "    print(result)"
   ]
  },
  {
   "cell_type": "markdown",
   "id": "9acf39fb-6519-4922-9e9b-1be895a9ff0d",
   "metadata": {},
   "source": [
    "### Searching for Newspaper containing our query.\n",
    "\n",
    "-> Inorder to text our operator, we pulled a sentence from newspaper and searched for newspaper that contained this query."
   ]
  },
  {
   "cell_type": "code",
   "execution_count": 11,
   "id": "795e79c3-f90a-4d38-be0e-fa617c98bb2e",
   "metadata": {},
   "outputs": [],
   "source": [
    "query = \"Dalit families papers over WhatsApp to called for a hearing via\\ntook turns, mostly girls and some official and got the job +WhatsApp video call two\\nwomen, to fetch water from done,” said Mr. Saket.\""
   ]
  },
  {
   "cell_type": "code",
   "execution_count": 12,
   "id": "554ef6c0-6ec9-4cf2-9454-2fd803ebd7e4",
   "metadata": {},
   "outputs": [
    {
     "name": "stdout",
     "output_type": "stream",
     "text": [
      "calculation: 1 / (1 + l2norm(params.query_vector, 'text_vec'))\n"
     ]
    },
    {
     "data": {
      "text/plain": [
       "[{'doc_id': 'RgclyJIBiNxwOmDoggGp',\n",
       "  'dist': 0.1120885,\n",
       "  'dataset': 'news1.png',\n",
       "  'e_kosh_id': '',\n",
       "  'text': None,\n",
       "  'metadata': None},\n",
       " {'doc_id': 'SAclyJIBiNxwOmDogwF1',\n",
       "  'dist': 0.10283887,\n",
       "  'dataset': 'news3.png',\n",
       "  'e_kosh_id': '',\n",
       "  'text': None,\n",
       "  'metadata': None},\n",
       " {'doc_id': 'TAclyJIBiNxwOmDohQEE',\n",
       "  'dist': 0.100596815,\n",
       "  'dataset': 'news7.png',\n",
       "  'e_kosh_id': '',\n",
       "  'text': None,\n",
       "  'metadata': None},\n",
       " {'doc_id': 'SwclyJIBiNxwOmDohAG2',\n",
       "  'dist': 0.099939294,\n",
       "  'dataset': 'news6.png',\n",
       "  'e_kosh_id': '',\n",
       "  'text': None,\n",
       "  'metadata': None},\n",
       " {'doc_id': 'SgclyJIBiNxwOmDohAFI',\n",
       "  'dist': 0.09927258,\n",
       "  'dataset': 'news5.png',\n",
       "  'e_kosh_id': '',\n",
       "  'text': None,\n",
       "  'metadata': None},\n",
       " {'doc_id': 'SQclyJIBiNxwOmDogwHf',\n",
       "  'dist': 0.09863854,\n",
       "  'dataset': 'news4.png',\n",
       "  'e_kosh_id': '',\n",
       "  'text': None,\n",
       "  'metadata': None},\n",
       " {'doc_id': 'RwclyJIBiNxwOmDogwEP',\n",
       "  'dist': 0.09863655,\n",
       "  'dataset': 'news2.png',\n",
       "  'e_kosh_id': '',\n",
       "  'text': None,\n",
       "  'metadata': None}]"
      ]
     },
     "execution_count": 12,
     "metadata": {},
     "output_type": "execute_result"
    }
   ],
   "source": [
    "search_text(query,text_vectorizer_operator)"
   ]
  },
  {
   "cell_type": "code",
   "execution_count": null,
   "id": "589846c7-d630-4a59-8290-1a77a6f0fe51",
   "metadata": {},
   "outputs": [],
   "source": []
  }
 ],
 "metadata": {
  "kernelspec": {
   "display_name": "Python 3 (ipykernel)",
   "language": "python",
   "name": "python3"
  },
  "language_info": {
   "codemirror_mode": {
    "name": "ipython",
    "version": 3
   },
   "file_extension": ".py",
   "mimetype": "text/x-python",
   "name": "python",
   "nbconvert_exporter": "python",
   "pygments_lexer": "ipython3",
   "version": "3.11.8"
  }
 },
 "nbformat": 4,
 "nbformat_minor": 5
}
