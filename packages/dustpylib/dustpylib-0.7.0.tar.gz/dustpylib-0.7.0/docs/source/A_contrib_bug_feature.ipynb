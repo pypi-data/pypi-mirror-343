{
 "cells": [
  {
   "cell_type": "markdown",
   "id": "a561fc10-9122-466b-a55d-eacd533c7cd7",
   "metadata": {},
   "source": [
    "# Appendix A: Contributing/Bugs/Features"
   ]
  },
  {
   "cell_type": "markdown",
   "id": "bdf7b18e-3229-4231-9c0c-62070dddd1e3",
   "metadata": {},
   "source": [
    "`DustPyLib` is a community project. New modules are always welcome. Please have a look at the [Contribution Guidelines](https://github.com/stammler/dustpylib/blob/master/.github/CONTRIBUTING.md) and the [Code of Conduct](https://github.com/stammler/dustpylib/blob/master/.github/CODE_OF_CONDUCT.md)."
   ]
  },
  {
   "cell_type": "markdown",
   "id": "14129c74-3585-43f2-95ca-1103d2b63b36",
   "metadata": {},
   "source": [
    "## Contributing"
   ]
  },
  {
   "cell_type": "markdown",
   "id": "a4579fcc-0611-4ba5-b38a-b5605af47152",
   "metadata": {},
   "source": [
    "To contribute code please open a new pull request and describe the scope of the module your pull request introduces.\n",
    "\n",
    "Please note, that additional features must also be described in the documentation. If usage of the module requires a citation, please descibe this in the respective example notebook."
   ]
  },
  {
   "cell_type": "markdown",
   "id": "2b8f1dbe-ae11-4f23-8800-ef9f2537de98",
   "metadata": {},
   "source": [
    "## Bug Reports"
   ]
  },
  {
   "cell_type": "markdown",
   "id": "43f30671-4a30-4a95-8fa7-44c2b57f83d7",
   "metadata": {},
   "source": [
    "If you encounter a bug in any module of `DustPyLib`, please open a new [bug report issue](https://github.com/stammler/dustpylib/issues/new?template=bug_report.md&title=%5BBUG%5D+Descriptive+title+of+the+bug+report) and describe the bug, the expected behavior, and steps how to reproduce the bug."
   ]
  },
  {
   "cell_type": "markdown",
   "id": "cb4b17b7-982a-411c-a0ca-2b810b00eba5",
   "metadata": {},
   "source": [
    "## Feature Request"
   ]
  },
  {
   "cell_type": "markdown",
   "id": "1ab85998-d842-4a3c-95b5-7a968e26d5c6",
   "metadata": {},
   "source": [
    "If you have an idea of a new feature, that is missing in `DustPyLib`, or if you want to suggest an improvement, please open a new [feature request issue](https://github.com/stammler/dustpylib/issues/new?template=feature_request.md&title=%5BFEATURE%5D+Descriptive+title+of+the+feature+request)."
   ]
  }
 ],
 "metadata": {
  "kernelspec": {
   "display_name": "Python 3 (ipykernel)",
   "language": "python",
   "name": "python3"
  },
  "language_info": {
   "codemirror_mode": {
    "name": "ipython",
    "version": 3
   },
   "file_extension": ".py",
   "mimetype": "text/x-python",
   "name": "python",
   "nbconvert_exporter": "python",
   "pygments_lexer": "ipython3",
   "version": "3.11.3"
  }
 },
 "nbformat": 4,
 "nbformat_minor": 5
}
