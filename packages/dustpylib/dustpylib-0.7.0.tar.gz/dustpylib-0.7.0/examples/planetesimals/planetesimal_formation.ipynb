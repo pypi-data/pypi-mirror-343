{
 "cells": [
  {
   "cell_type": "markdown",
   "id": "e4c2b2fa-8eea-4192-acf4-f93e56a2a196",
   "metadata": {},
   "source": [
    "# Planetesimal formation"
   ]
  },
  {
   "cell_type": "markdown",
   "id": "5f1b1a05-0677-453e-9f8b-fedd4e25717d",
   "metadata": {},
   "source": [
    "`dustpylib.planetesimals.formation` contains several prescriptions for planetesimal formation. They are briefly described here. For more detailed discussions, please have a look at their respective publications, which are referenced here."
   ]
  },
  {
   "cell_type": "markdown",
   "id": "3b243a22-6738-4c77-ae40-31d66ff53bad",
   "metadata": {},
   "source": [
    "## Drążkowska et al. (2016)"
   ]
  },
  {
   "cell_type": "markdown",
   "id": "e0a2c859-84da-4943-8475-0becf88c6a45",
   "metadata": {},
   "source": [
    "In [Drążkowska et al. (2016)](https://doi.org/10.1051/0004-6361/201628983) only pebbles contribute to planetesimal formation. Pebbles are defined as particles with sizes above a certain cristical Stokes number $\\mathrm{St}_\\mathrm{crit}$. In the default case $\\mathrm{St}_\\mathrm{crit}=0.01$.\n",
    "\n",
    "$\\Sigma_\\mathrm{peb} = \\Sigma_\\mathrm{dust} \\left( \\mathrm{St} \\geq \\mathrm{St}_\\mathrm{crit} \\right)$\n",
    "\n",
    "If the midplane pebbles-to-gas ratio is above a critical threshold, planetesimal formation is triggered. In the default case, this critical ratio is $1$.  \n",
    "If planetesimal formation is triggered, a fraction $\\zeta$ of the pebbles is converted into planetesimals per orbit, where $\\zeta=0.01$ in the default case.\n",
    "\n",
    "Implementing this into `DustPy` would work as follows. First we define the hyperparameters of the method. These are the critical pebbles-to-gas ratio, the critical Stokes number and $\\zeta$."
   ]
  },
  {
   "cell_type": "code",
   "execution_count": 1,
   "id": "04588216-3c98-4512-abf6-9d8b3c33caa2",
   "metadata": {},
   "outputs": [],
   "source": [
    "p2g_crit = 1.\n",
    "St_crit = 0.01\n",
    "zeta = 0.01"
   ]
  },
  {
   "cell_type": "markdown",
   "id": "7215193c-081b-49fa-ab7a-27910a2999d6",
   "metadata": {},
   "source": [
    "Then we create a simulation object and initialize it."
   ]
  },
  {
   "cell_type": "code",
   "execution_count": 2,
   "id": "748493fe-ee73-4a4b-bdc0-f2b7c0a4e6b9",
   "metadata": {},
   "outputs": [],
   "source": [
    "from dustpy import Simulation"
   ]
  },
  {
   "cell_type": "code",
   "execution_count": 3,
   "id": "53c5aba3-f684-496a-bf2c-835f75111eed",
   "metadata": {},
   "outputs": [],
   "source": [
    "s = Simulation()"
   ]
  },
  {
   "cell_type": "code",
   "execution_count": 4,
   "id": "5e84fb5d-5b1a-4675-bf06-198af10508ac",
   "metadata": {},
   "outputs": [],
   "source": [
    "s.initialize()"
   ]
  },
  {
   "cell_type": "markdown",
   "id": "17f20315-9dac-4d29-9c9d-6ec2bf492350",
   "metadata": {},
   "source": [
    "In the next step we add an updater to the external sources of the dust surface density, that removes dust if planetesimal formation is triggered with the the method above. Here we can import the `drazkowska2016()` function, which returns the source term of dust due to planetesimal formation. If will be negative if planetesimal formation is triggered."
   ]
  },
  {
   "cell_type": "code",
   "execution_count": 5,
   "id": "46ca0468-ed62-4f8f-a309-b8155b65c141",
   "metadata": {},
   "outputs": [],
   "source": [
    "from dustpylib.planetesimals.formation import drazkowska2016"
   ]
  },
  {
   "cell_type": "code",
   "execution_count": 6,
   "id": "10a079c2-87f7-44c7-8ae6-4b9e77f1b693",
   "metadata": {},
   "outputs": [],
   "source": [
    "def S_ext(s):\n",
    "    return drazkowska2016(\n",
    "        s.grid.OmegaK,\n",
    "        s.dust.rho,\n",
    "        s.gas.rho,\n",
    "        s.dust.Sigma,\n",
    "        s.dust.St,\n",
    "        p2g_crit=p2g_crit,\n",
    "        St_crit=St_crit,\n",
    "        zeta=zeta\n",
    "    )"
   ]
  },
  {
   "cell_type": "code",
   "execution_count": 7,
   "id": "5dbc4c1e-cc70-4849-87ed-37e66a155554",
   "metadata": {},
   "outputs": [],
   "source": [
    "s.dust.S.ext.updater = S_ext"
   ]
  },
  {
   "cell_type": "markdown",
   "id": "aae53135-67d7-4667-a51f-19d5cd304d91",
   "metadata": {},
   "source": [
    "Then we are going to add a group for the planetesimals and a field to store their surface density."
   ]
  },
  {
   "cell_type": "code",
   "execution_count": 8,
   "id": "fafc9e48-9acc-4e20-96c6-2015a1f0971f",
   "metadata": {},
   "outputs": [],
   "source": [
    "import numpy as np"
   ]
  },
  {
   "cell_type": "code",
   "execution_count": 9,
   "id": "0ead5192-a747-4758-8e41-048a5c9956e1",
   "metadata": {},
   "outputs": [],
   "source": [
    "s.addgroup(\"planetesimals\", description=\"Planetesimal quantities\")\n",
    "s.planetesimals.addfield(\"Sigma\", np.zeros_like(s.gas.Sigma), description=\"Surface density of planetesimals [g/cm²]\")"
   ]
  },
  {
   "cell_type": "markdown",
   "id": "a870355c-21cd-403c-9c5f-61fe0c99ae04",
   "metadata": {},
   "source": [
    "We are going to let `DustPy` integrate this field over time to get the evolution of the planetesimal surface density. Therefore we need to define a derivative of the planetesimal surface density. The derivative is simply the negative sum over the external source terms defined above."
   ]
  },
  {
   "cell_type": "code",
   "execution_count": 10,
   "id": "f7a0052b-626d-46c7-ace1-f17d0e645c3c",
   "metadata": {},
   "outputs": [],
   "source": [
    "def dSigma_planetesimals(s, t, Sigma_planetesimals):\n",
    "    return -s.dust.S.ext.sum(-1)"
   ]
  },
  {
   "cell_type": "markdown",
   "id": "4c3a4e1e-193f-490c-93c2-fd8ad4bea734",
   "metadata": {},
   "source": [
    "This function is added to the differentiator of the field."
   ]
  },
  {
   "cell_type": "code",
   "execution_count": 11,
   "id": "af428679-ca7a-4d07-ae99-c502dcd275b5",
   "metadata": {},
   "outputs": [],
   "source": [
    "s.planetesimals.Sigma.differentiator = dSigma_planetesimals"
   ]
  },
  {
   "cell_type": "markdown",
   "id": "dc9070c6-680e-4a06-817b-5f5a11141756",
   "metadata": {},
   "source": [
    "In the next step we have to create an integration instruction of this field. We are going to integrate the planetesimal surface density with a simple explicit 1st-order Euler scheme."
   ]
  },
  {
   "cell_type": "code",
   "execution_count": 12,
   "id": "a308f785-fb44-4cab-a845-34ab096452b2",
   "metadata": {},
   "outputs": [],
   "source": [
    "from simframe import Instruction\n",
    "from simframe import schemes"
   ]
  },
  {
   "cell_type": "code",
   "execution_count": 13,
   "id": "c682f125-a3f9-4d35-a01a-14714a0abdf2",
   "metadata": {},
   "outputs": [],
   "source": [
    "instruction = Instruction(schemes.expl_1_euler, s.planetesimals.Sigma, description=\"Planetesimals: explicit 1st-order Euler\")"
   ]
  },
  {
   "cell_type": "markdown",
   "id": "a2dce176-00a0-41e6-9283-8ffe573ae9c1",
   "metadata": {},
   "source": [
    "This instruction is added to the existing integration instructions."
   ]
  },
  {
   "cell_type": "code",
   "execution_count": 14,
   "id": "68974028-da5f-44af-8145-2da7868d2c1f",
   "metadata": {},
   "outputs": [],
   "source": [
    "s.integrator.instructions.append(instruction)"
   ]
  },
  {
   "cell_type": "code",
   "execution_count": 15,
   "id": "f838c2f3-f74f-4409-8937-f3e0a9e7090d",
   "metadata": {},
   "outputs": [
    {
     "data": {
      "text/plain": [
       "[Instruction (Dust: implicit 1st-order direct solver),\n",
       " Instruction (Gas: implicit 1st-order direct solver),\n",
       " Instruction (Planetesimals: explicit 1st-order Euler)]"
      ]
     },
     "execution_count": 15,
     "metadata": {},
     "output_type": "execute_result"
    }
   ],
   "source": [
    "s.integrator.instructions"
   ]
  },
  {
   "cell_type": "markdown",
   "id": "24d755ac-aad9-4a13-b996-5455b6c46955",
   "metadata": {},
   "source": [
    "We can now update the simulation object."
   ]
  },
  {
   "cell_type": "code",
   "execution_count": 16,
   "id": "5fd0a4c8-ebe6-468a-84f6-8e0d7e2ff3de",
   "metadata": {},
   "outputs": [],
   "source": [
    "s.update()"
   ]
  },
  {
   "cell_type": "markdown",
   "id": "38212a62-841b-4e2f-a90c-5176e98f7db4",
   "metadata": {},
   "source": [
    "The simulation is now ready to go and can be started with `s.run()`.  \n",
    "Note, that this setup will not create any planetesimals, since the conditions for planetesimal formation will never be fulfilled without any mechanism to concentrate dust above the given threshold."
   ]
  },
  {
   "cell_type": "markdown",
   "id": "0ed57a1a-077f-4308-9dcb-1c71198b9c27",
   "metadata": {},
   "source": [
    "## Schoonenberg et al. (2018)"
   ]
  },
  {
   "cell_type": "markdown",
   "id": "81fed1f0-00e1-4a59-af71-a8c3e5d93648",
   "metadata": {},
   "source": [
    "The prescription of [Schoonenberg et al. (2018)](https://doi.org/10.1051/0004-6361/201834047) is very similar to [Drążkowska et al. (2016)](https://doi.org/10.1051/0004-6361/201628983). But instead of only considering pebbles, all particles contribute to planetesimal formation.\n",
    "\n",
    "If the midplanet dust-to-gas ratio is above a critical threshold, planetesimal formation is triggered. The critical threshold is $1$ in the default case. As soon as planetesimal formation is triggered, a fraction of $\\zeta$ of the dust particles is converted to planetesimal per settling time scale\n",
    "\n",
    "$t_\\mathrm{sett} = \\frac{1}{\\mathrm{St}\\Omega_\\mathrm{K}}$.\n",
    "\n",
    "Since the settling time scale is inversly proportional to the Stokes number of the particles, the contribution of small particles to planetesimal formation is supressed. In the default case the planetesimal formation efficiency is $\\zeta=0.1$\n",
    "\n",
    "Implementation into `DustPy` is identical to the example above. First, we define the hyperparameters of the method."
   ]
  },
  {
   "cell_type": "code",
   "execution_count": 17,
   "id": "8a2d9110-08a6-42b1-976c-e73ef5edf4b4",
   "metadata": {},
   "outputs": [],
   "source": [
    "d2g_crit = 1.\n",
    "zeta = 0.1"
   ]
  },
  {
   "cell_type": "markdown",
   "id": "903e9ad1-cc3c-4e80-b9eb-149e79cfb491",
   "metadata": {},
   "source": [
    "Then we create a simulation object and initialize it."
   ]
  },
  {
   "cell_type": "code",
   "execution_count": 18,
   "id": "3342dd65-56a2-4ad6-a37e-06017b5d19fc",
   "metadata": {},
   "outputs": [],
   "source": [
    "from dustpy import Simulation"
   ]
  },
  {
   "cell_type": "code",
   "execution_count": 19,
   "id": "44bbf78f-6e36-464d-8084-2d90d56c1d75",
   "metadata": {},
   "outputs": [],
   "source": [
    "s = Simulation()"
   ]
  },
  {
   "cell_type": "code",
   "execution_count": 20,
   "id": "58402ddf-3c5d-445e-b45c-8449410a3797",
   "metadata": {},
   "outputs": [],
   "source": [
    "s.initialize()"
   ]
  },
  {
   "cell_type": "markdown",
   "id": "d8ed4a19-7eba-4b8c-8e18-d93c48633bd7",
   "metadata": {},
   "source": [
    "In the next step we add an updater to the external sources of the dust surface density, that removes dust if planetesimal formation is triggered with the the method above. Here we can import the `schoonenberg2018()` function, which returns the source term of dust due to planetesimal formation. If will be negative if planetesimal formation is triggered."
   ]
  },
  {
   "cell_type": "code",
   "execution_count": 21,
   "id": "619d51da-f2c1-4f64-ba28-d16ede5d8c4e",
   "metadata": {},
   "outputs": [],
   "source": [
    "from dustpylib.planetesimals.formation import schoonenberg2018"
   ]
  },
  {
   "cell_type": "code",
   "execution_count": 22,
   "id": "4c155afe-09c3-43b5-9636-1c35accb9623",
   "metadata": {},
   "outputs": [],
   "source": [
    "def S_ext(s):\n",
    "    return schoonenberg2018(\n",
    "        s.grid.OmegaK,\n",
    "        s.dust.rho,\n",
    "        s.gas.rho,\n",
    "        s.dust.Sigma,\n",
    "        s.dust.St,\n",
    "        d2g_crit=d2g_crit,\n",
    "        zeta=zeta\n",
    "    )"
   ]
  },
  {
   "cell_type": "code",
   "execution_count": 23,
   "id": "2c3bd61c-c943-40d8-ad71-a1de5cbd5125",
   "metadata": {},
   "outputs": [],
   "source": [
    "s.dust.S.ext.updater = S_ext"
   ]
  },
  {
   "cell_type": "markdown",
   "id": "7781b084-e608-4378-923f-14445ca238ab",
   "metadata": {},
   "source": [
    "Then we are going to add a group for the planetesimals and a field to store their surface density."
   ]
  },
  {
   "cell_type": "code",
   "execution_count": 24,
   "id": "9dc1524c-f836-45d7-8714-1d29ff01c0a2",
   "metadata": {},
   "outputs": [],
   "source": [
    "import numpy as np"
   ]
  },
  {
   "cell_type": "code",
   "execution_count": 25,
   "id": "2fc61bec-9db3-4e36-bf0f-fda71f9e0266",
   "metadata": {},
   "outputs": [],
   "source": [
    "s.addgroup(\"planetesimals\", description=\"Planetesimal quantities\")\n",
    "s.planetesimals.addfield(\"Sigma\", np.zeros_like(s.gas.Sigma), description=\"Surface density of planetesimals [g/cm²]\")"
   ]
  },
  {
   "cell_type": "markdown",
   "id": "b3ff9530-e41d-417e-bbd5-663aea8bdd09",
   "metadata": {},
   "source": [
    "We are going to let `DustPy` integrate this field over time to get the evolution of the planetesimal surface density. Therefore we need to define a derivative of the planetesimal surface density. The derivative is simply the negative sum over the external source terms defined above."
   ]
  },
  {
   "cell_type": "code",
   "execution_count": 26,
   "id": "5d3a15a1-c7fe-420d-bca8-a2fcdc075db4",
   "metadata": {},
   "outputs": [],
   "source": [
    "def dSigma_planetesimals(s, t, Sigma_planetesimals):\n",
    "    return -s.dust.S.ext.sum(-1)"
   ]
  },
  {
   "cell_type": "markdown",
   "id": "6a0ffc02-0833-46a8-9d50-1e2d10fb2b6f",
   "metadata": {},
   "source": [
    "This function is added to the differentiator of the field."
   ]
  },
  {
   "cell_type": "code",
   "execution_count": 27,
   "id": "61708663-4c7c-4db8-887c-79392aaef459",
   "metadata": {},
   "outputs": [],
   "source": [
    "s.planetesimals.Sigma.differentiator = dSigma_planetesimals"
   ]
  },
  {
   "cell_type": "markdown",
   "id": "8a7a0811-38b6-4469-bd80-f55ccee023f4",
   "metadata": {},
   "source": [
    "In the next step we have to create an integration instruction of this field. We are going to integrate the planetesimal surface density with a simple explicit 1st-order Euler scheme."
   ]
  },
  {
   "cell_type": "code",
   "execution_count": 28,
   "id": "8f5a92af-dc88-4179-969a-56549f90d161",
   "metadata": {},
   "outputs": [],
   "source": [
    "from simframe import Instruction\n",
    "from simframe import schemes"
   ]
  },
  {
   "cell_type": "code",
   "execution_count": 29,
   "id": "71cf2e79-a6c7-4a09-bcfe-cacd2386cf86",
   "metadata": {},
   "outputs": [],
   "source": [
    "instruction = Instruction(schemes.expl_1_euler, s.planetesimals.Sigma, description=\"Planetesimals: explicit 1st-order Euler\")"
   ]
  },
  {
   "cell_type": "markdown",
   "id": "63caa57e-6879-41d4-9cdc-b9f1c8f87501",
   "metadata": {},
   "source": [
    "This instruction is added to the existing integration instructions."
   ]
  },
  {
   "cell_type": "code",
   "execution_count": 30,
   "id": "e53aaf44-a6a0-432f-a9bd-cfc162b28f69",
   "metadata": {},
   "outputs": [],
   "source": [
    "s.integrator.instructions.append(instruction)"
   ]
  },
  {
   "cell_type": "code",
   "execution_count": 31,
   "id": "99427eed-d538-4b21-bfec-22632249cbaf",
   "metadata": {},
   "outputs": [
    {
     "data": {
      "text/plain": [
       "[Instruction (Dust: implicit 1st-order direct solver),\n",
       " Instruction (Gas: implicit 1st-order direct solver),\n",
       " Instruction (Planetesimals: explicit 1st-order Euler)]"
      ]
     },
     "execution_count": 31,
     "metadata": {},
     "output_type": "execute_result"
    }
   ],
   "source": [
    "s.integrator.instructions"
   ]
  },
  {
   "cell_type": "markdown",
   "id": "22acc38e-3abf-455d-91c8-b2a73e562454",
   "metadata": {},
   "source": [
    "We can now update the simulation object."
   ]
  },
  {
   "cell_type": "code",
   "execution_count": 32,
   "id": "29a416b6-3749-42aa-8b93-f5970da4d0f3",
   "metadata": {},
   "outputs": [],
   "source": [
    "s.update()"
   ]
  },
  {
   "cell_type": "markdown",
   "id": "d1b9f7b0-0b33-470c-af66-3aa53f2b2f47",
   "metadata": {},
   "source": [
    "The simulation is now ready to go and can be started with `s.run()`.  \n",
    "Note, that as above this setup will not create any planetesimals, since the conditions for planetesimal formation will never be fulfilled without any mechanism to concentrate dust above the given threshold."
   ]
  },
  {
   "cell_type": "markdown",
   "id": "ce0b0107-6d8b-4ad3-81d4-8ccfee272ee4",
   "metadata": {},
   "source": [
    "## Miller et al. (2021)"
   ]
  },
  {
   "cell_type": "markdown",
   "id": "cb81346b-6d47-4ef8-94e2-b67ae869a76c",
   "metadata": {},
   "source": [
    "The presciption of [Miller et al. (2021)](https://doi.org/10.1093/mnras/stab2935) is very similar to [Schoonenberg et al. (2018)](https://doi.org/10.1051/0004-6361/201834047). But instead of a hard threshold in midplane dust-to-gas ratio it employs a smoooth transition. The probability that planetesimal formation is triggered is given by\n",
    "\n",
    "$\\mathcal{P} = \\frac{1}{2} \\left[ 1 + \\tanh \\left( \\frac{\\log\\left( \\varepsilon \\right) - \\log\\left( \\varepsilon_\\mathrm{crit} \\right)}{n} \\right) \\right]$,\n",
    "\n",
    "where $\\varepsilon$ and $\\varepsilon_\\mathrm{crit}$ are the midplane dust-to-gas ratio and its critical value at which this transition occurs (the default is $\\varepsilon_\\mathrm{crit}=1$) and $n$ is a smoothness parameters (the default is $n=0.03$).\n",
    "\n",
    "Setting up this prescription in `DustPy` works identical to the examples above. First, we define the hyperparameters of the method."
   ]
  },
  {
   "cell_type": "code",
   "execution_count": 33,
   "id": "75e91356-8ee5-41b4-b318-3f76f2493b50",
   "metadata": {},
   "outputs": [],
   "source": [
    "d2g_crit = 1.\n",
    "n = 0.03\n",
    "zeta = 0.1"
   ]
  },
  {
   "cell_type": "markdown",
   "id": "29eec228-2b01-4e3e-9fbd-ec51b6e68c0f",
   "metadata": {},
   "source": [
    "Then we create a simulation object and initialize it."
   ]
  },
  {
   "cell_type": "code",
   "execution_count": 34,
   "id": "9b579d78-6161-4f2d-b160-2495c483a489",
   "metadata": {},
   "outputs": [],
   "source": [
    "from dustpy import Simulation"
   ]
  },
  {
   "cell_type": "code",
   "execution_count": 35,
   "id": "5e6ff100-45c7-46bf-bdc3-883e714bfca1",
   "metadata": {},
   "outputs": [],
   "source": [
    "s = Simulation()"
   ]
  },
  {
   "cell_type": "code",
   "execution_count": 36,
   "id": "03900732-f4d2-4201-aff1-cf4235222cf8",
   "metadata": {},
   "outputs": [],
   "source": [
    "s.initialize()"
   ]
  },
  {
   "cell_type": "markdown",
   "id": "20541817-a9a9-4419-926c-2861a6bf5bd7",
   "metadata": {},
   "source": [
    "In the next step we add an updater to the external sources of the dust surface density, that removes dust if planetesimal formation is triggered with the the method above. Here we can import the `miller2021()` function, which returns the source term of dust due to planetesimal formation. If will be negative if planetesimal formation is triggered."
   ]
  },
  {
   "cell_type": "code",
   "execution_count": 37,
   "id": "c428e1bb-4b3c-4494-b67e-18f295ceafb7",
   "metadata": {},
   "outputs": [],
   "source": [
    "from dustpylib.planetesimals.formation import miller2021"
   ]
  },
  {
   "cell_type": "code",
   "execution_count": 38,
   "id": "daba392a-f6b2-4a01-b1b4-acdc19bea6e5",
   "metadata": {},
   "outputs": [],
   "source": [
    "def S_ext(s):\n",
    "    return miller2021(\n",
    "        s.grid.OmegaK,\n",
    "        s.dust.rho,\n",
    "        s.gas.rho,\n",
    "        s.dust.Sigma,\n",
    "        s.dust.St,\n",
    "        d2g_crit=d2g_crit,\n",
    "        n=n,\n",
    "        zeta=zeta\n",
    "    )"
   ]
  },
  {
   "cell_type": "code",
   "execution_count": 39,
   "id": "1af9babb-8a86-4c90-8327-c00657cae56e",
   "metadata": {},
   "outputs": [],
   "source": [
    "s.dust.S.ext.updater = S_ext"
   ]
  },
  {
   "cell_type": "markdown",
   "id": "ad848a0e-8b49-4231-a3d5-a453ea11509b",
   "metadata": {},
   "source": [
    "Then we are going to add a group for the planetesimals and a field to store their surface density."
   ]
  },
  {
   "cell_type": "code",
   "execution_count": 40,
   "id": "26898d4d-3aa6-47cc-8dd3-66136f4776d8",
   "metadata": {},
   "outputs": [],
   "source": [
    "import numpy as np"
   ]
  },
  {
   "cell_type": "code",
   "execution_count": 41,
   "id": "774383ac-a1b7-4535-836c-98e4c51715d0",
   "metadata": {},
   "outputs": [],
   "source": [
    "s.addgroup(\"planetesimals\", description=\"Planetesimal quantities\")\n",
    "s.planetesimals.addfield(\"Sigma\", np.zeros_like(s.gas.Sigma), description=\"Surface density of planetesimals [g/cm²]\")"
   ]
  },
  {
   "cell_type": "markdown",
   "id": "2813eb52-9961-4015-a152-221f4549e3ff",
   "metadata": {},
   "source": [
    "We are going to let `DustPy` integrate this field over time to get the evolution of the planetesimal surface density. Therefore we need to define a derivative of the planetesimal surface density. The derivative is simply the negative sum over the external source terms defined above."
   ]
  },
  {
   "cell_type": "code",
   "execution_count": 42,
   "id": "5bc4c24e-149a-4895-bb4e-b97f9ff39cac",
   "metadata": {},
   "outputs": [],
   "source": [
    "def dSigma_planetesimals(s, t, Sigma_planetesimals):\n",
    "    return -s.dust.S.ext.sum(-1)"
   ]
  },
  {
   "cell_type": "markdown",
   "id": "9c2569e7-f27d-417a-ba3b-6bf30e22ff1d",
   "metadata": {},
   "source": [
    "This function is added to the differentiator of the field."
   ]
  },
  {
   "cell_type": "code",
   "execution_count": 43,
   "id": "20991170-cbae-4f9e-9c8d-aa109b078667",
   "metadata": {},
   "outputs": [],
   "source": [
    "s.planetesimals.Sigma.differentiator = dSigma_planetesimals"
   ]
  },
  {
   "cell_type": "markdown",
   "id": "dc49aa41-279f-4c9c-974b-72dfdef93d86",
   "metadata": {},
   "source": [
    "In the next step we have to create an integration instruction of this field. We are going to integrate the planetesimal surface density with a simple explicit 1st-order Euler scheme."
   ]
  },
  {
   "cell_type": "code",
   "execution_count": 44,
   "id": "afd49a19-7f6f-45fe-9ea7-eb2fae31fa77",
   "metadata": {},
   "outputs": [],
   "source": [
    "from simframe import Instruction\n",
    "from simframe import schemes"
   ]
  },
  {
   "cell_type": "code",
   "execution_count": 45,
   "id": "53ddbf8d-cb03-4fb9-acba-019b8e362996",
   "metadata": {},
   "outputs": [],
   "source": [
    "instruction = Instruction(schemes.expl_1_euler, s.planetesimals.Sigma, description=\"Planetesimals: explicit 1st-order Euler\")"
   ]
  },
  {
   "cell_type": "markdown",
   "id": "ec7eaa90-01ce-4dcf-9441-b1058aef7556",
   "metadata": {},
   "source": [
    "This instruction is added to the existing integration instructions."
   ]
  },
  {
   "cell_type": "code",
   "execution_count": 46,
   "id": "64d74fb4-0d10-479c-abc2-d5b05ccd58f5",
   "metadata": {},
   "outputs": [],
   "source": [
    "s.integrator.instructions.append(instruction)"
   ]
  },
  {
   "cell_type": "code",
   "execution_count": 47,
   "id": "0f6e03af-cae5-4956-a947-14a388919f77",
   "metadata": {},
   "outputs": [
    {
     "data": {
      "text/plain": [
       "[Instruction (Dust: implicit 1st-order direct solver),\n",
       " Instruction (Gas: implicit 1st-order direct solver),\n",
       " Instruction (Planetesimals: explicit 1st-order Euler)]"
      ]
     },
     "execution_count": 47,
     "metadata": {},
     "output_type": "execute_result"
    }
   ],
   "source": [
    "s.integrator.instructions"
   ]
  },
  {
   "cell_type": "markdown",
   "id": "93089d9e-4366-45d1-9679-0d9b536807cb",
   "metadata": {},
   "source": [
    "We can now update the simulation object."
   ]
  },
  {
   "cell_type": "code",
   "execution_count": 48,
   "id": "2daf8d73-3f04-4ed3-941a-ac7f5c43feb3",
   "metadata": {},
   "outputs": [],
   "source": [
    "s.update()"
   ]
  },
  {
   "cell_type": "markdown",
   "id": "8b82abcb-9cd1-49c6-b020-572cabf193eb",
   "metadata": {},
   "source": [
    "The simulation is now ready to go and can be started with `s.run()`.  \n",
    "Note, that as above this setup will not create any planetesimals, since the conditions for planetesimal formation will never be fulfilled without any mechanism to concentrate dust above the given threshold."
   ]
  }
 ],
 "metadata": {
  "kernelspec": {
   "display_name": "Python 3 (ipykernel)",
   "language": "python",
   "name": "python3"
  },
  "language_info": {
   "codemirror_mode": {
    "name": "ipython",
    "version": 3
   },
   "file_extension": ".py",
   "mimetype": "text/x-python",
   "name": "python",
   "nbconvert_exporter": "python",
   "pygments_lexer": "ipython3",
   "version": "3.11.3"
  }
 },
 "nbformat": 4,
 "nbformat_minor": 5
}
