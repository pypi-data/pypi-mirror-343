{
 "cells": [
  {
   "cell_type": "code",
   "execution_count": 1,
   "metadata": {},
   "outputs": [],
   "source": [
    "import os\n",
    "import subprocess\n",
    "from bids import BIDSLayout\n",
    "from pathlib import Path\n",
    "from multiprocessing import Pool\n",
    "\n",
    "# Paths\n",
    "BIDS_DIR = \"/bcbl/home/public/Gari/VOTCLOC/main_exp/BIDS\"\n",
    "DERIVATIVES_DIR = f\"{BIDS_DIR}/derivatives/fmriprep/analysis-forcenobbr_minimal\"\n",
    "ANTS_CMD = \"antsApplyTransforms\"  # Ensure ANTs is installed\n",
    "\n",
    "# Initialize PyBIDS layout\n",
    "layout = BIDSLayout(DERIVATIVES_DIR, validate=False)"
   ]
  },
  {
   "cell_type": "code",
   "execution_count": 14,
   "metadata": {},
   "outputs": [
    {
     "data": {
      "text/plain": [
       "[<BIDSImageFile filename='/bcbl/home/public/Gari/VOTCLOC/main_exp/BIDS/derivatives/fmriprep/analysis-forcenobbr_minimal/sub-01/ses-09/anat/sub-01_ses-09_run-01_desc-brain_mask.nii.gz'>]"
      ]
     },
     "execution_count": 14,
     "metadata": {},
     "output_type": "execute_result"
    }
   ],
   "source": [
    "sub='01'\n",
    "ses='09'\n",
    "anat_masks = layout.get(\n",
    "            subject=sub, session=ses, datatype=\"anat\",\n",
    "            desc=\"brain\",suffix=\"mask\", extension=\"nii.gz\"\n",
    "        )\n",
    "# get only the brain_mask.nii.gz, not getting the ribon_mask\n",
    "anat_masks"
   ]
  },
  {
   "cell_type": "code",
   "execution_count": 12,
   "metadata": {},
   "outputs": [
    {
     "data": {
      "text/plain": [
       "'/bcbl/home/public/Gari/VOTCLOC/main_exp/BIDS/derivatives/fmriprep/analysis-forcenobbr_minimal/sub-01/ses-09/anat/sub-01_ses-09_run-01_desc-brain_mask.nii.gz'"
      ]
     },
     "execution_count": 12,
     "metadata": {},
     "output_type": "execute_result"
    }
   ],
   "source": [
    "anat_masks[0].path"
   ]
  },
  {
   "cell_type": "code",
   "execution_count": 13,
   "metadata": {},
   "outputs": [
    {
     "data": {
      "text/plain": [
       "[<BIDSImageFile filename='/bcbl/home/public/Gari/VOTCLOC/main_exp/BIDS/derivatives/fmriprep/analysis-forcenobbr_minimal/sub-01/ses-09/func/sub-01_ses-09_task-fLoc_run-01_desc-hmc_boldref.nii.gz'>,\n",
       " <BIDSImageFile filename='/bcbl/home/public/Gari/VOTCLOC/main_exp/BIDS/derivatives/fmriprep/analysis-forcenobbr_minimal/sub-01/ses-09/func/sub-01_ses-09_task-fLoc_run-02_desc-hmc_boldref.nii.gz'>,\n",
       " <BIDSImageFile filename='/bcbl/home/public/Gari/VOTCLOC/main_exp/BIDS/derivatives/fmriprep/analysis-forcenobbr_minimal/sub-01/ses-09/func/sub-01_ses-09_task-fLoc_run-03_desc-hmc_boldref.nii.gz'>,\n",
       " <BIDSImageFile filename='/bcbl/home/public/Gari/VOTCLOC/main_exp/BIDS/derivatives/fmriprep/analysis-forcenobbr_minimal/sub-01/ses-09/func/sub-01_ses-09_task-fLoc_run-04_desc-hmc_boldref.nii.gz'>,\n",
       " <BIDSImageFile filename='/bcbl/home/public/Gari/VOTCLOC/main_exp/BIDS/derivatives/fmriprep/analysis-forcenobbr_minimal/sub-01/ses-09/func/sub-01_ses-09_task-fLoc_run-05_desc-hmc_boldref.nii.gz'>,\n",
       " <BIDSImageFile filename='/bcbl/home/public/Gari/VOTCLOC/main_exp/BIDS/derivatives/fmriprep/analysis-forcenobbr_minimal/sub-01/ses-09/func/sub-01_ses-09_task-fLoc_run-06_desc-hmc_boldref.nii.gz'>,\n",
       " <BIDSImageFile filename='/bcbl/home/public/Gari/VOTCLOC/main_exp/BIDS/derivatives/fmriprep/analysis-forcenobbr_minimal/sub-01/ses-09/func/sub-01_ses-09_task-fLoc_run-07_desc-hmc_boldref.nii.gz'>,\n",
       " <BIDSImageFile filename='/bcbl/home/public/Gari/VOTCLOC/main_exp/BIDS/derivatives/fmriprep/analysis-forcenobbr_minimal/sub-01/ses-09/func/sub-01_ses-09_task-fLoc_run-08_desc-hmc_boldref.nii.gz'>,\n",
       " <BIDSImageFile filename='/bcbl/home/public/Gari/VOTCLOC/main_exp/BIDS/derivatives/fmriprep/analysis-forcenobbr_minimal/sub-01/ses-09/func/sub-01_ses-09_task-fLoc_run-09_desc-hmc_boldref.nii.gz'>,\n",
       " <BIDSImageFile filename='/bcbl/home/public/Gari/VOTCLOC/main_exp/BIDS/derivatives/fmriprep/analysis-forcenobbr_minimal/sub-01/ses-09/func/sub-01_ses-09_task-fLoc_run-10_desc-hmc_boldref.nii.gz'>,\n",
       " <BIDSImageFile filename='/bcbl/home/public/Gari/VOTCLOC/main_exp/BIDS/derivatives/fmriprep/analysis-forcenobbr_minimal/sub-01/ses-09/func/sub-01_ses-09_task-fLoc_run-11_desc-hmc_boldref.nii.gz'>,\n",
       " <BIDSImageFile filename='/bcbl/home/public/Gari/VOTCLOC/main_exp/BIDS/derivatives/fmriprep/analysis-forcenobbr_minimal/sub-01/ses-09/func/sub-01_ses-09_task-fLoc_run-12_desc-hmc_boldref.nii.gz'>,\n",
       " <BIDSImageFile filename='/bcbl/home/public/Gari/VOTCLOC/main_exp/BIDS/derivatives/fmriprep/analysis-forcenobbr_minimal/sub-01/ses-09/func/sub-01_ses-09_task-retFF_run-01_desc-hmc_boldref.nii.gz'>,\n",
       " <BIDSImageFile filename='/bcbl/home/public/Gari/VOTCLOC/main_exp/BIDS/derivatives/fmriprep/analysis-forcenobbr_minimal/sub-01/ses-09/func/sub-01_ses-09_task-retFF_run-02_desc-hmc_boldref.nii.gz'>,\n",
       " <BIDSImageFile filename='/bcbl/home/public/Gari/VOTCLOC/main_exp/BIDS/derivatives/fmriprep/analysis-forcenobbr_minimal/sub-01/ses-09/func/sub-01_ses-09_task-retRW_run-01_desc-hmc_boldref.nii.gz'>,\n",
       " <BIDSImageFile filename='/bcbl/home/public/Gari/VOTCLOC/main_exp/BIDS/derivatives/fmriprep/analysis-forcenobbr_minimal/sub-01/ses-09/func/sub-01_ses-09_task-retRW_run-02_desc-hmc_boldref.nii.gz'>,\n",
       " <BIDSImageFile filename='/bcbl/home/public/Gari/VOTCLOC/main_exp/BIDS/derivatives/fmriprep/analysis-forcenobbr_minimal/sub-01/ses-09/func/sub-01_ses-09_task-retRWblock01_run-01_desc-hmc_boldref.nii.gz'>,\n",
       " <BIDSImageFile filename='/bcbl/home/public/Gari/VOTCLOC/main_exp/BIDS/derivatives/fmriprep/analysis-forcenobbr_minimal/sub-01/ses-09/func/sub-01_ses-09_task-retRWblock01_run-02_desc-hmc_boldref.nii.gz'>,\n",
       " <BIDSImageFile filename='/bcbl/home/public/Gari/VOTCLOC/main_exp/BIDS/derivatives/fmriprep/analysis-forcenobbr_minimal/sub-01/ses-09/func/sub-01_ses-09_task-retRWblock02_run-01_desc-hmc_boldref.nii.gz'>]"
      ]
     },
     "execution_count": 13,
     "metadata": {},
     "output_type": "execute_result"
    }
   ],
   "source": [
    "hmc_boldref = layout.get(\n",
    "            subject=sub, session=ses, datatype=\"func\",\n",
    "            desc=\"hmc\",suffix=\"boldref\", extension=\"nii.gz\"\n",
    "        )\n",
    "hmc_boldref \n"
   ]
  },
  {
   "cell_type": "code",
   "execution_count": 15,
   "metadata": {},
   "outputs": [],
   "source": [
    "# Find the corresponding transformation file\n",
    "xfm_files = layout.get(\n",
    "    subject=sub, session=ses, datatype=\"func\",\n",
    "    desc=\"hmc\",suffix=\"xfm\", extension=\"txt\"\n",
    ")\n"
   ]
  },
  {
   "cell_type": "code",
   "execution_count": 16,
   "metadata": {},
   "outputs": [
    {
     "data": {
      "text/plain": [
       "[<BIDSFile filename='/bcbl/home/public/Gari/VOTCLOC/main_exp/BIDS/derivatives/fmriprep/analysis-forcenobbr_minimal/sub-01/ses-09/func/sub-01_ses-09_task-fLoc_run-01_from-orig_to-boldref_mode-image_desc-hmc_xfm.txt'>,\n",
       " <BIDSFile filename='/bcbl/home/public/Gari/VOTCLOC/main_exp/BIDS/derivatives/fmriprep/analysis-forcenobbr_minimal/sub-01/ses-09/func/sub-01_ses-09_task-fLoc_run-02_from-orig_to-boldref_mode-image_desc-hmc_xfm.txt'>,\n",
       " <BIDSFile filename='/bcbl/home/public/Gari/VOTCLOC/main_exp/BIDS/derivatives/fmriprep/analysis-forcenobbr_minimal/sub-01/ses-09/func/sub-01_ses-09_task-fLoc_run-03_from-orig_to-boldref_mode-image_desc-hmc_xfm.txt'>,\n",
       " <BIDSFile filename='/bcbl/home/public/Gari/VOTCLOC/main_exp/BIDS/derivatives/fmriprep/analysis-forcenobbr_minimal/sub-01/ses-09/func/sub-01_ses-09_task-fLoc_run-04_from-orig_to-boldref_mode-image_desc-hmc_xfm.txt'>,\n",
       " <BIDSFile filename='/bcbl/home/public/Gari/VOTCLOC/main_exp/BIDS/derivatives/fmriprep/analysis-forcenobbr_minimal/sub-01/ses-09/func/sub-01_ses-09_task-fLoc_run-05_from-orig_to-boldref_mode-image_desc-hmc_xfm.txt'>,\n",
       " <BIDSFile filename='/bcbl/home/public/Gari/VOTCLOC/main_exp/BIDS/derivatives/fmriprep/analysis-forcenobbr_minimal/sub-01/ses-09/func/sub-01_ses-09_task-fLoc_run-06_from-orig_to-boldref_mode-image_desc-hmc_xfm.txt'>,\n",
       " <BIDSFile filename='/bcbl/home/public/Gari/VOTCLOC/main_exp/BIDS/derivatives/fmriprep/analysis-forcenobbr_minimal/sub-01/ses-09/func/sub-01_ses-09_task-fLoc_run-07_from-orig_to-boldref_mode-image_desc-hmc_xfm.txt'>,\n",
       " <BIDSFile filename='/bcbl/home/public/Gari/VOTCLOC/main_exp/BIDS/derivatives/fmriprep/analysis-forcenobbr_minimal/sub-01/ses-09/func/sub-01_ses-09_task-fLoc_run-08_from-orig_to-boldref_mode-image_desc-hmc_xfm.txt'>,\n",
       " <BIDSFile filename='/bcbl/home/public/Gari/VOTCLOC/main_exp/BIDS/derivatives/fmriprep/analysis-forcenobbr_minimal/sub-01/ses-09/func/sub-01_ses-09_task-fLoc_run-09_from-orig_to-boldref_mode-image_desc-hmc_xfm.txt'>,\n",
       " <BIDSFile filename='/bcbl/home/public/Gari/VOTCLOC/main_exp/BIDS/derivatives/fmriprep/analysis-forcenobbr_minimal/sub-01/ses-09/func/sub-01_ses-09_task-fLoc_run-10_from-orig_to-boldref_mode-image_desc-hmc_xfm.txt'>,\n",
       " <BIDSFile filename='/bcbl/home/public/Gari/VOTCLOC/main_exp/BIDS/derivatives/fmriprep/analysis-forcenobbr_minimal/sub-01/ses-09/func/sub-01_ses-09_task-fLoc_run-11_from-orig_to-boldref_mode-image_desc-hmc_xfm.txt'>,\n",
       " <BIDSFile filename='/bcbl/home/public/Gari/VOTCLOC/main_exp/BIDS/derivatives/fmriprep/analysis-forcenobbr_minimal/sub-01/ses-09/func/sub-01_ses-09_task-fLoc_run-12_from-orig_to-boldref_mode-image_desc-hmc_xfm.txt'>,\n",
       " <BIDSFile filename='/bcbl/home/public/Gari/VOTCLOC/main_exp/BIDS/derivatives/fmriprep/analysis-forcenobbr_minimal/sub-01/ses-09/func/sub-01_ses-09_task-retFF_run-01_from-orig_to-boldref_mode-image_desc-hmc_xfm.txt'>,\n",
       " <BIDSFile filename='/bcbl/home/public/Gari/VOTCLOC/main_exp/BIDS/derivatives/fmriprep/analysis-forcenobbr_minimal/sub-01/ses-09/func/sub-01_ses-09_task-retFF_run-02_from-orig_to-boldref_mode-image_desc-hmc_xfm.txt'>,\n",
       " <BIDSFile filename='/bcbl/home/public/Gari/VOTCLOC/main_exp/BIDS/derivatives/fmriprep/analysis-forcenobbr_minimal/sub-01/ses-09/func/sub-01_ses-09_task-retRW_run-01_from-orig_to-boldref_mode-image_desc-hmc_xfm.txt'>,\n",
       " <BIDSFile filename='/bcbl/home/public/Gari/VOTCLOC/main_exp/BIDS/derivatives/fmriprep/analysis-forcenobbr_minimal/sub-01/ses-09/func/sub-01_ses-09_task-retRW_run-02_from-orig_to-boldref_mode-image_desc-hmc_xfm.txt'>,\n",
       " <BIDSFile filename='/bcbl/home/public/Gari/VOTCLOC/main_exp/BIDS/derivatives/fmriprep/analysis-forcenobbr_minimal/sub-01/ses-09/func/sub-01_ses-09_task-retRWblock01_run-01_from-orig_to-boldref_mode-image_desc-hmc_xfm.txt'>,\n",
       " <BIDSFile filename='/bcbl/home/public/Gari/VOTCLOC/main_exp/BIDS/derivatives/fmriprep/analysis-forcenobbr_minimal/sub-01/ses-09/func/sub-01_ses-09_task-retRWblock01_run-02_from-orig_to-boldref_mode-image_desc-hmc_xfm.txt'>,\n",
       " <BIDSFile filename='/bcbl/home/public/Gari/VOTCLOC/main_exp/BIDS/derivatives/fmriprep/analysis-forcenobbr_minimal/sub-01/ses-09/func/sub-01_ses-09_task-retRWblock02_run-01_from-orig_to-boldref_mode-image_desc-hmc_xfm.txt'>]"
      ]
     },
     "execution_count": 16,
     "metadata": {},
     "output_type": "execute_result"
    }
   ],
   "source": [
    "xfm_files"
   ]
  },
  {
   "cell_type": "code",
   "execution_count": null,
   "metadata": {},
   "outputs": [],
   "source": [
    "\n",
    "\n",
    "\n",
    "def process_brain_mask(anat_mask, bold_ref, xfm_txt, output_bold_mask):\n",
    "    \"\"\"\n",
    "    Applies ANTs transformation to map a brain mask from T1w space to BOLD space.\n",
    "    \"\"\"\n",
    "    cmd_ants = [\n",
    "        ANTS_CMD,\n",
    "        \"-d\", \"3\",\n",
    "        \"-i\", anat_mask,\n",
    "        \"-r\", bold_ref,\n",
    "        \"-t\", xfm_txt,\n",
    "        \"-o\", output_bold_mask,\n",
    "        \"-n\", \"NearestNeighbor\"\n",
    "    ]\n",
    "\n",
    "    print(f\"Processing: {anat_mask} -> {output_bold_mask}\")\n",
    "    subprocess.run(cmd_ants, check=True)\n",
    "\n",
    "\n",
    "# Get all subjects and sessions\n",
    "subjects = layout.get_subjects()\n",
    "sessions = layout.get_sessions()\n",
    "\n",
    "jobs = []\n",
    "\n",
    "for sub in subjects:\n",
    "    for ses in sessions:\n",
    "        # Find all anatomical brain masks (space-T1w and desc-brain_mask)\n",
    "        anat_masks = layout.get(\n",
    "            subject=sub, session=ses, datatype=\"anat\",\n",
    "            desc=\"brain\",suffix=\"mask\", extension=\"nii.gz\"\n",
    "                )[0]\n",
    "        anat_mask_path = anat_mask.path\n",
    "\n",
    "        # Find corresponding functional bold reference images\n",
    "        hmc_boldrefs = layout.get(\n",
    "                    subject=sub, session=ses, datatype=\"func\",\n",
    "                    desc=\"hmc\",suffix=\"boldref\", extension=\"nii.gz\"\n",
    "                )\n",
    "\n",
    "        for bold_ref in hmc_boldrefs:\n",
    "            bold_ref_path = bold_ref.path\n",
    "\n",
    "            xfm_file = layout.get(\n",
    "                subject=sub, session=ses, datatype=\"func\",\n",
    "                task=bold_ref.task, run=bold_ref.run,\n",
    "                desc=\"hmc\",suffix=\"xfm\", extension=\"txt\"\n",
    "                    )\n",
    "            xfm_txt_path=xfm_file[0].path                    \n",
    "            # Construct the output path\n",
    "            output_desc_mask = bold_ref_path.replace(\n",
    "                \"desc-hmc_boldref.nii.gz\", \"desc-brain_mask.nii.gz\"\n",
    "            )\n",
    "            \n",
    "            if all(map(os.path.exists, [anat_mask_path, bold_ref_path, xfm_txt_path])):\n",
    "                jobs.append((anat_mask_path, bold_ref_path, xfm_txt_path, output_desc_mask))\n",
    "            else:\n",
    "                print(f\"Skipping: Missing files for {sub} {ses}\")\n",
    "\n",
    "# Use multiprocessing for faster processing\n",
    "if __name__ == \"__main__\":\n",
    "    with Pool(processes=8) as pool:  # Adjust number of processes\n",
    "        pool.starmap(process_brain_mask, jobs)\n",
    "\n",
    "    print(\"Processing completed.\")\n"
   ]
  },
  {
   "cell_type": "code",
   "execution_count": 17,
   "metadata": {},
   "outputs": [],
   "source": [
    "bold_ref=hmc_boldref[0]"
   ]
  },
  {
   "cell_type": "code",
   "execution_count": 21,
   "metadata": {},
   "outputs": [
    {
     "name": "stderr",
     "output_type": "stream",
     "text": [
      "/export/home/tlei/tlei/soft/miniconda3/envs/votcloc/lib/python3.11/site-packages/bids/layout/models.py:229: UserWarning: Accessing entities as attributes is deprecated as of 0.7. Please use the .entities dictionary instead (i.e., .entities['task'] instead of .task.\n",
      "  warnings.warn(\"Accessing entities as attributes is deprecated as \"\n",
      "/export/home/tlei/tlei/soft/miniconda3/envs/votcloc/lib/python3.11/site-packages/bids/layout/models.py:229: UserWarning: Accessing entities as attributes is deprecated as of 0.7. Please use the .entities dictionary instead (i.e., .entities['run'] instead of .run.\n",
      "  warnings.warn(\"Accessing entities as attributes is deprecated as \"\n"
     ]
    }
   ],
   "source": [
    "            xfm_file = layout.get(\n",
    "                subject=sub, session=ses, datatype=\"func\",\n",
    "                task=bold_ref.task, run=bold_ref.run,\n",
    "                desc=\"hmc\",suffix=\"xfm\", extension=\"txt\"\n",
    "                    )"
   ]
  },
  {
   "cell_type": "code",
   "execution_count": 24,
   "metadata": {},
   "outputs": [
    {
     "data": {
      "text/plain": [
       "'/bcbl/home/public/Gari/VOTCLOC/main_exp/BIDS/derivatives/fmriprep/analysis-forcenobbr_minimal/sub-01/ses-09/func/sub-01_ses-09_task-fLoc_run-01_from-orig_to-boldref_mode-image_desc-hmc_xfm.txt'"
      ]
     },
     "execution_count": 24,
     "metadata": {},
     "output_type": "execute_result"
    }
   ],
   "source": [
    "xfm_file[0].path"
   ]
  },
  {
   "cell_type": "code",
   "execution_count": 19,
   "metadata": {},
   "outputs": [
    {
     "name": "stderr",
     "output_type": "stream",
     "text": [
      "/export/home/tlei/tlei/soft/miniconda3/envs/votcloc/lib/python3.11/site-packages/bids/layout/models.py:229: UserWarning: Accessing entities as attributes is deprecated as of 0.7. Please use the .entities dictionary instead (i.e., .entities['task'] instead of .task.\n",
      "  warnings.warn(\"Accessing entities as attributes is deprecated as \"\n"
     ]
    },
    {
     "data": {
      "text/plain": [
       "'fLoc'"
      ]
     },
     "execution_count": 19,
     "metadata": {},
     "output_type": "execute_result"
    }
   ],
   "source": [
    "bold_ref.task"
   ]
  },
  {
   "cell_type": "code",
   "execution_count": 20,
   "metadata": {},
   "outputs": [
    {
     "name": "stderr",
     "output_type": "stream",
     "text": [
      "/export/home/tlei/tlei/soft/miniconda3/envs/votcloc/lib/python3.11/site-packages/bids/layout/models.py:229: UserWarning: Accessing entities as attributes is deprecated as of 0.7. Please use the .entities dictionary instead (i.e., .entities['run'] instead of .run.\n",
      "  warnings.warn(\"Accessing entities as attributes is deprecated as \"\n"
     ]
    },
    {
     "data": {
      "text/plain": [
       "01"
      ]
     },
     "execution_count": 20,
     "metadata": {},
     "output_type": "execute_result"
    }
   ],
   "source": [
    "bold_ref.run"
   ]
  },
  {
   "cell_type": "code",
   "execution_count": 18,
   "metadata": {},
   "outputs": [
    {
     "data": {
      "text/plain": [
       "'/bcbl/home/public/Gari/VOTCLOC/main_exp/BIDS/derivatives/fmriprep/analysis-forcenobbr_minimal/sub-01/ses-09/func/sub-01_ses-09_task-fLoc_run-01_desc-hmc_boldref.nii.gz'"
      ]
     },
     "execution_count": 18,
     "metadata": {},
     "output_type": "execute_result"
    }
   ],
   "source": [
    "bold_ref_path = bold_ref.path\n",
    "bold_ref_path"
   ]
  },
  {
   "cell_type": "code",
   "execution_count": null,
   "metadata": {},
   "outputs": [],
   "source": [
    "\n",
    "\n",
    "\n",
    "def process_brain_mask(anat_mask, bold_ref, xfm_txt, output_bold_mask):\n",
    "    \"\"\"\n",
    "    Applies ANTs transformation to map a brain mask from T1w space to BOLD space.\n",
    "    \"\"\"\n",
    "    cmd_ants = [\n",
    "        ANTS_CMD,\n",
    "        \"-d\", \"3\",\n",
    "        \"-i\", anat_mask,\n",
    "        \"-r\", bold_ref,\n",
    "        \"-t\", xfm_txt,\n",
    "        \"-o\", output_bold_mask,\n",
    "        \"-n\", \"NearestNeighbor\"\n",
    "    ]\n",
    "\n",
    "    print(f\"Processing: {anat_mask} -> {output_bold_mask}\")\n",
    "    subprocess.run(cmd_ants, check=True)\n",
    "\n",
    "\n",
    "# Get all subjects and sessions\n",
    "subjects = layout.get_subjects()\n",
    "sessions = layout.get_sessions()\n",
    "\n",
    "jobs = []\n",
    "\n",
    "for sub in subjects:\n",
    "    for ses in sessions:\n",
    "        # Find all anatomical brain masks (space-T1w and desc-brain_mask)\n",
    "        anat_masks = layout.get(\n",
    "            subject=sub, session=ses, datatype=\"anat\",\n",
    "            desc=\"brain\",suffix=\"mask\", extension=\"nii.gz\"\n",
    "                )[0]\n",
    "        anat_mask_path = anat_mask.path\n",
    "\n",
    "        # Find corresponding functional bold reference images\n",
    "        hmc_boldrefs = layout.get(\n",
    "                    subject=sub, session=ses, datatype=\"func\",\n",
    "                    desc=\"hmc\",suffix=\"boldref\", extension=\"nii.gz\"\n",
    "                )\n",
    "\n",
    "        for bold_ref in hmc_boldrefs:\n",
    "            bold_ref_path = bold_ref.path\n",
    "\n",
    "            xfm_file = layout.get(\n",
    "                subject=sub, session=ses, datatype=\"func\",\n",
    "                task=bold_ref.task, run=bold_ref.run,\n",
    "                desc=\"hmc\",suffix=\"xfm\", extension=\"txt\"\n",
    "                    )\n",
    "            xfm_txt_path=xfm_file[0].path                    \n",
    "            # Construct the output path\n",
    "            output_desc_mask = bold_ref_path.replace(\n",
    "                \"desc-hmc_boldref.nii.gz\", \"desc-brain_mask.nii.gz\"\n",
    "            )\n",
    "            \n",
    "            if all(map(os.path.exists, [anat_mask_path, bold_ref_path, xfm_txt_path])):\n",
    "                jobs.append((anat_mask_path, bold_ref_path, xfm_txt_path, output_desc_mask))\n",
    "            else:\n",
    "                print(f\"Skipping: Missing files for {sub} {ses}\")\n",
    "\n",
    "# Use multiprocessing for faster processing\n",
    "if __name__ == \"__main__\":\n",
    "    with Pool(processes=8) as pool:  # Adjust number of processes\n",
    "        pool.starmap(process_brain_mask, jobs)\n",
    "\n",
    "    print(\"Processing completed.\")\n"
   ]
  }
 ],
 "metadata": {
  "kernelspec": {
   "display_name": "votcloc",
   "language": "python",
   "name": "python3"
  },
  "language_info": {
   "codemirror_mode": {
    "name": "ipython",
    "version": 3
   },
   "file_extension": ".py",
   "mimetype": "text/x-python",
   "name": "python",
   "nbconvert_exporter": "python",
   "pygments_lexer": "ipython3",
   "version": "3.11.11"
  }
 },
 "nbformat": 4,
 "nbformat_minor": 2
}
