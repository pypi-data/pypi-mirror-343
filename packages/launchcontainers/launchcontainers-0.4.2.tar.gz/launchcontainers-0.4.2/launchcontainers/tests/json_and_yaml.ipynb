{
 "cells": [
  {
   "cell_type": "code",
   "execution_count": 1,
   "metadata": {},
   "outputs": [],
   "source": [
    "\n",
    "import argparse\n",
    "from argparse import RawDescriptionHelpFormatter\n",
    "import yaml\n",
    "from yaml.loader import SafeLoader\n",
    "import logging\n",
    "import os\n",
    "import shutil\n",
    "import sys\n",
    "import pandas as pd\n",
    "import json\n",
    "import numpy as np\n",
    "\n",
    "\n",
    "logger = logging.getLogger(\"General\")\n"
   ]
  },
  {
   "cell_type": "code",
   "execution_count": 2,
   "metadata": {},
   "outputs": [],
   "source": [
    "def read_json(json_path):\n",
    "    with open(json_path) as json_data:\n",
    "        d = json.loads(json_data)\n",
    "    return d\n",
    "\n",
    "def read_yaml(path_to_config_file):\n",
    "    \"\"\"\n",
    "    Input:\n",
    "    the path to the config file\n",
    "\n",
    "    Returns\n",
    "    a dictionary that contains all the config info\n",
    "\n",
    "    \"\"\"\n",
    "    with open(path_to_config_file, \"r\") as v:\n",
    "        config = yaml.load(v, Loader=SafeLoader)\n",
    "\n",
    "    return config"
   ]
  },
  {
   "cell_type": "code",
   "execution_count": 13,
   "metadata": {},
   "outputs": [],
   "source": [
    "l1_glm_yaml=read_yaml('/media/tlei/data/soft/MRIworkflow/example_config.yaml')"
   ]
  },
  {
   "cell_type": "code",
   "execution_count": 16,
   "metadata": {},
   "outputs": [
    {
     "data": {
      "text/plain": [
       "False"
      ]
     },
     "execution_count": 16,
     "metadata": {},
     "output_type": "execute_result"
    }
   ],
   "source": [
    "l1_glm_yaml['general'][\"print_cmd_only\"]==False"
   ]
  },
  {
   "cell_type": "code",
   "execution_count": 35,
   "metadata": {},
   "outputs": [],
   "source": [
    "# Define the basic_contrasts dictionary\n",
    "basic_contrasts = {\n",
    "    \"adult\": np.array([1, 0, 0, 0, 0, 0, 0, 0, 0]),\n",
    "    \"child\": np.array([0, 1, 0, 0, 0, 0, 0, 0, 0]),\n",
    "    \"body\": np.array([0, 0, 1, 0, 0, 0, 0, 0, 0]),\n",
    "    \"limb\": np.array([0, 0, 0, 1, 0, 0, 0, 0, 0]),\n",
    "    \"JP_word\": np.array([0, 0, 0, 0, 1, 0, 0, 0, 0]),\n",
    "    \"JP_FF\": np.array([0, 0, 0, 0, 0, 1, 0, 0, 0]),\n",
    "    \"JP_CB\": np.array([0, 0, 0, 0, 0, 0, 1, 0, 0]),\n",
    "    \"JP_CS\": np.array([0, 0, 0, 0, 0, 0, 0, 1, 0]),\n",
    "    \"JP_SC\": np.array([0, 0, 0, 0, 0, 0, 0, 0, 1])\n",
    "}\n",
    "contrasts_orig = {\n",
    "        \"AllvsNull\": (\n",
    "            basic_contrasts[\"adult\"] \n",
    "            + basic_contrasts[\"child\"] \n",
    "            + basic_contrasts[\"body\"] \n",
    "            + basic_contrasts[\"limb\"] \n",
    "            + basic_contrasts[\"JP_word\"] \n",
    "            + basic_contrasts[\"JP_FF\"] \n",
    "            + basic_contrasts[\"JP_CB\"] \n",
    "            + basic_contrasts[\"JP_CS\"] \n",
    "            + basic_contrasts[\"JP_SC\"] \n",
    "        ),\n",
    "        \"PERvsNull\": (\n",
    "            basic_contrasts[\"JP_CB\"] \n",
    "            + basic_contrasts[\"JP_SC\"] \n",
    "        ),\n",
    "        \"LEXvsNull\": (\n",
    "            basic_contrasts[\"JP_CS\"] \n",
    "            + basic_contrasts[\"JP_FF\"] \n",
    "        ),    \n",
    "        \"PERvsLEX\": (\n",
    "            basic_contrasts[\"JP_CB\"] / 2\n",
    "            + basic_contrasts[\"JP_SC\"] / 2\n",
    "            - basic_contrasts[\"JP_CS\"] / 2\n",
    "            - basic_contrasts[\"JP_FF\"] / 2\n",
    "        ),          \n",
    "        \"WordvsLEX\": (\n",
    "            basic_contrasts[\"JP_word\"] \n",
    "            - basic_contrasts[\"JP_CS\"] / 2\n",
    "            - basic_contrasts[\"JP_FF\"] / 2\n",
    "        ),\n",
    "        }"
   ]
  },
  {
   "cell_type": "code",
   "execution_count": 36,
   "metadata": {},
   "outputs": [
    {
     "data": {
      "text/plain": [
       "{'AllvsNull': array([1, 1, 1, 1, 1, 1, 1, 1, 1]),\n",
       " 'PERvsNull': array([0, 0, 0, 0, 0, 0, 1, 0, 1]),\n",
       " 'LEXvsNull': array([0, 0, 0, 0, 0, 1, 0, 1, 0]),\n",
       " 'PERvsLEX': array([ 0. ,  0. ,  0. ,  0. ,  0. , -0.5,  0.5, -0.5,  0.5]),\n",
       " 'WordvsLEX': array([ 0. ,  0. ,  0. ,  0. ,  1. , -0.5,  0. , -0.5,  0. ])}"
      ]
     },
     "execution_count": 36,
     "metadata": {},
     "output_type": "execute_result"
    }
   ],
   "source": [
    "contrasts_orig"
   ]
  },
  {
   "cell_type": "code",
   "execution_count": 73,
   "metadata": {},
   "outputs": [
    {
     "data": {
      "text/plain": [
       "['AllvsNull',\n",
       " 'PERvsNull',\n",
       " 'LEXvsNull',\n",
       " 'PERvsLEX',\n",
       " 'WordvsLEX',\n",
       " 'WordvsPER',\n",
       " 'WordvsLEXPER',\n",
       " 'WordvsAllnoWordnoLEX',\n",
       " 'WordvsAllnoWord',\n",
       " 'LEXvsAllnoWordnoLEX',\n",
       " 'PERvsAllnoWordnoLEX',\n",
       " 'SCvsCB',\n",
       " 'CSvsFF',\n",
       " 'FacesvsNull',\n",
       " 'FacesvsLEX',\n",
       " 'FacesvsPER',\n",
       " 'FacesvsLEXPER',\n",
       " 'FacesvsAllnoFace',\n",
       " 'AdultvsChild',\n",
       " 'LimbsvsNull',\n",
       " 'LimbsvsLEX',\n",
       " 'LimbsvsPER',\n",
       " 'LimbsvsLEXPER',\n",
       " 'LimbsvsAllnoLimbs',\n",
       " 'BodysLimb']"
      ]
     },
     "execution_count": 73,
     "metadata": {},
     "output_type": "execute_result"
    }
   ],
   "source": [
    "l1_glm_yaml['contrasts']"
   ]
  },
  {
   "cell_type": "code",
   "execution_count": 74,
   "metadata": {},
   "outputs": [
    {
     "data": {
      "text/plain": [
       "{'All': ['adult',\n",
       "  'child',\n",
       "  'body',\n",
       "  'limb',\n",
       "  'JP_word',\n",
       "  'JP_FF',\n",
       "  'JP_CB',\n",
       "  'JP_CS',\n",
       "  'JP_SC'],\n",
       " 'AllnoWord': ['adult',\n",
       "  'child',\n",
       "  'body',\n",
       "  'limb',\n",
       "  'JP_FF',\n",
       "  'JP_CB',\n",
       "  'JP_CS',\n",
       "  'JP_SC'],\n",
       " 'AllnoWordnoLEX': ['adult',\n",
       "  'child',\n",
       "  'body',\n",
       "  'limb',\n",
       "  'JP_FF',\n",
       "  'JP_CB',\n",
       "  'JP_CS',\n",
       "  'JP_SC'],\n",
       " 'LEXPER': ['JP_FF', 'JP_CB', 'JP_CS', 'JP_SC'],\n",
       " 'PER': ['JP_CB', 'JP_SC'],\n",
       " 'LEX': ['JP_CS', 'JP_FF'],\n",
       " 'Faces': ['adult', 'child'],\n",
       " 'Word': ['JP_word'],\n",
       " 'Limbs': ['body', 'limb']}"
      ]
     },
     "execution_count": 74,
     "metadata": {},
     "output_type": "execute_result"
    }
   ],
   "source": [
    "l1_glm_yaml['contrasts_group']"
   ]
  },
  {
   "cell_type": "code",
   "execution_count": 152,
   "metadata": {},
   "outputs": [],
   "source": [
    "# Extract contrasts\n",
    "contrasts_yaml = l1_glm_yaml['contrasts']\n",
    "contrast_groups=l1_glm_yaml['contrast_groups']\n",
    "contrasts = {}\n",
    "for contrast in contrasts_yaml:\n",
    "    contrast_vector = np.zeros_like(next(iter(basic_contrasts.values())), dtype=np.float64)\n",
    "    plus=contrast.split('vs')[0]\n",
    "    minus=contrast.split('vs')[1]\n",
    "    try:\n",
    "        if minus == \"Null\":\n",
    "            for part in contrast_groups[plus]:\n",
    "                contrast_vector += basic_contrasts[part]\n",
    "            contrasts[contrast]=contrast_vector\n",
    "        else:\n",
    "            con1=contrast_groups[plus]\n",
    "            factor1=len(con1)\n",
    "            con2=contrast_groups[minus]\n",
    "            factor2=len(con2)\n",
    "            for part in con1:\n",
    "                contrast_vector += basic_contrasts[part]/factor1\n",
    "            for part in con2:\n",
    "                contrast_vector -= basic_contrasts[part]/factor2        \n",
    "            contrasts[contrast]=contrast_vector\n",
    "    except KeyError as e :\n",
    "        logger.error(f\"{contrast} contrast have key error, check your yaml\")\n",
    "\n"
   ]
  },
  {
   "cell_type": "code",
   "execution_count": 118,
   "metadata": {},
   "outputs": [
    {
     "data": {
      "text/plain": [
       "{'AllvsNull': array([1., 1., 1., 1., 1., 1., 1., 1., 1.]),\n",
       " 'PERvsNull': array([0., 0., 0., 0., 0., 0., 1., 0., 1.]),\n",
       " 'LEXvsNull': array([0., 0., 0., 0., 0., 1., 0., 1., 0.]),\n",
       " 'PERvsLEX': array([ 0. ,  0. ,  0. ,  0. ,  0. , -0.5,  0.5, -0.5,  0.5]),\n",
       " 'WordvsLEX': array([ 0. ,  0. ,  0. ,  0. ,  1. , -0.5,  0. , -0.5,  0. ]),\n",
       " 'WordvsPER': array([ 0. ,  0. ,  0. ,  0. ,  1. ,  0. , -0.5,  0. , -0.5]),\n",
       " 'WordvsLEXPER': array([ 0.  ,  0.  ,  0.  ,  0.  ,  1.  , -0.25, -0.25, -0.25, -0.25]),\n",
       " 'WordvsAllnoWordnoLEX': array([-0.125, -0.125, -0.125, -0.125,  1.   , -0.125, -0.125, -0.125,\n",
       "        -0.125]),\n",
       " 'WordvsAllnoWord': array([-0.125, -0.125, -0.125, -0.125,  1.   , -0.125, -0.125, -0.125,\n",
       "        -0.125]),\n",
       " 'LEXvsAllnoWordnoLEX': array([-0.125, -0.125, -0.125, -0.125,  0.   ,  0.375, -0.125,  0.375,\n",
       "        -0.125]),\n",
       " 'PERvsAllnoWordnoLEX': array([-0.125, -0.125, -0.125, -0.125,  0.   , -0.125,  0.375, -0.125,\n",
       "         0.375]),\n",
       " 'SCvsCB': array([ 0.,  0.,  0.,  0.,  0.,  0., -1.,  0.,  1.]),\n",
       " 'CSvsFF': array([ 0.,  0.,  0.,  0.,  0., -1.,  0.,  1.,  0.]),\n",
       " 'FacesvsNull': array([1., 1., 0., 0., 0., 0., 0., 0., 0.]),\n",
       " 'FacesvsLEX': array([ 0.5,  0.5,  0. ,  0. ,  0. , -0.5,  0. , -0.5,  0. ]),\n",
       " 'FacesvsPER': array([ 0.5,  0.5,  0. ,  0. ,  0. ,  0. , -0.5,  0. , -0.5]),\n",
       " 'FacesvsLEXPER': array([ 0.5 ,  0.5 ,  0.  ,  0.  ,  0.  , -0.25, -0.25, -0.25, -0.25]),\n",
       " 'FacesvsAllnoFace': array([ 0.5       ,  0.5       , -0.14285714, -0.14285714, -0.14285714,\n",
       "        -0.14285714, -0.14285714, -0.14285714, -0.14285714]),\n",
       " 'AdultvsChild': array([ 1., -1.,  0.,  0.,  0.,  0.,  0.,  0.,  0.]),\n",
       " 'LimbsvsNull': array([0., 0., 1., 1., 0., 0., 0., 0., 0.]),\n",
       " 'LimbsvsLEX': array([ 0. ,  0. ,  0.5,  0.5,  0. , -0.5,  0. , -0.5,  0. ]),\n",
       " 'LimbsvsPER': array([ 0. ,  0. ,  0.5,  0.5,  0. ,  0. , -0.5,  0. , -0.5]),\n",
       " 'LimbsvsLEXPER': array([ 0.  ,  0.  ,  0.5 ,  0.5 ,  0.  , -0.25, -0.25, -0.25, -0.25]),\n",
       " 'LimbsvsAllnoLimbs': array([-0.14285714, -0.14285714,  0.5       ,  0.5       , -0.14285714,\n",
       "        -0.14285714, -0.14285714, -0.14285714, -0.14285714]),\n",
       " 'BodyvsLimb': array([ 0.,  0.,  1., -1.,  0.,  0.,  0.,  0.,  0.])}"
      ]
     },
     "execution_count": 118,
     "metadata": {},
     "output_type": "execute_result"
    }
   ],
   "source": [
    "contrasts"
   ]
  },
  {
   "cell_type": "code",
   "execution_count": 160,
   "metadata": {},
   "outputs": [],
   "source": [
    "contrasts_orig = {\n",
    "        \"AllvsNull\": (\n",
    "            basic_contrasts[\"adult\"] \n",
    "            + basic_contrasts[\"child\"] \n",
    "            + basic_contrasts[\"body\"] \n",
    "            + basic_contrasts[\"limb\"] \n",
    "            + basic_contrasts[\"JP_word\"] \n",
    "            + basic_contrasts[\"JP_FF\"] \n",
    "            + basic_contrasts[\"JP_CB\"] \n",
    "            + basic_contrasts[\"JP_CS\"] \n",
    "            + basic_contrasts[\"JP_SC\"] \n",
    "        ),\n",
    "        \"PERvsNull\": (\n",
    "            basic_contrasts[\"JP_CB\"] \n",
    "            + basic_contrasts[\"JP_SC\"] \n",
    "        ),\n",
    "        \"LEXvsNull\": (\n",
    "            basic_contrasts[\"JP_CS\"] \n",
    "            + basic_contrasts[\"JP_FF\"] \n",
    "        ),    \n",
    "        \"PERvsLEX\": (\n",
    "            basic_contrasts[\"JP_CB\"] / 2\n",
    "            + basic_contrasts[\"JP_SC\"] / 2\n",
    "            - basic_contrasts[\"JP_CS\"] / 2\n",
    "            - basic_contrasts[\"JP_FF\"] / 2\n",
    "        ),          \n",
    "        \"WordvsLEX\": (\n",
    "            basic_contrasts[\"JP_word\"] \n",
    "            - basic_contrasts[\"JP_CS\"] / 2\n",
    "            - basic_contrasts[\"JP_FF\"] / 2\n",
    "        ),  \n",
    "        \"WordvsPER\": (\n",
    "            basic_contrasts[\"JP_word\"] \n",
    "            - basic_contrasts[\"JP_CB\"] / 2\n",
    "            - basic_contrasts[\"JP_SC\"] / 2\n",
    "        ),   \n",
    "        \"WordvsLEXPER\": (\n",
    "            basic_contrasts[\"JP_word\"] \n",
    "            - basic_contrasts[\"JP_CS\"] / 4\n",
    "            - basic_contrasts[\"JP_FF\"] / 4\n",
    "            - basic_contrasts[\"JP_CB\"] / 4\n",
    "            - basic_contrasts[\"JP_SC\"] / 4\n",
    "        ),     \n",
    "        \"WordvsAllnoWordnoLEX\": (\n",
    "            basic_contrasts[\"JP_word\"] \n",
    "            - basic_contrasts[\"JP_CB\"] / 6\n",
    "            - basic_contrasts[\"JP_SC\"] / 6\n",
    "            - basic_contrasts[\"body\"] / 6\n",
    "            - basic_contrasts[\"limb\"] / 6\n",
    "            - basic_contrasts[\"adult\"] / 6\n",
    "            - basic_contrasts[\"child\"] / 6\n",
    "        ),\n",
    "        \n",
    "        \"WordvsAllnoWord\": (\n",
    "            basic_contrasts[\"JP_word\"] \n",
    "            - basic_contrasts[\"JP_CS\"] / 8\n",
    "            - basic_contrasts[\"JP_FF\"] / 8                \n",
    "            - basic_contrasts[\"JP_CB\"] / 8\n",
    "            - basic_contrasts[\"JP_SC\"] / 8\n",
    "            - basic_contrasts[\"body\"] / 8\n",
    "            - basic_contrasts[\"limb\"] / 8\n",
    "            - basic_contrasts[\"adult\"] / 8\n",
    "            - basic_contrasts[\"child\"] / 8\n",
    "        ),     \n",
    "        \"LEXvsAllnoWordnoLEX\": (\n",
    "            basic_contrasts[\"JP_CS\"] / 2\n",
    "            + basic_contrasts[\"JP_FF\"] / 2\n",
    "            - basic_contrasts[\"JP_CB\"] / 6\n",
    "            - basic_contrasts[\"JP_SC\"] / 6\n",
    "            - basic_contrasts[\"body\"] / 6\n",
    "            - basic_contrasts[\"limb\"] / 6\n",
    "            - basic_contrasts[\"adult\"] / 6\n",
    "            - basic_contrasts[\"child\"] / 6\n",
    "        ),     \n",
    "\n",
    "        \"SCvsCB\": (\n",
    "            basic_contrasts[\"JP_SC\"] \n",
    "            - basic_contrasts[\"JP_CB\"] \n",
    "            \n",
    "        ),     \n",
    "        \"CSvsFF\": (\n",
    "            basic_contrasts[\"JP_CS\"] \n",
    "            - basic_contrasts[\"JP_FF\"] \n",
    "            \n",
    "        ),     \n",
    "        \"FacesvsNull\": (\n",
    "            basic_contrasts[\"adult\"] \n",
    "            + basic_contrasts[\"child\"] \n",
    "        ),    \n",
    "        \"FacesvsLEX\": (\n",
    "            basic_contrasts[\"adult\"] / 2\n",
    "            + basic_contrasts[\"child\"] / 2\n",
    "            - basic_contrasts[\"JP_CS\"] / 2\n",
    "            - basic_contrasts[\"JP_FF\"]  / 2\n",
    "        ), \n",
    "        \"FacesvsPER\": (\n",
    "            basic_contrasts[\"adult\"] / 2\n",
    "            + basic_contrasts[\"child\"] / 2\n",
    "            - basic_contrasts[\"JP_CB\"] / 2\n",
    "            - basic_contrasts[\"JP_SC\"]  / 2\n",
    "        ),    \n",
    "        \"FacesvsLEXPER\": (\n",
    "            basic_contrasts[\"adult\"] / 2\n",
    "            + basic_contrasts[\"child\"] / 2\n",
    "            - basic_contrasts[\"JP_CB\"] / 4\n",
    "            - basic_contrasts[\"JP_SC\"]  / 4\n",
    "            - basic_contrasts[\"JP_CS\"] / 4\n",
    "            - basic_contrasts[\"JP_FF\"]  / 4                \n",
    "        ),   \n",
    "        \"FacesvsAllnoFace\": (\n",
    "            basic_contrasts[\"adult\"] / 2\n",
    "            + basic_contrasts[\"child\"] / 2\n",
    "            - basic_contrasts[\"JP_CB\"] / 7\n",
    "            - basic_contrasts[\"JP_SC\"]  / 7\n",
    "            - basic_contrasts[\"JP_CS\"] / 7\n",
    "            - basic_contrasts[\"JP_FF\"]  / 7  \n",
    "            - basic_contrasts[\"body\"] / 7\n",
    "            - basic_contrasts[\"limb\"] / 7 \n",
    "            - basic_contrasts[\"JP_word\"] / 7            \n",
    "        ),   \n",
    "        \"AdultvsChild\": (\n",
    "            basic_contrasts[\"adult\"] \n",
    "            - basic_contrasts[\"child\"] \n",
    "        ),        \n",
    "        \n",
    "        \"LimbsvsNull\": (\n",
    "            basic_contrasts[\"body\"] \n",
    "            + basic_contrasts[\"limb\"] \n",
    "        ),    \n",
    "        \"LimbsvsLEX\": (\n",
    "            basic_contrasts[\"body\"] / 2\n",
    "            + basic_contrasts[\"limb\"] / 2\n",
    "            - basic_contrasts[\"JP_CS\"] / 2\n",
    "            - basic_contrasts[\"JP_FF\"]  / 2\n",
    "        ), \n",
    "        \"LimbsvsPER\": (\n",
    "            basic_contrasts[\"body\"] / 2\n",
    "            + basic_contrasts[\"limb\"] / 2\n",
    "            - basic_contrasts[\"JP_CB\"] / 2\n",
    "            - basic_contrasts[\"JP_SC\"]  / 2\n",
    "        ),    \n",
    "        \"LimbsvsLEXPER\": (\n",
    "            basic_contrasts[\"body\"] / 2\n",
    "            + basic_contrasts[\"limb\"] / 2\n",
    "            - basic_contrasts[\"JP_CB\"] / 4\n",
    "            - basic_contrasts[\"JP_SC\"]  / 4\n",
    "            - basic_contrasts[\"JP_CS\"] / 4\n",
    "            - basic_contrasts[\"JP_FF\"]  / 4                \n",
    "        ),   \n",
    "        \"LimbsvsAllnoLimbs\": (\n",
    "            basic_contrasts[\"body\"] / 2\n",
    "            + basic_contrasts[\"limb\"] / 2\n",
    "            - basic_contrasts[\"JP_CB\"] / 7\n",
    "            - basic_contrasts[\"JP_SC\"]  / 7\n",
    "            - basic_contrasts[\"JP_CS\"] / 7\n",
    "            - basic_contrasts[\"JP_FF\"]  / 7  \n",
    "            - basic_contrasts[\"adult\"] / 7\n",
    "            - basic_contrasts[\"child\"] / 7 \n",
    "            - basic_contrasts[\"JP_word\"] / 7              \n",
    "        ), \n",
    "        \"BodyvsLimb\": (\n",
    "            basic_contrasts[\"body\"] \n",
    "            - basic_contrasts[\"limb\"] \n",
    "        )                                                                                                                                                        \n",
    "        \n",
    "    }"
   ]
  },
  {
   "cell_type": "code",
   "execution_count": 126,
   "metadata": {},
   "outputs": [],
   "source": [
    "def compare_dicts_with_tolerance(dict1, dict2, tol=1e-8):\n",
    "    if dict1.keys() != dict2.keys():\n",
    "        return False\n",
    "    \n",
    "    for key in dict1:\n",
    "        if not np.allclose(dict1[key], dict2[key], atol=tol):\n",
    "            print(f\"Mismatch found at key: {key}\")\n",
    "            return False\n",
    "    \n",
    "    return True\n"
   ]
  },
  {
   "cell_type": "code",
   "execution_count": 161,
   "metadata": {},
   "outputs": [
    {
     "data": {
      "text/plain": [
       "True"
      ]
     },
     "execution_count": 161,
     "metadata": {},
     "output_type": "execute_result"
    }
   ],
   "source": [
    "compare_dicts_with_tolerance(contrasts,contrasts_orig)"
   ]
  },
  {
   "cell_type": "code",
   "execution_count": 156,
   "metadata": {},
   "outputs": [
    {
     "data": {
      "text/plain": [
       "array([ 0.5       ,  0.5       , -0.16666667, -0.16666667,  0.        ,\n",
       "       -0.16666667, -0.16666667, -0.16666667, -0.16666667])"
      ]
     },
     "execution_count": 156,
     "metadata": {},
     "output_type": "execute_result"
    }
   ],
   "source": [
    "contrasts_orig['FacesvsAllnoFace']"
   ]
  },
  {
   "cell_type": "code",
   "execution_count": 157,
   "metadata": {},
   "outputs": [
    {
     "data": {
      "text/plain": [
       "array([ 0.5       ,  0.5       , -0.14285714, -0.14285714, -0.14285714,\n",
       "       -0.14285714, -0.14285714, -0.14285714, -0.14285714])"
      ]
     },
     "execution_count": 157,
     "metadata": {},
     "output_type": "execute_result"
    }
   ],
   "source": [
    "contrasts['FacesvsAllnoFace']"
   ]
  },
  {
   "cell_type": "code",
   "execution_count": null,
   "metadata": {},
   "outputs": [],
   "source": []
  }
 ],
 "metadata": {
  "kernelspec": {
   "display_name": "votcloc",
   "language": "python",
   "name": "python3"
  },
  "language_info": {
   "codemirror_mode": {
    "name": "ipython",
    "version": 3
   },
   "file_extension": ".py",
   "mimetype": "text/x-python",
   "name": "python",
   "nbconvert_exporter": "python",
   "pygments_lexer": "ipython3",
   "version": "3.12.3"
  }
 },
 "nbformat": 4,
 "nbformat_minor": 2
}
