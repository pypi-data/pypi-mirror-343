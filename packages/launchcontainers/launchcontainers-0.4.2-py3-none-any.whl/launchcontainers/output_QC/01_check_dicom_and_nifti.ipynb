{
 "cells": [
  {
   "cell_type": "markdown",
   "metadata": {},
   "source": [
    "## Checking the heudiconv result to see if all the dicoms are correctly coverted to nifti"
   ]
  },
  {
   "cell_type": "markdown",
   "metadata": {},
   "source": [
    "  * Project: MINI\n",
    "  * Number of sessions: 97\n",
    "  * Number of subjects: 66\n",
    "  * T1w: 1 MPRAGE\n",
    "  * Func: 2 runs, block design\n",
    "  * 287 volumns per run (For S061-T02-run01 is 188)"
   ]
  },
  {
   "cell_type": "markdown",
   "metadata": {},
   "source": [
    "### 1. Using PyBIDS for query for all the niftis to see if we can get them all"
   ]
  },
  {
   "cell_type": "code",
   "execution_count": 42,
   "metadata": {},
   "outputs": [],
   "source": [
    "import bids\n",
    "from bids import BIDSLayout\n",
    "import pandas as pd\n",
    "import os\n",
    "import os.path as Path\n",
    "import nibabel as nib\n",
    "#%%\n",
    "\n",
    "basedir='/bcbl/home/public/Gari/MINI'\n",
    "bidsdir=Path.join(basedir,'BIDS_BLQfunc_T1')\n",
    "\n",
    "layout= BIDSLayout(bidsdir)"
   ]
  },
  {
   "cell_type": "markdown",
   "metadata": {},
   "source": []
  },
  {
   "cell_type": "code",
   "execution_count": null,
   "metadata": {},
   "outputs": [],
   "source": [
    "t1= layout.get(suffix=\"T1w\", extension='nii.gz')\n",
    "len(t1)"
   ]
  },
  {
   "cell_type": "code",
   "execution_count": 61,
   "metadata": {},
   "outputs": [
    {
     "data": {
      "text/plain": [
       "192"
      ]
     },
     "execution_count": 61,
     "metadata": {},
     "output_type": "execute_result"
    }
   ],
   "source": [
    "all_func= layout.get(datatype='func',extension='nii.gz', return_type='file')\n",
    "len(all_func)"
   ]
  },
  {
   "cell_type": "code",
   "execution_count": 62,
   "metadata": {},
   "outputs": [
    {
     "data": {
      "text/plain": [
       "['/bcbl/home/public/Gari/MINI/BIDS_BLQfunc_T1/sub-S001/ses-T01/func/sub-S001_ses-T01_task-MINIblock_run-01_bold.nii.gz',\n",
       " '/bcbl/home/public/Gari/MINI/BIDS_BLQfunc_T1/sub-S001/ses-T01/func/sub-S001_ses-T01_task-MINIblock_run-02_bold.nii.gz',\n",
       " '/bcbl/home/public/Gari/MINI/BIDS_BLQfunc_T1/sub-S002/ses-T01/func/sub-S002_ses-T01_task-MINIblock_run-01_bold.nii.gz',\n",
       " '/bcbl/home/public/Gari/MINI/BIDS_BLQfunc_T1/sub-S002/ses-T01/func/sub-S002_ses-T01_task-MINIblock_run-02_bold.nii.gz',\n",
       " '/bcbl/home/public/Gari/MINI/BIDS_BLQfunc_T1/sub-S003/ses-T01/func/sub-S003_ses-T01_task-MINIblock_run-01_bold.nii.gz',\n",
       " '/bcbl/home/public/Gari/MINI/BIDS_BLQfunc_T1/sub-S003/ses-T01/func/sub-S003_ses-T01_task-MINIblock_run-02_bold.nii.gz',\n",
       " '/bcbl/home/public/Gari/MINI/BIDS_BLQfunc_T1/sub-S004/ses-T01/func/sub-S004_ses-T01_task-MINIblock_run-01_bold.nii.gz',\n",
       " '/bcbl/home/public/Gari/MINI/BIDS_BLQfunc_T1/sub-S004/ses-T01/func/sub-S004_ses-T01_task-MINIblock_run-02_bold.nii.gz',\n",
       " '/bcbl/home/public/Gari/MINI/BIDS_BLQfunc_T1/sub-S005/ses-T01/func/sub-S005_ses-T01_task-MINIblock_run-01_bold.nii.gz',\n",
       " '/bcbl/home/public/Gari/MINI/BIDS_BLQfunc_T1/sub-S005/ses-T01/func/sub-S005_ses-T01_task-MINIblock_run-02_bold.nii.gz',\n",
       " '/bcbl/home/public/Gari/MINI/BIDS_BLQfunc_T1/sub-S006/ses-T01/func/sub-S006_ses-T01_task-MINIblock_run-01_bold.nii.gz',\n",
       " '/bcbl/home/public/Gari/MINI/BIDS_BLQfunc_T1/sub-S006/ses-T01/func/sub-S006_ses-T01_task-MINIblock_run-02_bold.nii.gz',\n",
       " '/bcbl/home/public/Gari/MINI/BIDS_BLQfunc_T1/sub-S007/ses-T01/func/sub-S007_ses-T01_task-MINIblock_run-01_bold.nii.gz',\n",
       " '/bcbl/home/public/Gari/MINI/BIDS_BLQfunc_T1/sub-S008/ses-T01/func/sub-S008_ses-T01_task-MINIblock_run-01_bold.nii.gz',\n",
       " '/bcbl/home/public/Gari/MINI/BIDS_BLQfunc_T1/sub-S008/ses-T01/func/sub-S008_ses-T01_task-MINIblock_run-02_bold.nii.gz',\n",
       " '/bcbl/home/public/Gari/MINI/BIDS_BLQfunc_T1/sub-S009/ses-T01/func/sub-S009_ses-T01_task-MINIblock_run-01_bold.nii.gz',\n",
       " '/bcbl/home/public/Gari/MINI/BIDS_BLQfunc_T1/sub-S009/ses-T01/func/sub-S009_ses-T01_task-MINIblock_run-02_bold.nii.gz',\n",
       " '/bcbl/home/public/Gari/MINI/BIDS_BLQfunc_T1/sub-S010/ses-T01/func/sub-S010_ses-T01_task-MINIblock_run-01_bold.nii.gz',\n",
       " '/bcbl/home/public/Gari/MINI/BIDS_BLQfunc_T1/sub-S010/ses-T01/func/sub-S010_ses-T01_task-MINIblock_run-02_bold.nii.gz',\n",
       " '/bcbl/home/public/Gari/MINI/BIDS_BLQfunc_T1/sub-S011/ses-T01/func/sub-S011_ses-T01_task-MINIblock_run-01_bold.nii.gz',\n",
       " '/bcbl/home/public/Gari/MINI/BIDS_BLQfunc_T1/sub-S011/ses-T01/func/sub-S011_ses-T01_task-MINIblock_run-02_bold.nii.gz',\n",
       " '/bcbl/home/public/Gari/MINI/BIDS_BLQfunc_T1/sub-S012/ses-T01/func/sub-S012_ses-T01_task-MINIblock_run-01_bold.nii.gz',\n",
       " '/bcbl/home/public/Gari/MINI/BIDS_BLQfunc_T1/sub-S012/ses-T01/func/sub-S012_ses-T01_task-MINIblock_run-02_bold.nii.gz',\n",
       " '/bcbl/home/public/Gari/MINI/BIDS_BLQfunc_T1/sub-S013/ses-T01/func/sub-S013_ses-T01_task-MINIblock_run-01_bold.nii.gz',\n",
       " '/bcbl/home/public/Gari/MINI/BIDS_BLQfunc_T1/sub-S013/ses-T01/func/sub-S013_ses-T01_task-MINIblock_run-02_bold.nii.gz',\n",
       " '/bcbl/home/public/Gari/MINI/BIDS_BLQfunc_T1/sub-S014/ses-T01/func/sub-S014_ses-T01_task-MINIblock_run-01_bold.nii.gz',\n",
       " '/bcbl/home/public/Gari/MINI/BIDS_BLQfunc_T1/sub-S014/ses-T01/func/sub-S014_ses-T01_task-MINIblock_run-02_bold.nii.gz',\n",
       " '/bcbl/home/public/Gari/MINI/BIDS_BLQfunc_T1/sub-S015/ses-T01/func/sub-S015_ses-T01_task-MINIblock_run-01_bold.nii.gz',\n",
       " '/bcbl/home/public/Gari/MINI/BIDS_BLQfunc_T1/sub-S015/ses-T01/func/sub-S015_ses-T01_task-MINIblock_run-02_bold.nii.gz',\n",
       " '/bcbl/home/public/Gari/MINI/BIDS_BLQfunc_T1/sub-S016/ses-T01/func/sub-S016_ses-T01_task-MINIblock_run-01_bold.nii.gz',\n",
       " '/bcbl/home/public/Gari/MINI/BIDS_BLQfunc_T1/sub-S016/ses-T01/func/sub-S016_ses-T01_task-MINIblock_run-02_bold.nii.gz',\n",
       " '/bcbl/home/public/Gari/MINI/BIDS_BLQfunc_T1/sub-S017/ses-T01/func/sub-S017_ses-T01_task-MINIblock_run-01_bold.nii.gz',\n",
       " '/bcbl/home/public/Gari/MINI/BIDS_BLQfunc_T1/sub-S017/ses-T01/func/sub-S017_ses-T01_task-MINIblock_run-02_bold.nii.gz',\n",
       " '/bcbl/home/public/Gari/MINI/BIDS_BLQfunc_T1/sub-S018/ses-T01/func/sub-S018_ses-T01_task-MINIblock_run-01_bold.nii.gz',\n",
       " '/bcbl/home/public/Gari/MINI/BIDS_BLQfunc_T1/sub-S018/ses-T01/func/sub-S018_ses-T01_task-MINIblock_run-02_bold.nii.gz',\n",
       " '/bcbl/home/public/Gari/MINI/BIDS_BLQfunc_T1/sub-S019/ses-T01/func/sub-S019_ses-T01_task-MINIblock_run-01_bold.nii.gz',\n",
       " '/bcbl/home/public/Gari/MINI/BIDS_BLQfunc_T1/sub-S019/ses-T01/func/sub-S019_ses-T01_task-MINIblock_run-02_bold.nii.gz',\n",
       " '/bcbl/home/public/Gari/MINI/BIDS_BLQfunc_T1/sub-S020/ses-T01/func/sub-S020_ses-T01_task-MINIblock_run-01_bold.nii.gz',\n",
       " '/bcbl/home/public/Gari/MINI/BIDS_BLQfunc_T1/sub-S020/ses-T01/func/sub-S020_ses-T01_task-MINIblock_run-02_bold.nii.gz',\n",
       " '/bcbl/home/public/Gari/MINI/BIDS_BLQfunc_T1/sub-S021/ses-T01/func/sub-S021_ses-T01_task-MINIblock_run-01_bold.nii.gz',\n",
       " '/bcbl/home/public/Gari/MINI/BIDS_BLQfunc_T1/sub-S021/ses-T01/func/sub-S021_ses-T01_task-MINIblock_run-02_bold.nii.gz',\n",
       " '/bcbl/home/public/Gari/MINI/BIDS_BLQfunc_T1/sub-S022/ses-T01/func/sub-S022_ses-T01_task-MINIblock_run-01_bold.nii.gz',\n",
       " '/bcbl/home/public/Gari/MINI/BIDS_BLQfunc_T1/sub-S022/ses-T01/func/sub-S022_ses-T01_task-MINIblock_run-02_bold.nii.gz',\n",
       " '/bcbl/home/public/Gari/MINI/BIDS_BLQfunc_T1/sub-S023/ses-T01/func/sub-S023_ses-T01_task-MINIblock_run-01_bold.nii.gz',\n",
       " '/bcbl/home/public/Gari/MINI/BIDS_BLQfunc_T1/sub-S023/ses-T01/func/sub-S023_ses-T01_task-MINIblock_run-02_bold.nii.gz',\n",
       " '/bcbl/home/public/Gari/MINI/BIDS_BLQfunc_T1/sub-S024/ses-T01/func/sub-S024_ses-T01_task-MINIblock_run-01_bold.nii.gz',\n",
       " '/bcbl/home/public/Gari/MINI/BIDS_BLQfunc_T1/sub-S024/ses-T01/func/sub-S024_ses-T01_task-MINIblock_run-02_bold.nii.gz',\n",
       " '/bcbl/home/public/Gari/MINI/BIDS_BLQfunc_T1/sub-S025/ses-T01/func/sub-S025_ses-T01_task-MINIblock_run-01_bold.nii.gz',\n",
       " '/bcbl/home/public/Gari/MINI/BIDS_BLQfunc_T1/sub-S025/ses-T01/func/sub-S025_ses-T01_task-MINIblock_run-02_bold.nii.gz',\n",
       " '/bcbl/home/public/Gari/MINI/BIDS_BLQfunc_T1/sub-S026/ses-T01/func/sub-S026_ses-T01_task-MINIblock_run-01_bold.nii.gz',\n",
       " '/bcbl/home/public/Gari/MINI/BIDS_BLQfunc_T1/sub-S026/ses-T01/func/sub-S026_ses-T01_task-MINIblock_run-02_bold.nii.gz',\n",
       " '/bcbl/home/public/Gari/MINI/BIDS_BLQfunc_T1/sub-S027/ses-T01/func/sub-S027_ses-T01_task-MINIblock_run-01_bold.nii.gz',\n",
       " '/bcbl/home/public/Gari/MINI/BIDS_BLQfunc_T1/sub-S027/ses-T01/func/sub-S027_ses-T01_task-MINIblock_run-02_bold.nii.gz',\n",
       " '/bcbl/home/public/Gari/MINI/BIDS_BLQfunc_T1/sub-S028/ses-T01/func/sub-S028_ses-T01_task-MINIblock_run-01_bold.nii.gz',\n",
       " '/bcbl/home/public/Gari/MINI/BIDS_BLQfunc_T1/sub-S028/ses-T01/func/sub-S028_ses-T01_task-MINIblock_run-02_bold.nii.gz',\n",
       " '/bcbl/home/public/Gari/MINI/BIDS_BLQfunc_T1/sub-S029/ses-T01/func/sub-S029_ses-T01_task-MINIblock_run-01_bold.nii.gz',\n",
       " '/bcbl/home/public/Gari/MINI/BIDS_BLQfunc_T1/sub-S029/ses-T01/func/sub-S029_ses-T01_task-MINIblock_run-02_bold.nii.gz',\n",
       " '/bcbl/home/public/Gari/MINI/BIDS_BLQfunc_T1/sub-S030/ses-T01/func/sub-S030_ses-T01_task-MINIblock_run-01_bold.nii.gz',\n",
       " '/bcbl/home/public/Gari/MINI/BIDS_BLQfunc_T1/sub-S030/ses-T01/func/sub-S030_ses-T01_task-MINIblock_run-02_bold.nii.gz',\n",
       " '/bcbl/home/public/Gari/MINI/BIDS_BLQfunc_T1/sub-S031/ses-T01/func/sub-S031_ses-T01_task-MINIblock_run-01_bold.nii.gz',\n",
       " '/bcbl/home/public/Gari/MINI/BIDS_BLQfunc_T1/sub-S031/ses-T01/func/sub-S031_ses-T01_task-MINIblock_run-02_bold.nii.gz',\n",
       " '/bcbl/home/public/Gari/MINI/BIDS_BLQfunc_T1/sub-S032/ses-T01/func/sub-S032_ses-T01_task-MINIblock_run-01_bold.nii.gz',\n",
       " '/bcbl/home/public/Gari/MINI/BIDS_BLQfunc_T1/sub-S032/ses-T01/func/sub-S032_ses-T01_task-MINIblock_run-02_bold.nii.gz',\n",
       " '/bcbl/home/public/Gari/MINI/BIDS_BLQfunc_T1/sub-S033/ses-T01/func/sub-S033_ses-T01_task-MINIblock_run-01_bold.nii.gz',\n",
       " '/bcbl/home/public/Gari/MINI/BIDS_BLQfunc_T1/sub-S033/ses-T01/func/sub-S033_ses-T01_task-MINIblock_run-02_bold.nii.gz',\n",
       " '/bcbl/home/public/Gari/MINI/BIDS_BLQfunc_T1/sub-S034/ses-T01/func/sub-S034_ses-T01_task-MINIblock_run-01_bold.nii.gz',\n",
       " '/bcbl/home/public/Gari/MINI/BIDS_BLQfunc_T1/sub-S034/ses-T01/func/sub-S034_ses-T01_task-MINIblock_run-02_bold.nii.gz',\n",
       " '/bcbl/home/public/Gari/MINI/BIDS_BLQfunc_T1/sub-S035/ses-T01/func/sub-S035_ses-T01_task-MINIblock_run-01_bold.nii.gz',\n",
       " '/bcbl/home/public/Gari/MINI/BIDS_BLQfunc_T1/sub-S035/ses-T01/func/sub-S035_ses-T01_task-MINIblock_run-02_bold.nii.gz',\n",
       " '/bcbl/home/public/Gari/MINI/BIDS_BLQfunc_T1/sub-S041/ses-T01/func/sub-S041_ses-T01_task-MINIblock_run-01_bold.nii.gz',\n",
       " '/bcbl/home/public/Gari/MINI/BIDS_BLQfunc_T1/sub-S041/ses-T01/func/sub-S041_ses-T01_task-MINIblock_run-02_bold.nii.gz',\n",
       " '/bcbl/home/public/Gari/MINI/BIDS_BLQfunc_T1/sub-S041/ses-T02/func/sub-S041_ses-T02_task-MINIblock_run-01_bold.nii.gz',\n",
       " '/bcbl/home/public/Gari/MINI/BIDS_BLQfunc_T1/sub-S041/ses-T02/func/sub-S041_ses-T02_task-MINIblock_run-02_bold.nii.gz',\n",
       " '/bcbl/home/public/Gari/MINI/BIDS_BLQfunc_T1/sub-S042/ses-T01/func/sub-S042_ses-T01_task-MINIblock_run-01_bold.nii.gz',\n",
       " '/bcbl/home/public/Gari/MINI/BIDS_BLQfunc_T1/sub-S042/ses-T01/func/sub-S042_ses-T01_task-MINIblock_run-02_bold.nii.gz',\n",
       " '/bcbl/home/public/Gari/MINI/BIDS_BLQfunc_T1/sub-S042/ses-T02/func/sub-S042_ses-T02_task-MINIblock_run-01_bold.nii.gz',\n",
       " '/bcbl/home/public/Gari/MINI/BIDS_BLQfunc_T1/sub-S042/ses-T02/func/sub-S042_ses-T02_task-MINIblock_run-02_bold.nii.gz',\n",
       " '/bcbl/home/public/Gari/MINI/BIDS_BLQfunc_T1/sub-S043/ses-T01/func/sub-S043_ses-T01_task-MINIblock_run-01_bold.nii.gz',\n",
       " '/bcbl/home/public/Gari/MINI/BIDS_BLQfunc_T1/sub-S043/ses-T01/func/sub-S043_ses-T01_task-MINIblock_run-02_bold.nii.gz',\n",
       " '/bcbl/home/public/Gari/MINI/BIDS_BLQfunc_T1/sub-S043/ses-T02/func/sub-S043_ses-T02_task-MINIblock_run-01_bold.nii.gz',\n",
       " '/bcbl/home/public/Gari/MINI/BIDS_BLQfunc_T1/sub-S043/ses-T02/func/sub-S043_ses-T02_task-MINIblock_run-02_bold.nii.gz',\n",
       " '/bcbl/home/public/Gari/MINI/BIDS_BLQfunc_T1/sub-S044/ses-T01/func/sub-S044_ses-T01_task-MINIblock_run-01_bold.nii.gz',\n",
       " '/bcbl/home/public/Gari/MINI/BIDS_BLQfunc_T1/sub-S044/ses-T01/func/sub-S044_ses-T01_task-MINIblock_run-02_bold.nii.gz',\n",
       " '/bcbl/home/public/Gari/MINI/BIDS_BLQfunc_T1/sub-S044/ses-T02/func/sub-S044_ses-T02_task-MINIblock_run-01_bold.nii.gz',\n",
       " '/bcbl/home/public/Gari/MINI/BIDS_BLQfunc_T1/sub-S044/ses-T02/func/sub-S044_ses-T02_task-MINIblock_run-02_bold.nii.gz',\n",
       " '/bcbl/home/public/Gari/MINI/BIDS_BLQfunc_T1/sub-S045/ses-T01/func/sub-S045_ses-T01_task-MINIblock_run-01_bold.nii.gz',\n",
       " '/bcbl/home/public/Gari/MINI/BIDS_BLQfunc_T1/sub-S045/ses-T01/func/sub-S045_ses-T01_task-MINIblock_run-02_bold.nii.gz',\n",
       " '/bcbl/home/public/Gari/MINI/BIDS_BLQfunc_T1/sub-S045/ses-T02/func/sub-S045_ses-T02_task-MINIblock_run-01_bold.nii.gz',\n",
       " '/bcbl/home/public/Gari/MINI/BIDS_BLQfunc_T1/sub-S045/ses-T02/func/sub-S045_ses-T02_task-MINIblock_run-02_bold.nii.gz',\n",
       " '/bcbl/home/public/Gari/MINI/BIDS_BLQfunc_T1/sub-S046/ses-T01/func/sub-S046_ses-T01_task-MINIblock_run-01_bold.nii.gz',\n",
       " '/bcbl/home/public/Gari/MINI/BIDS_BLQfunc_T1/sub-S046/ses-T01/func/sub-S046_ses-T01_task-MINIblock_run-02_bold.nii.gz',\n",
       " '/bcbl/home/public/Gari/MINI/BIDS_BLQfunc_T1/sub-S046/ses-T02/func/sub-S046_ses-T02_task-MINIblock_run-01_bold.nii.gz',\n",
       " '/bcbl/home/public/Gari/MINI/BIDS_BLQfunc_T1/sub-S046/ses-T02/func/sub-S046_ses-T02_task-MINIblock_run-02_bold.nii.gz',\n",
       " '/bcbl/home/public/Gari/MINI/BIDS_BLQfunc_T1/sub-S047/ses-T01/func/sub-S047_ses-T01_task-MINIblock_run-01_bold.nii.gz',\n",
       " '/bcbl/home/public/Gari/MINI/BIDS_BLQfunc_T1/sub-S047/ses-T01/func/sub-S047_ses-T01_task-MINIblock_run-02_bold.nii.gz',\n",
       " '/bcbl/home/public/Gari/MINI/BIDS_BLQfunc_T1/sub-S047/ses-T02/func/sub-S047_ses-T02_task-MINIblock_run-01_bold.nii.gz',\n",
       " '/bcbl/home/public/Gari/MINI/BIDS_BLQfunc_T1/sub-S047/ses-T02/func/sub-S047_ses-T02_task-MINIblock_run-02_bold.nii.gz',\n",
       " '/bcbl/home/public/Gari/MINI/BIDS_BLQfunc_T1/sub-S048/ses-T01/func/sub-S048_ses-T01_task-MINIblock_run-01_bold.nii.gz',\n",
       " '/bcbl/home/public/Gari/MINI/BIDS_BLQfunc_T1/sub-S048/ses-T01/func/sub-S048_ses-T01_task-MINIblock_run-02_bold.nii.gz',\n",
       " '/bcbl/home/public/Gari/MINI/BIDS_BLQfunc_T1/sub-S048/ses-T02/func/sub-S048_ses-T02_task-MINIblock_run-01_bold.nii.gz',\n",
       " '/bcbl/home/public/Gari/MINI/BIDS_BLQfunc_T1/sub-S048/ses-T02/func/sub-S048_ses-T02_task-MINIblock_run-02_bold.nii.gz',\n",
       " '/bcbl/home/public/Gari/MINI/BIDS_BLQfunc_T1/sub-S049/ses-T01/func/sub-S049_ses-T01_task-MINIblock_run-01_bold.nii.gz',\n",
       " '/bcbl/home/public/Gari/MINI/BIDS_BLQfunc_T1/sub-S049/ses-T01/func/sub-S049_ses-T01_task-MINIblock_run-02_bold.nii.gz',\n",
       " '/bcbl/home/public/Gari/MINI/BIDS_BLQfunc_T1/sub-S049/ses-T02/func/sub-S049_ses-T02_task-MINIblock_run-01_bold.nii.gz',\n",
       " '/bcbl/home/public/Gari/MINI/BIDS_BLQfunc_T1/sub-S049/ses-T02/func/sub-S049_ses-T02_task-MINIblock_run-02_bold.nii.gz',\n",
       " '/bcbl/home/public/Gari/MINI/BIDS_BLQfunc_T1/sub-S050/ses-T01/func/sub-S050_ses-T01_task-MINIblock_run-01_bold.nii.gz',\n",
       " '/bcbl/home/public/Gari/MINI/BIDS_BLQfunc_T1/sub-S050/ses-T01/func/sub-S050_ses-T01_task-MINIblock_run-02_bold.nii.gz',\n",
       " '/bcbl/home/public/Gari/MINI/BIDS_BLQfunc_T1/sub-S050/ses-T02/func/sub-S050_ses-T02_task-MINIblock_run-01_bold.nii.gz',\n",
       " '/bcbl/home/public/Gari/MINI/BIDS_BLQfunc_T1/sub-S050/ses-T02/func/sub-S050_ses-T02_task-MINIblock_run-02_bold.nii.gz',\n",
       " '/bcbl/home/public/Gari/MINI/BIDS_BLQfunc_T1/sub-S051/ses-T01/func/sub-S051_ses-T01_task-MINIblock_run-01_bold.nii.gz',\n",
       " '/bcbl/home/public/Gari/MINI/BIDS_BLQfunc_T1/sub-S051/ses-T01/func/sub-S051_ses-T01_task-MINIblock_run-02_bold.nii.gz',\n",
       " '/bcbl/home/public/Gari/MINI/BIDS_BLQfunc_T1/sub-S051/ses-T02/func/sub-S051_ses-T02_task-MINIblock_run-01_bold.nii.gz',\n",
       " '/bcbl/home/public/Gari/MINI/BIDS_BLQfunc_T1/sub-S051/ses-T02/func/sub-S051_ses-T02_task-MINIblock_run-02_bold.nii.gz',\n",
       " '/bcbl/home/public/Gari/MINI/BIDS_BLQfunc_T1/sub-S052/ses-T01/func/sub-S052_ses-T01_task-MINIblock_run-01_bold.nii.gz',\n",
       " '/bcbl/home/public/Gari/MINI/BIDS_BLQfunc_T1/sub-S052/ses-T01/func/sub-S052_ses-T01_task-MINIblock_run-02_bold.nii.gz',\n",
       " '/bcbl/home/public/Gari/MINI/BIDS_BLQfunc_T1/sub-S052/ses-T02/func/sub-S052_ses-T02_task-MINIblock_run-01_bold.nii.gz',\n",
       " '/bcbl/home/public/Gari/MINI/BIDS_BLQfunc_T1/sub-S052/ses-T02/func/sub-S052_ses-T02_task-MINIblock_run-02_bold.nii.gz',\n",
       " '/bcbl/home/public/Gari/MINI/BIDS_BLQfunc_T1/sub-S053/ses-T01/func/sub-S053_ses-T01_task-MINIblock_run-01_bold.nii.gz',\n",
       " '/bcbl/home/public/Gari/MINI/BIDS_BLQfunc_T1/sub-S053/ses-T01/func/sub-S053_ses-T01_task-MINIblock_run-02_bold.nii.gz',\n",
       " '/bcbl/home/public/Gari/MINI/BIDS_BLQfunc_T1/sub-S053/ses-T02/func/sub-S053_ses-T02_task-MINIblock_run-01_bold.nii.gz',\n",
       " '/bcbl/home/public/Gari/MINI/BIDS_BLQfunc_T1/sub-S053/ses-T02/func/sub-S053_ses-T02_task-MINIblock_run-02_bold.nii.gz',\n",
       " '/bcbl/home/public/Gari/MINI/BIDS_BLQfunc_T1/sub-S054/ses-T01/func/sub-S054_ses-T01_task-MINIblock_run-01_bold.nii.gz',\n",
       " '/bcbl/home/public/Gari/MINI/BIDS_BLQfunc_T1/sub-S054/ses-T01/func/sub-S054_ses-T01_task-MINIblock_run-02_bold.nii.gz',\n",
       " '/bcbl/home/public/Gari/MINI/BIDS_BLQfunc_T1/sub-S054/ses-T02/func/sub-S054_ses-T02_task-MINIblock_run-01_bold.nii.gz',\n",
       " '/bcbl/home/public/Gari/MINI/BIDS_BLQfunc_T1/sub-S054/ses-T02/func/sub-S054_ses-T02_task-MINIblock_run-02_bold.nii.gz',\n",
       " '/bcbl/home/public/Gari/MINI/BIDS_BLQfunc_T1/sub-S055/ses-T01/func/sub-S055_ses-T01_task-MINIblock_run-01_bold.nii.gz',\n",
       " '/bcbl/home/public/Gari/MINI/BIDS_BLQfunc_T1/sub-S055/ses-T01/func/sub-S055_ses-T01_task-MINIblock_run-02_bold.nii.gz',\n",
       " '/bcbl/home/public/Gari/MINI/BIDS_BLQfunc_T1/sub-S055/ses-T02/func/sub-S055_ses-T02_task-MINIblock_run-01_bold.nii.gz',\n",
       " '/bcbl/home/public/Gari/MINI/BIDS_BLQfunc_T1/sub-S055/ses-T02/func/sub-S055_ses-T02_task-MINIblock_run-02_bold.nii.gz',\n",
       " '/bcbl/home/public/Gari/MINI/BIDS_BLQfunc_T1/sub-S056/ses-T01/func/sub-S056_ses-T01_task-MINIblock_run-01_bold.nii.gz',\n",
       " '/bcbl/home/public/Gari/MINI/BIDS_BLQfunc_T1/sub-S056/ses-T01/func/sub-S056_ses-T01_task-MINIblock_run-02_bold.nii.gz',\n",
       " '/bcbl/home/public/Gari/MINI/BIDS_BLQfunc_T1/sub-S056/ses-T02/func/sub-S056_ses-T02_task-MINIblock_run-01_bold.nii.gz',\n",
       " '/bcbl/home/public/Gari/MINI/BIDS_BLQfunc_T1/sub-S056/ses-T02/func/sub-S056_ses-T02_task-MINIblock_run-02_bold.nii.gz',\n",
       " '/bcbl/home/public/Gari/MINI/BIDS_BLQfunc_T1/sub-S057/ses-T01/func/sub-S057_ses-T01_task-MINIblock_run-01_bold.nii.gz',\n",
       " '/bcbl/home/public/Gari/MINI/BIDS_BLQfunc_T1/sub-S057/ses-T01/func/sub-S057_ses-T01_task-MINIblock_run-02_bold.nii.gz',\n",
       " '/bcbl/home/public/Gari/MINI/BIDS_BLQfunc_T1/sub-S057/ses-T02/func/sub-S057_ses-T02_task-MINIblock_run-01_bold.nii.gz',\n",
       " '/bcbl/home/public/Gari/MINI/BIDS_BLQfunc_T1/sub-S057/ses-T02/func/sub-S057_ses-T02_task-MINIblock_run-02_bold.nii.gz',\n",
       " '/bcbl/home/public/Gari/MINI/BIDS_BLQfunc_T1/sub-S058/ses-T01/func/sub-S058_ses-T01_task-MINIblock_run-01_bold.nii.gz',\n",
       " '/bcbl/home/public/Gari/MINI/BIDS_BLQfunc_T1/sub-S058/ses-T01/func/sub-S058_ses-T01_task-MINIblock_run-02_bold.nii.gz',\n",
       " '/bcbl/home/public/Gari/MINI/BIDS_BLQfunc_T1/sub-S058/ses-T02/func/sub-S058_ses-T02_task-MINIblock_run-01_bold.nii.gz',\n",
       " '/bcbl/home/public/Gari/MINI/BIDS_BLQfunc_T1/sub-S058/ses-T02/func/sub-S058_ses-T02_task-MINIblock_run-02_bold.nii.gz',\n",
       " '/bcbl/home/public/Gari/MINI/BIDS_BLQfunc_T1/sub-S059/ses-T01/func/sub-S059_ses-T01_task-MINIblock_run-01_bold.nii.gz',\n",
       " '/bcbl/home/public/Gari/MINI/BIDS_BLQfunc_T1/sub-S059/ses-T01/func/sub-S059_ses-T01_task-MINIblock_run-02_bold.nii.gz',\n",
       " '/bcbl/home/public/Gari/MINI/BIDS_BLQfunc_T1/sub-S059/ses-T02/func/sub-S059_ses-T02_task-MINIblock_run-01_bold.nii.gz',\n",
       " '/bcbl/home/public/Gari/MINI/BIDS_BLQfunc_T1/sub-S059/ses-T02/func/sub-S059_ses-T02_task-MINIblock_run-02_bold.nii.gz',\n",
       " '/bcbl/home/public/Gari/MINI/BIDS_BLQfunc_T1/sub-S060/ses-T01/func/sub-S060_ses-T01_task-MINIblock_run-01_bold.nii.gz',\n",
       " '/bcbl/home/public/Gari/MINI/BIDS_BLQfunc_T1/sub-S060/ses-T01/func/sub-S060_ses-T01_task-MINIblock_run-02_bold.nii.gz',\n",
       " '/bcbl/home/public/Gari/MINI/BIDS_BLQfunc_T1/sub-S060/ses-T02/func/sub-S060_ses-T02_task-MINIblock_run-01_bold.nii.gz',\n",
       " '/bcbl/home/public/Gari/MINI/BIDS_BLQfunc_T1/sub-S060/ses-T02/func/sub-S060_ses-T02_task-MINIblock_run-02_bold.nii.gz',\n",
       " '/bcbl/home/public/Gari/MINI/BIDS_BLQfunc_T1/sub-S061/ses-T01/func/sub-S061_ses-T01_task-MINIblock_run-01_bold.nii.gz',\n",
       " '/bcbl/home/public/Gari/MINI/BIDS_BLQfunc_T1/sub-S061/ses-T01/func/sub-S061_ses-T01_task-MINIblock_run-02_bold.nii.gz',\n",
       " '/bcbl/home/public/Gari/MINI/BIDS_BLQfunc_T1/sub-S061/ses-T02/func/sub-S061_ses-T02_task-MINIblock_run-01_bold.nii.gz',\n",
       " '/bcbl/home/public/Gari/MINI/BIDS_BLQfunc_T1/sub-S061/ses-T02/func/sub-S061_ses-T02_task-MINIblock_run-02_bold.nii.gz',\n",
       " '/bcbl/home/public/Gari/MINI/BIDS_BLQfunc_T1/sub-S062/ses-T01/func/sub-S062_ses-T01_task-MINIblock_run-01_bold.nii.gz',\n",
       " '/bcbl/home/public/Gari/MINI/BIDS_BLQfunc_T1/sub-S062/ses-T01/func/sub-S062_ses-T01_task-MINIblock_run-02_bold.nii.gz',\n",
       " '/bcbl/home/public/Gari/MINI/BIDS_BLQfunc_T1/sub-S062/ses-T02/func/sub-S062_ses-T02_task-MINIblock_run-01_bold.nii.gz',\n",
       " '/bcbl/home/public/Gari/MINI/BIDS_BLQfunc_T1/sub-S062/ses-T02/func/sub-S062_ses-T02_task-MINIblock_run-02_bold.nii.gz',\n",
       " '/bcbl/home/public/Gari/MINI/BIDS_BLQfunc_T1/sub-S063/ses-T01/func/sub-S063_ses-T01_task-MINIblock_run-01_bold.nii.gz',\n",
       " '/bcbl/home/public/Gari/MINI/BIDS_BLQfunc_T1/sub-S063/ses-T01/func/sub-S063_ses-T01_task-MINIblock_run-02_bold.nii.gz',\n",
       " '/bcbl/home/public/Gari/MINI/BIDS_BLQfunc_T1/sub-S063/ses-T02/func/sub-S063_ses-T02_task-MINIblock_run-01_bold.nii.gz',\n",
       " '/bcbl/home/public/Gari/MINI/BIDS_BLQfunc_T1/sub-S063/ses-T02/func/sub-S063_ses-T02_task-MINIblock_run-02_bold.nii.gz',\n",
       " '/bcbl/home/public/Gari/MINI/BIDS_BLQfunc_T1/sub-S064/ses-T01/func/sub-S064_ses-T01_task-MINIblock_run-01_bold.nii.gz',\n",
       " '/bcbl/home/public/Gari/MINI/BIDS_BLQfunc_T1/sub-S064/ses-T01/func/sub-S064_ses-T01_task-MINIblock_run-02_bold.nii.gz',\n",
       " '/bcbl/home/public/Gari/MINI/BIDS_BLQfunc_T1/sub-S064/ses-T02/func/sub-S064_ses-T02_task-MINIblock_run-01_bold.nii.gz',\n",
       " '/bcbl/home/public/Gari/MINI/BIDS_BLQfunc_T1/sub-S064/ses-T02/func/sub-S064_ses-T02_task-MINIblock_run-02_bold.nii.gz',\n",
       " '/bcbl/home/public/Gari/MINI/BIDS_BLQfunc_T1/sub-S065/ses-T01/func/sub-S065_ses-T01_task-MINIblock_run-01_bold.nii.gz',\n",
       " '/bcbl/home/public/Gari/MINI/BIDS_BLQfunc_T1/sub-S065/ses-T01/func/sub-S065_ses-T01_task-MINIblock_run-02_bold.nii.gz',\n",
       " '/bcbl/home/public/Gari/MINI/BIDS_BLQfunc_T1/sub-S065/ses-T02/func/sub-S065_ses-T02_task-MINIblock_run-01_bold.nii.gz',\n",
       " '/bcbl/home/public/Gari/MINI/BIDS_BLQfunc_T1/sub-S065/ses-T02/func/sub-S065_ses-T02_task-MINIblock_run-02_bold.nii.gz',\n",
       " '/bcbl/home/public/Gari/MINI/BIDS_BLQfunc_T1/sub-S066/ses-T01/func/sub-S066_ses-T01_task-MINIblock_run-01_bold.nii.gz',\n",
       " '/bcbl/home/public/Gari/MINI/BIDS_BLQfunc_T1/sub-S066/ses-T01/func/sub-S066_ses-T01_task-MINIblock_run-02_bold.nii.gz',\n",
       " '/bcbl/home/public/Gari/MINI/BIDS_BLQfunc_T1/sub-S066/ses-T02/func/sub-S066_ses-T02_task-MINIblock_run-01_bold.nii.gz',\n",
       " '/bcbl/home/public/Gari/MINI/BIDS_BLQfunc_T1/sub-S066/ses-T02/func/sub-S066_ses-T02_task-MINIblock_run-02_bold.nii.gz',\n",
       " '/bcbl/home/public/Gari/MINI/BIDS_BLQfunc_T1/sub-S067/ses-T01/func/sub-S067_ses-T01_task-MINIblock_run-01_bold.nii.gz',\n",
       " '/bcbl/home/public/Gari/MINI/BIDS_BLQfunc_T1/sub-S067/ses-T01/func/sub-S067_ses-T01_task-MINIblock_run-02_bold.nii.gz',\n",
       " '/bcbl/home/public/Gari/MINI/BIDS_BLQfunc_T1/sub-S067/ses-T02/func/sub-S067_ses-T02_task-MINIblock_run-01_bold.nii.gz',\n",
       " '/bcbl/home/public/Gari/MINI/BIDS_BLQfunc_T1/sub-S067/ses-T02/func/sub-S067_ses-T02_task-MINIblock_run-02_bold.nii.gz',\n",
       " '/bcbl/home/public/Gari/MINI/BIDS_BLQfunc_T1/sub-S068/ses-T01/func/sub-S068_ses-T01_task-MINIblock_run-01_bold.nii.gz',\n",
       " '/bcbl/home/public/Gari/MINI/BIDS_BLQfunc_T1/sub-S068/ses-T01/func/sub-S068_ses-T01_task-MINIblock_run-02_bold.nii.gz',\n",
       " '/bcbl/home/public/Gari/MINI/BIDS_BLQfunc_T1/sub-S068/ses-T02/func/sub-S068_ses-T02_task-MINIblock_run-01_bold.nii.gz',\n",
       " '/bcbl/home/public/Gari/MINI/BIDS_BLQfunc_T1/sub-S068/ses-T02/func/sub-S068_ses-T02_task-MINIblock_run-02_bold.nii.gz',\n",
       " '/bcbl/home/public/Gari/MINI/BIDS_BLQfunc_T1/sub-S069/ses-T01/func/sub-S069_ses-T01_task-MINIblock_run-01_bold.nii.gz',\n",
       " '/bcbl/home/public/Gari/MINI/BIDS_BLQfunc_T1/sub-S069/ses-T02/func/sub-S069_ses-T02_task-MINIblock_run-01_bold.nii.gz',\n",
       " '/bcbl/home/public/Gari/MINI/BIDS_BLQfunc_T1/sub-S069/ses-T02/func/sub-S069_ses-T02_task-MINIblock_run-02_bold.nii.gz',\n",
       " '/bcbl/home/public/Gari/MINI/BIDS_BLQfunc_T1/sub-S070/ses-T01/func/sub-S070_ses-T01_task-MINIblock_run-01_bold.nii.gz',\n",
       " '/bcbl/home/public/Gari/MINI/BIDS_BLQfunc_T1/sub-S070/ses-T01/func/sub-S070_ses-T01_task-MINIblock_run-02_bold.nii.gz',\n",
       " '/bcbl/home/public/Gari/MINI/BIDS_BLQfunc_T1/sub-S070/ses-T02/func/sub-S070_ses-T02_task-MINIblock_run-01_bold.nii.gz',\n",
       " '/bcbl/home/public/Gari/MINI/BIDS_BLQfunc_T1/sub-S070/ses-T02/func/sub-S070_ses-T02_task-MINIblock_run-02_bold.nii.gz',\n",
       " '/bcbl/home/public/Gari/MINI/BIDS_BLQfunc_T1/sub-S071/ses-T01/func/sub-S071_ses-T01_task-MINIblock_run-01_bold.nii.gz',\n",
       " '/bcbl/home/public/Gari/MINI/BIDS_BLQfunc_T1/sub-S071/ses-T01/func/sub-S071_ses-T01_task-MINIblock_run-02_bold.nii.gz',\n",
       " '/bcbl/home/public/Gari/MINI/BIDS_BLQfunc_T1/sub-S071/ses-T02/func/sub-S071_ses-T02_task-MINIblock_run-01_bold.nii.gz',\n",
       " '/bcbl/home/public/Gari/MINI/BIDS_BLQfunc_T1/sub-S071/ses-T02/func/sub-S071_ses-T02_task-MINIblock_run-02_bold.nii.gz']"
      ]
     },
     "execution_count": 62,
     "metadata": {},
     "output_type": "execute_result"
    }
   ],
   "source": [
    "all_func\n"
   ]
  },
  {
   "cell_type": "markdown",
   "metadata": {},
   "source": [
    "It should be **194** but here we only get *192* which is not good, so I am going to get "
   ]
  },
  {
   "cell_type": "code",
   "execution_count": 5,
   "metadata": {},
   "outputs": [
    {
     "data": {
      "text/plain": [
       "97"
      ]
     },
     "execution_count": 5,
     "metadata": {},
     "output_type": "execute_result"
    }
   ],
   "source": []
  },
  {
   "cell_type": "code",
   "execution_count": 6,
   "metadata": {},
   "outputs": [],
   "source": [
    "subjects = layout.get(target='subject', return_type='id')"
   ]
  },
  {
   "cell_type": "code",
   "execution_count": 7,
   "metadata": {},
   "outputs": [
    {
     "data": {
      "text/plain": [
       "['S001',\n",
       " 'S002',\n",
       " 'S003',\n",
       " 'S004',\n",
       " 'S005',\n",
       " 'S006',\n",
       " 'S007',\n",
       " 'S008',\n",
       " 'S009',\n",
       " 'S010',\n",
       " 'S011',\n",
       " 'S012',\n",
       " 'S013',\n",
       " 'S014',\n",
       " 'S015',\n",
       " 'S016',\n",
       " 'S017',\n",
       " 'S018',\n",
       " 'S019',\n",
       " 'S020',\n",
       " 'S021',\n",
       " 'S022',\n",
       " 'S023',\n",
       " 'S024',\n",
       " 'S025',\n",
       " 'S026',\n",
       " 'S027',\n",
       " 'S028',\n",
       " 'S029',\n",
       " 'S030',\n",
       " 'S031',\n",
       " 'S032',\n",
       " 'S033',\n",
       " 'S034',\n",
       " 'S035',\n",
       " 'S041',\n",
       " 'S042',\n",
       " 'S043',\n",
       " 'S044',\n",
       " 'S045',\n",
       " 'S046',\n",
       " 'S047',\n",
       " 'S048',\n",
       " 'S049',\n",
       " 'S050',\n",
       " 'S051',\n",
       " 'S052',\n",
       " 'S053',\n",
       " 'S054',\n",
       " 'S055',\n",
       " 'S056',\n",
       " 'S057',\n",
       " 'S058',\n",
       " 'S059',\n",
       " 'S060',\n",
       " 'S061',\n",
       " 'S062',\n",
       " 'S063',\n",
       " 'S064',\n",
       " 'S065',\n",
       " 'S066',\n",
       " 'S067',\n",
       " 'S068',\n",
       " 'S069',\n",
       " 'S070',\n",
       " 'S071']"
      ]
     },
     "execution_count": 7,
     "metadata": {},
     "output_type": "execute_result"
    }
   ],
   "source": [
    "subjects"
   ]
  },
  {
   "cell_type": "code",
   "execution_count": 8,
   "metadata": {},
   "outputs": [
    {
     "name": "stdout",
     "output_type": "stream",
     "text": [
      "sub-S007-sesT01 have strange func runs: which is 1\n",
      "sub-S069-sesT01 have strange func runs: which is 1\n"
     ]
    }
   ],
   "source": [
    "count_ses=0\n",
    "count_func=0\n",
    "for sub in subjects:\n",
    "    sess=layout.get(subject=sub, target='session', return_type='id')\n",
    "    for ses in sess:\n",
    "        func= layout.get(subject=sub, session=ses, datatype='func', extension='nii.gz', return_type='file')\n",
    "        #print(f\"there are {len(func)} func files for subject: {sub}, session: {ses}\") \n",
    "        if len(func) !=2:\n",
    "            print(f\"sub-{sub}-ses{ses} have strange func runs: which is {len(func)}\")\n",
    "        count_ses+=1\n",
    "        count_func+=len(func)"
   ]
  },
  {
   "cell_type": "code",
   "execution_count": 14,
   "metadata": {},
   "outputs": [
    {
     "data": {
      "text/plain": [
       "192"
      ]
     },
     "execution_count": 14,
     "metadata": {},
     "output_type": "execute_result"
    }
   ],
   "source": [
    "count_func"
   ]
  },
  {
   "cell_type": "code",
   "execution_count": 15,
   "metadata": {},
   "outputs": [
    {
     "data": {
      "text/plain": [
       "97"
      ]
     },
     "execution_count": 15,
     "metadata": {},
     "output_type": "execute_result"
    }
   ],
   "source": [
    "count_ses"
   ]
  },
  {
   "cell_type": "markdown",
   "metadata": {},
   "source": [
    "Now, going to check line by line in the mini db txt file, that if the dicoms number is the same as the func"
   ]
  },
  {
   "cell_type": "code",
   "execution_count": 13,
   "metadata": {},
   "outputs": [],
   "source": [
    "\n",
    "mapping_table=pd.read_csv(Path.join(basedir,'dicoms_BLQfunc_T1','ID_mapping.tsv'), sep='\\t', header=0)\n",
    "\n",
    "mapping=mapping_table.loc[0:96,['OsirixID','BIDS_sub', 'BIDS_ses','MINID']]\n",
    "\n",
    "dicom_folder=Path.join(basedir,'DATA','dicoms')"
   ]
  },
  {
   "cell_type": "code",
   "execution_count": 22,
   "metadata": {},
   "outputs": [
    {
     "data": {
      "text/html": [
       "<div>\n",
       "<style scoped>\n",
       "    .dataframe tbody tr th:only-of-type {\n",
       "        vertical-align: middle;\n",
       "    }\n",
       "\n",
       "    .dataframe tbody tr th {\n",
       "        vertical-align: top;\n",
       "    }\n",
       "\n",
       "    .dataframe thead th {\n",
       "        text-align: right;\n",
       "    }\n",
       "</style>\n",
       "<table border=\"1\" class=\"dataframe\">\n",
       "  <thead>\n",
       "    <tr style=\"text-align: right;\">\n",
       "      <th></th>\n",
       "      <th>OsirixID</th>\n",
       "      <th>BIDS_sub</th>\n",
       "      <th>BIDS_ses</th>\n",
       "      <th>MINID</th>\n",
       "    </tr>\n",
       "  </thead>\n",
       "  <tbody>\n",
       "    <tr>\n",
       "      <th>0</th>\n",
       "      <td>S001_MINIONCE_4126</td>\n",
       "      <td>S001</td>\n",
       "      <td>T01</td>\n",
       "      <td>S001</td>\n",
       "    </tr>\n",
       "    <tr>\n",
       "      <th>1</th>\n",
       "      <td>S002_MINIONCE_4481</td>\n",
       "      <td>S002</td>\n",
       "      <td>T01</td>\n",
       "      <td>S002</td>\n",
       "    </tr>\n",
       "    <tr>\n",
       "      <th>2</th>\n",
       "      <td>S003_MINIONCE_4343</td>\n",
       "      <td>S003</td>\n",
       "      <td>T01</td>\n",
       "      <td>S003</td>\n",
       "    </tr>\n",
       "    <tr>\n",
       "      <th>3</th>\n",
       "      <td>S004_MINIONCE_4391</td>\n",
       "      <td>S004</td>\n",
       "      <td>T01</td>\n",
       "      <td>S004</td>\n",
       "    </tr>\n",
       "    <tr>\n",
       "      <th>4</th>\n",
       "      <td>S005_MINIONCE_2138</td>\n",
       "      <td>S005</td>\n",
       "      <td>T01</td>\n",
       "      <td>S005</td>\n",
       "    </tr>\n",
       "    <tr>\n",
       "      <th>...</th>\n",
       "      <td>...</td>\n",
       "      <td>...</td>\n",
       "      <td>...</td>\n",
       "      <td>...</td>\n",
       "    </tr>\n",
       "    <tr>\n",
       "      <th>92</th>\n",
       "      <td>S028_DAY2_MINITWICE_4092</td>\n",
       "      <td>S068</td>\n",
       "      <td>T02</td>\n",
       "      <td>S098</td>\n",
       "    </tr>\n",
       "    <tr>\n",
       "      <th>93</th>\n",
       "      <td>S029_DAY2_MINITWICE_5186</td>\n",
       "      <td>S069</td>\n",
       "      <td>T02</td>\n",
       "      <td>S099</td>\n",
       "    </tr>\n",
       "    <tr>\n",
       "      <th>94</th>\n",
       "      <td>S030_DAY2_MINITWICE_1820</td>\n",
       "      <td>S070</td>\n",
       "      <td>T02</td>\n",
       "      <td>S100</td>\n",
       "    </tr>\n",
       "    <tr>\n",
       "      <th>95</th>\n",
       "      <td>S031_DAY1_MINITWICE_5547</td>\n",
       "      <td>S071</td>\n",
       "      <td>T01</td>\n",
       "      <td>S101</td>\n",
       "    </tr>\n",
       "    <tr>\n",
       "      <th>96</th>\n",
       "      <td>S031_DAY2_MINITWICE_5547</td>\n",
       "      <td>S071</td>\n",
       "      <td>T02</td>\n",
       "      <td>S102</td>\n",
       "    </tr>\n",
       "  </tbody>\n",
       "</table>\n",
       "<p>97 rows × 4 columns</p>\n",
       "</div>"
      ],
      "text/plain": [
       "                    OsirixID BIDS_sub BIDS_ses MINID\n",
       "0         S001_MINIONCE_4126     S001      T01  S001\n",
       "1         S002_MINIONCE_4481     S002      T01  S002\n",
       "2         S003_MINIONCE_4343     S003      T01  S003\n",
       "3         S004_MINIONCE_4391     S004      T01  S004\n",
       "4         S005_MINIONCE_2138     S005      T01  S005\n",
       "..                       ...      ...      ...   ...\n",
       "92  S028_DAY2_MINITWICE_4092     S068      T02  S098\n",
       "93  S029_DAY2_MINITWICE_5186     S069      T02  S099\n",
       "94  S030_DAY2_MINITWICE_1820     S070      T02  S100\n",
       "95  S031_DAY1_MINITWICE_5547     S071      T01  S101\n",
       "96  S031_DAY2_MINITWICE_5547     S071      T02  S102\n",
       "\n",
       "[97 rows x 4 columns]"
      ]
     },
     "execution_count": 22,
     "metadata": {},
     "output_type": "execute_result"
    }
   ],
   "source": [
    "mapping"
   ]
  },
  {
   "cell_type": "code",
   "execution_count": 28,
   "metadata": {},
   "outputs": [],
   "source": [
    "for i,row in minidb.iterrows():\n",
    "    bid_sub=minidb.iloc[i,0]\n",
    "    bid_ses=minidb.iloc[i,1]\n",
    "\n",
    "    mini_dicom=mapping.loc[(mapping['BIDS_ses']==bid_ses) & (mapping['BIDS_sub']==bid_sub),'OsirixID'].values[0]"
   ]
  },
  {
   "cell_type": "code",
   "execution_count": 31,
   "metadata": {},
   "outputs": [
    {
     "data": {
      "text/plain": [
       "'S007_MINIONCE_4838'"
      ]
     },
     "execution_count": 31,
     "metadata": {},
     "output_type": "execute_result"
    }
   ],
   "source": [
    "mini_dicom"
   ]
  },
  {
   "cell_type": "code",
   "execution_count": 34,
   "metadata": {},
   "outputs": [],
   "source": [
    "osid_name=mapping.loc[(mapping['BIDS_ses']=='T01') & (mapping['BIDS_sub']=='S007'),'OsirixID'].values[0]\n",
    "mini_name=mapping.loc[(mapping['BIDS_ses']=='T01') & (mapping['BIDS_sub']=='S007'),'MINID'].values[0]"
   ]
  },
  {
   "cell_type": "code",
   "execution_count": 35,
   "metadata": {},
   "outputs": [
    {
     "data": {
      "text/plain": [
       "'S007'"
      ]
     },
     "execution_count": 35,
     "metadata": {},
     "output_type": "execute_result"
    }
   ],
   "source": [
    "mini_name"
   ]
  },
  {
   "cell_type": "code",
   "execution_count": null,
   "metadata": {},
   "outputs": [],
   "source": [
    "count_ses=0\n",
    "count_func=0\n",
    "for sub in subjects:\n",
    "    sess=layout.get(subject=sub, target='session', return_type='id')\n",
    "    for ses in sess:\n",
    "        func= layout.get(subject=sub, session=ses, datatype='func', extension='nii.gz', return_type='file')\n",
    "        #print(f\"there are {len(func)} func files for subject: {sub}, session: {ses}\") \n",
    "        if len(func) !=2:\n",
    "            print(f\"sub-{sub}-ses{ses} have strange func runs: which is {len(func)}\")\n",
    "        count_ses+=1\n",
    "        count_func+=len(func)\n",
    "\n"
   ]
  },
  {
   "cell_type": "code",
   "execution_count": 39,
   "metadata": {},
   "outputs": [
    {
     "data": {
      "text/plain": [
       "['/bcbl/home/public/Gari/MINI/BIDS_BLQfunc_T1/sub-S001/ses-T01/func/sub-S001_ses-T01_task-MINIblock_run-01_bold.nii.gz',\n",
       " '/bcbl/home/public/Gari/MINI/BIDS_BLQfunc_T1/sub-S001/ses-T01/func/sub-S001_ses-T01_task-MINIblock_run-02_bold.nii.gz',\n",
       " '/bcbl/home/public/Gari/MINI/BIDS_BLQfunc_T1/sub-S002/ses-T01/func/sub-S002_ses-T01_task-MINIblock_run-01_bold.nii.gz',\n",
       " '/bcbl/home/public/Gari/MINI/BIDS_BLQfunc_T1/sub-S002/ses-T01/func/sub-S002_ses-T01_task-MINIblock_run-02_bold.nii.gz',\n",
       " '/bcbl/home/public/Gari/MINI/BIDS_BLQfunc_T1/sub-S003/ses-T01/func/sub-S003_ses-T01_task-MINIblock_run-01_bold.nii.gz',\n",
       " '/bcbl/home/public/Gari/MINI/BIDS_BLQfunc_T1/sub-S003/ses-T01/func/sub-S003_ses-T01_task-MINIblock_run-02_bold.nii.gz',\n",
       " '/bcbl/home/public/Gari/MINI/BIDS_BLQfunc_T1/sub-S004/ses-T01/func/sub-S004_ses-T01_task-MINIblock_run-01_bold.nii.gz',\n",
       " '/bcbl/home/public/Gari/MINI/BIDS_BLQfunc_T1/sub-S004/ses-T01/func/sub-S004_ses-T01_task-MINIblock_run-02_bold.nii.gz',\n",
       " '/bcbl/home/public/Gari/MINI/BIDS_BLQfunc_T1/sub-S005/ses-T01/func/sub-S005_ses-T01_task-MINIblock_run-01_bold.nii.gz',\n",
       " '/bcbl/home/public/Gari/MINI/BIDS_BLQfunc_T1/sub-S005/ses-T01/func/sub-S005_ses-T01_task-MINIblock_run-02_bold.nii.gz',\n",
       " '/bcbl/home/public/Gari/MINI/BIDS_BLQfunc_T1/sub-S006/ses-T01/func/sub-S006_ses-T01_task-MINIblock_run-01_bold.nii.gz',\n",
       " '/bcbl/home/public/Gari/MINI/BIDS_BLQfunc_T1/sub-S006/ses-T01/func/sub-S006_ses-T01_task-MINIblock_run-02_bold.nii.gz',\n",
       " '/bcbl/home/public/Gari/MINI/BIDS_BLQfunc_T1/sub-S007/ses-T01/func/sub-S007_ses-T01_task-MINIblock_run-01_bold.nii.gz',\n",
       " '/bcbl/home/public/Gari/MINI/BIDS_BLQfunc_T1/sub-S008/ses-T01/func/sub-S008_ses-T01_task-MINIblock_run-01_bold.nii.gz',\n",
       " '/bcbl/home/public/Gari/MINI/BIDS_BLQfunc_T1/sub-S008/ses-T01/func/sub-S008_ses-T01_task-MINIblock_run-02_bold.nii.gz',\n",
       " '/bcbl/home/public/Gari/MINI/BIDS_BLQfunc_T1/sub-S009/ses-T01/func/sub-S009_ses-T01_task-MINIblock_run-01_bold.nii.gz',\n",
       " '/bcbl/home/public/Gari/MINI/BIDS_BLQfunc_T1/sub-S009/ses-T01/func/sub-S009_ses-T01_task-MINIblock_run-02_bold.nii.gz',\n",
       " '/bcbl/home/public/Gari/MINI/BIDS_BLQfunc_T1/sub-S010/ses-T01/func/sub-S010_ses-T01_task-MINIblock_run-01_bold.nii.gz',\n",
       " '/bcbl/home/public/Gari/MINI/BIDS_BLQfunc_T1/sub-S010/ses-T01/func/sub-S010_ses-T01_task-MINIblock_run-02_bold.nii.gz',\n",
       " '/bcbl/home/public/Gari/MINI/BIDS_BLQfunc_T1/sub-S011/ses-T01/func/sub-S011_ses-T01_task-MINIblock_run-01_bold.nii.gz',\n",
       " '/bcbl/home/public/Gari/MINI/BIDS_BLQfunc_T1/sub-S011/ses-T01/func/sub-S011_ses-T01_task-MINIblock_run-02_bold.nii.gz',\n",
       " '/bcbl/home/public/Gari/MINI/BIDS_BLQfunc_T1/sub-S012/ses-T01/func/sub-S012_ses-T01_task-MINIblock_run-01_bold.nii.gz',\n",
       " '/bcbl/home/public/Gari/MINI/BIDS_BLQfunc_T1/sub-S012/ses-T01/func/sub-S012_ses-T01_task-MINIblock_run-02_bold.nii.gz',\n",
       " '/bcbl/home/public/Gari/MINI/BIDS_BLQfunc_T1/sub-S013/ses-T01/func/sub-S013_ses-T01_task-MINIblock_run-01_bold.nii.gz',\n",
       " '/bcbl/home/public/Gari/MINI/BIDS_BLQfunc_T1/sub-S013/ses-T01/func/sub-S013_ses-T01_task-MINIblock_run-02_bold.nii.gz',\n",
       " '/bcbl/home/public/Gari/MINI/BIDS_BLQfunc_T1/sub-S014/ses-T01/func/sub-S014_ses-T01_task-MINIblock_run-01_bold.nii.gz',\n",
       " '/bcbl/home/public/Gari/MINI/BIDS_BLQfunc_T1/sub-S014/ses-T01/func/sub-S014_ses-T01_task-MINIblock_run-02_bold.nii.gz',\n",
       " '/bcbl/home/public/Gari/MINI/BIDS_BLQfunc_T1/sub-S015/ses-T01/func/sub-S015_ses-T01_task-MINIblock_run-01_bold.nii.gz',\n",
       " '/bcbl/home/public/Gari/MINI/BIDS_BLQfunc_T1/sub-S015/ses-T01/func/sub-S015_ses-T01_task-MINIblock_run-02_bold.nii.gz',\n",
       " '/bcbl/home/public/Gari/MINI/BIDS_BLQfunc_T1/sub-S016/ses-T01/func/sub-S016_ses-T01_task-MINIblock_run-01_bold.nii.gz',\n",
       " '/bcbl/home/public/Gari/MINI/BIDS_BLQfunc_T1/sub-S016/ses-T01/func/sub-S016_ses-T01_task-MINIblock_run-02_bold.nii.gz',\n",
       " '/bcbl/home/public/Gari/MINI/BIDS_BLQfunc_T1/sub-S017/ses-T01/func/sub-S017_ses-T01_task-MINIblock_run-01_bold.nii.gz',\n",
       " '/bcbl/home/public/Gari/MINI/BIDS_BLQfunc_T1/sub-S017/ses-T01/func/sub-S017_ses-T01_task-MINIblock_run-02_bold.nii.gz',\n",
       " '/bcbl/home/public/Gari/MINI/BIDS_BLQfunc_T1/sub-S018/ses-T01/func/sub-S018_ses-T01_task-MINIblock_run-01_bold.nii.gz',\n",
       " '/bcbl/home/public/Gari/MINI/BIDS_BLQfunc_T1/sub-S018/ses-T01/func/sub-S018_ses-T01_task-MINIblock_run-02_bold.nii.gz',\n",
       " '/bcbl/home/public/Gari/MINI/BIDS_BLQfunc_T1/sub-S019/ses-T01/func/sub-S019_ses-T01_task-MINIblock_run-01_bold.nii.gz',\n",
       " '/bcbl/home/public/Gari/MINI/BIDS_BLQfunc_T1/sub-S019/ses-T01/func/sub-S019_ses-T01_task-MINIblock_run-02_bold.nii.gz',\n",
       " '/bcbl/home/public/Gari/MINI/BIDS_BLQfunc_T1/sub-S020/ses-T01/func/sub-S020_ses-T01_task-MINIblock_run-01_bold.nii.gz',\n",
       " '/bcbl/home/public/Gari/MINI/BIDS_BLQfunc_T1/sub-S020/ses-T01/func/sub-S020_ses-T01_task-MINIblock_run-02_bold.nii.gz',\n",
       " '/bcbl/home/public/Gari/MINI/BIDS_BLQfunc_T1/sub-S021/ses-T01/func/sub-S021_ses-T01_task-MINIblock_run-01_bold.nii.gz',\n",
       " '/bcbl/home/public/Gari/MINI/BIDS_BLQfunc_T1/sub-S021/ses-T01/func/sub-S021_ses-T01_task-MINIblock_run-02_bold.nii.gz',\n",
       " '/bcbl/home/public/Gari/MINI/BIDS_BLQfunc_T1/sub-S022/ses-T01/func/sub-S022_ses-T01_task-MINIblock_run-01_bold.nii.gz',\n",
       " '/bcbl/home/public/Gari/MINI/BIDS_BLQfunc_T1/sub-S022/ses-T01/func/sub-S022_ses-T01_task-MINIblock_run-02_bold.nii.gz',\n",
       " '/bcbl/home/public/Gari/MINI/BIDS_BLQfunc_T1/sub-S023/ses-T01/func/sub-S023_ses-T01_task-MINIblock_run-01_bold.nii.gz',\n",
       " '/bcbl/home/public/Gari/MINI/BIDS_BLQfunc_T1/sub-S023/ses-T01/func/sub-S023_ses-T01_task-MINIblock_run-02_bold.nii.gz',\n",
       " '/bcbl/home/public/Gari/MINI/BIDS_BLQfunc_T1/sub-S024/ses-T01/func/sub-S024_ses-T01_task-MINIblock_run-01_bold.nii.gz',\n",
       " '/bcbl/home/public/Gari/MINI/BIDS_BLQfunc_T1/sub-S024/ses-T01/func/sub-S024_ses-T01_task-MINIblock_run-02_bold.nii.gz',\n",
       " '/bcbl/home/public/Gari/MINI/BIDS_BLQfunc_T1/sub-S025/ses-T01/func/sub-S025_ses-T01_task-MINIblock_run-01_bold.nii.gz',\n",
       " '/bcbl/home/public/Gari/MINI/BIDS_BLQfunc_T1/sub-S025/ses-T01/func/sub-S025_ses-T01_task-MINIblock_run-02_bold.nii.gz',\n",
       " '/bcbl/home/public/Gari/MINI/BIDS_BLQfunc_T1/sub-S026/ses-T01/func/sub-S026_ses-T01_task-MINIblock_run-01_bold.nii.gz',\n",
       " '/bcbl/home/public/Gari/MINI/BIDS_BLQfunc_T1/sub-S026/ses-T01/func/sub-S026_ses-T01_task-MINIblock_run-02_bold.nii.gz',\n",
       " '/bcbl/home/public/Gari/MINI/BIDS_BLQfunc_T1/sub-S027/ses-T01/func/sub-S027_ses-T01_task-MINIblock_run-01_bold.nii.gz',\n",
       " '/bcbl/home/public/Gari/MINI/BIDS_BLQfunc_T1/sub-S027/ses-T01/func/sub-S027_ses-T01_task-MINIblock_run-02_bold.nii.gz',\n",
       " '/bcbl/home/public/Gari/MINI/BIDS_BLQfunc_T1/sub-S028/ses-T01/func/sub-S028_ses-T01_task-MINIblock_run-01_bold.nii.gz',\n",
       " '/bcbl/home/public/Gari/MINI/BIDS_BLQfunc_T1/sub-S028/ses-T01/func/sub-S028_ses-T01_task-MINIblock_run-02_bold.nii.gz',\n",
       " '/bcbl/home/public/Gari/MINI/BIDS_BLQfunc_T1/sub-S029/ses-T01/func/sub-S029_ses-T01_task-MINIblock_run-01_bold.nii.gz',\n",
       " '/bcbl/home/public/Gari/MINI/BIDS_BLQfunc_T1/sub-S029/ses-T01/func/sub-S029_ses-T01_task-MINIblock_run-02_bold.nii.gz',\n",
       " '/bcbl/home/public/Gari/MINI/BIDS_BLQfunc_T1/sub-S030/ses-T01/func/sub-S030_ses-T01_task-MINIblock_run-01_bold.nii.gz',\n",
       " '/bcbl/home/public/Gari/MINI/BIDS_BLQfunc_T1/sub-S030/ses-T01/func/sub-S030_ses-T01_task-MINIblock_run-02_bold.nii.gz',\n",
       " '/bcbl/home/public/Gari/MINI/BIDS_BLQfunc_T1/sub-S031/ses-T01/func/sub-S031_ses-T01_task-MINIblock_run-01_bold.nii.gz',\n",
       " '/bcbl/home/public/Gari/MINI/BIDS_BLQfunc_T1/sub-S031/ses-T01/func/sub-S031_ses-T01_task-MINIblock_run-02_bold.nii.gz',\n",
       " '/bcbl/home/public/Gari/MINI/BIDS_BLQfunc_T1/sub-S032/ses-T01/func/sub-S032_ses-T01_task-MINIblock_run-01_bold.nii.gz',\n",
       " '/bcbl/home/public/Gari/MINI/BIDS_BLQfunc_T1/sub-S032/ses-T01/func/sub-S032_ses-T01_task-MINIblock_run-02_bold.nii.gz',\n",
       " '/bcbl/home/public/Gari/MINI/BIDS_BLQfunc_T1/sub-S033/ses-T01/func/sub-S033_ses-T01_task-MINIblock_run-01_bold.nii.gz',\n",
       " '/bcbl/home/public/Gari/MINI/BIDS_BLQfunc_T1/sub-S033/ses-T01/func/sub-S033_ses-T01_task-MINIblock_run-02_bold.nii.gz',\n",
       " '/bcbl/home/public/Gari/MINI/BIDS_BLQfunc_T1/sub-S034/ses-T01/func/sub-S034_ses-T01_task-MINIblock_run-01_bold.nii.gz',\n",
       " '/bcbl/home/public/Gari/MINI/BIDS_BLQfunc_T1/sub-S034/ses-T01/func/sub-S034_ses-T01_task-MINIblock_run-02_bold.nii.gz',\n",
       " '/bcbl/home/public/Gari/MINI/BIDS_BLQfunc_T1/sub-S035/ses-T01/func/sub-S035_ses-T01_task-MINIblock_run-01_bold.nii.gz',\n",
       " '/bcbl/home/public/Gari/MINI/BIDS_BLQfunc_T1/sub-S035/ses-T01/func/sub-S035_ses-T01_task-MINIblock_run-02_bold.nii.gz',\n",
       " '/bcbl/home/public/Gari/MINI/BIDS_BLQfunc_T1/sub-S041/ses-T01/func/sub-S041_ses-T01_task-MINIblock_run-01_bold.nii.gz',\n",
       " '/bcbl/home/public/Gari/MINI/BIDS_BLQfunc_T1/sub-S041/ses-T01/func/sub-S041_ses-T01_task-MINIblock_run-02_bold.nii.gz',\n",
       " '/bcbl/home/public/Gari/MINI/BIDS_BLQfunc_T1/sub-S041/ses-T02/func/sub-S041_ses-T02_task-MINIblock_run-01_bold.nii.gz',\n",
       " '/bcbl/home/public/Gari/MINI/BIDS_BLQfunc_T1/sub-S041/ses-T02/func/sub-S041_ses-T02_task-MINIblock_run-02_bold.nii.gz',\n",
       " '/bcbl/home/public/Gari/MINI/BIDS_BLQfunc_T1/sub-S042/ses-T01/func/sub-S042_ses-T01_task-MINIblock_run-01_bold.nii.gz',\n",
       " '/bcbl/home/public/Gari/MINI/BIDS_BLQfunc_T1/sub-S042/ses-T01/func/sub-S042_ses-T01_task-MINIblock_run-02_bold.nii.gz',\n",
       " '/bcbl/home/public/Gari/MINI/BIDS_BLQfunc_T1/sub-S042/ses-T02/func/sub-S042_ses-T02_task-MINIblock_run-01_bold.nii.gz',\n",
       " '/bcbl/home/public/Gari/MINI/BIDS_BLQfunc_T1/sub-S042/ses-T02/func/sub-S042_ses-T02_task-MINIblock_run-02_bold.nii.gz',\n",
       " '/bcbl/home/public/Gari/MINI/BIDS_BLQfunc_T1/sub-S043/ses-T01/func/sub-S043_ses-T01_task-MINIblock_run-01_bold.nii.gz',\n",
       " '/bcbl/home/public/Gari/MINI/BIDS_BLQfunc_T1/sub-S043/ses-T01/func/sub-S043_ses-T01_task-MINIblock_run-02_bold.nii.gz',\n",
       " '/bcbl/home/public/Gari/MINI/BIDS_BLQfunc_T1/sub-S043/ses-T02/func/sub-S043_ses-T02_task-MINIblock_run-01_bold.nii.gz',\n",
       " '/bcbl/home/public/Gari/MINI/BIDS_BLQfunc_T1/sub-S043/ses-T02/func/sub-S043_ses-T02_task-MINIblock_run-02_bold.nii.gz',\n",
       " '/bcbl/home/public/Gari/MINI/BIDS_BLQfunc_T1/sub-S044/ses-T01/func/sub-S044_ses-T01_task-MINIblock_run-01_bold.nii.gz',\n",
       " '/bcbl/home/public/Gari/MINI/BIDS_BLQfunc_T1/sub-S044/ses-T01/func/sub-S044_ses-T01_task-MINIblock_run-02_bold.nii.gz',\n",
       " '/bcbl/home/public/Gari/MINI/BIDS_BLQfunc_T1/sub-S044/ses-T02/func/sub-S044_ses-T02_task-MINIblock_run-01_bold.nii.gz',\n",
       " '/bcbl/home/public/Gari/MINI/BIDS_BLQfunc_T1/sub-S044/ses-T02/func/sub-S044_ses-T02_task-MINIblock_run-02_bold.nii.gz',\n",
       " '/bcbl/home/public/Gari/MINI/BIDS_BLQfunc_T1/sub-S045/ses-T01/func/sub-S045_ses-T01_task-MINIblock_run-01_bold.nii.gz',\n",
       " '/bcbl/home/public/Gari/MINI/BIDS_BLQfunc_T1/sub-S045/ses-T01/func/sub-S045_ses-T01_task-MINIblock_run-02_bold.nii.gz',\n",
       " '/bcbl/home/public/Gari/MINI/BIDS_BLQfunc_T1/sub-S045/ses-T02/func/sub-S045_ses-T02_task-MINIblock_run-01_bold.nii.gz',\n",
       " '/bcbl/home/public/Gari/MINI/BIDS_BLQfunc_T1/sub-S045/ses-T02/func/sub-S045_ses-T02_task-MINIblock_run-02_bold.nii.gz',\n",
       " '/bcbl/home/public/Gari/MINI/BIDS_BLQfunc_T1/sub-S046/ses-T01/func/sub-S046_ses-T01_task-MINIblock_run-01_bold.nii.gz',\n",
       " '/bcbl/home/public/Gari/MINI/BIDS_BLQfunc_T1/sub-S046/ses-T01/func/sub-S046_ses-T01_task-MINIblock_run-02_bold.nii.gz',\n",
       " '/bcbl/home/public/Gari/MINI/BIDS_BLQfunc_T1/sub-S046/ses-T02/func/sub-S046_ses-T02_task-MINIblock_run-01_bold.nii.gz',\n",
       " '/bcbl/home/public/Gari/MINI/BIDS_BLQfunc_T1/sub-S046/ses-T02/func/sub-S046_ses-T02_task-MINIblock_run-02_bold.nii.gz',\n",
       " '/bcbl/home/public/Gari/MINI/BIDS_BLQfunc_T1/sub-S047/ses-T01/func/sub-S047_ses-T01_task-MINIblock_run-01_bold.nii.gz',\n",
       " '/bcbl/home/public/Gari/MINI/BIDS_BLQfunc_T1/sub-S047/ses-T01/func/sub-S047_ses-T01_task-MINIblock_run-02_bold.nii.gz',\n",
       " '/bcbl/home/public/Gari/MINI/BIDS_BLQfunc_T1/sub-S047/ses-T02/func/sub-S047_ses-T02_task-MINIblock_run-01_bold.nii.gz',\n",
       " '/bcbl/home/public/Gari/MINI/BIDS_BLQfunc_T1/sub-S047/ses-T02/func/sub-S047_ses-T02_task-MINIblock_run-02_bold.nii.gz',\n",
       " '/bcbl/home/public/Gari/MINI/BIDS_BLQfunc_T1/sub-S048/ses-T01/func/sub-S048_ses-T01_task-MINIblock_run-01_bold.nii.gz',\n",
       " '/bcbl/home/public/Gari/MINI/BIDS_BLQfunc_T1/sub-S048/ses-T01/func/sub-S048_ses-T01_task-MINIblock_run-02_bold.nii.gz',\n",
       " '/bcbl/home/public/Gari/MINI/BIDS_BLQfunc_T1/sub-S048/ses-T02/func/sub-S048_ses-T02_task-MINIblock_run-01_bold.nii.gz',\n",
       " '/bcbl/home/public/Gari/MINI/BIDS_BLQfunc_T1/sub-S048/ses-T02/func/sub-S048_ses-T02_task-MINIblock_run-02_bold.nii.gz',\n",
       " '/bcbl/home/public/Gari/MINI/BIDS_BLQfunc_T1/sub-S049/ses-T01/func/sub-S049_ses-T01_task-MINIblock_run-01_bold.nii.gz',\n",
       " '/bcbl/home/public/Gari/MINI/BIDS_BLQfunc_T1/sub-S049/ses-T01/func/sub-S049_ses-T01_task-MINIblock_run-02_bold.nii.gz',\n",
       " '/bcbl/home/public/Gari/MINI/BIDS_BLQfunc_T1/sub-S049/ses-T02/func/sub-S049_ses-T02_task-MINIblock_run-01_bold.nii.gz',\n",
       " '/bcbl/home/public/Gari/MINI/BIDS_BLQfunc_T1/sub-S049/ses-T02/func/sub-S049_ses-T02_task-MINIblock_run-02_bold.nii.gz',\n",
       " '/bcbl/home/public/Gari/MINI/BIDS_BLQfunc_T1/sub-S050/ses-T01/func/sub-S050_ses-T01_task-MINIblock_run-01_bold.nii.gz',\n",
       " '/bcbl/home/public/Gari/MINI/BIDS_BLQfunc_T1/sub-S050/ses-T01/func/sub-S050_ses-T01_task-MINIblock_run-02_bold.nii.gz',\n",
       " '/bcbl/home/public/Gari/MINI/BIDS_BLQfunc_T1/sub-S050/ses-T02/func/sub-S050_ses-T02_task-MINIblock_run-01_bold.nii.gz',\n",
       " '/bcbl/home/public/Gari/MINI/BIDS_BLQfunc_T1/sub-S050/ses-T02/func/sub-S050_ses-T02_task-MINIblock_run-02_bold.nii.gz',\n",
       " '/bcbl/home/public/Gari/MINI/BIDS_BLQfunc_T1/sub-S051/ses-T01/func/sub-S051_ses-T01_task-MINIblock_run-01_bold.nii.gz',\n",
       " '/bcbl/home/public/Gari/MINI/BIDS_BLQfunc_T1/sub-S051/ses-T01/func/sub-S051_ses-T01_task-MINIblock_run-02_bold.nii.gz',\n",
       " '/bcbl/home/public/Gari/MINI/BIDS_BLQfunc_T1/sub-S051/ses-T02/func/sub-S051_ses-T02_task-MINIblock_run-01_bold.nii.gz',\n",
       " '/bcbl/home/public/Gari/MINI/BIDS_BLQfunc_T1/sub-S051/ses-T02/func/sub-S051_ses-T02_task-MINIblock_run-02_bold.nii.gz',\n",
       " '/bcbl/home/public/Gari/MINI/BIDS_BLQfunc_T1/sub-S052/ses-T01/func/sub-S052_ses-T01_task-MINIblock_run-01_bold.nii.gz',\n",
       " '/bcbl/home/public/Gari/MINI/BIDS_BLQfunc_T1/sub-S052/ses-T01/func/sub-S052_ses-T01_task-MINIblock_run-02_bold.nii.gz',\n",
       " '/bcbl/home/public/Gari/MINI/BIDS_BLQfunc_T1/sub-S052/ses-T02/func/sub-S052_ses-T02_task-MINIblock_run-01_bold.nii.gz',\n",
       " '/bcbl/home/public/Gari/MINI/BIDS_BLQfunc_T1/sub-S052/ses-T02/func/sub-S052_ses-T02_task-MINIblock_run-02_bold.nii.gz',\n",
       " '/bcbl/home/public/Gari/MINI/BIDS_BLQfunc_T1/sub-S053/ses-T01/func/sub-S053_ses-T01_task-MINIblock_run-01_bold.nii.gz',\n",
       " '/bcbl/home/public/Gari/MINI/BIDS_BLQfunc_T1/sub-S053/ses-T01/func/sub-S053_ses-T01_task-MINIblock_run-02_bold.nii.gz',\n",
       " '/bcbl/home/public/Gari/MINI/BIDS_BLQfunc_T1/sub-S053/ses-T02/func/sub-S053_ses-T02_task-MINIblock_run-01_bold.nii.gz',\n",
       " '/bcbl/home/public/Gari/MINI/BIDS_BLQfunc_T1/sub-S053/ses-T02/func/sub-S053_ses-T02_task-MINIblock_run-02_bold.nii.gz',\n",
       " '/bcbl/home/public/Gari/MINI/BIDS_BLQfunc_T1/sub-S054/ses-T01/func/sub-S054_ses-T01_task-MINIblock_run-01_bold.nii.gz',\n",
       " '/bcbl/home/public/Gari/MINI/BIDS_BLQfunc_T1/sub-S054/ses-T01/func/sub-S054_ses-T01_task-MINIblock_run-02_bold.nii.gz',\n",
       " '/bcbl/home/public/Gari/MINI/BIDS_BLQfunc_T1/sub-S054/ses-T02/func/sub-S054_ses-T02_task-MINIblock_run-01_bold.nii.gz',\n",
       " '/bcbl/home/public/Gari/MINI/BIDS_BLQfunc_T1/sub-S054/ses-T02/func/sub-S054_ses-T02_task-MINIblock_run-02_bold.nii.gz',\n",
       " '/bcbl/home/public/Gari/MINI/BIDS_BLQfunc_T1/sub-S055/ses-T01/func/sub-S055_ses-T01_task-MINIblock_run-01_bold.nii.gz',\n",
       " '/bcbl/home/public/Gari/MINI/BIDS_BLQfunc_T1/sub-S055/ses-T01/func/sub-S055_ses-T01_task-MINIblock_run-02_bold.nii.gz',\n",
       " '/bcbl/home/public/Gari/MINI/BIDS_BLQfunc_T1/sub-S055/ses-T02/func/sub-S055_ses-T02_task-MINIblock_run-01_bold.nii.gz',\n",
       " '/bcbl/home/public/Gari/MINI/BIDS_BLQfunc_T1/sub-S055/ses-T02/func/sub-S055_ses-T02_task-MINIblock_run-02_bold.nii.gz',\n",
       " '/bcbl/home/public/Gari/MINI/BIDS_BLQfunc_T1/sub-S056/ses-T01/func/sub-S056_ses-T01_task-MINIblock_run-01_bold.nii.gz',\n",
       " '/bcbl/home/public/Gari/MINI/BIDS_BLQfunc_T1/sub-S056/ses-T01/func/sub-S056_ses-T01_task-MINIblock_run-02_bold.nii.gz',\n",
       " '/bcbl/home/public/Gari/MINI/BIDS_BLQfunc_T1/sub-S056/ses-T02/func/sub-S056_ses-T02_task-MINIblock_run-01_bold.nii.gz',\n",
       " '/bcbl/home/public/Gari/MINI/BIDS_BLQfunc_T1/sub-S056/ses-T02/func/sub-S056_ses-T02_task-MINIblock_run-02_bold.nii.gz',\n",
       " '/bcbl/home/public/Gari/MINI/BIDS_BLQfunc_T1/sub-S057/ses-T01/func/sub-S057_ses-T01_task-MINIblock_run-01_bold.nii.gz',\n",
       " '/bcbl/home/public/Gari/MINI/BIDS_BLQfunc_T1/sub-S057/ses-T01/func/sub-S057_ses-T01_task-MINIblock_run-02_bold.nii.gz',\n",
       " '/bcbl/home/public/Gari/MINI/BIDS_BLQfunc_T1/sub-S057/ses-T02/func/sub-S057_ses-T02_task-MINIblock_run-01_bold.nii.gz',\n",
       " '/bcbl/home/public/Gari/MINI/BIDS_BLQfunc_T1/sub-S057/ses-T02/func/sub-S057_ses-T02_task-MINIblock_run-02_bold.nii.gz',\n",
       " '/bcbl/home/public/Gari/MINI/BIDS_BLQfunc_T1/sub-S058/ses-T01/func/sub-S058_ses-T01_task-MINIblock_run-01_bold.nii.gz',\n",
       " '/bcbl/home/public/Gari/MINI/BIDS_BLQfunc_T1/sub-S058/ses-T01/func/sub-S058_ses-T01_task-MINIblock_run-02_bold.nii.gz',\n",
       " '/bcbl/home/public/Gari/MINI/BIDS_BLQfunc_T1/sub-S058/ses-T02/func/sub-S058_ses-T02_task-MINIblock_run-01_bold.nii.gz',\n",
       " '/bcbl/home/public/Gari/MINI/BIDS_BLQfunc_T1/sub-S058/ses-T02/func/sub-S058_ses-T02_task-MINIblock_run-02_bold.nii.gz',\n",
       " '/bcbl/home/public/Gari/MINI/BIDS_BLQfunc_T1/sub-S059/ses-T01/func/sub-S059_ses-T01_task-MINIblock_run-01_bold.nii.gz',\n",
       " '/bcbl/home/public/Gari/MINI/BIDS_BLQfunc_T1/sub-S059/ses-T01/func/sub-S059_ses-T01_task-MINIblock_run-02_bold.nii.gz',\n",
       " '/bcbl/home/public/Gari/MINI/BIDS_BLQfunc_T1/sub-S059/ses-T02/func/sub-S059_ses-T02_task-MINIblock_run-01_bold.nii.gz',\n",
       " '/bcbl/home/public/Gari/MINI/BIDS_BLQfunc_T1/sub-S059/ses-T02/func/sub-S059_ses-T02_task-MINIblock_run-02_bold.nii.gz',\n",
       " '/bcbl/home/public/Gari/MINI/BIDS_BLQfunc_T1/sub-S060/ses-T01/func/sub-S060_ses-T01_task-MINIblock_run-01_bold.nii.gz',\n",
       " '/bcbl/home/public/Gari/MINI/BIDS_BLQfunc_T1/sub-S060/ses-T01/func/sub-S060_ses-T01_task-MINIblock_run-02_bold.nii.gz',\n",
       " '/bcbl/home/public/Gari/MINI/BIDS_BLQfunc_T1/sub-S060/ses-T02/func/sub-S060_ses-T02_task-MINIblock_run-01_bold.nii.gz',\n",
       " '/bcbl/home/public/Gari/MINI/BIDS_BLQfunc_T1/sub-S060/ses-T02/func/sub-S060_ses-T02_task-MINIblock_run-02_bold.nii.gz',\n",
       " '/bcbl/home/public/Gari/MINI/BIDS_BLQfunc_T1/sub-S061/ses-T01/func/sub-S061_ses-T01_task-MINIblock_run-01_bold.nii.gz',\n",
       " '/bcbl/home/public/Gari/MINI/BIDS_BLQfunc_T1/sub-S061/ses-T01/func/sub-S061_ses-T01_task-MINIblock_run-02_bold.nii.gz',\n",
       " '/bcbl/home/public/Gari/MINI/BIDS_BLQfunc_T1/sub-S061/ses-T02/func/sub-S061_ses-T02_task-MINIblock_run-01_bold.nii.gz',\n",
       " '/bcbl/home/public/Gari/MINI/BIDS_BLQfunc_T1/sub-S061/ses-T02/func/sub-S061_ses-T02_task-MINIblock_run-02_bold.nii.gz',\n",
       " '/bcbl/home/public/Gari/MINI/BIDS_BLQfunc_T1/sub-S062/ses-T01/func/sub-S062_ses-T01_task-MINIblock_run-01_bold.nii.gz',\n",
       " '/bcbl/home/public/Gari/MINI/BIDS_BLQfunc_T1/sub-S062/ses-T01/func/sub-S062_ses-T01_task-MINIblock_run-02_bold.nii.gz',\n",
       " '/bcbl/home/public/Gari/MINI/BIDS_BLQfunc_T1/sub-S062/ses-T02/func/sub-S062_ses-T02_task-MINIblock_run-01_bold.nii.gz',\n",
       " '/bcbl/home/public/Gari/MINI/BIDS_BLQfunc_T1/sub-S062/ses-T02/func/sub-S062_ses-T02_task-MINIblock_run-02_bold.nii.gz',\n",
       " '/bcbl/home/public/Gari/MINI/BIDS_BLQfunc_T1/sub-S063/ses-T01/func/sub-S063_ses-T01_task-MINIblock_run-01_bold.nii.gz',\n",
       " '/bcbl/home/public/Gari/MINI/BIDS_BLQfunc_T1/sub-S063/ses-T01/func/sub-S063_ses-T01_task-MINIblock_run-02_bold.nii.gz',\n",
       " '/bcbl/home/public/Gari/MINI/BIDS_BLQfunc_T1/sub-S063/ses-T02/func/sub-S063_ses-T02_task-MINIblock_run-01_bold.nii.gz',\n",
       " '/bcbl/home/public/Gari/MINI/BIDS_BLQfunc_T1/sub-S063/ses-T02/func/sub-S063_ses-T02_task-MINIblock_run-02_bold.nii.gz',\n",
       " '/bcbl/home/public/Gari/MINI/BIDS_BLQfunc_T1/sub-S064/ses-T01/func/sub-S064_ses-T01_task-MINIblock_run-01_bold.nii.gz',\n",
       " '/bcbl/home/public/Gari/MINI/BIDS_BLQfunc_T1/sub-S064/ses-T01/func/sub-S064_ses-T01_task-MINIblock_run-02_bold.nii.gz',\n",
       " '/bcbl/home/public/Gari/MINI/BIDS_BLQfunc_T1/sub-S064/ses-T02/func/sub-S064_ses-T02_task-MINIblock_run-01_bold.nii.gz',\n",
       " '/bcbl/home/public/Gari/MINI/BIDS_BLQfunc_T1/sub-S064/ses-T02/func/sub-S064_ses-T02_task-MINIblock_run-02_bold.nii.gz',\n",
       " '/bcbl/home/public/Gari/MINI/BIDS_BLQfunc_T1/sub-S065/ses-T01/func/sub-S065_ses-T01_task-MINIblock_run-01_bold.nii.gz',\n",
       " '/bcbl/home/public/Gari/MINI/BIDS_BLQfunc_T1/sub-S065/ses-T01/func/sub-S065_ses-T01_task-MINIblock_run-02_bold.nii.gz',\n",
       " '/bcbl/home/public/Gari/MINI/BIDS_BLQfunc_T1/sub-S065/ses-T02/func/sub-S065_ses-T02_task-MINIblock_run-01_bold.nii.gz',\n",
       " '/bcbl/home/public/Gari/MINI/BIDS_BLQfunc_T1/sub-S065/ses-T02/func/sub-S065_ses-T02_task-MINIblock_run-02_bold.nii.gz',\n",
       " '/bcbl/home/public/Gari/MINI/BIDS_BLQfunc_T1/sub-S066/ses-T01/func/sub-S066_ses-T01_task-MINIblock_run-01_bold.nii.gz',\n",
       " '/bcbl/home/public/Gari/MINI/BIDS_BLQfunc_T1/sub-S066/ses-T01/func/sub-S066_ses-T01_task-MINIblock_run-02_bold.nii.gz',\n",
       " '/bcbl/home/public/Gari/MINI/BIDS_BLQfunc_T1/sub-S066/ses-T02/func/sub-S066_ses-T02_task-MINIblock_run-01_bold.nii.gz',\n",
       " '/bcbl/home/public/Gari/MINI/BIDS_BLQfunc_T1/sub-S066/ses-T02/func/sub-S066_ses-T02_task-MINIblock_run-02_bold.nii.gz',\n",
       " '/bcbl/home/public/Gari/MINI/BIDS_BLQfunc_T1/sub-S067/ses-T01/func/sub-S067_ses-T01_task-MINIblock_run-01_bold.nii.gz',\n",
       " '/bcbl/home/public/Gari/MINI/BIDS_BLQfunc_T1/sub-S067/ses-T01/func/sub-S067_ses-T01_task-MINIblock_run-02_bold.nii.gz',\n",
       " '/bcbl/home/public/Gari/MINI/BIDS_BLQfunc_T1/sub-S067/ses-T02/func/sub-S067_ses-T02_task-MINIblock_run-01_bold.nii.gz',\n",
       " '/bcbl/home/public/Gari/MINI/BIDS_BLQfunc_T1/sub-S067/ses-T02/func/sub-S067_ses-T02_task-MINIblock_run-02_bold.nii.gz',\n",
       " '/bcbl/home/public/Gari/MINI/BIDS_BLQfunc_T1/sub-S068/ses-T01/func/sub-S068_ses-T01_task-MINIblock_run-01_bold.nii.gz',\n",
       " '/bcbl/home/public/Gari/MINI/BIDS_BLQfunc_T1/sub-S068/ses-T01/func/sub-S068_ses-T01_task-MINIblock_run-02_bold.nii.gz',\n",
       " '/bcbl/home/public/Gari/MINI/BIDS_BLQfunc_T1/sub-S068/ses-T02/func/sub-S068_ses-T02_task-MINIblock_run-01_bold.nii.gz',\n",
       " '/bcbl/home/public/Gari/MINI/BIDS_BLQfunc_T1/sub-S068/ses-T02/func/sub-S068_ses-T02_task-MINIblock_run-02_bold.nii.gz',\n",
       " '/bcbl/home/public/Gari/MINI/BIDS_BLQfunc_T1/sub-S069/ses-T01/func/sub-S069_ses-T01_task-MINIblock_run-01_bold.nii.gz',\n",
       " '/bcbl/home/public/Gari/MINI/BIDS_BLQfunc_T1/sub-S069/ses-T02/func/sub-S069_ses-T02_task-MINIblock_run-01_bold.nii.gz',\n",
       " '/bcbl/home/public/Gari/MINI/BIDS_BLQfunc_T1/sub-S069/ses-T02/func/sub-S069_ses-T02_task-MINIblock_run-02_bold.nii.gz',\n",
       " '/bcbl/home/public/Gari/MINI/BIDS_BLQfunc_T1/sub-S070/ses-T01/func/sub-S070_ses-T01_task-MINIblock_run-01_bold.nii.gz',\n",
       " '/bcbl/home/public/Gari/MINI/BIDS_BLQfunc_T1/sub-S070/ses-T01/func/sub-S070_ses-T01_task-MINIblock_run-02_bold.nii.gz',\n",
       " '/bcbl/home/public/Gari/MINI/BIDS_BLQfunc_T1/sub-S070/ses-T02/func/sub-S070_ses-T02_task-MINIblock_run-01_bold.nii.gz',\n",
       " '/bcbl/home/public/Gari/MINI/BIDS_BLQfunc_T1/sub-S070/ses-T02/func/sub-S070_ses-T02_task-MINIblock_run-02_bold.nii.gz',\n",
       " '/bcbl/home/public/Gari/MINI/BIDS_BLQfunc_T1/sub-S071/ses-T01/func/sub-S071_ses-T01_task-MINIblock_run-01_bold.nii.gz',\n",
       " '/bcbl/home/public/Gari/MINI/BIDS_BLQfunc_T1/sub-S071/ses-T01/func/sub-S071_ses-T01_task-MINIblock_run-02_bold.nii.gz',\n",
       " '/bcbl/home/public/Gari/MINI/BIDS_BLQfunc_T1/sub-S071/ses-T02/func/sub-S071_ses-T02_task-MINIblock_run-01_bold.nii.gz',\n",
       " '/bcbl/home/public/Gari/MINI/BIDS_BLQfunc_T1/sub-S071/ses-T02/func/sub-S071_ses-T02_task-MINIblock_run-02_bold.nii.gz']"
      ]
     },
     "execution_count": 39,
     "metadata": {},
     "output_type": "execute_result"
    }
   ],
   "source": [
    "func"
   ]
  },
  {
   "cell_type": "code",
   "execution_count": 58,
   "metadata": {},
   "outputs": [
    {
     "name": "stdout",
     "output_type": "stream",
     "text": [
      "For sub-S061, ses-T02, run-01, the fMRI has 188 volumn\n"
     ]
    }
   ],
   "source": [
    "for i in func:\n",
    "    img=nib.load(i)\n",
    "    func_name= i.split('/')[-1].split('_')\n",
    "    sub=func_name[0]\n",
    "    ses=func_name[1]\n",
    "    run=func_name[3]\n",
    "    #print(f'For {sub}, {ses}, {run}, the fMRI has {img.shape[3]} volumn')\n",
    "    if img.shape[3] != 287:\n",
    "        print(f'For {sub}, {ses}, {run}, the fMRI has {img.shape[3]} volumn')\n",
    "    osid_name=mapping.loc[(mapping['BIDS_ses']=='T02') & (mapping['BIDS_sub']=='S061'),'OsirixID'].values[0]\n",
    "    mini_name=mapping.loc[(mapping['BIDS_ses']=='T02') & (mapping['BIDS_sub']=='S061'),'MINID'].values[0]"
   ]
  },
  {
   "cell_type": "code",
   "execution_count": 59,
   "metadata": {},
   "outputs": [
    {
     "data": {
      "text/plain": [
       "'S021_DAY2_MINITWICE_3732'"
      ]
     },
     "execution_count": 59,
     "metadata": {},
     "output_type": "execute_result"
    }
   ],
   "source": [
    "osid_name"
   ]
  },
  {
   "cell_type": "code",
   "execution_count": 60,
   "metadata": {},
   "outputs": [
    {
     "data": {
      "text/plain": [
       "'S091'"
      ]
     },
     "execution_count": 60,
     "metadata": {},
     "output_type": "execute_result"
    }
   ],
   "source": [
    "mini_name"
   ]
  },
  {
   "cell_type": "code",
   "execution_count": null,
   "metadata": {},
   "outputs": [],
   "source": []
  }
 ],
 "metadata": {
  "kernelspec": {
   "display_name": "mini",
   "language": "python",
   "name": "python3"
  },
  "language_info": {
   "codemirror_mode": {
    "name": "ipython",
    "version": 3
   },
   "file_extension": ".py",
   "mimetype": "text/x-python",
   "name": "python",
   "nbconvert_exporter": "python",
   "pygments_lexer": "ipython3",
   "version": "3.10.9"
  }
 },
 "nbformat": 4,
 "nbformat_minor": 2
}
