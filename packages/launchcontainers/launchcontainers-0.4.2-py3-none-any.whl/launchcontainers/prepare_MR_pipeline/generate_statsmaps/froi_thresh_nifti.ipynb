{
 "cells": [
  {
   "cell_type": "code",
   "execution_count": 1,
   "id": "10f937ad-968b-4a26-992e-1c670ae352f3",
   "metadata": {},
   "outputs": [],
   "source": [
    "import os.path as op\n",
    "from os import makedirs\n",
    "import numpy as np\n",
    "from nilearn.image import load_img, new_img_like\n",
    "from nilearn.datasets import fetch_atlas_aal\n",
    "from ants import apply_transforms, image_read, image_write\n",
    "\n",
    "# Define parameters here\n",
    "bids=\"/path/to/nsd_bids/\" # Path to BIDS root\n",
    "fmriprep_dir = op.join(\"derivatives\",\"fmriprep\") # BIDS-relative path to fMRIPrep\n",
    "fitlins_dir = op.join(\"derivatives\",\"fitlins\") # BIDS-relative path to Fitlins\n",
    "subject = \"sub-01\" # Subject name\n",
    "node_name = \"sessionFloc6MP50ACompCor\" # Node name defined by Fitlins model\n",
    "contrast_name = \"charactersGtOther\" # Contrast name defined by Fitlins model\n",
    "percentile = 90 # Find top 10% of voxels in left IFG\n",
    "out_dir = op.join(bids, 'derivatives', 'threshold_fROIs', subject)\n",
    "if not op.exists(out_dir):\n",
    "    makedirs(out_dir)\n",
    "hemi = \"L\"\n",
    "region = \"Fusiform\"\n",
    "aal_regionname = f\"Fusiform_{hemi}\" # Region to extract\n",
    "out_path = op.join(out_dir, f\"{subject}_hemi-{hemi}_space-T1w_contrast-{contrast_name}_stat-z_desc-{region}_desc-thresholded_roi.nii.gz\") # Where to save the output image\n",
    "\n",
    "## Load Z-stat image\n",
    "z_img_path = op.join(bids,fitlins_dir,f\"node-{node_name}\",subject,\n",
    "                          f\"{subject}_contrast-{contrast_name}_stat-z_statmap.nii.gz\")\n",
    "z_img = load_img(z_img_path)\n",
    "z_img_affine = z_img.affine # Affine matrix\n",
    "z_img_values = z_img.get_fdata() # Array of data"
   ]
  },
  {
   "cell_type": "code",
   "execution_count": 2,
   "id": "17ea0521-a048-445e-bea6-1fa11f4c6219",
   "metadata": {},
   "outputs": [],
   "source": [
    "### Register the AAL atlas to native space using ANTs\n",
    "\n",
    "# Load the Z-stat img in a way that ANTs likes\n",
    "z_img_ants = image_read(z_img_path)\n",
    "\n",
    "# Download the AAL atlas\n",
    "AAL = fetch_atlas_aal()\n",
    "AAL_MNI_path = AAL.maps\n",
    "AAL_MNI = image_read(AAL_MNI_path)\n",
    "\n",
    "# Find the MNI-to-Native space transformation from fMRIPrep\n",
    "MNI2Native_reg = op.join(bids,fmriprep_dir,subject,\"anat\",f\"{subject}_from-MNI152NLin2009cAsym_to-T1w_mode-image_xfm.h5\")\n",
    "\n",
    "# Run the registration and save out the image\n",
    "AAL_native_path = op.join(bids,fmriprep_dir,subject,\"anat\",f\"{subject}_desc-AAL_dseg.nii.gz\") # Where to save registered atlas\n",
    "AAL_native = apply_transforms(z_img_ants, AAL_MNI, transformlist=[MNI2Native_reg], interpolator=\"nearestNeighbor\")\n",
    "image_write(AAL_native, AAL_native_path)"
   ]
  },
  {
   "cell_type": "code",
   "execution_count": 3,
   "id": "db45fa92-72a1-4f99-86da-ce12784fc1ec",
   "metadata": {},
   "outputs": [],
   "source": [
    "### Get binary mask of the region\n",
    "\n",
    "# Get index of AAL labels that contains \"Fusiform_L\"\n",
    "region_index = AAL.labels.index(aal_regionname)\n",
    "region_value = np.asarray(AAL.indices)[region_index].astype(int)\n",
    "segmentation = load_img(AAL_native_path) # Load out native space segmentation\n",
    "segmentation_values = segmentation.get_fdata()\n",
    "# Make binary mask of all region values\n",
    "region_mask_vals = np.full(np.shape(segmentation_values), False)\n",
    "region_mask_vals[segmentation_values==region_value] = True\n",
    "region_mask = new_img_like(z_img, region_mask_vals, affine=z_img_affine, copy_header=True)"
   ]
  },
  {
   "cell_type": "code",
   "execution_count": 4,
   "id": "71d11b11-4f37-45b3-89c1-1d8dd303fc37",
   "metadata": {},
   "outputs": [],
   "source": [
    "### Find top 10% of values in region\n",
    "z_img_values_masked = z_img_values[region_mask_vals]\n",
    "percentile_thresh = np.percentile(z_img_values_masked, percentile) # The critical threshold\n",
    "z_inds_gt_thresh_in_mask = (z_img_values>=percentile_thresh) * region_mask_vals\n",
    "z_img_masked_thresholded = new_img_like(z_img, z_inds_gt_thresh_in_mask, affine=z_img_affine, copy_header=True)\n",
    "z_img_masked_thresholded.to_filename(out_path) # Save the image out"
   ]
  }
 ],
 "metadata": {
  "kernelspec": {
   "display_name": "Python 3 (ipykernel)",
   "language": "python",
   "name": "python3"
  },
  "language_info": {
   "codemirror_mode": {
    "name": "ipython",
    "version": 3
   },
   "file_extension": ".py",
   "mimetype": "text/x-python",
   "name": "python",
   "nbconvert_exporter": "python",
   "pygments_lexer": "ipython3",
   "version": "3.11.6"
  }
 },
 "nbformat": 4,
 "nbformat_minor": 5
}
