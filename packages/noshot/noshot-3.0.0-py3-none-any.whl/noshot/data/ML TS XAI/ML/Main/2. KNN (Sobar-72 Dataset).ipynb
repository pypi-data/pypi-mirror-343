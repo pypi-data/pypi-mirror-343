{
 "cells": [
  {
   "cell_type": "code",
   "execution_count": null,
   "id": "10424106",
   "metadata": {
    "id": "10424106"
   },
   "outputs": [],
   "source": [
    "import numpy as np\n",
    "import pandas as pd\n",
    "import seaborn as sns\n",
    "import matplotlib.pyplot as plt"
   ]
  },
  {
   "cell_type": "code",
   "execution_count": null,
   "id": "0fc5ef2f",
   "metadata": {
    "id": "0fc5ef2f",
    "outputId": "a217f653-0c3c-42cd-c9c0-21b11c178506"
   },
   "outputs": [],
   "source": [
    "df=pd.read_csv(\"data/sobar-72.csv\")\n",
    "print(\"Shape:\", df.shape)\n",
    "df.head()"
   ]
  },
  {
   "cell_type": "code",
   "execution_count": null,
   "id": "4eec711d",
   "metadata": {
    "id": "4eec711d",
    "outputId": "a15e9bfc-b965-4e95-e7a4-0052839233f3"
   },
   "outputs": [],
   "source": [
    "df.columns"
   ]
  },
  {
   "cell_type": "code",
   "execution_count": null,
   "id": "4e39de4e",
   "metadata": {
    "id": "4e39de4e",
    "outputId": "348e3927-e93a-4b96-e78f-a2d022497da9"
   },
   "outputs": [],
   "source": [
    "df.info()"
   ]
  },
  {
   "cell_type": "code",
   "execution_count": null,
   "id": "7675bf00",
   "metadata": {
    "id": "7675bf00",
    "outputId": "3165d249-d062-4fa3-cf46-21452ad4aa42"
   },
   "outputs": [],
   "source": [
    "df.isnull().sum()"
   ]
  },
  {
   "cell_type": "code",
   "execution_count": null,
   "id": "1f10d8bd",
   "metadata": {
    "id": "1f10d8bd",
    "outputId": "e279942f-eb05-488a-84df-081f41c20a09"
   },
   "outputs": [],
   "source": [
    "cols = ['behavior_sexualRisk', 'intention_aggregation', 'attitude_consistency',\n",
    "        'norm_significantPerson', 'perception_vulnerability', 'motivation_strength',\n",
    "        'socialSupport_emotionality', 'empowerment_knowledge', 'ca_cervix']\n",
    "sns.pairplot(df[cols], hue='ca_cervix')"
   ]
  },
  {
   "cell_type": "code",
   "execution_count": null,
   "id": "3ae73b60-e7a5-4637-8c1d-94deb6ee1336",
   "metadata": {},
   "outputs": [],
   "source": [
    "X = df.drop(columns=['ca_cervix'])\n",
    "y = df['ca_cervix']"
   ]
  },
  {
   "cell_type": "code",
   "execution_count": null,
   "id": "e840e811",
   "metadata": {
    "id": "e840e811",
    "outputId": "21fe4718-db07-4188-bdce-10d7436eaa53"
   },
   "outputs": [],
   "source": [
    "import sklearn\n",
    "from sklearn import metrics\n",
    "from sklearn.neighbors import KNeighborsClassifier\n",
    "from sklearn.model_selection import train_test_split\n",
    "from sklearn.preprocessing import StandardScaler\n",
    "from sklearn.decomposition import PCA\n",
    "from mlxtend.plotting import plot_decision_regions\n",
    "\n",
    "x = StandardScaler().fit_transform(X)\n",
    "pca = PCA(n_components=2)\n",
    "x = pca.fit_transform(x)\n",
    "\n",
    "X_train, X_test, y_train, y_test = train_test_split(x, y, test_size=0.4, random_state = 4)\n",
    "\n",
    "similarities=['euclidean','manhattan','minkowski']\n",
    "for sim in similarities:\n",
    "    knn = KNeighborsClassifier(n_neighbors=5, metric=sim)\n",
    "    knn.fit(X_train, y_train)\n",
    "    y_pred = knn.predict(X_test)\n",
    "    print(\"Accuracy:\", metrics.accuracy_score(y_test, y_pred))\n",
    "    print(\"Distance Type:\", sim.capitalize())\n",
    "    plot_decision_regions(X_train, np.array(y_train), clf=knn, legend=2)\n",
    "    plt.xlabel('X')\n",
    "    plt.ylabel('Y')\n",
    "    plt.title('KNN with K=5 using '+str.capitalize(sim))\n",
    "    plt.show()"
   ]
  },
  {
   "cell_type": "code",
   "execution_count": null,
   "id": "add0277c",
   "metadata": {
    "id": "add0277c",
    "outputId": "d82e7303-9d59-4f80-8d37-8f7cda39874a"
   },
   "outputs": [],
   "source": [
    "X, Y = [], []\n",
    "for i in range(1,10):\n",
    "    knn = KNeighborsClassifier(n_neighbors = int(i))\n",
    "    knn.fit(X_train, y_train)\n",
    "    X.append(int(i))\n",
    "    Y.append(metrics.accuracy_score(y_test, y_pred))\n",
    "\n",
    "plt.figure(figsize=(4,2))\n",
    "plt.plot(X, Y)\n",
    "plt.title('K Value vs Accuracy')\n",
    "plt.show()\n",
    "Y"
   ]
  },
  {
   "cell_type": "code",
   "execution_count": null,
   "id": "99411067",
   "metadata": {
    "id": "99411067",
    "outputId": "6f229212-5383-425f-c121-5cd27e6cd310"
   },
   "outputs": [],
   "source": [
    "plt.scatter(X_test[:,0], X_test[:,1], c=y_pred)\n",
    "plt.grid()\n",
    "plt.show()"
   ]
  },
  {
   "cell_type": "code",
   "execution_count": null,
   "id": "13bf2047",
   "metadata": {
    "id": "13bf2047",
    "outputId": "7f1a3184-c04e-44f8-a471-10d38e68e5ea"
   },
   "outputs": [],
   "source": [
    "from scipy.cluster.hierarchy import dendrogram, linkage\n",
    "\n",
    "unique_labels = np.unique(y)\n",
    "label_mapping = {label: i for i, label in enumerate(unique_labels)}\n",
    "new_y = np.array([label_mapping[label] for label in y])\n",
    "linked = linkage(x, 'single')\n",
    "\n",
    "plt.figure(figsize=(10, 7))\n",
    "dendrogram(linked,\n",
    "           orientation='top',\n",
    "           distance_sort='descending',\n",
    "           labels=new_y,\n",
    "           show_leaf_counts=True)\n",
    "plt.title('Dendrogram for KNN')\n",
    "plt.xlabel('Data Points')\n",
    "plt.ylabel('Distance')\n",
    "plt.show()"
   ]
  },
  {
   "cell_type": "code",
   "execution_count": null,
   "id": "ff0ac60f",
   "metadata": {
    "id": "ff0ac60f",
    "outputId": "31b575f3-f8e7-42ff-d01f-69f86e7d9fd0"
   },
   "outputs": [],
   "source": [
    "from scipy.spatial import Voronoi, voronoi_plot_2d\n",
    "\n",
    "vor = Voronoi(x)\n",
    "fig = voronoi_plot_2d(vor, show_vertices=False, line_colors='black', line_width=2, line_alpha=0.6, point_size=10)\n",
    "plt.scatter(x[:, 0], x[:, 1], c=y, cmap='viridis', s=50, edgecolors='black')  # Color points by target variable\n",
    "plt.title('Voronoi Diagram with Target Variable')\n",
    "plt.xlabel('X')\n",
    "plt.ylabel('Y')\n",
    "plt.show()"
   ]
  }
 ],
 "metadata": {
  "colab": {
   "provenance": []
  },
  "kernelspec": {
   "display_name": "Python 3 (ipykernel)",
   "language": "python",
   "name": "python3"
  },
  "language_info": {
   "codemirror_mode": {
    "name": "ipython",
    "version": 3
   },
   "file_extension": ".py",
   "mimetype": "text/x-python",
   "name": "python",
   "nbconvert_exporter": "python",
   "pygments_lexer": "ipython3",
   "version": "3.12.4"
  }
 },
 "nbformat": 4,
 "nbformat_minor": 5
}
