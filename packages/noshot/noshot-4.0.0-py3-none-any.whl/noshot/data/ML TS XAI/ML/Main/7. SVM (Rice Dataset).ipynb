{
 "cells": [
  {
   "cell_type": "code",
   "execution_count": null,
   "id": "30043339",
   "metadata": {},
   "outputs": [],
   "source": [
    "import pandas as pd\n",
    "import numpy as np\n",
    "import seaborn as sns\n",
    "import matplotlib.pyplot as plt\n",
    "\n",
    "from sklearn.model_selection import train_test_split\n",
    "from sklearn.metrics import accuracy_score\n",
    "from sklearn.preprocessing import MinMaxScaler\n",
    "from sklearn.decomposition import PCA\n",
    "from sklearn import svm\n",
    "from sklearn.svm import SVC\n",
    "from scipy.io import arff"
   ]
  },
  {
   "cell_type": "code",
   "execution_count": null,
   "id": "74c26fca",
   "metadata": {},
   "outputs": [],
   "source": [
    "data = arff.loadarff(\"data/rice.arff\")\n",
    "df = pd.DataFrame(data[0])\n",
    "df.head()"
   ]
  },
  {
   "cell_type": "code",
   "execution_count": null,
   "id": "51439c01",
   "metadata": {},
   "outputs": [],
   "source": [
    "df.info()"
   ]
  },
  {
   "cell_type": "code",
   "execution_count": null,
   "id": "03e7a5d4",
   "metadata": {},
   "outputs": [],
   "source": [
    "df['Class'].unique()"
   ]
  },
  {
   "cell_type": "code",
   "execution_count": null,
   "id": "cf14dcf8",
   "metadata": {},
   "outputs": [],
   "source": [
    "df['Class'] = df['Class'].map({b'Cammeo':0, b'Osmancik':1})\n",
    "df['Class'].unique()"
   ]
  },
  {
   "cell_type": "code",
   "execution_count": null,
   "id": "dba18b10",
   "metadata": {},
   "outputs": [],
   "source": [
    "df.isnull().sum()"
   ]
  },
  {
   "cell_type": "code",
   "execution_count": null,
   "id": "246346b1",
   "metadata": {},
   "outputs": [],
   "source": [
    "X = df.drop(columns=['Class'])\n",
    "y = df['Class']"
   ]
  },
  {
   "cell_type": "code",
   "execution_count": null,
   "id": "d182a204",
   "metadata": {},
   "outputs": [],
   "source": [
    "X = PCA(n_components=2).fit_transform(X)"
   ]
  },
  {
   "cell_type": "code",
   "execution_count": null,
   "id": "f8e67728",
   "metadata": {},
   "outputs": [],
   "source": [
    "X.shape"
   ]
  },
  {
   "cell_type": "code",
   "execution_count": null,
   "id": "99facee4",
   "metadata": {},
   "outputs": [],
   "source": [
    "plt.scatter(X[:,0], X[:,1], c=y, edgecolor=\"black\")\n",
    "plt.show()"
   ]
  },
  {
   "cell_type": "code",
   "execution_count": null,
   "id": "23da86fe-1c5d-4f57-ab29-a2bb6b060783",
   "metadata": {},
   "outputs": [],
   "source": [
    "X_train, X_test, y_train, y_test = train_test_split(X, y, test_size=0.2, random_state=42)"
   ]
  },
  {
   "cell_type": "code",
   "execution_count": null,
   "id": "903cccff",
   "metadata": {},
   "outputs": [],
   "source": [
    "models=[\n",
    "    SVC(kernel='linear', C=1, degree=5, gamma=\"auto\", probability=True),\n",
    "    SVC(kernel='rbf', C=1, gamma='scale', probability=True),\n",
    "    SVC(kernel='poly', C=1, degree=5, gamma=\"auto\", probability=True)\n",
    "]"
   ]
  },
  {
   "cell_type": "code",
   "execution_count": null,
   "id": "ff7b81e7",
   "metadata": {},
   "outputs": [],
   "source": [
    "from sklearn.preprocessing import StandardScaler\n",
    "from sklearn.pipeline import make_pipeline\n",
    "from sklearn.metrics import classification_report,confusion_matrix,ConfusionMatrixDisplay\n",
    "from sklearn.metrics import roc_curve, auc\n",
    "from mlxtend.plotting import plot_decision_regions\n",
    "\n",
    "for model in models:\n",
    "    nonlinear_svm = make_pipeline(StandardScaler(), model)\n",
    "    nonlinear_svm.fit(X_train, y_train)\n",
    "    y_pred = nonlinear_svm.predict(X_test)\n",
    "    print(\"SVM Classification Report:\")\n",
    "    print(classification_report(y_test, y_pred))\n",
    "    print(f\"Accuracy: {accuracy_score(y_test, y_pred):.2f}\")\n",
    "    plot_decision_regions(X=X_train, \n",
    "                          y=y_train.values,\n",
    "                          clf=nonlinear_svm, \n",
    "                          legend=2)\n",
    "\n",
    "    plt.title('SVM Decision Region Boundary', size=16)\n",
    "    plt.show()\n",
    "    conf=confusion_matrix(y_test,y_pred)\n",
    "    ConfusionMatrixDisplay(conf,display_labels=[0,1]).plot(cmap='Blues')\n",
    "    plt.show()\n",
    "    y_pred_proba=nonlinear_svm.predict_proba(X_test)[:,1]\n",
    "    fpr, tpr, thresholds = roc_curve(y_test, y_pred_proba) \n",
    "    roc_auc = auc(fpr, tpr)\n",
    "    \n",
    "    plt.plot(fpr, tpr, label='ROC curve (area = %0.2f)' % roc_auc)\n",
    "    plt.plot([0, 1], [0, 1], 'k--', label='No Skill')\n",
    "    plt.xlabel('False Positive Rate')\n",
    "    plt.ylabel('True Positive Rate')\n",
    "    plt.title('ROC Curve for Rice Classification')\n",
    "    plt.legend()\n",
    "    plt.show()"
   ]
  }
 ],
 "metadata": {
  "kernelspec": {
   "display_name": "Python 3 (ipykernel)",
   "language": "python",
   "name": "python3"
  },
  "language_info": {
   "codemirror_mode": {
    "name": "ipython",
    "version": 3
   },
   "file_extension": ".py",
   "mimetype": "text/x-python",
   "name": "python",
   "nbconvert_exporter": "python",
   "pygments_lexer": "ipython3",
   "version": "3.12.4"
  }
 },
 "nbformat": 4,
 "nbformat_minor": 5
}
