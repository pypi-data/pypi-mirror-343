{
 "cells": [
  {
   "cell_type": "code",
   "execution_count": null,
   "id": "4e998aac",
   "metadata": {},
   "outputs": [],
   "source": [
    "import numpy as np\n",
    "import pandas as pd\n",
    "import seaborn as sns\n",
    "import matplotlib.pyplot as plt\n",
    "from sklearn.model_selection import train_test_split"
   ]
  },
  {
   "cell_type": "code",
   "execution_count": null,
   "id": "7fef393a",
   "metadata": {},
   "outputs": [],
   "source": [
    "df=pd.read_excel(\"data/real-estate.xlsx\")\n",
    "print(\"Shape:\", df.shape)\n",
    "df.head()"
   ]
  },
  {
   "cell_type": "code",
   "execution_count": null,
   "id": "18f866b3",
   "metadata": {},
   "outputs": [],
   "source": [
    "df.isnull().sum()"
   ]
  },
  {
   "cell_type": "code",
   "execution_count": null,
   "id": "c238436e",
   "metadata": {},
   "outputs": [],
   "source": [
    "sns.pairplot(df)"
   ]
  },
  {
   "cell_type": "code",
   "execution_count": null,
   "id": "480aa3b6",
   "metadata": {},
   "outputs": [],
   "source": [
    "corr = df.corr()\n",
    "sns.heatmap(corr)"
   ]
  },
  {
   "cell_type": "code",
   "execution_count": null,
   "id": "7fe55d8d",
   "metadata": {},
   "outputs": [],
   "source": [
    "def lin_reg(colX):\n",
    "    X = df[colX].values\n",
    "    y = df['Y house price of unit area'].values\n",
    "\n",
    "    X_train, X_test, y_train, y_test = train_test_split(X, y, test_size=0.2, random_state=42)\n",
    "\n",
    "    N = len(X_train)\n",
    "    sum_x = np.sum(X_train)\n",
    "    sum_y = np.sum(y_train)\n",
    "    sum_xy = np.sum(X_train * y_train)\n",
    "    sum_x2 = np.sum(X_train ** 2)\n",
    "\n",
    "    beta1 = (N * sum_xy - sum_x * sum_y) / (N * sum_x2 - sum_x ** 2)\n",
    "    beta0 = (sum_y - beta1 * sum_x) / N\n",
    "\n",
    "    y_pred_train = beta1 * X_train + beta0\n",
    "    y_pred_test = beta1 * X_test + beta0\n",
    "\n",
    "    plt.scatter(X_train, y_train, color='blue', label='Training Data Points')\n",
    "    plt.plot(X_train, y_pred_train, color='red', label='Regression Line (Training)')\n",
    "    plt.xlabel(colX)\n",
    "    plt.ylabel('Y house price of unit area')\n",
    "    plt.title(f'Linear Regression: {colX} vs Y (Training Set)')\n",
    "    plt.legend()\n",
    "    plt.show()\n",
    "\n",
    "    plt.scatter(X_test, y_test, color='blue', label='Test Data Points')\n",
    "    plt.plot(X_test, y_pred_test, color='red', label='Regression Line (Test)')\n",
    "    plt.xlabel(colX)\n",
    "    plt.ylabel('Y house price of unit area')\n",
    "    plt.title(f'Linear Regression: {colX} vs Y (Test Set)')\n",
    "    plt.legend()\n",
    "    plt.show()\n",
    "\n",
    "    mse_train = np.mean((y_train - y_pred_train) ** 2)\n",
    "    mse_test = np.mean((y_test - y_pred_test) ** 2)\n",
    "    print(f\"Mean Squared Error (MSE) for Training Set: {mse_train}\")\n",
    "    print(f\"Mean Squared Error (MSE) for Test Set: {mse_test}\")"
   ]
  },
  {
   "cell_type": "code",
   "execution_count": null,
   "id": "8d80579a",
   "metadata": {},
   "outputs": [],
   "source": [
    "lin_reg('X3 distance to the nearest MRT station')"
   ]
  },
  {
   "cell_type": "code",
   "execution_count": null,
   "id": "6b162be8",
   "metadata": {},
   "outputs": [],
   "source": [
    "lin_reg('X5 latitude')"
   ]
  },
  {
   "cell_type": "code",
   "execution_count": null,
   "id": "7b576d0a",
   "metadata": {},
   "outputs": [],
   "source": [
    "lin_reg('X6 longitude')"
   ]
  }
 ],
 "metadata": {
  "kernelspec": {
   "display_name": "Python 3 (ipykernel)",
   "language": "python",
   "name": "python3"
  },
  "language_info": {
   "codemirror_mode": {
    "name": "ipython",
    "version": 3
   },
   "file_extension": ".py",
   "mimetype": "text/x-python",
   "name": "python",
   "nbconvert_exporter": "python",
   "pygments_lexer": "ipython3",
   "version": "3.12.4"
  }
 },
 "nbformat": 4,
 "nbformat_minor": 5
}
