{
 "cells": [
  {
   "cell_type": "code",
   "execution_count": null,
   "metadata": {
    "colab": {
     "base_uri": "https://localhost:8080/"
    },
    "id": "GrBOlID9_Jiz",
    "outputId": "f547fe18-4b89-4b41-928d-4fcc75fe5916"
   },
   "outputs": [],
   "source": [
    "transition = {\"AtoA\":0.7,\"AtoB\":0.3,\"BtoA\":0.5,\"BtoB\":0.5}\n",
    "emission = {\"A\":{\"S1\":0.6,\"S2\":0.1,\"S3\":0.3},\"B\":{\"S1\":0.1,\"S2\":0.7,\"S3\":0.2}}\n",
    "pi=(1,0)\n",
    "\n",
    "a,b=pi\n",
    "alpha1=[a]\n",
    "alpha2=[b]\n",
    "for i in [\"S3\",\"S2\",\"S1\"]:\n",
    "    temp1=[]\n",
    "    temp2=[]\n",
    "    for j in [\"AtoA\",\"AtoB\",\"BtoA\",\"BtoB\"]:\n",
    "        if j.endswith(\"A\"):\n",
    "            if j.startswith(\"A\"): temp1.append(a*transition[j]*emission[\"A\"][i])\n",
    "            else: temp1.append(b*transition[j]*emission[\"B\"][i])\n",
    "        else:\n",
    "            if j.startswith(\"A\"): temp2.append(a*transition[j]*emission[\"A\"][i])\n",
    "            else: temp2.append(b*transition[j]*emission[\"B\"][i])\n",
    "    a=sum(temp1)\n",
    "    b=sum(temp2)\n",
    "    alpha1.append(a)\n",
    "    alpha2.append(b)\n",
    "    temp1.clear()\n",
    "    temp2.clear()\n",
    "    if i==\"S1\": print(\"Using Forward Chaining:\",round(a+b,4))\n",
    "print(alpha1,\"\\n\",alpha2)"
   ]
  },
  {
   "cell_type": "code",
   "execution_count": null,
   "metadata": {
    "colab": {
     "base_uri": "https://localhost:8080/"
    },
    "id": "Ywqsib8v_zM7",
    "outputId": "0b4359a0-276d-4d41-beb7-a0e5c9d8fe41"
   },
   "outputs": [],
   "source": [
    "transition={\"AtoA\":0.7,\"AtoB\":0.3,\"BtoA\":0.5,\"BtoB\":0.5}\n",
    "emission={\"A\":{\"S1\":0.6,\"S2\":0.1,\"S3\":0.3},\"B\":{\"S1\":0.1,\"S2\":0.7,\"S3\":0.2}}\n",
    "pi=(1,1)\n",
    "\n",
    "beta1=[]\n",
    "beta2=[]\n",
    "a,b=pi\n",
    "for i in reversed([\"S3\",\"S2\",\"S1\"]):\n",
    "    temp1=[]\n",
    "    temp2=[]\n",
    "    for j in [\"AtoA\",\"AtoB\",\"BtoA\",\"BtoB\"]:\n",
    "        if j.startswith(\"A\"):\n",
    "            if j.endswith(\"A\"): temp1.append(a*transition[j]*emission[\"A\"][i])\n",
    "            else: temp1.append(b*transition[j]*emission[\"A\"][i])\n",
    "        else:\n",
    "            if j.endswith(\"A\"): temp2.append(a*transition[j]*emission[\"B\"][i])\n",
    "            else: temp2.append(b*transition[j]*emission[\"B\"][i])\n",
    "    a=sum(temp1)\n",
    "    b=sum(temp2)\n",
    "    beta1.append(a)\n",
    "    beta2.append(b)\n",
    "    temp1.clear()\n",
    "    temp2.clear()\n",
    "    if i==\"S3\": print(\"Using Backward Chaining:\",round(a,4))\n",
    "print(beta1,\"\\n\",beta2)"
   ]
  },
  {
   "cell_type": "code",
   "execution_count": null,
   "metadata": {
    "colab": {
     "base_uri": "https://localhost:8080/"
    },
    "id": "waKP0k73_1yn",
    "outputId": "1427045a-2118-4a11-938c-f5e54e63fe80"
   },
   "outputs": [],
   "source": [
    "transition={\"AtoA\":0.7,\"AtoB\":0.3,\"BtoA\":0.5,\"BtoB\":0.5}\n",
    "emission={\"A\":{\"S1\":0.6,\"S2\":0.1,\"S3\":0.3},\"B\":{\"S1\":0.1,\"S2\":0.7,\"S3\":0.2}}\n",
    "pi=(1,0)\n",
    "\n",
    "a,b=pi\n",
    "delta1=[a]\n",
    "delta2=[b]\n",
    "chi=[]\n",
    "for i in [\"S3\",\"S2\",\"S1\"]:\n",
    "    temp1=[]\n",
    "    temp2=[]\n",
    "    temp3={}\n",
    "    for j in [\"AtoA\",\"AtoB\",\"BtoA\",\"BtoB\"]:\n",
    "        if j.endswith(\"A\"):\n",
    "            if j.startswith(\"A\"): temp1.append(a*transition[j]*emission[\"A\"][i])\n",
    "            else: temp1.append(b*transition[j]*emission[\"B\"][i])\n",
    "        else:\n",
    "            if j.startswith(\"A\"): temp2.append(a*transition[j]*emission[\"A\"][i])\n",
    "            else: temp2.append(b*transition[j]*emission[\"B\"][i])\n",
    "    a=max(temp1)\n",
    "    b=max(temp2)\n",
    "    temp3[a]=\"A\"\n",
    "    temp3[b]=\"B\"\n",
    "    delta1.append(a)\n",
    "    delta2.append(b)\n",
    "    chi.append(temp3[max(temp3.keys())])\n",
    "    temp1.clear()\n",
    "    temp2.clear()\n",
    "    if i==\"S1\":\n",
    "        print(\"Using Veterbi Algorithm:\",round(max(a,b),4))\n",
    "        print(\"Best Sequence:\")\n",
    "        for i in chi: print(i,end=\"->\")\n",
    "        print(temp3[max(temp3.keys())])\n",
    "print(delta1)\n",
    "print(delta2)"
   ]
  },
  {
   "cell_type": "code",
   "execution_count": null,
   "metadata": {
    "colab": {
     "base_uri": "https://localhost:8080/",
     "height": 36
    },
    "id": "pU0-CxGx_4Gz",
    "outputId": "97bbaadc-83d8-4b86-89e7-f67e347adfb0"
   },
   "outputs": [],
   "source": [
    "from graphviz import Digraph\n",
    "\n",
    "states = ['A', 'B']\n",
    "observations = ['S1', 'S2', 'S3']\n",
    "\n",
    "dot = Digraph(comment='HMM')\n",
    "\n",
    "for state in states:\n",
    "    dot.node(state, state)\n",
    "\n",
    "for from_state in states:\n",
    "    for to_state in states:\n",
    "        transition_prob = transition[from_state + 'to' + to_state]\n",
    "        dot.edge(from_state, to_state, label=str(transition_prob))\n",
    "\n",
    "for state in states:\n",
    "    for observation in observations:\n",
    "        emission_prob = emission[state][observation]\n",
    "        dot.edge(state, observation, label=str(emission_prob), style='dashed')\n",
    "\n",
    "dot.render('hmm', view=True)"
   ]
  },
  {
   "cell_type": "code",
   "execution_count": null,
   "metadata": {
    "colab": {
     "base_uri": "https://localhost:8080/",
     "height": 513
    },
    "id": "qBU_NokB_679",
    "outputId": "d3b086cb-92d6-4941-de26-137888b1a2d1"
   },
   "outputs": [],
   "source": [
    "import networkx as nx\n",
    "import matplotlib.pyplot as plt\n",
    "graph = nx.DiGraph()\n",
    "\n",
    "graph.add_nodes_from(states)\n",
    "for from_state in states:\n",
    "    for to_state in states:\n",
    "        transition_prob = transition[from_state + 'to' + to_state]\n",
    "        graph.add_edge(from_state, to_state, weight=transition_prob, label=str(transition_prob))\n",
    "\n",
    "for state in states:\n",
    "    for observation in observations:\n",
    "        emission_prob = emission[state][observation]\n",
    "        graph.add_edge(state, observation, weight=emission_prob, label=str(emission_prob), style='dashed')\n",
    "pos = nx.spring_layout(graph)\n",
    "edge_labels = nx.get_edge_attributes(graph, 'label')\n",
    "\n",
    "nx.draw(graph, pos, with_labels=True, node_size=1500, node_color=\"skyblue\", font_size=12, font_weight='bold')\n",
    "nx.draw_networkx_edge_labels(graph, pos, edge_labels=edge_labels, font_size=10)\n",
    "\n",
    "plt.title(\"Hidden Markov Model\")\n",
    "plt.show()"
   ]
  }
 ],
 "metadata": {
  "colab": {
   "provenance": []
  },
  "kernelspec": {
   "display_name": "Python 3 (ipykernel)",
   "language": "python",
   "name": "python3"
  },
  "language_info": {
   "codemirror_mode": {
    "name": "ipython",
    "version": 3
   },
   "file_extension": ".py",
   "mimetype": "text/x-python",
   "name": "python",
   "nbconvert_exporter": "python",
   "pygments_lexer": "ipython3",
   "version": "3.12.4"
  }
 },
 "nbformat": 4,
 "nbformat_minor": 4
}
