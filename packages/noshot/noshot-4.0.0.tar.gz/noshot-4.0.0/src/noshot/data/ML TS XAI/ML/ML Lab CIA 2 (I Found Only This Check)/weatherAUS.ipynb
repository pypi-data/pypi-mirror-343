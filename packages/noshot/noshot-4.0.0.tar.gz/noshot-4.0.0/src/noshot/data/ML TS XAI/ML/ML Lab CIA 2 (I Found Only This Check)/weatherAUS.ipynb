{
  "nbformat": 4,
  "nbformat_minor": 0,
  "metadata": {
    "colab": {
      "provenance": []
    },
    "kernelspec": {
      "name": "python3",
      "display_name": "Python 3"
    },
    "language_info": {
      "name": "python"
    }
  },
  "cells": [
    {
      "cell_type": "markdown",
      "source": [
        "1.\tDesign a custom 4-layer feed forward neural network for the weather prediction dataset. Modify your model to include L2 regularization on all hidden layers."
      ],
      "metadata": {
        "id": "41vyXTdsmm3h"
      }
    },
    {
      "cell_type": "code",
      "execution_count": 3,
      "metadata": {
        "colab": {
          "base_uri": "https://localhost:8080/"
        },
        "id": "HOFKtDK0kHT9",
        "outputId": "5366de78-d21f-4462-e430-327c4d38bb1e"
      },
      "outputs": [
        {
          "output_type": "stream",
          "name": "stdout",
          "text": [
            "Epoch 1/20, Loss: 0.7105\n",
            "Epoch 2/20, Loss: 0.7018\n",
            "Epoch 3/20, Loss: 0.6926\n",
            "Epoch 4/20, Loss: 0.6830\n",
            "Epoch 5/20, Loss: 0.6730\n",
            "Epoch 6/20, Loss: 0.6629\n",
            "Epoch 7/20, Loss: 0.6525\n",
            "Epoch 8/20, Loss: 0.6419\n",
            "Epoch 9/20, Loss: 0.6308\n",
            "Epoch 10/20, Loss: 0.6192\n",
            "Epoch 11/20, Loss: 0.6071\n",
            "Epoch 12/20, Loss: 0.5944\n",
            "Epoch 13/20, Loss: 0.5811\n",
            "Epoch 14/20, Loss: 0.5673\n",
            "Epoch 15/20, Loss: 0.5531\n",
            "Epoch 16/20, Loss: 0.5387\n",
            "Epoch 17/20, Loss: 0.5241\n",
            "Epoch 18/20, Loss: 0.5096\n",
            "Epoch 19/20, Loss: 0.4954\n",
            "Epoch 20/20, Loss: 0.4817\n",
            "\n",
            "Test Accuracy: 0.7860\n",
            "\n",
            "Classification Report:\n",
            "               precision    recall  f1-score   support\n",
            "\n",
            "         0.0       0.78      1.00      0.88     10588\n",
            "         1.0       1.00      0.04      0.08      3035\n",
            "\n",
            "    accuracy                           0.79     13623\n",
            "   macro avg       0.89      0.52      0.48     13623\n",
            "weighted avg       0.83      0.79      0.70     13623\n",
            "\n"
          ]
        }
      ],
      "source": [
        "import pandas as pd\n",
        "import numpy as np\n",
        "from sklearn.model_selection import train_test_split\n",
        "from sklearn.preprocessing import LabelEncoder, StandardScaler\n",
        "from sklearn.metrics import accuracy_score, classification_report\n",
        "import torch\n",
        "import torch.nn as nn\n",
        "import torch.nn.functional as F\n",
        "\n",
        "df = pd.read_csv(\"weatherAUS.csv\", on_bad_lines='skip')\n",
        "\n",
        "df = df.dropna(subset=[\"RainTomorrow\"])\n",
        "\n",
        "num_cols = df.select_dtypes(include=[\"float64\", \"int64\"]).columns\n",
        "df[num_cols] = df[num_cols].fillna(df[num_cols].median())\n",
        "\n",
        "cat_cols = df.select_dtypes(include=[\"object\"]).columns\n",
        "df[cat_cols] = df[cat_cols].fillna(df[cat_cols].mode().iloc[0])\n",
        "\n",
        "le_dict = {}\n",
        "for col in cat_cols:\n",
        "    le = LabelEncoder()\n",
        "    df[col] = le.fit_transform(df[col])\n",
        "    le_dict[col] = le\n",
        "\n",
        "X = df.drop(\"RainTomorrow\", axis=1)\n",
        "y = df[\"RainTomorrow\"]\n",
        "\n",
        "scaler = StandardScaler()\n",
        "X = scaler.fit_transform(X)\n",
        "\n",
        "X_train, X_test, y_train, y_test = train_test_split(X, y, test_size=0.2, random_state=42)\n",
        "\n",
        "X_train = torch.tensor(X_train, dtype=torch.float32)\n",
        "y_train = torch.tensor(y_train.values, dtype=torch.float32).view(-1, 1)\n",
        "X_test = torch.tensor(X_test, dtype=torch.float32)\n",
        "y_test = torch.tensor(y_test.values, dtype=torch.float32).view(-1, 1)\n",
        "\n",
        "class WeatherPredictor(nn.Module):\n",
        "    def __init__(self, input_size):\n",
        "        super(WeatherPredictor, self).__init__()\n",
        "        self.fc1 = nn.Linear(input_size, 128)\n",
        "        self.fc2 = nn.Linear(128, 64)\n",
        "        self.fc3 = nn.Linear(64, 32)\n",
        "        self.fc4 = nn.Linear(32, 1)\n",
        "\n",
        "    def forward(self, x):\n",
        "        x = F.relu(self.fc1(x))\n",
        "        x = F.relu(self.fc2(x))\n",
        "        x = F.relu(self.fc3(x))\n",
        "        x = torch.sigmoid(self.fc4(x))\n",
        "        return x\n",
        "\n",
        "model = WeatherPredictor(input_size=X_train.shape[1])\n",
        "criterion = nn.BCELoss()\n",
        "optimizer = torch.optim.Adam(model.parameters(), lr=0.001, weight_decay=1e-4)  # L2 regularization\n",
        "\n",
        "epochs = 20\n",
        "for epoch in range(epochs):\n",
        "    model.train()\n",
        "    optimizer.zero_grad()\n",
        "    outputs = model(X_train)\n",
        "    loss = criterion(outputs, y_train)\n",
        "    loss.backward()\n",
        "    optimizer.step()\n",
        "    print(f\"Epoch {epoch+1}/{epochs}, Loss: {loss.item():.4f}\")\n",
        "\n",
        "model.eval()\n",
        "with torch.no_grad():\n",
        "    preds = model(X_test)\n",
        "    preds_class = (preds > 0.5).float()\n",
        "    acc = accuracy_score(y_test, preds_class)\n",
        "    print(f\"\\nTest Accuracy: {acc:.4f}\")\n",
        "    print(\"\\nClassification Report:\\n\", classification_report(y_test, preds_class))"
      ]
    }
  ]
}