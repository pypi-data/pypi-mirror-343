{
 "cells": [
  {
   "cell_type": "code",
   "execution_count": null,
   "id": "1919dce4",
   "metadata": {},
   "outputs": [],
   "source": [
    "import pandas as pd\n",
    "import numpy as np\n",
    "import seaborn as sns\n",
    "import matplotlib.pyplot as plt\n",
    "from sklearn.preprocessing import StandardScaler\n",
    "from sklearn.decomposition import PCA\n",
    "\n",
    "import warnings\n",
    "warnings.filterwarnings('ignore')"
   ]
  },
  {
   "cell_type": "code",
   "execution_count": null,
   "id": "459c19c9",
   "metadata": {},
   "outputs": [],
   "source": [
    "cols = ['class name', 'left-weight', 'left-distance', 'right-weight', 'right-distance']\n",
    "df = pd.read_table('data/balance-scale.txt', delimiter=',', names=cols)\n",
    "print(\"Shape:\", df.shape)\n",
    "df.head()"
   ]
  },
  {
   "cell_type": "code",
   "execution_count": null,
   "id": "ceb17e01",
   "metadata": {},
   "outputs": [],
   "source": [
    "df.describe()"
   ]
  },
  {
   "cell_type": "code",
   "execution_count": null,
   "id": "c3950e04",
   "metadata": {},
   "outputs": [],
   "source": [
    "df.info()"
   ]
  },
  {
   "cell_type": "code",
   "execution_count": null,
   "id": "2fd3e589-3f8f-4203-aa0b-7d3261a3c5b1",
   "metadata": {},
   "outputs": [],
   "source": [
    "sns.countplot(df, x='class name', hue='class name')\n",
    "plt.title(\"Count Plot ['B', 'R', 'L']\")\n",
    "plt.show()"
   ]
  },
  {
   "cell_type": "code",
   "execution_count": null,
   "id": "b9d4bb7e",
   "metadata": {},
   "outputs": [],
   "source": [
    "features = ['left-weight', 'left-distance', 'right-weight', 'right-distance']\n",
    "x = df.loc[:, features]\n",
    "y = df.loc[:, 'class name']"
   ]
  },
  {
   "cell_type": "code",
   "execution_count": null,
   "id": "de2b55cc",
   "metadata": {},
   "outputs": [],
   "source": [
    "x = StandardScaler().fit_transform(x)\n",
    "pca = PCA(n_components=2)\n",
    "pct = pca.fit_transform(x)"
   ]
  },
  {
   "cell_type": "code",
   "execution_count": null,
   "id": "08a8f4c9-05d6-4422-a6f3-5c6f7605220b",
   "metadata": {},
   "outputs": [],
   "source": [
    "principal_df = pd.DataFrame(pct, columns=['pc1', 'pc2'])\n",
    "principal_df['class name'] = df['class name']\n",
    "principal_df.head()\n",
    "\n",
    "fig = plt.figure(figsize=(8,8))\n",
    "ax = fig.add_subplot(1, 1, 1)\n",
    "\n",
    "targets = ['L','B','R']\n",
    "colors = ['r', 'g','b']\n",
    "for target, color in zip(targets, colors):\n",
    "    selected = principal_df[principal_df['class name'] == target]\n",
    "    ax.scatter(selected['pc1'], selected['pc2'], c=color, s=50)\n",
    "\n",
    "ax.set_xlabel('Principal Component 1')\n",
    "ax.set_ylabel('Principal Component 2')\n",
    "ax.set_title('2 component PCA')\n",
    "ax.legend(targets)\n",
    "ax.grid()"
   ]
  }
 ],
 "metadata": {
  "kernelspec": {
   "display_name": "Python 3 (ipykernel)",
   "language": "python",
   "name": "python3"
  },
  "language_info": {
   "codemirror_mode": {
    "name": "ipython",
    "version": 3
   },
   "file_extension": ".py",
   "mimetype": "text/x-python",
   "name": "python",
   "nbconvert_exporter": "python",
   "pygments_lexer": "ipython3",
   "version": "3.12.4"
  }
 },
 "nbformat": 4,
 "nbformat_minor": 5
}
