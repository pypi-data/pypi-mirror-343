{
 "cells": [
  {
   "cell_type": "markdown",
   "id": "0",
   "metadata": {},
   "source": [
    "# Working with categorical data: land cover\n",
    "\n",
    "This example builds upon the sample data for São Miguel introduced [here](basic_usage.ipynb) to demonstrate the use of exactextract with categorical land cover data.\n",
    "\n",
    "The following plot shows a sample of the [CORINE 2018 landcover dataset](https://land.copernicus.eu/en/products/corine-land-cover) that is distributed with exactextractr."
   ]
  },
  {
   "cell_type": "code",
   "execution_count": null,
   "id": "1",
   "metadata": {},
   "outputs": [],
   "source": [
    "import geopandas as gpd\n",
    "import rasterio\n",
    "import rasterio.plot\n",
    "from matplotlib import pyplot\n",
    "\n",
    "landcov = 'sao_miguel/clc2018_v2020_20u1.tif'\n",
    "concelhos = 'sao_miguel/concelhos.gpkg'\n",
    "\n",
    "fig, ax = pyplot.subplots()\n",
    "\n",
    "with rasterio.open(landcov) as r:\n",
    "    rasterio.plot.show(r, ax=ax, cmap='tab20c')\n",
    "    \n",
    "admin = gpd.read_file(concelhos)\n",
    "admin.plot(ax=ax, facecolor='none', edgecolor='black')"
   ]
  },
  {
   "cell_type": "markdown",
   "id": "2",
   "metadata": {},
   "source": [
    "## Summarizing land cover classifications\n",
    "\n",
    "One of the most basic questions we might ask is which land cover type is predominant in each _concelho_. We can do this with the built-in `mode` summary operation. The `minority` and `variety` operations are also applicable to categorical data and provide the least-common classification and number of distinct classifications, respectively."
   ]
  },
  {
   "cell_type": "code",
   "execution_count": null,
   "id": "3",
   "metadata": {},
   "outputs": [],
   "source": [
    "from exactextract import exact_extract\n",
    "\n",
    "df = exact_extract(landcov, concelhos, [\"variety\", \"mode\", \"minority\"], include_cols='name', output='pandas')\n",
    "display(df)"
   ]
  },
  {
   "cell_type": "markdown",
   "id": "4",
   "metadata": {},
   "source": [
    "If needed, we can load the attribute table distributed with the landcover dataset and replace the numeric codes above with their descriptions."
   ]
  },
  {
   "cell_type": "code",
   "execution_count": null,
   "id": "5",
   "metadata": {},
   "outputs": [],
   "source": [
    "import geopandas as pd\n",
    "\n",
    "classes = gpd.read_file('sao_miguel/clc2018_v2020_20u1.tif.vat.dbf').set_index('Value')\n",
    "for col in ('mode', 'minority'):\n",
    "    df[col] = df[col].map(classes['LABEL3'])\n",
    "display(df)"
   ]
  },
  {
   "cell_type": "markdown",
   "id": "6",
   "metadata": {},
   "source": [
    "## Calculating the fraction of each land cover type\n",
    "\n",
    "If we want more detailed information, the `unique` operation provides an array of distinct landcover types within each polygon.\n",
    "The `frac` operation provides a matching array with fraction of the polygon's Cartesian area that is covered by each type."
   ]
  },
  {
   "cell_type": "code",
   "execution_count": null,
   "id": "7",
   "metadata": {},
   "outputs": [],
   "source": [
    "df = exact_extract(landcov, concelhos, [\"unique\", \"frac\"], include_cols='name', output='pandas')\n",
    "display(df)"
   ]
  },
  {
   "cell_type": "markdown",
   "id": "8",
   "metadata": {},
   "source": [
    "To join these codes with the description, we can unnest the data using the pandas ``explode`` function and then remap the fields as done previously."
   ]
  },
  {
   "cell_type": "code",
   "execution_count": null,
   "id": "9",
   "metadata": {},
   "outputs": [],
   "source": [
    "df = df.explode(['unique', 'frac'])\n",
    "df['unique'] = df['unique'].map(classes['LABEL3'])\n",
    "display(df)"
   ]
  },
  {
   "cell_type": "markdown",
   "id": "10",
   "metadata": {},
   "source": [
    "## Condensed output with ``frac_as_map``\n",
    "\n",
    "If we are working with JSON output, it is also possible to view the same information in a map format:"
   ]
  },
  {
   "cell_type": "code",
   "execution_count": null,
   "id": "11",
   "metadata": {},
   "outputs": [],
   "source": [
    "exact_extract(landcov, concelhos, 'frac', include_cols='name', output='geojson', output_options={'frac_as_map': True})[:2]"
   ]
  },
  {
   "cell_type": "markdown",
   "id": "12",
   "metadata": {},
   "source": [
    "## Summarizing population land cover\n",
    "\n",
    "One extension of the analysis above is to see which land covers are associated with human population in a given concelho. Is the population primary urban or rural?\n",
    "\n",
    "As described in the [basic usage example](basic_usage.ipynb), the population density raster provides the most robust results in the presence of partially-covered pixels.\n",
    "\n",
    "We are able to perform this analysis because the CORINE sample distributed with exactextractr has been reprojected from its native Lambert Equal Area projection into geographic coordinates consistent with GPW. Otherwise, working with multiple rasters in different projections requires transformation to a common grid using tools such as GDAL.\n",
    "\n",
    "Very little about the call to `exact_extract` requires changing to incorporate population. We swap `weighted_frac` for `frac` and set `weights = pop_density`:"
   ]
  },
  {
   "cell_type": "code",
   "execution_count": null,
   "id": "13",
   "metadata": {},
   "outputs": [],
   "source": [
    "pop_density = 'sao_miguel/gpw_v411_2020_density_2020.tif'\n",
    "\n",
    "df = exact_extract(landcov, concelhos, [\"unique\", \"weighted_frac\"], weights=pop_density, include_cols='name', output='pandas')\n",
    "df = df.explode(['unique', 'weighted_frac']).astype({'weighted_frac':'float64'})\n",
    "df['unique'] = df['unique'].map(classes['LABEL3'])\n",
    "df.sort_values('weighted_frac', ascending=False).drop_duplicates('name')"
   ]
  },
  {
   "cell_type": "markdown",
   "id": "14",
   "metadata": {},
   "source": [
    "Looking at the highest-population land cover type in each concelho, we can can see that the western/central concelhos of Lagoa, Ponta Delgada, Ribeira Grande, and Vila Franca do Campo have a more urban population than Nordeste or Povoação to the east."
   ]
  }
 ],
 "metadata": {
  "kernelspec": {
   "display_name": "Python 3 (ipykernel)",
   "language": "python",
   "name": "python3"
  },
  "language_info": {
   "codemirror_mode": {
    "name": "ipython",
    "version": 3
   },
   "file_extension": ".py",
   "mimetype": "text/x-python",
   "name": "python",
   "nbconvert_exporter": "python",
   "pygments_lexer": "ipython3",
   "version": "3.11.2"
  }
 },
 "nbformat": 4,
 "nbformat_minor": 5
}
