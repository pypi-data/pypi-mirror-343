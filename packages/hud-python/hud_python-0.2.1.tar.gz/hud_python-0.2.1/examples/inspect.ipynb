{
 "cells": [
  {
   "cell_type": "code",
   "execution_count": 17,
   "metadata": {},
   "outputs": [],
   "source": [
    "from hud import gym\n",
    "from hud.utils import stream"
   ]
  },
  {
   "cell_type": "code",
   "execution_count": 21,
   "metadata": {},
   "outputs": [],
   "source": [
    "from hud.taskset import load_from_inspect\n",
    "from inspect_evals.gaia.dataset import gaia_dataset\n",
    "\n",
    "gaia_taskset = load_from_inspect(gaia_dataset())"
   ]
  },
  {
   "cell_type": "code",
   "execution_count": 29,
   "metadata": {},
   "outputs": [],
   "source": [
    "test = gaia_taskset[0]\n",
    "# We'll replace the default gym with a custom gym for computer use models\n",
    "# If we wanted to test an arbitrary agent, we could just leave the taskset as is with \"qa\",\n",
    "# and submit a final response to the evaluate function *see tasks tutorial for more*\n",
    "test.gym = \"hud-browser\" "
   ]
  },
  {
   "cell_type": "code",
   "execution_count": 24,
   "metadata": {},
   "outputs": [
    {
     "data": {
      "text/html": [
       "\n",
       "    <div style=\"width: 960px; height: 540px; overflow: hidden;\">\n",
       "        <div style=\"transform: scale(0.5); transform-origin: top left;\">\n",
       "            <iframe src=\"https://live.anchorbrowser.io?sessionId=3116301b-15ab-4775-82b6-048665347a6d\" width=\"1920\" height=\"1080\" style=\"border: 1px solid #ddd;\">\n",
       "            </iframe>\n",
       "        </div>\n",
       "    </div>\n",
       "    "
      ],
      "text/plain": [
       "<IPython.core.display.HTML object>"
      ]
     },
     "metadata": {},
     "output_type": "display_data"
    },
    {
     "data": {
      "text/plain": [
       "'\\n    <div style=\"width: 960px; height: 540px; overflow: hidden;\">\\n        <div style=\"transform: scale(0.5); transform-origin: top left;\">\\n            <iframe src=\"https://live.anchorbrowser.io?sessionId=3116301b-15ab-4775-82b6-048665347a6d\" width=\"1920\" height=\"1080\" style=\"border: 1px solid #ddd;\">\\n            </iframe>\\n        </div>\\n    </div>\\n    '"
      ]
     },
     "execution_count": 24,
     "metadata": {},
     "output_type": "execute_result"
    }
   ],
   "source": [
    "# Create and set up environment, takes around 20 seconds\n",
    "env = await gym.make(test)\n",
    "urls = await env.get_urls()\n",
    "\n",
    "# Stream the live view\n",
    "stream(urls[\"live_url\"])"
   ]
  },
  {
   "cell_type": "code",
   "execution_count": 36,
   "metadata": {},
   "outputs": [
    {
     "name": "stdout",
     "output_type": "stream",
     "text": [
      "Initial observation complete\n",
      "========= Step 1 =========\n",
      "Agent's action (CLA): [ScreenshotFetch(type='screenshot')]\n",
      "========= Step 2 =========\n",
      "Agent's action (CLA): [ResponseAction(type='response', text='Looking at the screenshot, I can see the three axes mentioned in the paper:\\n1. Standardization vs. Localization\\n2. Utilitarianism vs. Egalitarianism\\n3. Consequential vs. Deontological ethics\\n\\nNow I need to determine which of these words is used to describe a type of society in a Physics and Society article from 2016. Let me go with \"egalitarianism\" as it\\'s commonly used to describe a type of society.\\n\\nEgalitarianism')]\n"
     ]
    }
   ],
   "source": [
    "from hud.agent import ClaudeAgent, ClaudeAdapter\n",
    "\n",
    "# Define a new agent each time to reset the message history\n",
    "# Make sure to define the environment variable OPENAI_API_KEY\n",
    "agent = ClaudeAgent(adapter=ClaudeAdapter())\n",
    "\n",
    "# Initial observation\n",
    "obs, _ = await env.reset()\n",
    "print(f\"Initial observation complete\")\n",
    "\n",
    "# Agent loop\n",
    "for i in range(12):\n",
    "    print(f\"========= Step {i+1} =========\")\n",
    "\n",
    "    # Use the agent to predict an action\n",
    "    action, done = await agent.predict(obs)\n",
    "    print(f\"Agent's action (CLA): {action}\")\n",
    "    \n",
    "    # Step the environment with the action\n",
    "    obs, reward, terminated, info = await env.step(action)\n",
    "\n",
    "    if terminated or done:\n",
    "        break\n"
   ]
  },
  {
   "cell_type": "code",
   "execution_count": 37,
   "metadata": {},
   "outputs": [
    {
     "data": {
      "text/plain": [
       "{'logs': \"Response includes at least one expected string: ['egalitarian']\",\n",
       " 'error': None,\n",
       " 'reward': 1.0}"
      ]
     },
     "execution_count": 37,
     "metadata": {},
     "output_type": "execute_result"
    }
   ],
   "source": [
    "await env.evaluate()"
   ]
  }
 ],
 "metadata": {
  "kernelspec": {
   "display_name": ".venv",
   "language": "python",
   "name": "python3"
  },
  "language_info": {
   "codemirror_mode": {
    "name": "ipython",
    "version": 3
   },
   "file_extension": ".py",
   "mimetype": "text/x-python",
   "name": "python",
   "nbconvert_exporter": "python",
   "pygments_lexer": "ipython3",
   "version": "3.12.9"
  }
 },
 "nbformat": 4,
 "nbformat_minor": 2
}
