{
 "cells": [
  {
   "cell_type": "markdown",
   "metadata": {},
   "source": [
    "# Experimental features\n",
    "\n",
    "Experimental features for modelbase2.\n",
    "\n",
    "All APIs shown should be considered unstable and may change without notice."
   ]
  },
  {
   "cell_type": "code",
   "execution_count": null,
   "metadata": {},
   "outputs": [],
   "source": [
    "from example_models import get_linear_chain_1v, get_linear_chain_2v\n",
    "from modelbase2.experimental import (\n",
    "    generate_model_code_py,\n",
    "    generate_modelbase_code,\n",
    "    model_diff,\n",
    "    to_tex,\n",
    ")"
   ]
  },
  {
   "cell_type": "markdown",
   "metadata": {},
   "source": [
    "## code generation\n",
    "\n",
    "> Currently, the limitation here is that functions used for reactions etc. cannot call other functions.  \n",
    "\n",
    "`modelbase2` can generate own source code from a model.  "
   ]
  },
  {
   "cell_type": "code",
   "execution_count": null,
   "metadata": {},
   "outputs": [],
   "source": [
    "print(generate_modelbase_code(get_linear_chain_1v()))"
   ]
  },
  {
   "cell_type": "markdown",
   "metadata": {},
   "source": [
    "`modelbase2` can also generate a generic python function from the source code.  \n",
    "The plan here is to generalise this to be able to export models into other programming languages as well.  "
   ]
  },
  {
   "cell_type": "code",
   "execution_count": null,
   "metadata": {},
   "outputs": [],
   "source": [
    "print(generate_model_code_py(get_linear_chain_2v()))"
   ]
  },
  {
   "cell_type": "markdown",
   "metadata": {},
   "source": [
    "## Diffs\n",
    "\n",
    "`modelbase2` can generate diffs between two models to quickly analyse differences between all model elements.  "
   ]
  },
  {
   "cell_type": "code",
   "execution_count": null,
   "metadata": {},
   "outputs": [],
   "source": [
    "print(\n",
    "    model_diff(\n",
    "        get_linear_chain_2v(),\n",
    "        get_linear_chain_1v(),\n",
    "    )\n",
    ")"
   ]
  },
  {
   "cell_type": "code",
   "execution_count": null,
   "metadata": {},
   "outputs": [],
   "source": [
    "print(\n",
    "    model_diff(\n",
    "        get_linear_chain_2v(),\n",
    "        get_linear_chain_2v().scale_parameter(\"k3\", 2.0),\n",
    "    )\n",
    ")"
   ]
  },
  {
   "cell_type": "markdown",
   "metadata": {},
   "source": [
    "## LaTeX export\n",
    "\n",
    "> Currently, the limitation here is that functions used for reactions etc. cannot call other functions.  \n",
    "\n",
    "`modelbase2` supports writing out your model as `LaTeX`.  "
   ]
  },
  {
   "cell_type": "code",
   "execution_count": null,
   "metadata": {},
   "outputs": [],
   "source": [
    "print(to_tex(get_linear_chain_1v()))"
   ]
  },
  {
   "cell_type": "markdown",
   "metadata": {},
   "source": [
    "## Symbolic models & identifiability analysis"
   ]
  },
  {
   "cell_type": "code",
   "execution_count": null,
   "metadata": {},
   "outputs": [],
   "source": [
    "import sympy\n",
    "\n",
    "from modelbase2.experimental import strikepy\n",
    "from modelbase2.experimental.symbolic import SymbolicModel, to_symbolic_model\n",
    "from modelbase2.model import Model\n",
    "\n",
    "\n",
    "def check_identifiability(\n",
    "    sym_model: SymbolicModel, outputs: list[sympy.Symbol]\n",
    ") -> strikepy.Result:\n",
    "    strike_model = strikepy.Model(\n",
    "        states=list(sym_model.variables.values()),\n",
    "        pars=list(sym_model.parameters.values()),\n",
    "        eqs=sym_model.eqs,\n",
    "        outputs=outputs,\n",
    "    )\n",
    "    return strikepy.strike_goldd(strike_model)\n",
    "\n",
    "\n",
    "def infect(s: float, i: float, n: float, beta: float) -> float:\n",
    "    return beta / n * i * s\n",
    "\n",
    "\n",
    "def recover(i: float, gamma: float) -> float:\n",
    "    return gamma * i\n",
    "\n",
    "\n",
    "def total_population(s: float, i: float, r: float) -> float:\n",
    "    return s + i + r\n",
    "\n",
    "\n",
    "def sir() -> Model:\n",
    "    return (\n",
    "        Model()\n",
    "        .add_parameters({\"beta\": 1.0, \"gamma\": 0.1})\n",
    "        .add_variables({\"s\": 99, \"i\": 1, \"r\": 0})\n",
    "        .add_derived(\"n\", total_population, args=[\"s\", \"i\", \"r\"])\n",
    "        .add_reaction(\n",
    "            \"infect\",\n",
    "            infect,\n",
    "            args=[\"s\", \"i\", \"n\", \"beta\"],\n",
    "            stoichiometry={\"s\": -1, \"i\": 1},\n",
    "        )\n",
    "        .add_reaction(\n",
    "            \"recover\", recover, args=[\"i\", \"gamma\"], stoichiometry={\"i\": -1, \"r\": 1}\n",
    "        )\n",
    "    )\n",
    "\n",
    "\n",
    "model = sir()\n",
    "sym_model = to_symbolic_model(model)\n",
    "res = check_identifiability(sym_model, [sympy.Symbol(\"i\"), sympy.Symbol(\"r\")])\n",
    "print(res.summary())"
   ]
  }
 ],
 "metadata": {
  "kernelspec": {
   "display_name": ".venv",
   "language": "python",
   "name": "python3"
  },
  "language_info": {
   "codemirror_mode": {
    "name": "ipython",
    "version": 3
   },
   "file_extension": ".py",
   "mimetype": "text/x-python",
   "name": "python",
   "nbconvert_exporter": "python",
   "pygments_lexer": "ipython3",
   "version": "3.13.2"
  }
 },
 "nbformat": 4,
 "nbformat_minor": 2
}
