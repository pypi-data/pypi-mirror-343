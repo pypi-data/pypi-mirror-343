{
 "cells": [
  {
   "cell_type": "code",
   "execution_count": 7,
   "metadata": {},
   "outputs": [
    {
     "data": {
      "text/plain": [
       "[array([-0.00416723, -0.16625828]),\n",
       " array([-0.33023903, -0.2853456 ]),\n",
       " array([0.07858541, 0.        ]),\n",
       " array([ 0.5165533 , -0.02748527]),\n",
       " array([ 0.27798004, -0.09768099]),\n",
       " array([-1,  1]),\n",
       " array([ 0.56899924, -2.16218627]),\n",
       " array([0.37700914, 0.26177414]),\n",
       " array([ 1, -1]),\n",
       " array([-2.18147795, -0.33767115]),\n",
       " array([-0.06333094, -0.0006067 ]),\n",
       " array([0.67916958, 1.9779643 ]),\n",
       " array([-0.43753928, -0.55570998]),\n",
       " array([-0.0053765 ,  0.03809361]),\n",
       " array([-0.56141362,  0.04201614]),\n",
       " array([ 3.24462623, -3.21857407]),\n",
       " array([-0.32493729, -0.07937941]),\n",
       " array([ 0.3215719 , -0.26186137]),\n",
       " array([0.3420791 , 0.29625242]),\n",
       " array([ 0.19650274, -0.13392608]),\n",
       " array([ 0.4018184 , -0.10308318]),\n",
       " array([1, 1]),\n",
       " array([-0.1449674 , -0.15549754]),\n",
       " array([0.17521305, 0.12782644]),\n",
       " array([0.00038164, 0.21378245]),\n",
       " array([0.55665815, 0.11240643]),\n",
       " array([0.04388298, 0.21223977]),\n",
       " array([0.06457117, 0.2675683 ]),\n",
       " array([ 0.24986575, -0.08087302]),\n",
       " array([ 0.86241938, -2.70496541]),\n",
       " array([0.23697494, 0.04568511]),\n",
       " array([-0.49994498, -0.17937302]),\n",
       " array([0.05869958, 0.17718309]),\n",
       " array([1.3059898 , 0.91150977]),\n",
       " array([-0.39973859, -0.31828336]),\n",
       " array([-0.3429678 ,  0.28861889]),\n",
       " array([-0.20137331,  0.37606666]),\n",
       " array([-0.01808604,  0.01343296]),\n",
       " array([ 0.13720568, -0.52859892]),\n",
       " array([1.84421983, 0.56393921]),\n",
       " array([-0.41558759,  0.        ]),\n",
       " array([-0.03681719,  0.        ]),\n",
       " array([0.0957259 , 0.14721376]),\n",
       " array([ 0.44725422, -0.02167051]),\n",
       " array([-0.09543454, -0.21109978]),\n",
       " array([ 0.84322837, -1.54042717]),\n",
       " array([-0.06281959, -0.62019045]),\n",
       " array([-0.06533412, -0.11495753]),\n",
       " array([ 1.75481465, -0.96497902]),\n",
       " array([ 0.42790506, -0.14776692]),\n",
       " array([-0.11361939,  0.07771332]),\n",
       " array([1.05054281, 1.28212662]),\n",
       " array([0.44961912, 0.33717981]),\n",
       " array([-0.16100765, -0.14933474]),\n",
       " array([-0.01535544, -0.11803955]),\n",
       " array([-0.01248361, -0.17091596]),\n",
       " array([-0.09225746, -0.16818889]),\n",
       " array([0.24791096, 0.01532157]),\n",
       " array([ 0.12055814, -1.79887059]),\n",
       " array([-0.5728337 , -0.44271874]),\n",
       " array([ 1, -1]),\n",
       " array([0.69977682, 0.00078409]),\n",
       " array([2.53851155, 3.80086636]),\n",
       " array([-0.00888359, -0.14785419]),\n",
       " array([-2.10342771, -0.96585676]),\n",
       " array([-1.11138964, -0.9406429 ]),\n",
       " array([0.        , 0.06044724]),\n",
       " array([-0.28893966,  0.14045229]),\n",
       " array([ 0, -1]),\n",
       " array([-0.01900188,  0.35608095]),\n",
       " array([-0.03003063,  0.53409308]),\n",
       " array([0.23798424, 0.40420159]),\n",
       " array([ 1.72545526, -1.8724633 ]),\n",
       " array([-0.24927143,  0.04040211]),\n",
       " array([-0.00246647,  0.00648725]),\n",
       " array([ 1.40599439, -1.11581715]),\n",
       " array([ 0.59276253, -0.09232819]),\n",
       " array([-0.07274842, -0.24900096]),\n",
       " array([-0.31596561,  0.01206599]),\n",
       " array([ 0.03078847, -0.07733238]),\n",
       " array([0.24299275, 0.22813173]),\n",
       " array([0.38845289, 2.40571528]),\n",
       " array([ 2.12863495, -1.90827566]),\n",
       " array([ 1, -1]),\n",
       " array([-0.03515128, -0.02859025]),\n",
       " array([-0.34387301,  0.        ]),\n",
       " array([-0.13662791, -0.45570745]),\n",
       " array([0.14718997, 0.19267827]),\n",
       " array([-0.0549556, -0.2921166]),\n",
       " array([-1.96331627, -1.99946902]),\n",
       " array([-1, -1]),\n",
       " array([0.20479879, 0.07787372]),\n",
       " array([-0.17882962, -0.38398319]),\n",
       " array([0.54809054, 0.20874344]),\n",
       " array([ 0.13724608, -0.17437343]),\n",
       " array([1, 1]),\n",
       " array([0.00266926, 0.49122582]),\n",
       " array([ 0.11822538, -0.12422098]),\n",
       " array([0.05105652, 0.25422263]),\n",
       " array([-0.20410437,  0.3748709 ])]"
      ]
     },
     "execution_count": 7,
     "metadata": {},
     "output_type": "execute_result"
    }
   ],
   "source": [
    "import numpy as np\n",
    "from skimage.feature import peak_local_max\n",
    "\n",
    "img = np.random.rand(2000, 2000)\n",
    "\n",
    "# peaks = peak_local_max(img, threshold_abs=0, num_peaks=2000)\n",
    "\n",
    "# len(peaks)\n",
    "\n",
    "# ps = [np.ravel_multi_index(p, img.shape) for p in peaks]\n",
    "# img.flat[ps] > 0.5\n",
    "\n",
    "\n",
    "# img[peaks.T[0], peaks.T[1]].shape\n",
    "\n",
    "# img[tuple(map(list, peaks.T))].shape\n",
    "\n",
    "from src.calmutils.localization import detect_dog, refine_point\n",
    "\n",
    "\n",
    "peaks = detect_dog(img, 0, threshold_intensity=0.5, sigma=1, max_num_peaks=100)\n",
    "\n",
    "[refine_point(img, p) - p for p in peaks]\n",
    "# peaks"
   ]
  },
  {
   "cell_type": "code",
   "execution_count": 7,
   "metadata": {},
   "outputs": [
    {
     "data": {
      "text/plain": [
       "[1, 2]"
      ]
     },
     "execution_count": 7,
     "metadata": {},
     "output_type": "execute_result"
    }
   ],
   "source": [
    "[1, 2, 3][slice(None, -1)]"
   ]
  },
  {
   "cell_type": "code",
   "execution_count": 3,
   "metadata": {},
   "outputs": [
    {
     "data": {
      "text/plain": [
       "(array([0, 4]), array([1, 4]), array([2, 4]))"
      ]
     },
     "execution_count": 3,
     "metadata": {},
     "output_type": "execute_result"
    }
   ],
   "source": [
    "from calmutils.misc.bounding_boxes import transpose_bboxes, minmax_to_minlen_bboxes\n",
    "\n",
    "mins = [0, 1, 2]\n",
    "maxs = [4, 5, 6]\n",
    "\n",
    "transpose_bboxes(*minmax_to_minlen_bboxes(mins, maxs))"
   ]
  },
  {
   "cell_type": "code",
   "execution_count": 7,
   "metadata": {},
   "outputs": [
    {
     "data": {
      "text/plain": [
       "array([[-1.,  1.],\n",
       "       [-1.,  0.],\n",
       "       [-1., -1.],\n",
       "       [ 0., -1.],\n",
       "       [ 0.,  0.],\n",
       "       [ 0.,  1.],\n",
       "       [ 1.,  1.],\n",
       "       [ 1.,  0.],\n",
       "       [ 1., -1.]])"
      ]
     },
     "execution_count": 7,
     "metadata": {},
     "output_type": "execute_result"
    }
   ],
   "source": [
    "from calmutils.stitching.tiling import centered_tiles, minmax_tiles\n",
    "\n",
    "centered_tiles([0,0], [1,1], 3, flip_axes=(1,))\n",
    "\n",
    "minmax_tiles([1, 1], [-1, -1], 1, flip_axes=(1,))"
   ]
  }
 ],
 "metadata": {
  "kernelspec": {
   "display_name": "env-py312",
   "language": "python",
   "name": "python3"
  },
  "language_info": {
   "codemirror_mode": {
    "name": "ipython",
    "version": 3
   },
   "file_extension": ".py",
   "mimetype": "text/x-python",
   "name": "python",
   "nbconvert_exporter": "python",
   "pygments_lexer": "ipython3",
   "version": "3.12.7"
  },
  "orig_nbformat": 4
 },
 "nbformat": 4,
 "nbformat_minor": 2
}
