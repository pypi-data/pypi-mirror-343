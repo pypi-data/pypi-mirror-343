{
 "cells": [
  {
   "cell_type": "markdown",
   "metadata": {
    "colab_type": "text",
    "id": "view-in-github"
   },
   "source": [
    "<a href=\"https://colab.research.google.com/github/tompollard/tableone/blob/master/tableone.ipynb\" target=\"_parent\"><img src=\"https://colab.research.google.com/assets/colab-badge.svg\" alt=\"Open In Colab\"/></a>"
   ]
  },
  {
   "cell_type": "markdown",
   "metadata": {
    "colab_type": "text",
    "id": "1L4PNS9zlenU"
   },
   "source": [
    "# Demonstrating the `tableone` package"
   ]
  },
  {
   "cell_type": "markdown",
   "metadata": {
    "colab_type": "text",
    "id": "lIy5WOdwlenW"
   },
   "source": [
    "In research papers, it is common for the first table (\"Table 1\") to display summary statistics of the study data. The `tableone` package is used to create this table. For an introduction to basic statistical reporting in biomedical journals, we recommend reading the [SAMPL Guidelines](http://www.equator-network.org/wp-content/uploads/2013/07/SAMPL-Guidelines-6-27-13.pdf). For more reading on accurate reporting in health research, visit the [EQUATOR Network](http://www.equator-network.org/)."
   ]
  },
  {
   "cell_type": "markdown",
   "metadata": {},
   "source": [
    "## Contents\n",
    "\n",
    "Set up:\n",
    "\n",
    "- [Suggested citation](#citation)\n",
    "- [Installation](#installation)\n",
    "\n",
    "Example usage:\n",
    "\n",
    "- [Creating a simple Table 1](#simple-example)\n",
    "- [Creating a stratified Table 1](#stratified-example)\n",
    "- [Adding p-values and standardized mean differences](#pval-smd)\n",
    "- [Using a custom hypothesis test to calculate P-Values](#custom-htest)\n",
    "\n",
    "Exporting the table:\n",
    "\n",
    "- [Exporting to LaTex, Markdown, HTML etc](#export)"
   ]
  },
  {
   "cell_type": "markdown",
   "metadata": {
    "colab_type": "text",
    "id": "rU8kOGejlenX"
   },
   "source": [
    "## A note for users of `tableone`"
   ]
  },
  {
   "cell_type": "markdown",
   "metadata": {
    "colab_type": "text",
    "id": "-JPKSSm4lenX"
   },
   "source": [
    "While we have tried to use best practices in creating this package, automation of even basic statistical tasks can be unsound if done without supervision. We encourage use of `tableone` alongside other methods of descriptive statistics and, in particular, visualization to ensure appropriate data handling. \n",
    "\n",
    "It is beyond the scope of our documentation to provide detailed guidance on summary statistics, but as a primer we provide some considerations for choosing parameters when creating a summary table at: http://tableone.readthedocs.io/en/latest/bestpractice.html. \n",
    "\n",
    "*Guidance should be sought from a statistician when using `tableone` for a research study, especially prior to submitting the study for publication*."
   ]
  },
  {
   "cell_type": "markdown",
   "metadata": {
    "colab_type": "text",
    "id": "RUAitk5GlenY"
   },
   "source": [
    "## Suggested citation <a name=\"citation\"></a>\n",
    "If you use tableone in your study, please cite the following paper:\n",
    "\n",
    "> Tom J Pollard, Alistair E W Johnson, Jesse D Raffa, Roger G Mark; *tableone*: An open source Python package for producing summary statistics for research papers, *JAMIA Open*, Volume 1, Issue 1, 1 July 2018, Pages 26–31, https://doi.org/10.1093/jamiaopen/ooy012\n",
    "\n",
    "Download the BibTex file from: https://academic.oup.com/jamiaopen/downloadcitation/5001910?format=bibtex"
   ]
  },
  {
   "cell_type": "markdown",
   "metadata": {
    "colab_type": "text",
    "id": "XCSU34EBlenY"
   },
   "source": [
    "## Installation <a name=\"installation\"></a>\n",
    "\n",
    "To install the package with pip, run the following command in your terminal: ``pip install tableone``. To install the package with Conda, run: ``conda install -c conda-forge tableone``. For more detailed installation instructions, refer to the [documentation](http://tableone.readthedocs.io/en/latest/install.html)."
   ]
  },
  {
   "cell_type": "markdown",
   "metadata": {
    "colab_type": "text",
    "id": "8HqjUE1blenZ"
   },
   "source": [
    "## Importing libraries\n",
    "\n",
    "Before using the `tableone` package, we need to import it. We will also import `pandas` for loading our sample dataset and `matplotlib` for creating plots."
   ]
  },
  {
   "cell_type": "code",
   "execution_count": 1,
   "metadata": {
    "colab": {},
    "colab_type": "code",
    "id": "r6ASOU2tovSv"
   },
   "outputs": [],
   "source": [
    "# Import numerical libraries\n",
    "import pandas as pd\n",
    "import numpy as np\n",
    "from scipy import stats\n",
    "import matplotlib.pyplot as plt\n",
    "%matplotlib inline"
   ]
  },
  {
   "cell_type": "code",
   "execution_count": 2,
   "metadata": {
    "colab": {
     "base_uri": "https://localhost:8080/",
     "height": 71
    },
    "colab_type": "code",
    "id": "0VAicyEnlena",
    "outputId": "ebde10ae-6482-42e4-e51c-56611fa0c8c3"
   },
   "outputs": [],
   "source": [
    "# Import tableone\n",
    "try:\n",
    "    from tableone import TableOne, load_dataset\n",
    "except (ModuleNotFoundError, ImportError):\n",
    "    # install on Colab\n",
    "    !pip install tableone\n",
    "    from tableone import TableOne, load_dataset"
   ]
  },
  {
   "cell_type": "markdown",
   "metadata": {
    "colab_type": "text",
    "id": "sDBiQ5Dklenf"
   },
   "source": [
    "## Loading sample data\n",
    "\n",
    "We begin by loading the data that we would like to summarize into a Pandas DataFrame. \n",
    "- Variables are in columns\n",
    "- Encounters/observations are in rows."
   ]
  },
  {
   "cell_type": "code",
   "execution_count": 3,
   "metadata": {
    "colab": {},
    "colab_type": "code",
    "id": "o-rF0RYalenf"
   },
   "outputs": [],
   "source": [
    "# Load PhysioNet 2012 sample data\n",
    "data = load_dataset('pn2012')"
   ]
  },
  {
   "cell_type": "code",
   "execution_count": 4,
   "metadata": {
    "colab": {
     "base_uri": "https://localhost:8080/",
     "height": 204
    },
    "colab_type": "code",
    "id": "cn0hC8ATleno",
    "outputId": "ae0a278d-38b9-43ab-f458-32c631057c90"
   },
   "outputs": [
    {
     "data": {
      "text/html": [
       "<div>\n",
       "<style scoped>\n",
       "    .dataframe tbody tr th:only-of-type {\n",
       "        vertical-align: middle;\n",
       "    }\n",
       "\n",
       "    .dataframe tbody tr th {\n",
       "        vertical-align: top;\n",
       "    }\n",
       "\n",
       "    .dataframe thead th {\n",
       "        text-align: right;\n",
       "    }\n",
       "</style>\n",
       "<table border=\"1\" class=\"dataframe\">\n",
       "  <thead>\n",
       "    <tr style=\"text-align: right;\">\n",
       "      <th></th>\n",
       "      <th>Age</th>\n",
       "      <th>SysABP</th>\n",
       "      <th>Height</th>\n",
       "      <th>Weight</th>\n",
       "      <th>ICU</th>\n",
       "      <th>MechVent</th>\n",
       "      <th>LOS</th>\n",
       "      <th>death</th>\n",
       "    </tr>\n",
       "  </thead>\n",
       "  <tbody>\n",
       "    <tr>\n",
       "      <th>0</th>\n",
       "      <td>54</td>\n",
       "      <td>NaN</td>\n",
       "      <td>NaN</td>\n",
       "      <td>NaN</td>\n",
       "      <td>SICU</td>\n",
       "      <td>0</td>\n",
       "      <td>5</td>\n",
       "      <td>0</td>\n",
       "    </tr>\n",
       "    <tr>\n",
       "      <th>1</th>\n",
       "      <td>76</td>\n",
       "      <td>105.0</td>\n",
       "      <td>175.3</td>\n",
       "      <td>80.6</td>\n",
       "      <td>CSRU</td>\n",
       "      <td>1</td>\n",
       "      <td>8</td>\n",
       "      <td>0</td>\n",
       "    </tr>\n",
       "    <tr>\n",
       "      <th>2</th>\n",
       "      <td>44</td>\n",
       "      <td>148.0</td>\n",
       "      <td>NaN</td>\n",
       "      <td>56.7</td>\n",
       "      <td>MICU</td>\n",
       "      <td>0</td>\n",
       "      <td>19</td>\n",
       "      <td>0</td>\n",
       "    </tr>\n",
       "    <tr>\n",
       "      <th>3</th>\n",
       "      <td>68</td>\n",
       "      <td>NaN</td>\n",
       "      <td>180.3</td>\n",
       "      <td>84.6</td>\n",
       "      <td>MICU</td>\n",
       "      <td>0</td>\n",
       "      <td>9</td>\n",
       "      <td>0</td>\n",
       "    </tr>\n",
       "    <tr>\n",
       "      <th>4</th>\n",
       "      <td>88</td>\n",
       "      <td>NaN</td>\n",
       "      <td>NaN</td>\n",
       "      <td>NaN</td>\n",
       "      <td>MICU</td>\n",
       "      <td>0</td>\n",
       "      <td>4</td>\n",
       "      <td>0</td>\n",
       "    </tr>\n",
       "  </tbody>\n",
       "</table>\n",
       "</div>"
      ],
      "text/plain": [
       "   Age  SysABP  Height  Weight   ICU  MechVent  LOS  death\n",
       "0   54     NaN     NaN     NaN  SICU         0    5      0\n",
       "1   76   105.0   175.3    80.6  CSRU         1    8      0\n",
       "2   44   148.0     NaN    56.7  MICU         0   19      0\n",
       "3   68     NaN   180.3    84.6  MICU         0    9      0\n",
       "4   88     NaN     NaN     NaN  MICU         0    4      0"
      ]
     },
     "execution_count": 4,
     "metadata": {},
     "output_type": "execute_result"
    }
   ],
   "source": [
    "data.head()"
   ]
  },
  {
   "cell_type": "markdown",
   "metadata": {
    "colab_type": "text",
    "id": "n38OzvJWlens"
   },
   "source": [
    "## Example 1: Simple summary of data with Table 1 <a name=\"simple-example\"></a>\n",
    "\n",
    "In this example we provide summary statistics across all of the data."
   ]
  },
  {
   "cell_type": "code",
   "execution_count": null,
   "metadata": {
    "colab": {},
    "colab_type": "code",
    "id": "IkKebCNGlens"
   },
   "outputs": [],
   "source": [
    "# View the tableone docstring\n",
    "TableOne?"
   ]
  },
  {
   "cell_type": "code",
   "execution_count": 5,
   "metadata": {
    "colab": {},
    "colab_type": "code",
    "id": "XSkVGA_Rlenw"
   },
   "outputs": [],
   "source": [
    "# Create a simple Table 1 with no grouping variable\n",
    "# Test for normality, multimodality (Hartigan's Dip Test), and far outliers (Tukey's test)\n",
    "\n",
    "# for versions >= 0.7.9\n",
    "table1 = TableOne(data, dip_test=True, normal_test=True, tukey_test=True, show_histograms=True)"
   ]
  },
  {
   "cell_type": "code",
   "execution_count": 6,
   "metadata": {
    "colab": {
     "base_uri": "https://localhost:8080/",
     "height": 551
    },
    "colab_type": "code",
    "id": "m93j5xqflen1",
    "outputId": "47627be4-8085-46e6-802c-b1a8f719646b",
    "scrolled": true
   },
   "outputs": [
    {
     "data": {
      "text/html": [
       "<div>\n",
       "<style scoped>\n",
       "    .dataframe tbody tr th:only-of-type {\n",
       "        vertical-align: middle;\n",
       "    }\n",
       "\n",
       "    .dataframe tbody tr th {\n",
       "        vertical-align: top;\n",
       "    }\n",
       "\n",
       "    .dataframe thead th {\n",
       "        text-align: right;\n",
       "    }\n",
       "</style>\n",
       "<table border=\"1\" class=\"dataframe\">\n",
       "  <thead>\n",
       "    <tr style=\"text-align: right;\">\n",
       "      <th></th>\n",
       "      <th></th>\n",
       "      <th>Missing</th>\n",
       "      <th>Overall</th>\n",
       "      <th>Histogram</th>\n",
       "    </tr>\n",
       "  </thead>\n",
       "  <tbody>\n",
       "    <tr>\n",
       "      <th>n</th>\n",
       "      <th></th>\n",
       "      <td></td>\n",
       "      <td>1000</td>\n",
       "      <td></td>\n",
       "    </tr>\n",
       "    <tr>\n",
       "      <th>Age, mean (SD)</th>\n",
       "      <th></th>\n",
       "      <td>0</td>\n",
       "      <td>65.0 (17.2)</td>\n",
       "      <td>▂▂▃▄▆▇█▇</td>\n",
       "    </tr>\n",
       "    <tr>\n",
       "      <th>SysABP, mean (SD)</th>\n",
       "      <th></th>\n",
       "      <td>291</td>\n",
       "      <td>114.3 (40.2)</td>\n",
       "      <td>▂▁▁▃█▆▃▁</td>\n",
       "    </tr>\n",
       "    <tr>\n",
       "      <th>Height, mean (SD)</th>\n",
       "      <th></th>\n",
       "      <td>475</td>\n",
       "      <td>170.1 (22.1)</td>\n",
       "      <td>▁▃▅▇▇█▂▁</td>\n",
       "    </tr>\n",
       "    <tr>\n",
       "      <th>Weight, mean (SD)</th>\n",
       "      <th></th>\n",
       "      <td>302</td>\n",
       "      <td>82.9 (23.8)</td>\n",
       "      <td>▃▆█▆▄▃▁▁</td>\n",
       "    </tr>\n",
       "    <tr>\n",
       "      <th rowspan=\"4\" valign=\"top\">ICU, n (%)</th>\n",
       "      <th>CCU</th>\n",
       "      <td></td>\n",
       "      <td>162 (16.2)</td>\n",
       "      <td></td>\n",
       "    </tr>\n",
       "    <tr>\n",
       "      <th>CSRU</th>\n",
       "      <td></td>\n",
       "      <td>202 (20.2)</td>\n",
       "      <td></td>\n",
       "    </tr>\n",
       "    <tr>\n",
       "      <th>MICU</th>\n",
       "      <td></td>\n",
       "      <td>380 (38.0)</td>\n",
       "      <td></td>\n",
       "    </tr>\n",
       "    <tr>\n",
       "      <th>SICU</th>\n",
       "      <td></td>\n",
       "      <td>256 (25.6)</td>\n",
       "      <td></td>\n",
       "    </tr>\n",
       "    <tr>\n",
       "      <th rowspan=\"2\" valign=\"top\">MechVent, n (%)</th>\n",
       "      <th>0</th>\n",
       "      <td></td>\n",
       "      <td>540 (54.0)</td>\n",
       "      <td></td>\n",
       "    </tr>\n",
       "    <tr>\n",
       "      <th>1</th>\n",
       "      <td></td>\n",
       "      <td>460 (46.0)</td>\n",
       "      <td></td>\n",
       "    </tr>\n",
       "    <tr>\n",
       "      <th>LOS, mean (SD)</th>\n",
       "      <th></th>\n",
       "      <td>0</td>\n",
       "      <td>14.2 (14.2)</td>\n",
       "      <td>█▆▃▁▁▁▁▁</td>\n",
       "    </tr>\n",
       "    <tr>\n",
       "      <th rowspan=\"2\" valign=\"top\">death, n (%)</th>\n",
       "      <th>0</th>\n",
       "      <td></td>\n",
       "      <td>864 (86.4)</td>\n",
       "      <td></td>\n",
       "    </tr>\n",
       "    <tr>\n",
       "      <th>1</th>\n",
       "      <td></td>\n",
       "      <td>136 (13.6)</td>\n",
       "      <td></td>\n",
       "    </tr>\n",
       "  </tbody>\n",
       "</table>\n",
       "</div><br />[1] Hartigan's Dip Test reports possible\n",
       "                                    multimodal distributions for: Age, SysABP, Height, LOS.<br />[2] Normality test reports non-normal\n",
       "                                    distributions for: Age, SysABP, Height, Weight, LOS.<br />[3] Tukey test indicates far outliers\n",
       "                                    in: Height, LOS.<br />"
      ],
      "text/plain": [
       "                       Missing       Overall Histogram\n",
       "n                                       1000          \n",
       "Age, mean (SD)               0   65.0 (17.2)  ▂▂▃▄▆▇█▇\n",
       "SysABP, mean (SD)          291  114.3 (40.2)  ▂▁▁▃█▆▃▁\n",
       "Height, mean (SD)          475  170.1 (22.1)  ▁▃▅▇▇█▂▁\n",
       "Weight, mean (SD)          302   82.9 (23.8)  ▃▆█▆▄▃▁▁\n",
       "ICU, n (%)        CCU             162 (16.2)          \n",
       "                  CSRU            202 (20.2)          \n",
       "                  MICU            380 (38.0)          \n",
       "                  SICU            256 (25.6)          \n",
       "MechVent, n (%)   0               540 (54.0)          \n",
       "                  1               460 (46.0)          \n",
       "LOS, mean (SD)               0   14.2 (14.2)  █▆▃▁▁▁▁▁\n",
       "death, n (%)      0               864 (86.4)          \n",
       "                  1               136 (13.6)          \n",
       "[1] Hartigan's Dip Test reports possible\n",
       "                                    multimodal distributions for: Age, SysABP, Height, LOS.\n",
       "[2] Normality test reports non-normal\n",
       "                                    distributions for: Age, SysABP, Height, Weight, LOS.\n",
       "[3] Tukey test indicates far outliers\n",
       "                                    in: Height, LOS."
      ]
     },
     "execution_count": 6,
     "metadata": {},
     "output_type": "execute_result"
    }
   ],
   "source": [
    "# View Table 1 (note the remarks below the table)\n",
    "table1"
   ]
  },
  {
   "cell_type": "code",
   "execution_count": 7,
   "metadata": {
    "colab": {
     "base_uri": "https://localhost:8080/",
     "height": 34
    },
    "colab_type": "code",
    "id": "flNF6liJlen5",
    "outputId": "a5c02829-fa90-4b00-bab0-74546adb091c"
   },
   "outputs": [
    {
     "data": {
      "text/plain": [
       "pandas.core.frame.DataFrame"
      ]
     },
     "execution_count": 7,
     "metadata": {},
     "output_type": "execute_result"
    }
   ],
   "source": [
    "# The pd.DataFrame object can be accessed using the `tableone` attribute\n",
    "type(table1.tableone)"
   ]
  },
  {
   "cell_type": "markdown",
   "metadata": {
    "colab_type": "text",
    "id": "MNgmBIzVlen7"
   },
   "source": [
    "**Summary of the table**:\n",
    "- the first row ('`n`') displays a count of the encounters/observations in the input data.\n",
    "- the '`Missing`' column displays a count of the null values for the particular variable.\n",
    "- if categorical variables are not defined in the arguments, they are detected automatically.\n",
    "- continuous variables (e.g. '`age`') are summarized by '`mean (std)`'.\n",
    "- categorical variables (e.g. '`ascites`') are summarized by '`n (% of non-null values)`'.\n",
    "- if `label_suffix=True`, \"mean (SD); n (%);\" etc are appended to the row label."
   ]
  },
  {
   "cell_type": "markdown",
   "metadata": {
    "colab_type": "text",
    "id": "N5Xnw-x2leoI"
   },
   "source": [
    "## Exploring the warning raised by Hartigan's Dip Test\n",
    "\n",
    "Hartigan's Dip Test is a test for multimodality. The test has suggested that the `Age`, `SysABP`, and `Height` distributions may be multimodal. We'll plot the distributions here."
   ]
  },
  {
   "cell_type": "code",
   "execution_count": 8,
   "metadata": {
    "colab": {
     "base_uri": "https://localhost:8080/",
     "height": 500
    },
    "colab_type": "code",
    "id": "ohUFHlwBleoJ",
    "outputId": "6554ffae-2e4d-4a2f-ac8f-abb07141ff4f"
   },
   "outputs": [
    {
     "data": {
      "text/plain": [
       "(-30.0, 250.0)"
      ]
     },
     "execution_count": 8,
     "metadata": {},
     "output_type": "execute_result"
    },
    {
     "data": {
      "image/png": "[encoded data removed]",
      "text/plain": [
       "<Figure size 800x400 with 1 Axes>"
      ]
     },
     "metadata": {},
     "output_type": "display_data"
    }
   ],
   "source": [
    "data[['Age','SysABP','Height']].dropna().plot.kde(figsize=[8,4])\n",
    "plt.legend(['Age (years)', 'SysABP (mmHg)', 'Height (cm)'])\n",
    "plt.xlim([-30,250])"
   ]
  },
  {
   "cell_type": "markdown",
   "metadata": {
    "colab_type": "text",
    "id": "naKuFh2xleoL"
   },
   "source": [
    "## Exploring the warning raised by Tukey's rule\n",
    "\n",
    "Tukey's rule has found far outliers in Height, so we'll look at this in a boxplot"
   ]
  },
  {
   "cell_type": "code",
   "execution_count": 9,
   "metadata": {
    "colab": {
     "base_uri": "https://localhost:8080/",
     "height": 265
    },
    "colab_type": "code",
    "id": "hFgwrRh0leoL",
    "outputId": "56d1d828-73d9-47af-ecdf-38baf808fd62"
   },
   "outputs": [
    {
     "data": {
      "image/png": "[encoded data removed]",
      "text/plain": [
       "<Figure size 800x400 with 1 Axes>"
      ]
     },
     "metadata": {},
     "output_type": "display_data"
    }
   ],
   "source": [
    "data[['Age','Height','SysABP']].boxplot(whis=3, figsize=[8,4])\n",
    "plt.show()"
   ]
  },
  {
   "cell_type": "markdown",
   "metadata": {
    "colab_type": "text",
    "id": "dFlN43fhleoO"
   },
   "source": [
    "In both cases it seems that there are values that may need to be taken into account when calculating the summary statistics. For `SysABP`, a clearly bimodal distribution, the researcher will need to decide how to handle the peak at ~0, perhaps by cleaning the data and/or describing the issue in the summary table. For `Height`, the researcher may choose to report median, rather than mean."
   ]
  },
  {
   "cell_type": "markdown",
   "metadata": {
    "colab_type": "text",
    "id": "rJcqGPO-leoO"
   },
   "source": [
    "## Example 2: Table 1 with stratification <a name=\"stratified-example\"></a>\n",
    "\n",
    "In this example we provide summary statistics across all of the data, specifying columns, categorical variables, and non-normal variables."
   ]
  },
  {
   "cell_type": "code",
   "execution_count": 10,
   "metadata": {
    "colab": {
     "base_uri": "https://localhost:8080/",
     "height": 427
    },
    "colab_type": "code",
    "id": "2TuCwYPHleoQ",
    "outputId": "36a88bee-dce3-4cb4-bd41-699830aa1bff"
   },
   "outputs": [
    {
     "data": {
      "text/html": [
       "<div>\n",
       "<style scoped>\n",
       "    .dataframe tbody tr th:only-of-type {\n",
       "        vertical-align: middle;\n",
       "    }\n",
       "\n",
       "    .dataframe tbody tr th {\n",
       "        vertical-align: top;\n",
       "    }\n",
       "\n",
       "    .dataframe thead tr th {\n",
       "        text-align: left;\n",
       "    }\n",
       "</style>\n",
       "<table border=\"1\" class=\"dataframe\">\n",
       "  <thead>\n",
       "    <tr>\n",
       "      <th></th>\n",
       "      <th></th>\n",
       "      <th colspan=\"4\" halign=\"left\">Grouped by Mortality</th>\n",
       "    </tr>\n",
       "    <tr>\n",
       "      <th></th>\n",
       "      <th></th>\n",
       "      <th>Missing</th>\n",
       "      <th>Overall</th>\n",
       "      <th>0</th>\n",
       "      <th>1</th>\n",
       "    </tr>\n",
       "  </thead>\n",
       "  <tbody>\n",
       "    <tr>\n",
       "      <th>n</th>\n",
       "      <th></th>\n",
       "      <td></td>\n",
       "      <td>1000</td>\n",
       "      <td>864</td>\n",
       "      <td>136</td>\n",
       "    </tr>\n",
       "    <tr>\n",
       "      <th>Age, median [Q1,Q3]</th>\n",
       "      <th></th>\n",
       "      <td>0</td>\n",
       "      <td>68 [53,79]</td>\n",
       "      <td>66 [53,78]</td>\n",
       "      <td>75 [62,83]</td>\n",
       "    </tr>\n",
       "    <tr>\n",
       "      <th>SysABP, mean (SD)</th>\n",
       "      <th></th>\n",
       "      <td>291</td>\n",
       "      <td>114.3 (40.2)</td>\n",
       "      <td>115.4 (38.3)</td>\n",
       "      <td>107.6 (49.4)</td>\n",
       "    </tr>\n",
       "    <tr>\n",
       "      <th>Height, mean [min,max]</th>\n",
       "      <th></th>\n",
       "      <td>475</td>\n",
       "      <td>170.1 [13.0,406.4]</td>\n",
       "      <td>170.3 [13.0,406.4]</td>\n",
       "      <td>168.5 [144.8,188.0]</td>\n",
       "    </tr>\n",
       "    <tr>\n",
       "      <th>Weight, mean (SD)</th>\n",
       "      <th></th>\n",
       "      <td>302</td>\n",
       "      <td>82.9 (23.8)</td>\n",
       "      <td>83.0 (23.6)</td>\n",
       "      <td>82.3 (25.4)</td>\n",
       "    </tr>\n",
       "    <tr>\n",
       "      <th rowspan=\"4\" valign=\"top\">ICU, n (%)</th>\n",
       "      <th>CCU</th>\n",
       "      <td></td>\n",
       "      <td>162 (16.2)</td>\n",
       "      <td>137 (15.9)</td>\n",
       "      <td>25 (18.4)</td>\n",
       "    </tr>\n",
       "    <tr>\n",
       "      <th>CSRU</th>\n",
       "      <td></td>\n",
       "      <td>202 (20.2)</td>\n",
       "      <td>194 (22.5)</td>\n",
       "      <td>8 (5.9)</td>\n",
       "    </tr>\n",
       "    <tr>\n",
       "      <th>MICU</th>\n",
       "      <td></td>\n",
       "      <td>380 (38.0)</td>\n",
       "      <td>318 (36.8)</td>\n",
       "      <td>62 (45.6)</td>\n",
       "    </tr>\n",
       "    <tr>\n",
       "      <th>SICU</th>\n",
       "      <td></td>\n",
       "      <td>256 (25.6)</td>\n",
       "      <td>215 (24.9)</td>\n",
       "      <td>41 (30.1)</td>\n",
       "    </tr>\n",
       "  </tbody>\n",
       "</table>\n",
       "</div><br />[1] Hartigan's Dip Test reports possible\n",
       "                                    multimodal distributions for: Age, Height, SysABP.<br />[2] Normality test reports non-normal\n",
       "                                    distributions for: Age, Height, SysABP, Weight.<br />[3] Tukey test indicates far outliers\n",
       "                                    in: Height, SysABP.<br />"
      ],
      "text/plain": [
       "                            Grouped by Mortality                                                             \n",
       "                                         Missing             Overall                   0                    1\n",
       "n                                                               1000                 864                  136\n",
       "Age, median [Q1,Q3]                            0          68 [53,79]          66 [53,78]           75 [62,83]\n",
       "SysABP, mean (SD)                            291        114.3 (40.2)        115.4 (38.3)         107.6 (49.4)\n",
       "Height, mean [min,max]                       475  170.1 [13.0,406.4]  170.3 [13.0,406.4]  168.5 [144.8,188.0]\n",
       "Weight, mean (SD)                            302         82.9 (23.8)         83.0 (23.6)          82.3 (25.4)\n",
       "ICU, n (%)             CCU                                162 (16.2)          137 (15.9)            25 (18.4)\n",
       "                       CSRU                               202 (20.2)          194 (22.5)              8 (5.9)\n",
       "                       MICU                               380 (38.0)          318 (36.8)            62 (45.6)\n",
       "                       SICU                               256 (25.6)          215 (24.9)            41 (30.1)\n",
       "[1] Hartigan's Dip Test reports possible\n",
       "                                    multimodal distributions for: Age, Height, SysABP.\n",
       "[2] Normality test reports non-normal\n",
       "                                    distributions for: Age, Height, SysABP, Weight.\n",
       "[3] Tukey test indicates far outliers\n",
       "                                    in: Height, SysABP."
      ]
     },
     "execution_count": 10,
     "metadata": {},
     "output_type": "execute_result"
    }
   ],
   "source": [
    "# columns to summarize\n",
    "columns = ['Age', 'SysABP', 'Height', 'Weight', 'ICU', 'death']\n",
    "\n",
    "# columns containing categorical variables\n",
    "categorical = ['ICU']\n",
    "\n",
    "# columns containing categorical variables\n",
    "continuous = ['Age', 'SysABP', 'Height', 'Weight']\n",
    "\n",
    "# non-normal variables\n",
    "nonnormal = ['Age']\n",
    "\n",
    "# limit the binary variable \"death\" to a single row\n",
    "limit = {\"death\": 1}\n",
    "\n",
    "# set the order of the categorical variables\n",
    "order = {\"ICU\": [\"MICU\", \"SICU\", \"CSRU\", \"CCU\"]}\n",
    "\n",
    "# alternative labels\n",
    "labels={'death': 'Mortality'}\n",
    "\n",
    "# set decimal places for age to 0\n",
    "decimals = {\"Age\": 0}\n",
    "\n",
    "# optionally, a categorical variable for stratification\n",
    "groupby = 'death'\n",
    "\n",
    "# rename the death column\n",
    "labels={'death': 'Mortality'}\n",
    "\n",
    "# display minimum and maximum for listed variables\n",
    "min_max = ['Height']\n",
    "\n",
    "table2 = TableOne(data, columns=columns, categorical=categorical, continuous=continuous,\n",
    "                  groupby=groupby, nonnormal=nonnormal, rename=labels, label_suffix=True,\n",
    "                  decimals=decimals, limit=limit, min_max=min_max,\n",
    "                  dip_test=True, normal_test=True, tukey_test=True)\n",
    "\n",
    "table2"
   ]
  },
  {
   "cell_type": "markdown",
   "metadata": {
    "colab_type": "text",
    "id": "jG3dUr3FleoS"
   },
   "source": [
    "**Summary of the table**:\n",
    "\n",
    "- variables are explicitly defined in the input arguments.\n",
    "- the variables are displayed in the same order as the `columns` argument.\n",
    "- the `limit` argument specifies that only a 1 value should be shown for death.\n",
    "- the order of categorical values is defined in the optional `order` argument.\n",
    "- `nonnormal` continuous variables are summarized by '`median [Q1,Q3]`' instead of `mean (SD)`.\n",
    "- 'sex' is shown as 'gender and 'trt' is shown as 'treatment', as specified in the `rename` argument.\n",
    "- data is summarized across the groups specified in the `groupby` argument.\n",
    "- `min_max` displays \\[minimum, maximum\\] for the variable, instead of standard deviation or upper/lower quartiles."
   ]
  },
  {
   "cell_type": "markdown",
   "metadata": {
    "colab_type": "text",
    "id": "5uAN20wDleoj"
   },
   "source": [
    "## Adding p-values and standardized mean differences <a name=\"pval-smd\"></a>\n",
    "\n",
    "- We can run a test to compute p values by setting the ``pval`` argument to True. \n",
    "- Pairwise standardized mean differences can be added with the ``smd`` argument."
   ]
  },
  {
   "cell_type": "code",
   "execution_count": 11,
   "metadata": {
    "colab": {},
    "colab_type": "code",
    "id": "8oric66hleoj"
   },
   "outputs": [],
   "source": [
    "# create grouped_table with p values\n",
    "table3 = TableOne(data, columns, categorical, continuous, groupby, nonnormal, pval = True, smd=True,\n",
    "                  htest_name=True, dip_test=True, normal_test=True, tukey_test=True)"
   ]
  },
  {
   "cell_type": "code",
   "execution_count": 12,
   "metadata": {
    "colab": {
     "base_uri": "https://localhost:8080/",
     "height": 489
    },
    "colab_type": "code",
    "id": "mLeUYSoJleoo",
    "outputId": "7e065fce-7fe6-441d-90ad-7b31960ebf6c"
   },
   "outputs": [
    {
     "data": {
      "text/html": [
       "<div>\n",
       "<style scoped>\n",
       "    .dataframe tbody tr th:only-of-type {\n",
       "        vertical-align: middle;\n",
       "    }\n",
       "\n",
       "    .dataframe tbody tr th {\n",
       "        vertical-align: top;\n",
       "    }\n",
       "\n",
       "    .dataframe thead tr th {\n",
       "        text-align: left;\n",
       "    }\n",
       "</style>\n",
       "<table border=\"1\" class=\"dataframe\">\n",
       "  <thead>\n",
       "    <tr>\n",
       "      <th></th>\n",
       "      <th></th>\n",
       "      <th colspan=\"7\" halign=\"left\">Grouped by death</th>\n",
       "    </tr>\n",
       "    <tr>\n",
       "      <th></th>\n",
       "      <th></th>\n",
       "      <th>Missing</th>\n",
       "      <th>Overall</th>\n",
       "      <th>0</th>\n",
       "      <th>1</th>\n",
       "      <th>SMD (0,1)</th>\n",
       "      <th>P-Value</th>\n",
       "      <th>Test</th>\n",
       "    </tr>\n",
       "  </thead>\n",
       "  <tbody>\n",
       "    <tr>\n",
       "      <th>n</th>\n",
       "      <th></th>\n",
       "      <td></td>\n",
       "      <td>1000</td>\n",
       "      <td>864</td>\n",
       "      <td>136</td>\n",
       "      <td></td>\n",
       "      <td></td>\n",
       "      <td></td>\n",
       "    </tr>\n",
       "    <tr>\n",
       "      <th>Age, median [Q1,Q3]</th>\n",
       "      <th></th>\n",
       "      <td>0</td>\n",
       "      <td>68.0 [53.0,79.0]</td>\n",
       "      <td>66.0 [52.8,78.0]</td>\n",
       "      <td>75.0 [62.0,83.0]</td>\n",
       "      <td>0.487</td>\n",
       "      <td>&lt;0.001</td>\n",
       "      <td>Kruskal-Wallis</td>\n",
       "    </tr>\n",
       "    <tr>\n",
       "      <th>SysABP, mean (SD)</th>\n",
       "      <th></th>\n",
       "      <td>291</td>\n",
       "      <td>114.3 (40.2)</td>\n",
       "      <td>115.4 (38.3)</td>\n",
       "      <td>107.6 (49.4)</td>\n",
       "      <td>-0.176</td>\n",
       "      <td>0.134</td>\n",
       "      <td>Welch’s T-test</td>\n",
       "    </tr>\n",
       "    <tr>\n",
       "      <th>Height, mean (SD)</th>\n",
       "      <th></th>\n",
       "      <td>475</td>\n",
       "      <td>170.1 (22.1)</td>\n",
       "      <td>170.3 (23.2)</td>\n",
       "      <td>168.5 (11.3)</td>\n",
       "      <td>-0.099</td>\n",
       "      <td>0.304</td>\n",
       "      <td>Welch’s T-test</td>\n",
       "    </tr>\n",
       "    <tr>\n",
       "      <th>Weight, mean (SD)</th>\n",
       "      <th></th>\n",
       "      <td>302</td>\n",
       "      <td>82.9 (23.8)</td>\n",
       "      <td>83.0 (23.6)</td>\n",
       "      <td>82.3 (25.4)</td>\n",
       "      <td>-0.031</td>\n",
       "      <td>0.782</td>\n",
       "      <td>Welch’s T-test</td>\n",
       "    </tr>\n",
       "    <tr>\n",
       "      <th rowspan=\"4\" valign=\"top\">ICU, n (%)</th>\n",
       "      <th>CCU</th>\n",
       "      <td></td>\n",
       "      <td>162 (16.2)</td>\n",
       "      <td>137 (15.9)</td>\n",
       "      <td>25 (18.4)</td>\n",
       "      <td>0.490</td>\n",
       "      <td>&lt;0.001</td>\n",
       "      <td>Chi-squared</td>\n",
       "    </tr>\n",
       "    <tr>\n",
       "      <th>CSRU</th>\n",
       "      <td></td>\n",
       "      <td>202 (20.2)</td>\n",
       "      <td>194 (22.5)</td>\n",
       "      <td>8 (5.9)</td>\n",
       "      <td></td>\n",
       "      <td></td>\n",
       "      <td></td>\n",
       "    </tr>\n",
       "    <tr>\n",
       "      <th>MICU</th>\n",
       "      <td></td>\n",
       "      <td>380 (38.0)</td>\n",
       "      <td>318 (36.8)</td>\n",
       "      <td>62 (45.6)</td>\n",
       "      <td></td>\n",
       "      <td></td>\n",
       "      <td></td>\n",
       "    </tr>\n",
       "    <tr>\n",
       "      <th>SICU</th>\n",
       "      <td></td>\n",
       "      <td>256 (25.6)</td>\n",
       "      <td>215 (24.9)</td>\n",
       "      <td>41 (30.1)</td>\n",
       "      <td></td>\n",
       "      <td></td>\n",
       "      <td></td>\n",
       "    </tr>\n",
       "  </tbody>\n",
       "</table>\n",
       "</div><br />[1] Hartigan's Dip Test reports possible\n",
       "                                    multimodal distributions for: Age, Height, SysABP.<br />[2] Normality test reports non-normal\n",
       "                                    distributions for: Age, Height, SysABP, Weight.<br />[3] Tukey test indicates far outliers\n",
       "                                    in: Height, SysABP.<br />"
      ],
      "text/plain": [
       "                         Grouped by death                                                                                        \n",
       "                                  Missing           Overall                 0                 1 SMD (0,1) P-Value            Test\n",
       "n                                                      1000               864               136                                  \n",
       "Age, median [Q1,Q3]                     0  68.0 [53.0,79.0]  66.0 [52.8,78.0]  75.0 [62.0,83.0]     0.487  <0.001  Kruskal-Wallis\n",
       "SysABP, mean (SD)                     291      114.3 (40.2)      115.4 (38.3)      107.6 (49.4)    -0.176   0.134  Welch’s T-test\n",
       "Height, mean (SD)                     475      170.1 (22.1)      170.3 (23.2)      168.5 (11.3)    -0.099   0.304  Welch’s T-test\n",
       "Weight, mean (SD)                     302       82.9 (23.8)       83.0 (23.6)       82.3 (25.4)    -0.031   0.782  Welch’s T-test\n",
       "ICU, n (%)          CCU                          162 (16.2)        137 (15.9)         25 (18.4)     0.490  <0.001     Chi-squared\n",
       "                    CSRU                         202 (20.2)        194 (22.5)           8 (5.9)                                  \n",
       "                    MICU                         380 (38.0)        318 (36.8)         62 (45.6)                                  \n",
       "                    SICU                         256 (25.6)        215 (24.9)         41 (30.1)                                  \n",
       "[1] Hartigan's Dip Test reports possible\n",
       "                                    multimodal distributions for: Age, Height, SysABP.\n",
       "[2] Normality test reports non-normal\n",
       "                                    distributions for: Age, Height, SysABP, Weight.\n",
       "[3] Tukey test indicates far outliers\n",
       "                                    in: Height, SysABP."
      ]
     },
     "execution_count": 12,
     "metadata": {},
     "output_type": "execute_result"
    }
   ],
   "source": [
    "# view first 10 rows of tableone\n",
    "table3"
   ]
  },
  {
   "cell_type": "markdown",
   "metadata": {
    "colab_type": "text",
    "id": "LlqmAzm9leoq"
   },
   "source": [
    "**Summary of the table**:\n",
    "- the `htest_name` argument can be used to display the name of the hypothesis tests used.\n",
    "- the '`p-value`' column displays the p value generated to 3 decimal places."
   ]
  },
  {
   "cell_type": "markdown",
   "metadata": {},
   "source": [
    "## Using a custom hypothesis test to compute P-Values <a name=\"custom-htest\"></a>\n",
    "\n",
    "Custom hypothesis tests can be defined using the `htest` argument, which takes a dictionary of variable: function pairs (i.e. `htest = {var: custom_func}`, where `var` is the variable and `custom_func` is a function that takes lists of values in each group. The custom function must return a single `pval` value."
   ]
  },
  {
   "cell_type": "code",
   "execution_count": 13,
   "metadata": {},
   "outputs": [],
   "source": [
    "# load PhysioNet 2012 sample data\n",
    "data = load_dataset('pn2012')"
   ]
  },
  {
   "cell_type": "code",
   "execution_count": 14,
   "metadata": {},
   "outputs": [],
   "source": [
    "# define the custom tests\n",
    "# `*` allows the function to take an unknown number of arguments\n",
    "def my_custom_test(group1, group2):\n",
    "    \"\"\"\n",
    "    Hypothesis test for test_self_defined_statistical_tests\n",
    "    \"\"\"\n",
    "    my_custom_test.__name__ = \"Custom test 1\"\n",
    "    _, pval= stats.ks_2samp(group1, group2)\n",
    "    return pval\n",
    "\n",
    "\n",
    "# If the number of groups is unknown, use *args\n",
    "def my_custom_test2(*args):\n",
    "    \"\"\"\n",
    "    Hypothesis test for test_self_defined_statistical_tests\n",
    "    \"\"\"\n",
    "    # uncomment the following chunk to view the first 10 values in each group\n",
    "    for n, a in enumerate(args):\n",
    "        print(\"Group {} (total {} values.): {} ...\".format(n, len(a), a[:10]))\n",
    "        \n",
    "    my_custom_test2.__name__ = \"Custom test 2\"\n",
    "    _, pval= stats.ks_2samp(*args)\n",
    "    return pval\n",
    "\n",
    "custom_tests = {'Age': my_custom_test, 'SysABP': my_custom_test2}"
   ]
  },
  {
   "cell_type": "code",
   "execution_count": 15,
   "metadata": {},
   "outputs": [
    {
     "name": "stdout",
     "output_type": "stream",
     "text": [
      "Group 0 (total 608 values.): [105. 148. 150. 205.  98. 115. 119. 145.   0.  94.] ...\n",
      "Group 1 (total 101 values.): [103. 139. 164. 105.  95.   0. 178. 142.  96. 105.] ...\n"
     ]
    }
   ],
   "source": [
    "# create the table\n",
    "table4 = TableOne(data, groupby=\"death\", pval=True, htest_name=True, htest=custom_tests)"
   ]
  },
  {
   "cell_type": "code",
   "execution_count": 16,
   "metadata": {},
   "outputs": [
    {
     "data": {
      "text/html": [
       "<div>\n",
       "<style scoped>\n",
       "    .dataframe tbody tr th:only-of-type {\n",
       "        vertical-align: middle;\n",
       "    }\n",
       "\n",
       "    .dataframe tbody tr th {\n",
       "        vertical-align: top;\n",
       "    }\n",
       "\n",
       "    .dataframe thead tr th {\n",
       "        text-align: left;\n",
       "    }\n",
       "</style>\n",
       "<table border=\"1\" class=\"dataframe\">\n",
       "  <thead>\n",
       "    <tr>\n",
       "      <th></th>\n",
       "      <th></th>\n",
       "      <th colspan=\"6\" halign=\"left\">Grouped by death</th>\n",
       "    </tr>\n",
       "    <tr>\n",
       "      <th></th>\n",
       "      <th></th>\n",
       "      <th>Missing</th>\n",
       "      <th>Overall</th>\n",
       "      <th>0</th>\n",
       "      <th>1</th>\n",
       "      <th>P-Value</th>\n",
       "      <th>Test</th>\n",
       "    </tr>\n",
       "  </thead>\n",
       "  <tbody>\n",
       "    <tr>\n",
       "      <th>n</th>\n",
       "      <th></th>\n",
       "      <td></td>\n",
       "      <td>1000</td>\n",
       "      <td>864</td>\n",
       "      <td>136</td>\n",
       "      <td></td>\n",
       "      <td></td>\n",
       "    </tr>\n",
       "    <tr>\n",
       "      <th>Age, mean (SD)</th>\n",
       "      <th></th>\n",
       "      <td>0</td>\n",
       "      <td>65.0 (17.2)</td>\n",
       "      <td>64.0 (17.4)</td>\n",
       "      <td>71.7 (14.0)</td>\n",
       "      <td>&lt;0.001</td>\n",
       "      <td>Custom test 1</td>\n",
       "    </tr>\n",
       "    <tr>\n",
       "      <th>SysABP, mean (SD)</th>\n",
       "      <th></th>\n",
       "      <td>291</td>\n",
       "      <td>114.3 (40.2)</td>\n",
       "      <td>115.4 (38.3)</td>\n",
       "      <td>107.6 (49.4)</td>\n",
       "      <td>0.012</td>\n",
       "      <td>Custom test 2</td>\n",
       "    </tr>\n",
       "    <tr>\n",
       "      <th>Height, mean (SD)</th>\n",
       "      <th></th>\n",
       "      <td>475</td>\n",
       "      <td>170.1 (22.1)</td>\n",
       "      <td>170.3 (23.2)</td>\n",
       "      <td>168.5 (11.3)</td>\n",
       "      <td>0.304</td>\n",
       "      <td>Welch’s T-test</td>\n",
       "    </tr>\n",
       "    <tr>\n",
       "      <th>Weight, mean (SD)</th>\n",
       "      <th></th>\n",
       "      <td>302</td>\n",
       "      <td>82.9 (23.8)</td>\n",
       "      <td>83.0 (23.6)</td>\n",
       "      <td>82.3 (25.4)</td>\n",
       "      <td>0.782</td>\n",
       "      <td>Welch’s T-test</td>\n",
       "    </tr>\n",
       "    <tr>\n",
       "      <th rowspan=\"4\" valign=\"top\">ICU, n (%)</th>\n",
       "      <th>CCU</th>\n",
       "      <td></td>\n",
       "      <td>162 (16.2)</td>\n",
       "      <td>137 (15.9)</td>\n",
       "      <td>25 (18.4)</td>\n",
       "      <td>&lt;0.001</td>\n",
       "      <td>Chi-squared</td>\n",
       "    </tr>\n",
       "    <tr>\n",
       "      <th>CSRU</th>\n",
       "      <td></td>\n",
       "      <td>202 (20.2)</td>\n",
       "      <td>194 (22.5)</td>\n",
       "      <td>8 (5.9)</td>\n",
       "      <td></td>\n",
       "      <td></td>\n",
       "    </tr>\n",
       "    <tr>\n",
       "      <th>MICU</th>\n",
       "      <td></td>\n",
       "      <td>380 (38.0)</td>\n",
       "      <td>318 (36.8)</td>\n",
       "      <td>62 (45.6)</td>\n",
       "      <td></td>\n",
       "      <td></td>\n",
       "    </tr>\n",
       "    <tr>\n",
       "      <th>SICU</th>\n",
       "      <td></td>\n",
       "      <td>256 (25.6)</td>\n",
       "      <td>215 (24.9)</td>\n",
       "      <td>41 (30.1)</td>\n",
       "      <td></td>\n",
       "      <td></td>\n",
       "    </tr>\n",
       "    <tr>\n",
       "      <th rowspan=\"2\" valign=\"top\">MechVent, n (%)</th>\n",
       "      <th>0</th>\n",
       "      <td></td>\n",
       "      <td>540 (54.0)</td>\n",
       "      <td>468 (54.2)</td>\n",
       "      <td>72 (52.9)</td>\n",
       "      <td>0.862</td>\n",
       "      <td>Chi-squared</td>\n",
       "    </tr>\n",
       "    <tr>\n",
       "      <th>1</th>\n",
       "      <td></td>\n",
       "      <td>460 (46.0)</td>\n",
       "      <td>396 (45.8)</td>\n",
       "      <td>64 (47.1)</td>\n",
       "      <td></td>\n",
       "      <td></td>\n",
       "    </tr>\n",
       "    <tr>\n",
       "      <th>LOS, mean (SD)</th>\n",
       "      <th></th>\n",
       "      <td>0</td>\n",
       "      <td>14.2 (14.2)</td>\n",
       "      <td>14.0 (13.5)</td>\n",
       "      <td>15.4 (17.7)</td>\n",
       "      <td>0.386</td>\n",
       "      <td>Welch’s T-test</td>\n",
       "    </tr>\n",
       "  </tbody>\n",
       "</table>\n",
       "</div><br />"
      ],
      "text/plain": [
       "                       Grouped by death                                                                  \n",
       "                                Missing       Overall             0             1 P-Value            Test\n",
       "n                                                1000           864           136                        \n",
       "Age, mean (SD)                        0   65.0 (17.2)   64.0 (17.4)   71.7 (14.0)  <0.001   Custom test 1\n",
       "SysABP, mean (SD)                   291  114.3 (40.2)  115.4 (38.3)  107.6 (49.4)   0.012   Custom test 2\n",
       "Height, mean (SD)                   475  170.1 (22.1)  170.3 (23.2)  168.5 (11.3)   0.304  Welch’s T-test\n",
       "Weight, mean (SD)                   302   82.9 (23.8)   83.0 (23.6)   82.3 (25.4)   0.782  Welch’s T-test\n",
       "ICU, n (%)        CCU                      162 (16.2)    137 (15.9)     25 (18.4)  <0.001     Chi-squared\n",
       "                  CSRU                     202 (20.2)    194 (22.5)       8 (5.9)                        \n",
       "                  MICU                     380 (38.0)    318 (36.8)     62 (45.6)                        \n",
       "                  SICU                     256 (25.6)    215 (24.9)     41 (30.1)                        \n",
       "MechVent, n (%)   0                        540 (54.0)    468 (54.2)     72 (52.9)   0.862     Chi-squared\n",
       "                  1                        460 (46.0)    396 (45.8)     64 (47.1)                        \n",
       "LOS, mean (SD)                        0   14.2 (14.2)   14.0 (13.5)   15.4 (17.7)   0.386  Welch’s T-test"
      ]
     },
     "execution_count": 16,
     "metadata": {},
     "output_type": "execute_result"
    }
   ],
   "source": [
    "table4"
   ]
  },
  {
   "cell_type": "markdown",
   "metadata": {},
   "source": [
    "## Saving the table in custom formats (LaTeX, CSV, Markdown, etc) <a name=\"export\"></a>\n",
    "\n",
    "Tables can be exported to file in various formats, including:\n",
    "\n",
    "- LaTeX\n",
    "- CSV\n",
    "- HTML\n",
    "\n",
    "There are two options for exporting content:\n",
    "\n",
    "1. Print and copy the table using the `tabulate` method\n",
    "2. Call the relevant `to_<format>()` method on the DataFrame."
   ]
  },
  {
   "cell_type": "markdown",
   "metadata": {},
   "source": [
    "### Printing your table using tabulate\n",
    "\n",
    "The tableone object includes a `tabulate` method, that makes use of the [tabulate](https://pypi.org/project/tabulate/) package to display the table in custom output formats. Supported table formats include: \"github\", \"grid\", \"fancy_grid\", \"rst\", \"html\", \"latex\", and \"latex_raw\". See the tabulate package for more formats.\n",
    "\n",
    "To export your table in LaTex (for example, to add to your document on [Overleaf.com](https://www.overleaf.com/)), it's simple with the `tabulate` method. Just copy and paste the output below."
   ]
  },
  {
   "cell_type": "code",
   "execution_count": 17,
   "metadata": {},
   "outputs": [],
   "source": [
    "# load PhysioNet 2012 sample data\n",
    "data = load_dataset('pn2012')"
   ]
  },
  {
   "cell_type": "code",
   "execution_count": 18,
   "metadata": {},
   "outputs": [],
   "source": [
    "# create the table\n",
    "table5 = TableOne(data, groupby=\"death\")"
   ]
  },
  {
   "cell_type": "code",
   "execution_count": 19,
   "metadata": {
    "scrolled": true
   },
   "outputs": [
    {
     "name": "stdout",
     "output_type": "stream",
     "text": [
      "\\begin{tabular}{llllll}\n",
      "\\hline\n",
      "                   &      & Missing   & Overall      & 0            & 1            \\\\\n",
      "\\hline\n",
      " n                 &      &           & 1000         & 864          & 136          \\\\\n",
      " Age, mean (SD)    &      & 0         & 65.0 (17.2)  & 64.0 (17.4)  & 71.7 (14.0)  \\\\\n",
      " SysABP, mean (SD) &      & 291       & 114.3 (40.2) & 115.4 (38.3) & 107.6 (49.4) \\\\\n",
      " Height, mean (SD) &      & 475       & 170.1 (22.1) & 170.3 (23.2) & 168.5 (11.3) \\\\\n",
      " Weight, mean (SD) &      & 302       & 82.9 (23.8)  & 83.0 (23.6)  & 82.3 (25.4)  \\\\\n",
      " ICU, n (\\%)        & CCU  &           & 162 (16.2)   & 137 (15.9)   & 25 (18.4)    \\\\\n",
      "                   & CSRU &           & 202 (20.2)   & 194 (22.5)   & 8 (5.9)      \\\\\n",
      "                   & MICU &           & 380 (38.0)   & 318 (36.8)   & 62 (45.6)    \\\\\n",
      "                   & SICU &           & 256 (25.6)   & 215 (24.9)   & 41 (30.1)    \\\\\n",
      " MechVent, n (\\%)   & 0    &           & 540 (54.0)   & 468 (54.2)   & 72 (52.9)    \\\\\n",
      "                   & 1    &           & 460 (46.0)   & 396 (45.8)   & 64 (47.1)    \\\\\n",
      " LOS, mean (SD)    &      & 0         & 14.2 (14.2)  & 14.0 (13.5)  & 15.4 (17.7)  \\\\\n",
      "\\hline\n",
      "\\end{tabular}\n"
     ]
    }
   ],
   "source": [
    "print(table5.tabulate(tablefmt = \"latex\"))"
   ]
  },
  {
   "cell_type": "code",
   "execution_count": 20,
   "metadata": {},
   "outputs": [
    {
     "name": "stdout",
     "output_type": "stream",
     "text": [
      "|                   |      | Missing   | Overall      | 0            | 1            |\n",
      "|-------------------|------|-----------|--------------|--------------|--------------|\n",
      "| n                 |      |           | 1000         | 864          | 136          |\n",
      "| Age, mean (SD)    |      | 0         | 65.0 (17.2)  | 64.0 (17.4)  | 71.7 (14.0)  |\n",
      "| SysABP, mean (SD) |      | 291       | 114.3 (40.2) | 115.4 (38.3) | 107.6 (49.4) |\n",
      "| Height, mean (SD) |      | 475       | 170.1 (22.1) | 170.3 (23.2) | 168.5 (11.3) |\n",
      "| Weight, mean (SD) |      | 302       | 82.9 (23.8)  | 83.0 (23.6)  | 82.3 (25.4)  |\n",
      "| ICU, n (%)        | CCU  |           | 162 (16.2)   | 137 (15.9)   | 25 (18.4)    |\n",
      "|                   | CSRU |           | 202 (20.2)   | 194 (22.5)   | 8 (5.9)      |\n",
      "|                   | MICU |           | 380 (38.0)   | 318 (36.8)   | 62 (45.6)    |\n",
      "|                   | SICU |           | 256 (25.6)   | 215 (24.9)   | 41 (30.1)    |\n",
      "| MechVent, n (%)   | 0    |           | 540 (54.0)   | 468 (54.2)   | 72 (52.9)    |\n",
      "|                   | 1    |           | 460 (46.0)   | 396 (45.8)   | 64 (47.1)    |\n",
      "| LOS, mean (SD)    |      | 0         | 14.2 (14.2)  | 14.0 (13.5)  | 15.4 (17.7)  |\n"
     ]
    }
   ],
   "source": [
    "print(table5.tabulate(tablefmt = \"github\"))"
   ]
  },
  {
   "cell_type": "markdown",
   "metadata": {},
   "source": [
    "### Exporting your table using the `to_<format>()` method\n",
    "\n",
    "Alternatively, the table can be saved to file using the Pandas `to_format()` method. "
   ]
  },
  {
   "cell_type": "code",
   "execution_count": 21,
   "metadata": {},
   "outputs": [],
   "source": [
    "# Save to Excel\n",
    "fn1 = 'tableone.xlsx'\n",
    "table5.to_excel(fn1)\n",
    "\n",
    "# Save table to LaTeX\n",
    "fn2 = 'tableone.tex'\n",
    "table5.to_latex(fn2)\n",
    "\n",
    "# Save table to HTML\n",
    "fn3 = 'tableone.html'\n",
    "table5.to_html(fn3)"
   ]
  }
 ],
 "metadata": {
  "colab": {
   "include_colab_link": true,
   "name": "tableone.ipynb",
   "provenance": []
  },
  "kernelspec": {
   "display_name": "Python 3 (ipykernel)",
   "language": "python",
   "name": "python3"
  },
  "language_info": {
   "codemirror_mode": {
    "name": "ipython",
    "version": 3
   },
   "file_extension": ".py",
   "mimetype": "text/x-python",
   "name": "python",
   "nbconvert_exporter": "python",
   "pygments_lexer": "ipython3",
   "version": "3.9.21"
  }
 },
 "nbformat": 4,
 "nbformat_minor": 4
}
