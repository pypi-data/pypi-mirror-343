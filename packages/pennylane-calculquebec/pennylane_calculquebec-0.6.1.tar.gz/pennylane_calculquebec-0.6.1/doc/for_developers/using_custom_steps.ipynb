{
 "cells": [
  {
   "cell_type": "markdown",
   "metadata": {},
   "source": [
    "## Steps"
   ]
  },
  {
   "cell_type": "markdown",
   "metadata": {},
   "source": [
    "All steps that are played by default are **preprocessing** steps, but you can also add **postprocessing** steps, that act on the results instead of the circuit.\n",
    "\n",
    "The steps will be filtered according to their type automatically."
   ]
  },
  {
   "cell_type": "code",
   "execution_count": null,
   "metadata": {},
   "outputs": [
    {
     "name": "stdout",
     "output_type": "stream",
     "text": [
      "<pennylane_calculquebec.processing.steps.decompose_readout.DecomposeReadout object at 0x000001FF94369600>\n",
      "<pennylane_calculquebec.processing.steps.base_decomposition.CliffordTDecomposition object at 0x000001FF94369E40>\n",
      "<pennylane_calculquebec.processing.steps.placement.ISMAGS object at 0x000001FF94369B40>\n",
      "<pennylane_calculquebec.processing.steps.routing.Swaps object at 0x000001FF943691B0>\n",
      "<pennylane_calculquebec.processing.steps.optimization.IterativeCommuteAndMerge object at 0x000001FF94369990>\n",
      "<pennylane_calculquebec.processing.steps.native_decomposition.MonarqDecomposition object at 0x000001FF943BF850>\n",
      "<pennylane_calculquebec.processing.steps.optimization.IterativeCommuteAndMerge object at 0x000001FF943BF6A0>\n",
      "<pennylane_calculquebec.processing.steps.native_decomposition.MonarqDecomposition object at 0x000001FF943BF0A0>\n",
      "<pennylane_calculquebec.processing.steps.readout_error_mitigation.IBUReadoutMitigation object at 0x000001FF94369240>\n"
     ]
    }
   ],
   "source": [
    "from pennylane_calculquebec.processing.config import MonarqDefaultConfig\n",
    "from pennylane_calculquebec.processing.steps import IBUReadoutMitigation\n",
    "\n",
    "readout_error_mitigation = IBUReadoutMitigation(\"yamaska\")\n",
    "\n",
    "my_config = MonarqDefaultConfig(\"yamaska\")\n",
    "my_config.steps.append(readout_error_mitigation)\n",
    "print(*my_config.steps, sep=\"\\n\")"
   ]
  },
  {
   "cell_type": "markdown",
   "metadata": {},
   "source": [
    "You can create new preprocessing / postprocessing steps by overriding the PreProcessing / PostProcessing classes."
   ]
  },
  {
   "cell_type": "code",
   "execution_count": 3,
   "metadata": {},
   "outputs": [],
   "source": [
    "# abstract steps + empty config\n",
    "from pennylane_calculquebec.processing.interfaces import PreProcStep, PostProcStep\n",
    "from pennylane_calculquebec.processing.config import ProcessingConfig\n",
    "\n",
    "# default steps\n",
    "from pennylane_calculquebec.processing.steps import CliffordTDecomposition, ASTAR, Swaps, IterativeCommuteAndMerge, MonarqDecomposition"
   ]
  },
  {
   "cell_type": "code",
   "execution_count": 4,
   "metadata": {},
   "outputs": [],
   "source": [
    "# toy preprocessing step for printing the circuit operations\n",
    "class PrintCircuit(PreProcStep):\n",
    "    def execute(self, tape):\n",
    "        print(*tape.operations)\n",
    "        return tape\n",
    "        \n",
    "# toy postprocessing step for printing the results\n",
    "class PrintResults(PostProcStep):\n",
    "    def execute(self, tape, results):\n",
    "        print(results)\n",
    "        return results"
   ]
  },
  {
   "cell_type": "code",
   "execution_count": null,
   "metadata": {},
   "outputs": [
    {
     "name": "stdout",
     "output_type": "stream",
     "text": [
      "<__main__.PrintCircuit object at 0x000001FFDD2FE050>\n",
      "<pennylane_calculquebec.processing.steps.base_decomposition.CliffordTDecomposition object at 0x000001FFDD2FE110>\n",
      "<pennylane_calculquebec.processing.steps.placement.ASTAR object at 0x000001FFDD2FFFD0>\n",
      "<pennylane_calculquebec.processing.steps.routing.Swaps object at 0x000001FF94369B70>\n",
      "<pennylane_calculquebec.processing.steps.optimization.IterativeCommuteAndMerge object at 0x000001FF94368A00>\n",
      "<pennylane_calculquebec.processing.steps.native_decomposition.MonarqDecomposition object at 0x000001FF943695D0>\n",
      "<__main__.PrintCircuit object at 0x000001FF94368250>\n",
      "<__main__.PrintResults object at 0x000001FF94368E50>\n",
      "<pennylane_calculquebec.processing.steps.readout_error_mitigation.IBUReadoutMitigation object at 0x000001FF9436A170>\n",
      "<__main__.PrintResults object at 0x000001FF94369ED0>\n"
     ]
    }
   ],
   "source": [
    "# this custom config will print the circuit, transpile, print the transpiled circuit \n",
    "# and then print the unmitigated results, followed by the mitigated results.\n",
    "my_config = ProcessingConfig(PrintCircuit(),\n",
    "                             CliffordTDecomposition(), \n",
    "                             ASTAR(\"yamaska\"),\n",
    "                             Swaps(\"yamaska\"),\n",
    "                             IterativeCommuteAndMerge(),\n",
    "                             MonarqDecomposition(), \n",
    "                             PrintCircuit(),\n",
    "                             PrintResults(),\n",
    "                             IBUReadoutMitigation(\"yamaska\"), \n",
    "                             PrintResults())\n",
    "print(*my_config.steps, sep=\"\\n\")"
   ]
  },
  {
   "cell_type": "markdown",
   "metadata": {},
   "source": [
    "### let's try our config with custom steps"
   ]
  },
  {
   "cell_type": "code",
   "execution_count": null,
   "metadata": {},
   "outputs": [
    {
     "name": "stdout",
     "output_type": "stream",
     "text": [
      "0: ──H─╭●────┤  Counts\n",
      "1: ────╰X─╭●─┤  Counts\n",
      "2: ───────╰X─┤  Counts\n",
      "H(0) CNOT(wires=[0, 1]) CNOT(wires=[1, 2])\n",
      "X90(wires=[1]) X90(wires=[0]) Z(0) CZ(wires=[4, 0]) X90(wires=[0]) X90(wires=[4]) Z(0) Z(4) CZ(wires=[0, 4]) X90(wires=[4]) X90(wires=[0]) Z(4) Z(0) CZ(wires=[4, 0]) X90(wires=[4]) Z(4) CZ(wires=[1, 4]) X90(wires=[4]) Z(4) CZ(wires=[4, 0]) X90(wires=[0]) X90(wires=[4]) Z(0) Z(4) CZ(wires=[0, 4]) X90(wires=[4]) X90(wires=[0]) Z(4) Z(0) CZ(wires=[4, 0]) X90(wires=[0]) X90(wires=[4]) Z(4) CZ(wires=[0, 4]) X90(wires=[4])\n",
      "{'000': 428, '001': 51, '010': 26, '011': 60, '100': 75, '101': 75, '110': 72, '111': 213}\n",
      "{'000': 465, '001': 38, '010': 5, '011': 56, '100': 37, '101': 64, '110': 44, '111': 290}\n"
     ]
    }
   ],
   "source": [
    "import pennylane as qml\n",
    "from pennylane_calculquebec.API.client import MonarqClient\n",
    "\n",
    "# Change the values in the parentheses for your credentials\n",
    "my_client = MonarqClient(\"your host\", \"your user\", \"your access token\", \"your project\")\n",
    "\n",
    "dev = qml.device(\"monarq.default\", client=my_client, processing_config = my_config, shots=1000)\n",
    "\n",
    "dev.circuit_name = \"your circuit\"\n",
    "dev.project = \"your project\"\n",
    "\n",
    "# a simple ghz circuit\n",
    "@qml.qnode(dev)\n",
    "def circuit():\n",
    "    qml.Hadamard(wires=0)\n",
    "    qml.CNOT(wires=[0, 1]) \n",
    "    qml.CNOT([1, 2])\n",
    "    return qml.counts()\n",
    "\n",
    "# lets print the circuit\n",
    "print(qml.draw(circuit)())\n",
    "\n",
    "results = circuit()\n",
    "\n",
    "# you don't have to print results, since they are printed as a post processing step!\n",
    "# print(results)"
   ]
  }
 ],
 "metadata": {
  "kernelspec": {
   "display_name": "Python 3",
   "language": "python",
   "name": "python3"
  },
  "language_info": {
   "codemirror_mode": {
    "name": "ipython",
    "version": 3
   },
   "file_extension": ".py",
   "mimetype": "text/x-python",
   "name": "python",
   "nbconvert_exporter": "python",
   "pygments_lexer": "ipython3",
   "version": "3.10.11"
  }
 },
 "nbformat": 4,
 "nbformat_minor": 2
}
