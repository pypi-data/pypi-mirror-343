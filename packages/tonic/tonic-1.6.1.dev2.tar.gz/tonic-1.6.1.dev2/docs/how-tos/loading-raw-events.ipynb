{
 "cells": [
  {
   "cell_type": "markdown",
   "metadata": {},
   "source": [
    "# Loading raw events using a PyTorch dataloader\n",
    "Sometimes we want to load the raw events as fast as possible. In such cases it makes sense to make use of the multiprocessing functionality of a PyTorch dataloader. Wrapping a `Tonic` dataset without transform with such a dataloader does not work out of the box, because Tonic works with structured numpy arrays and PyTorch cannot convert such data format into tensors. We therefore have to make use of a helper transform as follows.\n",
    "\n",
    "```{note}\n",
    "You can not use batching operations on raw events, because samples all have different lengths.\n",
    "```"
   ]
  },
  {
   "cell_type": "code",
   "execution_count": null,
   "metadata": {},
   "outputs": [],
   "source": [
    "import tonic\n",
    "\n",
    "# converts structured numpy arrays to unstructured ones\n",
    "transform = tonic.transforms.NumpyAsType(int)\n",
    "\n",
    "nmnist = tonic.datasets.NMNIST(\"../tutorials/data\", train=False, transform=transform)\n",
    "\n",
    "\n",
    "from torch.utils.data import DataLoader\n",
    "\n",
    "dataloader = DataLoader(nmnist, shuffle=True, num_workers=2)\n",
    "\n",
    "events, label = next(iter(dataloader))\n",
    "\n",
    "print(events)"
   ]
  }
 ],
 "metadata": {
  "kernelspec": {
   "display_name": "Python 3.9.7 ('base')",
   "language": "python",
   "name": "python3"
  },
  "language_info": {
   "codemirror_mode": {
    "name": "ipython",
    "version": 3
   },
   "file_extension": ".py",
   "mimetype": "text/x-python",
   "name": "python",
   "nbconvert_exporter": "python",
   "pygments_lexer": "ipython3",
   "version": "3.9.7"
  },
  "vscode": {
   "interpreter": {
    "hash": "65b6f4b806bbaf5b54d6ccaa27abf7e5307b1f0e4411e9da36d5256169cebdd7"
   }
  }
 },
 "nbformat": 4,
 "nbformat_minor": 2
}
