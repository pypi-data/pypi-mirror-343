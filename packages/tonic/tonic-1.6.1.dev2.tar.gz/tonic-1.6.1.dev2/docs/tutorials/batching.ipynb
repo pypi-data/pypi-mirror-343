{
 "cells": [
  {
   "cell_type": "markdown",
   "id": "44f4e641-170d-4fbd-b5af-9e4afd8f5926",
   "metadata": {},
   "source": [
    "# Batching multiple event frames\n",
    "To decrease the time our GPU waits for new data and sits idle, we'll increase the batch size next. Event recordings all have different length, even if it's just microseconds that they are off. In a mini-batch, all the tensors must have the same size. That is why we'll make use of a helper __collate__ function that pads tensors with zeros so that all the (transformed) recordings in the batch have the same shape."
   ]
  },
  {
   "cell_type": "code",
   "execution_count": null,
   "id": "5b28481e-76b6-4dac-b60b-e080ce02cb56",
   "metadata": {},
   "outputs": [],
   "source": [
    "import tonic\n",
    "import tonic.transforms as transforms\n",
    "import torch\n",
    "from torch.utils.data import DataLoader\n",
    "\n",
    "torch.manual_seed(1234)\n",
    "\n",
    "sensor_size = tonic.datasets.NMNIST.sensor_size\n",
    "frame_transform = transforms.ToFrame(sensor_size=sensor_size, time_window=10000)\n",
    "\n",
    "dataset = tonic.datasets.NMNIST(\n",
    "    save_to=\"./data\", train=False, transform=frame_transform\n",
    ")\n",
    "\n",
    "dataloader_batched = DataLoader(\n",
    "    dataset,\n",
    "    shuffle=True,\n",
    "    batch_size=10,\n",
    "    collate_fn=tonic.collation.PadTensors(batch_first=True),\n",
    ")\n",
    "\n",
    "frames, targets = next(iter(dataloader_batched))"
   ]
  },
  {
   "cell_type": "markdown",
   "id": "584422a4-bea3-4556-9618-0871feef7b73",
   "metadata": {},
   "source": [
    "By default, the resulting tensor will be in the format (batch, time, channel, height, width)."
   ]
  },
  {
   "cell_type": "code",
   "execution_count": null,
   "id": "0b4481f4-2153-479b-8d69-26cf2e8e7d84",
   "metadata": {},
   "outputs": [],
   "source": [
    "frames.shape"
   ]
  },
  {
   "cell_type": "code",
   "execution_count": null,
   "id": "f7041827-7710-4633-9b95-2f765ea4fa38",
   "metadata": {},
   "outputs": [],
   "source": [
    "targets"
   ]
  },
  {
   "cell_type": "markdown",
   "id": "5bd80c8c-e784-475a-b76a-8d79579eb4c1",
   "metadata": {},
   "source": [
    "We can set `batch_first=False` in our collate class to change this behaviour as in [PyTorch RNN](https://pytorch.org/docs/stable/generated/torch.nn.RNN.html?highlight=rnn#torch.nn.RNN)."
   ]
  },
  {
   "cell_type": "code",
   "execution_count": null,
   "id": "e8ad837e-0c31-4782-9306-7b03d12299c3",
   "metadata": {},
   "outputs": [],
   "source": [
    "dataloader_batched = DataLoader(\n",
    "    dataset,\n",
    "    shuffle=True,\n",
    "    batch_size=10,\n",
    "    collate_fn=tonic.collation.PadTensors(batch_first=False),\n",
    ")\n",
    "\n",
    "frames, targets = next(iter(dataloader_batched))"
   ]
  },
  {
   "cell_type": "code",
   "execution_count": null,
   "id": "b3cde665-85fa-44cd-b9fd-0835e370fe6e",
   "metadata": {},
   "outputs": [],
   "source": [
    "frames.shape"
   ]
  }
 ],
 "metadata": {
  "kernelspec": {
   "display_name": "Python 3 (ipykernel)",
   "language": "python",
   "name": "python3"
  },
  "language_info": {
   "codemirror_mode": {
    "name": "ipython",
    "version": 3
   },
   "file_extension": ".py",
   "mimetype": "text/x-python",
   "name": "python",
   "nbconvert_exporter": "python",
   "pygments_lexer": "ipython3",
   "version": "3.8.11"
  }
 },
 "nbformat": 4,
 "nbformat_minor": 5
}
