{
 "cells": [
  {
   "cell_type": "markdown",
   "id": "4d3cfc7a-a8a6-4620-ab0d-d8ed6fa865f6",
   "metadata": {},
   "source": [
    "# Dataset slicing\n",
    "An event recording is somewhat similar to a video. Sometimes it is desirable to slice a single event recording into multiple samples. During training time, we might want to load just a slice of a recording rather than the whole one. This is typically the case when training an ANN on event frames, if one recording contains multiple labels or if recordings are just very long. We specify a `slicer` method which decides how recordings are cut into smaller chunks. The overall dataset size will grow larger the smaller the chunks are. Let's look at how we can cut a sample of the N-MNIST dataset which is around 300 ms into smaller pieces of 50 ms."
   ]
  },
  {
   "cell_type": "code",
   "execution_count": null,
   "id": "10d81683-553d-49cd-bb7f-a8f6c9cae9a6",
   "metadata": {},
   "outputs": [],
   "source": [
    "import tonic\n",
    "from tonic import SlicedDataset\n",
    "from tonic.slicers import SliceByTime\n",
    "\n",
    "dataset = tonic.datasets.NMNIST(save_to=\"./data\", train=False)\n",
    "\n",
    "slicing_time_window = 50000  # microseconds\n",
    "slicer = SliceByTime(time_window=slicing_time_window)\n",
    "sliced_dataset = SlicedDataset(\n",
    "    dataset, slicer=slicer, metadata_path=\"./metadata/nmnist\"\n",
    ")"
   ]
  },
  {
   "cell_type": "code",
   "execution_count": null,
   "id": "4250d0c3-9906-4ccb-b42b-dd467e39200c",
   "metadata": {},
   "outputs": [],
   "source": [
    "print(\n",
    "    f\"Went from {len(dataset)} samples in the original dataset to {len(sliced_dataset)} in the sliced version.\"\n",
    ")"
   ]
  },
  {
   "cell_type": "code",
   "execution_count": null,
   "id": "aebec5a2-72ad-405c-9452-b3474729e9bd",
   "metadata": {},
   "outputs": [],
   "source": [
    "events, targets = sliced_dataset[100]"
   ]
  },
  {
   "cell_type": "markdown",
   "id": "a88c85ed-4d8e-4bc4-bdca-ff838cc56a41",
   "metadata": {},
   "source": [
    "We can verify that the difference between last and first timestamp in the slice is not greater than our slicing time window earlier"
   ]
  },
  {
   "cell_type": "code",
   "execution_count": null,
   "id": "f112e009-9abe-4bf9-a01d-f1890b636b9a",
   "metadata": {},
   "outputs": [],
   "source": [
    "slice_time_difference = events[\"t\"][-1] - events[\"t\"][0]\n",
    "print(\n",
    "    f\"Difference between last and first timestamp in slice: {slice_time_difference} us\"\n",
    ")\n",
    "assert slice_time_difference <= slicing_time_window"
   ]
  },
  {
   "cell_type": "markdown",
   "id": "212b8345-3756-41b1-91ea-302e3159043b",
   "metadata": {},
   "source": [
    "## Applying transforms post-slicing\n",
    "We can specify transform and/or target_transform which will be applied to the slice after loading."
   ]
  },
  {
   "cell_type": "code",
   "execution_count": null,
   "id": "b28837de-3f38-47d9-bb89-bbf37273c66a",
   "metadata": {},
   "outputs": [],
   "source": [
    "frame_transform = tonic.transforms.ToImage(\n",
    "    sensor_size=tonic.datasets.NMNIST.sensor_size\n",
    ")\n",
    "\n",
    "sliced_dataset = SlicedDataset(\n",
    "    dataset, slicer=slicer, transform=frame_transform, metadata_path=\"./metadata/nmnist\"\n",
    ")"
   ]
  },
  {
   "cell_type": "code",
   "execution_count": null,
   "id": "488c1135-5928-4ee1-a7b4-19eb4e89a115",
   "metadata": {},
   "outputs": [],
   "source": [
    "frames, targets = sliced_dataset[100]"
   ]
  },
  {
   "cell_type": "markdown",
   "id": "211ea6d8-f9c3-4a3f-923b-a97114a2e31f",
   "metadata": {},
   "source": [
    "We can verify that the sum of events in the frames is the same as the number of events without transform."
   ]
  },
  {
   "cell_type": "code",
   "execution_count": null,
   "id": "cdece00a-de7b-4572-b879-aa3c166c6577",
   "metadata": {},
   "outputs": [],
   "source": [
    "print(\"Number of spikes: \" + str(frames.sum()))\n",
    "assert frames.sum() == len(events)"
   ]
  },
  {
   "cell_type": "markdown",
   "id": "ee0fdeb4-8788-40ff-9e81-7c1dec267899",
   "metadata": {},
   "source": [
    "## Caching a SlicedDataset\n",
    "To retrieve a slice from our new dataset means opening and loading the original recording, finding the desired slice and returning it. This adds considerable computational overhead. To speed things up we can make use of caching to store the slices either on disk or in memory. \n",
    "In the next example we wrap our sliced dataset in a `MemoryCachedDataset`, which will write the slices to working memory, from where they can be retrieved very quickly the next time you need them (for example in the next training epoch). We'll also provide an augmentation transform that is applied post-loading from cache."
   ]
  },
  {
   "cell_type": "code",
   "execution_count": null,
   "id": "a9c358dd-a2f9-4325-9da9-c0fdb4f26f7c",
   "metadata": {},
   "outputs": [],
   "source": [
    "import torch\n",
    "import torchvision\n",
    "from tonic import MemoryCachedDataset\n",
    "\n",
    "torch.manual_seed(1234)\n",
    "\n",
    "augmentation = tonic.transforms.Compose(\n",
    "    [torch.tensor, torchvision.transforms.RandomRotation([-45, 45])]\n",
    ")\n",
    "augmented_dataset = MemoryCachedDataset(sliced_dataset, transform=augmentation)"
   ]
  },
  {
   "cell_type": "code",
   "execution_count": null,
   "id": "e1096bdc-a8f9-4847-bc0d-81f65c9f6520",
   "metadata": {},
   "outputs": [],
   "source": [
    "rotated_frames, targets = augmented_dataset[200]"
   ]
  },
  {
   "cell_type": "code",
   "execution_count": null,
   "id": "9d8a3ccd-9ad4-46cc-999f-8314b941490b",
   "metadata": {},
   "outputs": [],
   "source": [
    "%matplotlib inline\n",
    "import matplotlib.pyplot as plt\n",
    "\n",
    "plt.imshow(rotated_frames[0]);"
   ]
  },
  {
   "cell_type": "code",
   "execution_count": null,
   "id": "c64d913b-a784-4abe-bd97-51f1d0bc1d3d",
   "metadata": {},
   "outputs": [],
   "source": []
  }
 ],
 "metadata": {
  "kernelspec": {
   "display_name": "Python 3 (ipykernel)",
   "language": "python",
   "name": "python3"
  },
  "language_info": {
   "codemirror_mode": {
    "name": "ipython",
    "version": 3
   },
   "file_extension": ".py",
   "mimetype": "text/x-python",
   "name": "python",
   "nbconvert_exporter": "python",
   "pygments_lexer": "ipython3",
   "version": "3.7.11"
  }
 },
 "nbformat": 4,
 "nbformat_minor": 5
}
