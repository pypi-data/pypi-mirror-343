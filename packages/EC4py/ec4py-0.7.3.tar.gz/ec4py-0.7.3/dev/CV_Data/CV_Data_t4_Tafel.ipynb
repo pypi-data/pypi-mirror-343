{
 "cells": [
  {
   "cell_type": "code",
   "execution_count": 1,
   "metadata": {},
   "outputs": [],
   "source": [
    "import numpy as np\n",
    "from pathlib import Path\n",
    "from ec4py import Quantity_Value_Unit as QV\n",
    "from ec4py import *\n",
    "import math"
   ]
  },
  {
   "cell_type": "code",
   "execution_count": 2,
   "metadata": {},
   "outputs": [
    {
     "name": "stdout",
     "output_type": "stream",
     "text": [
      "c:\\Users\\gustav.wiberg\\Documents\\GitHub\\NordicEC\\EC4py\\test_data\\CV\n"
     ]
    }
   ],
   "source": [
    "paths = []\n",
    "path_to_dataSetFolder = Path(\".\").cwd().parent.parent / \"test_data\" /\"CV\"\n",
    "print(path_to_dataSetFolder)\n",
    "#paths.append( path_to_dataSetFolder / \"CV_144913_ 3.tdms\")\n",
    "paths.append( path_to_dataSetFolder / \"CV_153559_ 3.tdms\")\n",
    "paths.append( path_to_dataSetFolder / \"CV_153541_ 3.tdms\")\n",
    "paths.append( path_to_dataSetFolder / \"CV_153333_ 3.tdms\")\n",
    "paths.append( path_to_dataSetFolder / \"CV_151300_ 3.tdms\")\n",
    "paths.append( path_to_dataSetFolder / \"CV_151725_ 3.tdms\")\n",
    "paths.append( path_to_dataSetFolder / \"CV_151512_ 3.tdms\")\n",
    "\n"
   ]
  },
  {
   "cell_type": "code",
   "execution_count": 3,
   "metadata": {},
   "outputs": [
    {
     "name": "stdout",
     "output_type": "stream",
     "text": [
      "bb aaa\n"
     ]
    },
    {
     "ename": "TypeError",
     "evalue": "plot_options.__init__() takes 1 positional argument but 2 were given",
     "output_type": "error",
     "traceback": [
      "\u001b[1;31m---------------------------------------------------------------------------\u001b[0m",
      "\u001b[1;31mTypeError\u001b[0m                                 Traceback (most recent call last)",
      "Cell \u001b[1;32mIn[3], line 4\u001b[0m\n\u001b[0;32m      2\u001b[0m data\u001b[38;5;241m.\u001b[39mRE \u001b[38;5;241m=\u001b[39m \u001b[38;5;124m\"\u001b[39m\u001b[38;5;124maaa\u001b[39m\u001b[38;5;124m\"\u001b[39m\n\u001b[0;32m      3\u001b[0m \u001b[38;5;28mprint\u001b[39m(\u001b[38;5;124m\"\u001b[39m\u001b[38;5;124mbb\u001b[39m\u001b[38;5;124m\"\u001b[39m,data\u001b[38;5;241m.\u001b[39mRE)\n\u001b[1;32m----> 4\u001b[0m \u001b[43mdata\u001b[49m\u001b[38;5;241;43m.\u001b[39;49m\u001b[43mplot\u001b[49m\u001b[43m(\u001b[49m\u001b[38;5;124;43m\"\u001b[39;49m\u001b[38;5;124;43marea\u001b[39;49m\u001b[38;5;124;43m\"\u001b[39;49m\u001b[43m)\u001b[49m\n",
      "File \u001b[1;32m~\\Documents\\GitHub\\NordicEC\\EC4py\\src\\ec4py\\cv_data.py:597\u001b[0m, in \u001b[0;36mCV_Data.plot\u001b[1;34m(self, *args, **kwargs)\u001b[0m\n\u001b[0;32m    594\u001b[0m     \u001b[38;5;28;01mreturn\u001b[39;00m lsv\u001b[38;5;241m.\u001b[39mplot(\u001b[38;5;241m*\u001b[39margs,\u001b[38;5;241m*\u001b[39m\u001b[38;5;241m*\u001b[39mkwargs)\n\u001b[0;32m    596\u001b[0m data \u001b[38;5;241m=\u001b[39m copy\u001b[38;5;241m.\u001b[39mdeepcopy(\u001b[38;5;28mself\u001b[39m)\n\u001b[1;32m--> 597\u001b[0m options \u001b[38;5;241m=\u001b[39m \u001b[43mplot_options\u001b[49m\u001b[43m(\u001b[49m\u001b[43mkwargs\u001b[49m\u001b[43m)\u001b[49m\n\u001b[0;32m    598\u001b[0m options\u001b[38;5;241m.\u001b[39moptions[\u001b[38;5;124m\"\u001b[39m\u001b[38;5;124mdir\u001b[39m\u001b[38;5;124m\"\u001b[39m]\u001b[38;5;241m=\u001b[39m\u001b[38;5;28mdir\u001b[39m\n\u001b[0;32m    599\u001b[0m \u001b[38;5;66;03m#print(\"AAAAAAAAAAAAAAAAAAAAAAA\")\u001b[39;00m\n\u001b[0;32m    600\u001b[0m \u001b[38;5;66;03m#print(options.get_y_smooth())\u001b[39;00m\n\u001b[0;32m    601\u001b[0m \u001b[38;5;66;03m# print(options.get_legend(),self.legend(**kwargs))\u001b[39;00m\n\u001b[0;32m    602\u001b[0m \u001b[38;5;66;03m#print(options.get_title())\u001b[39;00m\n",
      "\u001b[1;31mTypeError\u001b[0m: plot_options.__init__() takes 1 positional argument but 2 were given"
     ]
    }
   ],
   "source": [
    "data = CV_Data(paths[0])\n",
    "data.RE = \"aaa\"\n",
    "print(\"bb\",data.RE)\n",
    "data.plot(\"area\")\n"
   ]
  },
  {
   "cell_type": "code",
   "execution_count": null,
   "metadata": {},
   "outputs": [],
   "source": [
    "a= data.get_sweep(POS)\n",
    "a.Tafel([0.8,0.9],0.4,RHE,AREA)\n",
    "\n"
   ]
  },
  {
   "cell_type": "code",
   "execution_count": null,
   "metadata": {},
   "outputs": [],
   "source": [
    "data.Tafel([0.8,0.9],0.4,RHE,AREA)\n",
    "\n"
   ]
  },
  {
   "cell_type": "code",
   "execution_count": null,
   "metadata": {},
   "outputs": [],
   "source": [
    "\n",
    "a =data.Tafel([0.8,0.9],0.4,RHE)\n",
    "print(\"POS\", a[0].value,a[1].value)\n",
    "\n",
    "lsv = data.get_sweep(POS)\n",
    "print(lsv.Tafel([0.8,0.9],0.4,RHE).value)\n",
    "lsv = data.get_sweep(NEG)\n",
    "print(lsv.Tafel([0.8,0.9],0.4,RHE).value)\n",
    "lsv = data.get_sweep(\"AVG\")\n",
    "print(lsv.Tafel([0.8,0.9],0.4,RHE).value)"
   ]
  },
  {
   "cell_type": "code",
   "execution_count": null,
   "metadata": {},
   "outputs": [],
   "source": [
    "q= data.integrate(0.1,1, \"pos\",\"show_plot\", \"line\",\"area\",RHE)\n",
    "print(q)"
   ]
  },
  {
   "cell_type": "code",
   "execution_count": null,
   "metadata": {},
   "outputs": [],
   "source": [
    "data.integrate(-0.8,-0.3, \"offset_at_emin\")\n",
    "print(data.setup)\n",
    "print(data.setup[\"RHE\"])\n",
    "\n",
    "data.set_RHE(\"-0.938 V\")\n",
    "\n",
    "data.plot(RHE)"
   ]
  },
  {
   "cell_type": "code",
   "execution_count": null,
   "metadata": {},
   "outputs": [],
   "source": [
    "data.Tafel([-0.2,0])\n",
    "k = data.Tafel([0.8,.9],0.6,RHE)\n",
    "print(k[0])\n",
    "print(k[1])\n",
    "v=np.abs(k[0].value)*1000\n",
    "print(v)\n",
    "v>40 and v<140"
   ]
  },
  {
   "cell_type": "code",
   "execution_count": null,
   "metadata": {},
   "outputs": [],
   "source": []
  },
  {
   "cell_type": "code",
   "execution_count": null,
   "metadata": {},
   "outputs": [],
   "source": [
    "data = CV_Data(paths[0])\n",
    "data.pot_shift(RHE)\n",
    "line, p = data.plot()\n",
    "data.get_E_at_i(-0.0008,\"pos\",plot=p)\n",
    "print(\"data\",data.get_E_at_i(-0.0008,0,\"pos\"))\n",
    "print(data.rotation)\n",
    "(data.rate)"
   ]
  },
  {
   "cell_type": "code",
   "execution_count": null,
   "metadata": {},
   "outputs": [],
   "source": [
    "data = CV_Data(paths[0])\n",
    "#data.plot()        \n",
    "tolerance =0.0001\n",
    "i = -0.0008\n",
    "#get indexes where \n",
    "a = np.zeros_like(data.i_p)\n",
    "a[ data.i_p < i-tolerance] = -1\n",
    "a[ data.i_p > i+tolerance] = +1\n",
    "\n",
    "idx= np.diff( a) # == 2 #finds where the difference is 2.\n",
    "\n",
    "b = np.argwhere(data.i_p < i-tolerance)\n",
    "c = np.argwhere(data.i_p > i+tolerance)\n",
    "print(\"bmin\", np.max(b))\n",
    "print(\"cmin\", np.min(c))\n",
    "\n",
    "start = np.max(b)\n",
    "end  = np.min(c)\n",
    "print(start,end, start-end )\n",
    "E_fit = data.E[start:end+1]\n",
    "i_fit = data.i_p[start:end+1]\n",
    "print(E_fit)\n",
    "k,m = np.polyfit(i_fit, E_fit, 1)\n",
    "print(\"E\", m+k*i)\n",
    "maxes= np.where(idx == 2)[0]\n",
    "print(maxes)\n",
    "ma = np.argmax(idx)\n",
    "index = int(a[ma])\n",
    "e =data.E[ma]\n",
    "print(\"argmax\",ma,\" a \", index, \"E\",e)\n",
    "\n",
    "print(\"idx\",len(idx))\n",
    "print(\"a\",len(a))\n",
    "import matplotlib.pyplot as plt\n",
    "plt.plot(E_fit,i_fit,\".\",[m+k*i],[i],\"ro\")\n",
    "#This variable indexes the values of data where data crosses\n",
    "#from below threshold-tol to above threshold+tol\n",
    "#crossesAboveThreshold = wh[idx]"
   ]
  }
 ],
 "metadata": {
  "kernelspec": {
   "display_name": ".venv",
   "language": "python",
   "name": "python3"
  },
  "language_info": {
   "codemirror_mode": {
    "name": "ipython",
    "version": 3
   },
   "file_extension": ".py",
   "mimetype": "text/x-python",
   "name": "python",
   "nbconvert_exporter": "python",
   "pygments_lexer": "ipython3",
   "version": "3.11.5"
  }
 },
 "nbformat": 4,
 "nbformat_minor": 2
}
