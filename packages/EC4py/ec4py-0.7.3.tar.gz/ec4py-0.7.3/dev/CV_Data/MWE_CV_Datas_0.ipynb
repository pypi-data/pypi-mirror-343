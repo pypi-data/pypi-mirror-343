{
 "cells": [
  {
   "cell_type": "markdown",
   "metadata": {},
   "source": [
    "# Levich and Koutechy-Levich analysis notebook for CV data.\n",
    "\n",
    "## 1. Import needed libraries"
   ]
  },
  {
   "cell_type": "code",
   "execution_count": 1,
   "metadata": {},
   "outputs": [],
   "source": [
    "from pathlib import Path\n",
    "from ec4py import *\n",
    "from ec4py import CV_Data,EC_Data,AREA,AREA_CM,LEGEND,CV_Datas,RHE,RATE\n",
    "from ec4py.ec_data_util import EC_Channels\n",
    "from ec4py import Quantity_Value_Unit as QV"
   ]
  },
  {
   "cell_type": "markdown",
   "metadata": {},
   "source": [
    "## 2.Make a list of paths to the data files."
   ]
  },
  {
   "cell_type": "code",
   "execution_count": 2,
   "metadata": {},
   "outputs": [
    {
     "name": "stdout",
     "output_type": "stream",
     "text": [
      "c:\\Users\\gustav.wiberg\\Documents\\GitHub\\NordicEC\\EC4py\\test_data\\CV\\MWE\n",
      "<class 'list'>\n"
     ]
    }
   ],
   "source": [
    "paths = []\n",
    "path_to_dataSetFolder = Path(\".\").cwd().parent.parent / \"test_data\" /\"CV\" / \"MWE\"\n",
    "print(path_to_dataSetFolder)\n",
    "#paths.append( path_to_dataSetFolder / \"CV_144913_ 3.tdms\")\n",
    "paths.append( path_to_dataSetFolder / \"CV_135307_ 3_MI.tdms\")\n",
    "paths.append( path_to_dataSetFolder / \"CV_141031_ 3_MI.tdms\")\n",
    "paths.append( path_to_dataSetFolder / \"CV_141010_ 3_MI.tdms\")\n",
    "\n",
    "print(type(paths))\n"
   ]
  },
  {
   "cell_type": "markdown",
   "metadata": {},
   "source": [
    "## 3. Load in the data files"
   ]
  },
  {
   "cell_type": "code",
   "execution_count": 3,
   "metadata": {},
   "outputs": [],
   "source": [
    "import types"
   ]
  },
  {
   "cell_type": "code",
   "execution_count": 4,
   "metadata": {},
   "outputs": [
    {
     "name": "stdout",
     "output_type": "stream",
     "text": [
      "True\n"
     ]
    }
   ],
   "source": [
    "path_to_dataSetFolder.glob(\"*.tdms\")\n",
    "k = path_to_dataSetFolder.glob(\"*.tdms\")\n",
    "print(isinstance(k,types.GeneratorType))"
   ]
  },
  {
   "cell_type": "code",
   "execution_count": 5,
   "metadata": {},
   "outputs": [
    {
     "name": "stdout",
     "output_type": "stream",
     "text": [
      "<class 'generator'>\n"
     ]
    }
   ],
   "source": [
    "print(type(path_to_dataSetFolder.glob(\"*.tdms\")))"
   ]
  },
  {
   "cell_type": "code",
   "execution_count": 6,
   "metadata": {},
   "outputs": [
    {
     "name": "stdout",
     "output_type": "stream",
     "text": [
      "[WindowsPath('c:/Users/gustav.wiberg/Documents/GitHub/NordicEC/EC4py/test_data/CV/MWE/CV_135307_ 3_MI.tdms'), WindowsPath('c:/Users/gustav.wiberg/Documents/GitHub/NordicEC/EC4py/test_data/CV/MWE/CV_140548_ 9_MI.tdms'), WindowsPath('c:/Users/gustav.wiberg/Documents/GitHub/NordicEC/EC4py/test_data/CV/MWE/CV_140944_ 3_MI.tdms'), WindowsPath('c:/Users/gustav.wiberg/Documents/GitHub/NordicEC/EC4py/test_data/CV/MWE/CV_140951_ 3_MI.tdms'), WindowsPath('c:/Users/gustav.wiberg/Documents/GitHub/NordicEC/EC4py/test_data/CV/MWE/CV_140959_ 3_MI.tdms'), WindowsPath('c:/Users/gustav.wiberg/Documents/GitHub/NordicEC/EC4py/test_data/CV/MWE/CV_141010_ 3_MI.tdms'), WindowsPath('c:/Users/gustav.wiberg/Documents/GitHub/NordicEC/EC4py/test_data/CV/MWE/CV_141031_ 3_MI.tdms'), WindowsPath('c:/Users/gustav.wiberg/Documents/GitHub/NordicEC/EC4py/test_data/CV/MWE/CV_142109_ 8_MI.tdms')]\n"
     ]
    }
   ],
   "source": [
    "ps = [x for x in path_to_dataSetFolder.glob(\"*.tdms\")]\n",
    "print(ps)"
   ]
  },
  {
   "cell_type": "code",
   "execution_count": 7,
   "metadata": {},
   "outputs": [
    {
     "ename": "ValueError",
     "evalue": "array of sample points is empty",
     "output_type": "error",
     "traceback": [
      "\u001b[1;31m---------------------------------------------------------------------------\u001b[0m",
      "\u001b[1;31mValueError\u001b[0m                                Traceback (most recent call last)",
      "Cell \u001b[1;32mIn[7], line 1\u001b[0m\n\u001b[1;32m----> 1\u001b[0m cvs\u001b[38;5;241m=\u001b[39m\u001b[43mCV_Datas\u001b[49m\u001b[43m(\u001b[49m\u001b[43mpath_to_dataSetFolder\u001b[49m\u001b[38;5;241;43m.\u001b[39;49m\u001b[43mglob\u001b[49m\u001b[43m(\u001b[49m\u001b[38;5;124;43m\"\u001b[39;49m\u001b[38;5;124;43m*.tdms\u001b[39;49m\u001b[38;5;124;43m\"\u001b[39;49m\u001b[43m)\u001b[49m\u001b[43m,\u001b[49m\u001b[38;5;124;43m\"\u001b[39;49m\u001b[38;5;124;43mi_0\u001b[39;49m\u001b[38;5;124;43m\"\u001b[39;49m\u001b[43m)\u001b[49m\n",
      "File \u001b[1;32m~\\Documents\\GitHub\\NordicEC\\EC4py\\src\\ec4py\\cv_datas.py:73\u001b[0m, in \u001b[0;36mCV_Datas.__init__\u001b[1;34m(self, paths, *args, **kwargs)\u001b[0m\n\u001b[0;32m     70\u001b[0m \u001b[38;5;66;03m#print([x for x in args])\u001b[39;00m\n\u001b[0;32m     71\u001b[0m \u001b[38;5;28;01mtry\u001b[39;00m:\n\u001b[1;32m---> 73\u001b[0m     \u001b[38;5;28;43mself\u001b[39;49m\u001b[38;5;241;43m.\u001b[39;49m\u001b[43mdatas\u001b[49m\u001b[43m[\u001b[49m\u001b[43mindex\u001b[49m\u001b[43m]\u001b[49m\u001b[38;5;241;43m.\u001b[39;49m\u001b[43mconv\u001b[49m\u001b[43m(\u001b[49m\u001b[43mec\u001b[49m\u001b[43m,\u001b[49m\u001b[38;5;241;43m*\u001b[39;49m\u001b[43margs\u001b[49m\u001b[43m,\u001b[49m\u001b[38;5;241;43m*\u001b[39;49m\u001b[38;5;241;43m*\u001b[39;49m\u001b[43mkwargs\u001b[49m\u001b[43m)\u001b[49m\n\u001b[0;32m     74\u001b[0m \u001b[38;5;28;01mfinally\u001b[39;00m:\n\u001b[0;32m     75\u001b[0m     index\u001b[38;5;241m=\u001b[39mindex\u001b[38;5;241m+\u001b[39m\u001b[38;5;241m1\u001b[39m\n",
      "File \u001b[1;32m~\\Documents\\GitHub\\NordicEC\\EC4py\\src\\ec4py\\cv_data.py:308\u001b[0m, in \u001b[0;36mCV_Data.conv\u001b[1;34m(self, ec_data, *args, **kwargs)\u001b[0m\n\u001b[0;32m    304\u001b[0m     \u001b[38;5;28;01mreturn\u001b[39;00m\n\u001b[0;32m    307\u001b[0m \u001b[38;5;28mself\u001b[39m\u001b[38;5;241m.\u001b[39msetup_data \u001b[38;5;241m=\u001b[39m copy\u001b[38;5;241m.\u001b[39mdeepcopy(ec_data\u001b[38;5;241m.\u001b[39msetup_data)\n\u001b[1;32m--> 308\u001b[0m \u001b[38;5;28;43mself\u001b[39;49m\u001b[38;5;241;43m.\u001b[39;49m\u001b[43mconvert\u001b[49m\u001b[43m(\u001b[49m\u001b[43mec_data\u001b[49m\u001b[38;5;241;43m.\u001b[39;49m\u001b[43mTime\u001b[49m\u001b[43m,\u001b[49m\u001b[43mdata_E\u001b[49m\u001b[43m,\u001b[49m\u001b[43mdata_i\u001b[49m\u001b[43m,\u001b[49m\u001b[38;5;241;43m*\u001b[39;49m\u001b[38;5;241;43m*\u001b[39;49m\u001b[43mkwargs\u001b[49m\u001b[43m)\u001b[49m\n\u001b[0;32m    309\u001b[0m \u001b[38;5;28mself\u001b[39m\u001b[38;5;241m.\u001b[39mIR_COMPENSATED \u001b[38;5;241m=\u001b[39m ir_comp\n\u001b[0;32m    310\u001b[0m E_title \u001b[38;5;241m=\u001b[39m \u001b[38;5;124m\"\u001b[39m\u001b[38;5;124mE\u001b[39m\u001b[38;5;124m\"\u001b[39m\n",
      "File \u001b[1;32m~\\Documents\\GitHub\\NordicEC\\EC4py\\src\\ec4py\\cv_data.py:472\u001b[0m, in \u001b[0;36mCV_Data.convert\u001b[1;34m(self, time, Potential_V, Current_A, **kwargs)\u001b[0m\n\u001b[0;32m    469\u001b[0m y_pos \u001b[38;5;241m=\u001b[39m  \u001b[38;5;28mself\u001b[39m\u001b[38;5;241m.\u001b[39mclean_up_edges(y_pos,\u001b[38;5;241m0\u001b[39m)\n\u001b[0;32m    471\u001b[0m \u001b[38;5;28;01mif\u001b[39;00m Two_vertex \u001b[38;5;129;01mand\u001b[39;00m positive_start:\n\u001b[1;32m--> 472\u001b[0m     y_pos2 \u001b[38;5;241m=\u001b[39m \u001b[38;5;28;43mself\u001b[39;49m\u001b[38;5;241;43m.\u001b[39;49m\u001b[43minterpolate\u001b[49m\u001b[43m(\u001b[49m\u001b[43mx_u2\u001b[49m\u001b[43m,\u001b[49m\u001b[43m \u001b[49m\u001b[43my_u2\u001b[49m\u001b[43m)\u001b[49m\n\u001b[0;32m    473\u001b[0m     y_pos2 \u001b[38;5;241m=\u001b[39m  \u001b[38;5;28mself\u001b[39m\u001b[38;5;241m.\u001b[39mclean_up_edges(y_pos2,\u001b[38;5;241m0\u001b[39m)\n\u001b[0;32m    474\u001b[0m     y_pos \u001b[38;5;241m=\u001b[39m y_pos \u001b[38;5;241m+\u001b[39m y_pos2\n",
      "File \u001b[1;32m~\\Documents\\GitHub\\NordicEC\\EC4py\\src\\ec4py\\util_voltammetry.py:151\u001b[0m, in \u001b[0;36mVoltammetry.interpolate\u001b[1;34m(self, E_data, y_data)\u001b[0m\n\u001b[0;32m    150\u001b[0m \u001b[38;5;28;01mdef\u001b[39;00m \u001b[38;5;21minterpolate\u001b[39m(\u001b[38;5;28mself\u001b[39m, E_data, y_data ):\n\u001b[1;32m--> 151\u001b[0m     \u001b[38;5;28;01mreturn\u001b[39;00m \u001b[43mnp\u001b[49m\u001b[38;5;241;43m.\u001b[39;49m\u001b[43minterp\u001b[49m\u001b[43m(\u001b[49m\u001b[38;5;28;43mself\u001b[39;49m\u001b[38;5;241;43m.\u001b[39;49m\u001b[43mE\u001b[49m\u001b[43m,\u001b[49m\u001b[43m \u001b[49m\u001b[43mE_data\u001b[49m\u001b[43m,\u001b[49m\u001b[43m \u001b[49m\u001b[43my_data\u001b[49m\u001b[43m)\u001b[49m\n",
      "File \u001b[1;32mc:\\Users\\gustav.wiberg\\Documents\\GitHub\\NordicEC\\EC4py\\.venv\\Lib\\site-packages\\numpy\\lib\\_function_base_impl.py:1663\u001b[0m, in \u001b[0;36minterp\u001b[1;34m(x, xp, fp, left, right, period)\u001b[0m\n\u001b[0;32m   1660\u001b[0m     xp \u001b[38;5;241m=\u001b[39m np\u001b[38;5;241m.\u001b[39mconcatenate((xp[\u001b[38;5;241m-\u001b[39m\u001b[38;5;241m1\u001b[39m:]\u001b[38;5;241m-\u001b[39mperiod, xp, xp[\u001b[38;5;241m0\u001b[39m:\u001b[38;5;241m1\u001b[39m]\u001b[38;5;241m+\u001b[39mperiod))\n\u001b[0;32m   1661\u001b[0m     fp \u001b[38;5;241m=\u001b[39m np\u001b[38;5;241m.\u001b[39mconcatenate((fp[\u001b[38;5;241m-\u001b[39m\u001b[38;5;241m1\u001b[39m:], fp, fp[\u001b[38;5;241m0\u001b[39m:\u001b[38;5;241m1\u001b[39m]))\n\u001b[1;32m-> 1663\u001b[0m \u001b[38;5;28;01mreturn\u001b[39;00m \u001b[43minterp_func\u001b[49m\u001b[43m(\u001b[49m\u001b[43mx\u001b[49m\u001b[43m,\u001b[49m\u001b[43m \u001b[49m\u001b[43mxp\u001b[49m\u001b[43m,\u001b[49m\u001b[43m \u001b[49m\u001b[43mfp\u001b[49m\u001b[43m,\u001b[49m\u001b[43m \u001b[49m\u001b[43mleft\u001b[49m\u001b[43m,\u001b[49m\u001b[43m \u001b[49m\u001b[43mright\u001b[49m\u001b[43m)\u001b[49m\n",
      "\u001b[1;31mValueError\u001b[0m: array of sample points is empty"
     ]
    }
   ],
   "source": [
    "cvs=CV_Datas(path_to_dataSetFolder.glob(\"*.tdms\"),\"i_0\")"
   ]
  },
  {
   "cell_type": "code",
   "execution_count": null,
   "metadata": {},
   "outputs": [],
   "source": [
    "ec=EC_Data(paths[1])\n",
    "ec.plot(\"E\",\"i_4\")"
   ]
  },
  {
   "cell_type": "code",
   "execution_count": null,
   "metadata": {},
   "outputs": [],
   "source": [
    "a = EC_Channels(\"i_0\")\n",
    "a.Current\n",
    "a.Voltage\n"
   ]
  },
  {
   "cell_type": "code",
   "execution_count": null,
   "metadata": {},
   "outputs": [],
   "source": [
    "print(ec.setup)\n",
    "print(ec.setup_data._setup)"
   ]
  },
  {
   "cell_type": "code",
   "execution_count": null,
   "metadata": {},
   "outputs": [],
   "source": [
    "print(EC_Data(paths[0]).is_MWE)\n",
    "CV_Data(paths[0],\"i_2\").plot()\n",
    "cv_2 = CV_Datas(paths,\"i_3\")"
   ]
  },
  {
   "cell_type": "code",
   "execution_count": null,
   "metadata": {},
   "outputs": [],
   "source": [
    "cv_2 = CV_Datas(paths,\"i_2\",IRCOMP=\"R\")\n",
    "cv_2.plot(RHE,RATE,LEGEND.NONE)\n",
    "print(cv_2.get_i_at_E(1.3,\"aLL\"))\n",
    "cv_2.rate"
   ]
  },
  {
   "cell_type": "code",
   "execution_count": null,
   "metadata": {},
   "outputs": [],
   "source": [
    "cv_2.norm(AREA, AREA_CM)\n",
    "print(cv_2[0].i_unit)"
   ]
  },
  {
   "cell_type": "code",
   "execution_count": null,
   "metadata": {},
   "outputs": [],
   "source": [
    "CVs = CV_Datas(paths)\n",
    "for cv in CVs:\n",
    "    #cv.set_area(0.04532, \"cm^2\")\n",
    "    print(\"aa\", cv.area)"
   ]
  },
  {
   "cell_type": "code",
   "execution_count": null,
   "metadata": {},
   "outputs": [],
   "source": [
    "CVs[1].plot(4,title = \"aa\")"
   ]
  },
  {
   "cell_type": "code",
   "execution_count": null,
   "metadata": {},
   "outputs": [],
   "source": [
    "#plot = CVs.plot(\"\" ,legend = \"name\", smooth_y=50)\n",
    "CVs[1].plot(title = \"aa\")\n",
    "for cv in CVs[:1]:\n",
    "    print(cv.rate)\n",
    "    cv2 = cv * (1 / 1000.)\n",
    "    #cv2.plot()\n",
    "\n",
    "#CVs.bg_corr(CVs)\n",
    "CVs.plot(AREA, LEGEND.NAME)\n",
    "CVs[0].plot(AREA, LEGEND.RATE)\n",
    "bg_corr = CVs.bg_corr(path_to_dataSetFolder / \"CV_144913_ 3.tdms\" )\n",
    "\n",
    "#bg_corr.plot()"
   ]
  },
  {
   "cell_type": "markdown",
   "metadata": {},
   "source": [
    "## 4. Levich analysis"
   ]
  },
  {
   "cell_type": "code",
   "execution_count": null,
   "metadata": {},
   "outputs": [],
   "source": [
    "slope1, slope2 = CVs.Levich(-0.5,\"area_cm\", y_smooth = 11, )\n",
    "#use the argument to normalize the data"
   ]
  },
  {
   "cell_type": "markdown",
   "metadata": {},
   "source": [
    "## 5. Koutechy-Levich analysis"
   ]
  },
  {
   "cell_type": "code",
   "execution_count": null,
   "metadata": {},
   "outputs": [],
   "source": [
    "slope1, slope2 = CVs.KouLev(-0.5,\"area\", y_smooth = 5)\n",
    "print(slope1 ** 1, slope1 ** -1)\n",
    "#use the argument to normalize the data"
   ]
  },
  {
   "cell_type": "markdown",
   "metadata": {},
   "source": []
  },
  {
   "cell_type": "code",
   "execution_count": null,
   "metadata": {},
   "outputs": [],
   "source": [
    "CVs[0].Tafel([-0.2, -0.1 ],-0.5)"
   ]
  },
  {
   "cell_type": "code",
   "execution_count": null,
   "metadata": {},
   "outputs": [],
   "source": [
    "CVs.Tafel([-0.2, -0.1 ],-0.5)\n",
    "\n",
    "\n",
    "#use the argument to normalize the data"
   ]
  },
  {
   "cell_type": "code",
   "execution_count": null,
   "metadata": {},
   "outputs": [],
   "source": [
    "CVs.Tafel([-0.2, -0.1 ],-0.5)"
   ]
  },
  {
   "cell_type": "markdown",
   "metadata": {},
   "source": []
  }
 ],
 "metadata": {
  "kernelspec": {
   "display_name": ".venv",
   "language": "python",
   "name": "python3"
  },
  "language_info": {
   "codemirror_mode": {
    "name": "ipython",
    "version": 3
   },
   "file_extension": ".py",
   "mimetype": "text/x-python",
   "name": "python",
   "nbconvert_exporter": "python",
   "pygments_lexer": "ipython3",
   "version": "3.11.5"
  }
 },
 "nbformat": 4,
 "nbformat_minor": 2
}
