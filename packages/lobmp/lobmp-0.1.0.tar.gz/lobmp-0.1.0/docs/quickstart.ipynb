{
 "cells": [
  {
   "cell_type": "markdown",
   "id": "ab73e2f3",
   "metadata": {},
   "source": [
    "# Quickstart\n",
    "\n",
    "## Install\n",
    "The package is available through PyPi\n",
    "```bash\n",
    "pip install lobmp\n",
    "```\n",
    "\n",
    "Once installed you can run the following jupyter cells to run the example. The program will generate the output directory structure for you: be aware of overwriting existing folders!"
   ]
  },
  {
   "cell_type": "code",
   "execution_count": 1,
   "id": "d391c518",
   "metadata": {},
   "outputs": [],
   "source": [
    "content = \"\"\"LOBMP.MC,Market By Price,2025-04-25T13:56:27.399724545Z,+2,Raw,UPDATE,UNSPECIFIED,,,,100,,260,0\n",
    ",,,,Summary,,,,,,,,,3\n",
    ",,,,FID,3855,,QUOTIM_MS,50187282,\n",
    ",,,,FID,4148,,TIMACT_MS,50187282,\n",
    ",,,,FID,14269,,TIMACT_NS,13:56:27.282614000,\n",
    ",,,,MapEntry,,UPDATE,,,,,,1100.300000_B,8\n",
    ",,,,FID,266,,BID_TIME,13:56:27.000000000,\n",
    ",,,,FID,3427,,ORDER_PRC,1100.3,\n",
    ",,,,FID,3428,,ORDER_SIDE,1,BID\n",
    ",,,,FID,3430,,NO_ORD,10,\n",
    ",,,,FID,4356,,ACC_SIZE,100,\n",
    ",,,,FID,6527,,LV_TIM_MS,50187282,\n",
    ",,,,FID,6529,,LV_DATE,2025-04-25,\n",
    ",,,,FID,14268,,LV_TIM_NS,13:56:27.282614000,\n",
    ",,,,MapEntry,,UPDATE,,,,,,1100.40000_B,8\n",
    ",,,,FID,266,,BID_TIME,13:56:27.000000000,\n",
    ",,,,FID,3427,,ORDER_PRC,11100.4,\n",
    ",,,,FID,3428,,ORDER_SIDE,1,BID\n",
    ",,,,FID,3430,,NO_ORD,8,\n",
    ",,,,FID,4356,,ACC_SIZE,307,\n",
    ",,,,FID,6527,,LV_TIM_MS,50187282,\n",
    ",,,,FID,6529,,LV_DATE,2025-04-25,\n",
    ",,,,FID,14268,,LV_TIM_NS,13:56:27.282614000,\n",
    "\"\"\"\n",
    "with open(\"testfile_lobmp.csv\", \"w\") as f:\n",
    "    f.write(content)"
   ]
  },
  {
   "cell_type": "code",
   "execution_count": 2,
   "id": "2cb700d5",
   "metadata": {
    "vscode": {
     "languageId": "shellscript"
    }
   },
   "outputs": [
    {
     "name": "stdout",
     "output_type": "stream",
     "text": [
      "2025-04-25 18:22:00,487 lobmp [MainThread] [DEBUG]  Started with timing: Execute run\n",
      "2025-04-25 18:22:00,487 lobmp [MainThread] [DEBUG]  Counting lines in file...\n",
      "2025-04-25 18:22:00,487 lobmp [MainThread] [INFO]  Found 23 lines in file\n",
      "2025-04-25 18:22:00,487 lobmp [MainThread] [DEBUG]  Using 8 CPUs\n",
      "2025-04-25 18:22:00,487 lobmp [MainThread] [INFO]  Starting file processing...\n",
      "2025-04-25 18:22:00,499 lobmp [MainThread] [DEBUG]  Parsing thread completed successfully\n",
      "2025-04-25 18:22:00,499 lobmp [MainThread] [DEBUG]  Parsing thread completed successfully\n",
      "2025-04-25 18:22:00,499 lobmp [MainThread] [DEBUG]  Parsing thread completed successfully\n",
      "2025-04-25 18:22:00,499 lobmp [MainThread] [DEBUG]  Parsing thread completed successfully\n",
      "2025-04-25 18:22:00,499 lobmp [MainThread] [DEBUG]  Parsing thread completed successfully\n",
      "2025-04-25 18:22:00,499 lobmp [MainThread] [DEBUG]  Parsing thread completed successfully\n",
      "2025-04-25 18:22:00,499 lobmp [MainThread] [DEBUG]  Parsing thread completed successfully\n",
      "2025-04-25 18:22:00,499 lobmp [MainThread] [DEBUG]  Parsing thread completed successfully\n",
      "2025-04-25 18:22:00,499 lobmp [MainThread] [DEBUG]  Writing queue is empty!\n",
      "2025-04-25 18:22:00,507 lobmp [MainThread] [DEBUG]  Writing thread completed successfully\n",
      "2025-04-25 18:22:00,507 lobmp [MainThread] [DEBUG]  Completed with timing: Execute run (Elapsed: 0.02s)\n"
     ]
    }
   ],
   "source": [
    "! lobmp testfile_lobmp.csv ./output --verbose DEBUG"
   ]
  },
  {
   "cell_type": "markdown",
   "id": "e24d6bb4",
   "metadata": {},
   "source": [
    "You should now have the following directory structure\n",
    "```\n",
    ".\n",
    "├── output\n",
    "│   └── testfile_lobmp.parquet\n",
    "│       └── part-000000.parquet\n",
    "└── testfile_lobmp.csv\n",
    "```"
   ]
  },
  {
   "cell_type": "code",
   "execution_count": 3,
   "id": "5df0cb17",
   "metadata": {},
   "outputs": [],
   "source": [
    "import polars as pl\n",
    "\n",
    "path = \"./output/testfile_lobmp.parquet/\"\n",
    "\n",
    "df = pl.read_parquet(path)"
   ]
  },
  {
   "cell_type": "code",
   "execution_count": 4,
   "id": "6b718454",
   "metadata": {},
   "outputs": [
    {
     "data": {
      "text/html": [
       "<div><style>\n",
       ".dataframe > thead > tr,\n",
       ".dataframe > tbody > tr {\n",
       "  text-align: right;\n",
       "  white-space: pre-wrap;\n",
       "}\n",
       "</style>\n",
       "<small>shape: (2, 40)</small><table border=\"1\" class=\"dataframe\"><thead><tr><th>TICKER</th><th>TIMESTAMP</th><th>GMT_OFFSET</th><th>MARKET_MESSAGE_TYPE</th><th>PROD_PERM</th><th>DSPLY_NAME</th><th>CURRENCY</th><th>ACTIV_DATE</th><th>RECORDTYPE</th><th>RDN_EXCHD2</th><th>QUOTE_DATE</th><th>PROV_SYMB</th><th>PR_RNK_RUL</th><th>OR_RNK_RUL</th><th>MNEMONIC</th><th>QUOTIM_MS</th><th>MKT_STATUS</th><th>TIMACT_MS</th><th>CONTEXT_ID</th><th>DDS_DSO_ID</th><th>SPS_SP_RIC</th><th>BOOK_STATE</th><th>HALT_REASN</th><th>MKT_OR_RUL</th><th>TRD_STATUS</th><th>HALT_RSN</th><th>INST_PHASE</th><th>TIMACT_NS</th><th>MAP_ENTRY_TYPE</th><th>MAP_ENTRY_KEY</th><th>BID_TIME</th><th>ASK_TIME</th><th>ORDER_PRC</th><th>ORDER_SIDE</th><th>NO_ORD</th><th>ACC_SIZE</th><th>LV_TIM_MS</th><th>LV_DATE</th><th>LV_TIM_NS</th><th>ORDBK_VOL</th></tr><tr><td>str</td><td>str</td><td>str</td><td>str</td><td>str</td><td>str</td><td>str</td><td>str</td><td>str</td><td>str</td><td>str</td><td>str</td><td>str</td><td>str</td><td>str</td><td>str</td><td>str</td><td>str</td><td>str</td><td>str</td><td>str</td><td>str</td><td>str</td><td>str</td><td>str</td><td>str</td><td>str</td><td>str</td><td>str</td><td>str</td><td>str</td><td>str</td><td>str</td><td>str</td><td>str</td><td>str</td><td>str</td><td>str</td><td>str</td><td>str</td></tr></thead><tbody><tr><td>&quot;LOBMP.MC&quot;</td><td>&quot;2025-04-25T13:56:27.399724545Z&quot;</td><td>&quot;+2&quot;</td><td>&quot;UPDATE&quot;</td><td>&quot;&quot;</td><td>&quot;&quot;</td><td>&quot;&quot;</td><td>&quot;&quot;</td><td>&quot;&quot;</td><td>&quot;&quot;</td><td>&quot;&quot;</td><td>&quot;&quot;</td><td>&quot;&quot;</td><td>&quot;&quot;</td><td>&quot;&quot;</td><td>&quot;50187282&quot;</td><td>&quot;&quot;</td><td>&quot;50187282&quot;</td><td>&quot;&quot;</td><td>&quot;&quot;</td><td>&quot;&quot;</td><td>&quot;&quot;</td><td>&quot;&quot;</td><td>&quot;&quot;</td><td>&quot;&quot;</td><td>&quot;&quot;</td><td>&quot;&quot;</td><td>&quot;13:56:27.282614000&quot;</td><td>&quot;UPDATE&quot;</td><td>&quot;1100.300000_B&quot;</td><td>&quot;13:56:27.000000000&quot;</td><td>&quot;&quot;</td><td>&quot;1100.3&quot;</td><td>&quot;BID&quot;</td><td>&quot;10&quot;</td><td>&quot;100&quot;</td><td>&quot;50187282&quot;</td><td>&quot;2025-04-25&quot;</td><td>&quot;13:56:27.282614000&quot;</td><td>&quot;&quot;</td></tr><tr><td>&quot;LOBMP.MC&quot;</td><td>&quot;2025-04-25T13:56:27.399724545Z&quot;</td><td>&quot;+2&quot;</td><td>&quot;UPDATE&quot;</td><td>&quot;&quot;</td><td>&quot;&quot;</td><td>&quot;&quot;</td><td>&quot;&quot;</td><td>&quot;&quot;</td><td>&quot;&quot;</td><td>&quot;&quot;</td><td>&quot;&quot;</td><td>&quot;&quot;</td><td>&quot;&quot;</td><td>&quot;&quot;</td><td>&quot;50187282&quot;</td><td>&quot;&quot;</td><td>&quot;50187282&quot;</td><td>&quot;&quot;</td><td>&quot;&quot;</td><td>&quot;&quot;</td><td>&quot;&quot;</td><td>&quot;&quot;</td><td>&quot;&quot;</td><td>&quot;&quot;</td><td>&quot;&quot;</td><td>&quot;&quot;</td><td>&quot;13:56:27.282614000&quot;</td><td>&quot;UPDATE&quot;</td><td>&quot;1100.40000_B&quot;</td><td>&quot;13:56:27.000000000&quot;</td><td>&quot;&quot;</td><td>&quot;11100.4&quot;</td><td>&quot;BID&quot;</td><td>&quot;8&quot;</td><td>&quot;307&quot;</td><td>&quot;50187282&quot;</td><td>&quot;2025-04-25&quot;</td><td>&quot;13:56:27.282614000&quot;</td><td>&quot;&quot;</td></tr></tbody></table></div>"
      ],
      "text/plain": [
       "shape: (2, 40)\n",
       "┌──────────┬───────────┬───────────┬───────────┬───┬───────────┬───────────┬───────────┬───────────┐\n",
       "│ TICKER   ┆ TIMESTAMP ┆ GMT_OFFSE ┆ MARKET_ME ┆ … ┆ LV_TIM_MS ┆ LV_DATE   ┆ LV_TIM_NS ┆ ORDBK_VOL │\n",
       "│ ---      ┆ ---       ┆ T         ┆ SSAGE_TYP ┆   ┆ ---       ┆ ---       ┆ ---       ┆ ---       │\n",
       "│ str      ┆ str       ┆ ---       ┆ E         ┆   ┆ str       ┆ str       ┆ str       ┆ str       │\n",
       "│          ┆           ┆ str       ┆ ---       ┆   ┆           ┆           ┆           ┆           │\n",
       "│          ┆           ┆           ┆ str       ┆   ┆           ┆           ┆           ┆           │\n",
       "╞══════════╪═══════════╪═══════════╪═══════════╪═══╪═══════════╪═══════════╪═══════════╪═══════════╡\n",
       "│ LOBMP.MC ┆ 2025-04-2 ┆ +2        ┆ UPDATE    ┆ … ┆ 50187282  ┆ 2025-04-2 ┆ 13:56:27. ┆           │\n",
       "│          ┆ 5T13:56:2 ┆           ┆           ┆   ┆           ┆ 5         ┆ 282614000 ┆           │\n",
       "│          ┆ 7.3997245 ┆           ┆           ┆   ┆           ┆           ┆           ┆           │\n",
       "│          ┆ 45Z       ┆           ┆           ┆   ┆           ┆           ┆           ┆           │\n",
       "│ LOBMP.MC ┆ 2025-04-2 ┆ +2        ┆ UPDATE    ┆ … ┆ 50187282  ┆ 2025-04-2 ┆ 13:56:27. ┆           │\n",
       "│          ┆ 5T13:56:2 ┆           ┆           ┆   ┆           ┆ 5         ┆ 282614000 ┆           │\n",
       "│          ┆ 7.3997245 ┆           ┆           ┆   ┆           ┆           ┆           ┆           │\n",
       "│          ┆ 45Z       ┆           ┆           ┆   ┆           ┆           ┆           ┆           │\n",
       "└──────────┴───────────┴───────────┴───────────┴───┴───────────┴───────────┴───────────┴───────────┘"
      ]
     },
     "execution_count": 4,
     "metadata": {},
     "output_type": "execute_result"
    }
   ],
   "source": [
    "df"
   ]
  }
 ],
 "metadata": {
  "kernelspec": {
   "display_name": ".venv",
   "language": "python",
   "name": "python3"
  },
  "language_info": {
   "codemirror_mode": {
    "name": "ipython",
    "version": 3
   },
   "file_extension": ".py",
   "mimetype": "text/x-python",
   "name": "python",
   "nbconvert_exporter": "python",
   "pygments_lexer": "ipython3",
   "version": "3.12.8"
  }
 },
 "nbformat": 4,
 "nbformat_minor": 5
}
