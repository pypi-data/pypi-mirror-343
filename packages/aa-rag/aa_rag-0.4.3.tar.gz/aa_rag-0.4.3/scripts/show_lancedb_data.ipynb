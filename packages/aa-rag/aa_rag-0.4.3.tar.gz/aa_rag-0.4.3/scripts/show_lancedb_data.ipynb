{
 "cells": [
  {
   "cell_type": "code",
   "id": "initial_id",
   "metadata": {
    "collapsed": true,
    "ExecuteTime": {
     "end_time": "2025-02-09T16:06:10.534111Z",
     "start_time": "2025-02-09T16:06:10.122226Z"
    }
   },
   "source": "import lancedb",
   "outputs": [],
   "execution_count": 1
  },
  {
   "metadata": {
    "ExecuteTime": {
     "end_time": "2025-02-09T16:06:10.539023Z",
     "start_time": "2025-02-09T16:06:10.537482Z"
    }
   },
   "cell_type": "code",
   "source": [
    "import os\n",
    "os.chdir(\"/\")"
   ],
   "id": "3fbe91ad9e1ce1c5",
   "outputs": [],
   "execution_count": 2
  },
  {
   "metadata": {
    "ExecuteTime": {
     "end_time": "2025-02-09T16:06:10.600948Z",
     "start_time": "2025-02-09T16:06:10.596681Z"
    }
   },
   "cell_type": "code",
   "source": "conn=lancedb.connect(\"./db/lancedb\")",
   "id": "84d326346d051f4e",
   "outputs": [],
   "execution_count": 3
  },
  {
   "metadata": {
    "ExecuteTime": {
     "end_time": "2025-02-09T16:06:12.313645Z",
     "start_time": "2025-02-09T16:06:12.308012Z"
    }
   },
   "cell_type": "code",
   "source": "conn.table_names()",
   "id": "a14833fc9015fbe6",
   "outputs": [
    {
     "data": {
      "text/plain": [
       "['qa_chunk_text-embedding-3-small']"
      ]
     },
     "execution_count": 4,
     "metadata": {},
     "output_type": "execute_result"
    }
   ],
   "execution_count": 4
  },
  {
   "metadata": {
    "ExecuteTime": {
     "end_time": "2025-02-09T16:06:14.383776Z",
     "start_time": "2025-02-09T16:06:14.179790Z"
    }
   },
   "cell_type": "code",
   "source": "table = conn.open_table(\"qa_chunk_text-embedding-3-small\")",
   "id": "85a93eb95710f9f5",
   "outputs": [],
   "execution_count": 5
  },
  {
   "metadata": {
    "ExecuteTime": {
     "end_time": "2025-02-09T16:06:15.012040Z",
     "start_time": "2025-02-09T16:06:14.993842Z"
    }
   },
   "cell_type": "code",
   "source": "table.to_pandas()",
   "id": "705d2b30c53a8c0a",
   "outputs": [
    {
     "data": {
      "text/plain": [
       "                                 id  \\\n",
       "0  9637842ec646dbf83db462c52f0e39d4   \n",
       "1  ec2fcb66923f1e466b1ec5a6f458be57   \n",
       "\n",
       "                                              vector               text  \\\n",
       "0  [0.010136966593563557, -0.018373873084783554, ...   网络错误，无法连接 google   \n",
       "1  [0.02685457281768322, -0.048135943710803986, -...  网络错误，无法连接 youtube   \n",
       "\n",
       "                                            metadata  \n",
       "0  {'solution': '设置代理 127.0.0.1:7891', 'tags': ['...  \n",
       "1  {'solution': '设置代理 127.0.0.1:7891', 'tags': ['...  "
      ],
      "text/html": [
       "<div>\n",
       "<style scoped>\n",
       "    .dataframe tbody tr th:only-of-type {\n",
       "        vertical-align: middle;\n",
       "    }\n",
       "\n",
       "    .dataframe tbody tr th {\n",
       "        vertical-align: top;\n",
       "    }\n",
       "\n",
       "    .dataframe thead th {\n",
       "        text-align: right;\n",
       "    }\n",
       "</style>\n",
       "<table border=\"1\" class=\"dataframe\">\n",
       "  <thead>\n",
       "    <tr style=\"text-align: right;\">\n",
       "      <th></th>\n",
       "      <th>id</th>\n",
       "      <th>vector</th>\n",
       "      <th>text</th>\n",
       "      <th>metadata</th>\n",
       "    </tr>\n",
       "  </thead>\n",
       "  <tbody>\n",
       "    <tr>\n",
       "      <th>0</th>\n",
       "      <td>9637842ec646dbf83db462c52f0e39d4</td>\n",
       "      <td>[0.010136966593563557, -0.018373873084783554, ...</td>\n",
       "      <td>网络错误，无法连接 google</td>\n",
       "      <td>{'solution': '设置代理 127.0.0.1:7891', 'tags': ['...</td>\n",
       "    </tr>\n",
       "    <tr>\n",
       "      <th>1</th>\n",
       "      <td>ec2fcb66923f1e466b1ec5a6f458be57</td>\n",
       "      <td>[0.02685457281768322, -0.048135943710803986, -...</td>\n",
       "      <td>网络错误，无法连接 youtube</td>\n",
       "      <td>{'solution': '设置代理 127.0.0.1:7891', 'tags': ['...</td>\n",
       "    </tr>\n",
       "  </tbody>\n",
       "</table>\n",
       "</div>"
      ]
     },
     "execution_count": 6,
     "metadata": {},
     "output_type": "execute_result"
    }
   ],
   "execution_count": 6
  },
  {
   "metadata": {
    "ExecuteTime": {
     "end_time": "2025-01-26T06:40:09.405007Z",
     "start_time": "2025-01-26T06:40:09.373957Z"
    }
   },
   "cell_type": "code",
   "source": "table.update()",
   "id": "43dac6a0e92650a",
   "outputs": [
    {
     "ename": "ValueError",
     "evalue": "Either values or values_sql must be provided",
     "output_type": "error",
     "traceback": [
      "\u001B[0;31m---------------------------------------------------------------------------\u001B[0m",
      "\u001B[0;31mValueError\u001B[0m                                Traceback (most recent call last)",
      "Cell \u001B[0;32mIn[33], line 1\u001B[0m\n\u001B[0;32m----> 1\u001B[0m \u001B[43mtable\u001B[49m\u001B[38;5;241;43m.\u001B[39;49m\u001B[43mupdate\u001B[49m\u001B[43m(\u001B[49m\u001B[43m)\u001B[49m\n",
      "File \u001B[0;32m~/Workspace/PythonProjects/aa_rag/.venv/lib/python3.10/site-packages/lancedb/table.py:1984\u001B[0m, in \u001B[0;36mLanceTable.update\u001B[0;34m(self, where, values, values_sql)\u001B[0m\n\u001B[1;32m   1982\u001B[0m     \u001B[38;5;28;01mraise\u001B[39;00m \u001B[38;5;167;01mValueError\u001B[39;00m(\u001B[38;5;124m\"\u001B[39m\u001B[38;5;124mOnly one of values or values_sql can be provided\u001B[39m\u001B[38;5;124m\"\u001B[39m)\n\u001B[1;32m   1983\u001B[0m \u001B[38;5;28;01mif\u001B[39;00m values \u001B[38;5;129;01mis\u001B[39;00m \u001B[38;5;28;01mNone\u001B[39;00m \u001B[38;5;129;01mand\u001B[39;00m values_sql \u001B[38;5;129;01mis\u001B[39;00m \u001B[38;5;28;01mNone\u001B[39;00m:\n\u001B[0;32m-> 1984\u001B[0m     \u001B[38;5;28;01mraise\u001B[39;00m \u001B[38;5;167;01mValueError\u001B[39;00m(\u001B[38;5;124m\"\u001B[39m\u001B[38;5;124mEither values or values_sql must be provided\u001B[39m\u001B[38;5;124m\"\u001B[39m)\n\u001B[1;32m   1986\u001B[0m \u001B[38;5;28;01mif\u001B[39;00m values \u001B[38;5;129;01mis\u001B[39;00m \u001B[38;5;129;01mnot\u001B[39;00m \u001B[38;5;28;01mNone\u001B[39;00m:\n\u001B[1;32m   1987\u001B[0m     values_sql \u001B[38;5;241m=\u001B[39m {k: value_to_sql(v) \u001B[38;5;28;01mfor\u001B[39;00m k, v \u001B[38;5;129;01min\u001B[39;00m values\u001B[38;5;241m.\u001B[39mitems()}\n",
      "\u001B[0;31mValueError\u001B[0m: Either values or values_sql must be provided"
     ]
    }
   ],
   "execution_count": 33
  }
 ],
 "metadata": {
  "kernelspec": {
   "display_name": "Python 3",
   "language": "python",
   "name": "python3"
  },
  "language_info": {
   "codemirror_mode": {
    "name": "ipython",
    "version": 2
   },
   "file_extension": ".py",
   "mimetype": "text/x-python",
   "name": "python",
   "nbconvert_exporter": "python",
   "pygments_lexer": "ipython2",
   "version": "2.7.6"
  }
 },
 "nbformat": 4,
 "nbformat_minor": 5
}
