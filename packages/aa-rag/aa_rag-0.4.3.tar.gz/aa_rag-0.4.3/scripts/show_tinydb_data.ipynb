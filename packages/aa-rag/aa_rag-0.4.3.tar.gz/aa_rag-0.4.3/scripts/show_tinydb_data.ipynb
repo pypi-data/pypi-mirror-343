{
 "cells": [
  {
   "metadata": {
    "collapsed": true,
    "ExecuteTime": {
     "end_time": "2025-02-09T14:54:53.880030Z",
     "start_time": "2025-02-09T14:54:53.876951Z"
    }
   },
   "cell_type": "code",
   "source": [
    "import os\n",
    "\n",
    "os.chdir(\"/\")"
   ],
   "id": "initial_id",
   "outputs": [],
   "execution_count": 2
  },
  {
   "metadata": {
    "ExecuteTime": {
     "end_time": "2025-02-09T14:54:54.507800Z",
     "start_time": "2025-02-09T14:54:53.884215Z"
    }
   },
   "cell_type": "code",
   "source": [
    "from aa_rag.db.tinydb_ import TinyDBDataBase\n",
    "\n",
    "db = TinyDBDataBase()"
   ],
   "id": "677474c8f0cb0a10",
   "outputs": [],
   "execution_count": 3
  },
  {
   "metadata": {
    "ExecuteTime": {
     "end_time": "2025-02-09T14:55:52.624936Z",
     "start_time": "2025-02-09T14:55:52.619573Z"
    }
   },
   "cell_type": "code",
   "source": [
    "with db.get_table(\"test\") as table:\n",
    "    table.insert({\"name\":\"John\", \"age\": 20})\n",
    "    print(table.select({\"name\": {\"$eq\": \"John\"}, \"age\": {\"$gt\": 30}}))"
   ],
   "id": "f16104815c244e3f",
   "outputs": [
    {
     "name": "stdout",
     "output_type": "stream",
     "text": [
      "[]\n"
     ]
    }
   ],
   "execution_count": 8
  },
  {
   "metadata": {},
   "cell_type": "code",
   "outputs": [],
   "execution_count": null,
   "source": "\n",
   "id": "a3bd3e6af490f9bd"
  }
 ],
 "metadata": {
  "kernelspec": {
   "display_name": "Python 3",
   "language": "python",
   "name": "python3"
  },
  "language_info": {
   "codemirror_mode": {
    "name": "ipython",
    "version": 2
   },
   "file_extension": ".py",
   "mimetype": "text/x-python",
   "name": "python",
   "nbconvert_exporter": "python",
   "pygments_lexer": "ipython2",
   "version": "2.7.6"
  }
 },
 "nbformat": 4,
 "nbformat_minor": 5
}
