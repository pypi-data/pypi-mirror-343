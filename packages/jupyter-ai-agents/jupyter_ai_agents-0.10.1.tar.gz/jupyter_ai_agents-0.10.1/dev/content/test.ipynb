{
 "cells": [
  {
   "cell_type": "code",
   "execution_count": null,
   "id": "fac937b5-6be5-415f-9c4f-d0511508955a",
   "metadata": {
    "datalayer": {
     "ai": {
      "prompts": [
       {
        "id": "01JRJ8Y2KF9QCQZTXQT8FJH",
        "prompt": "create a plot",
        "timestamp": 1744370076271,
        "username": null
       },
       {
        "id": "01JRJ8Y2KF9QCQZTXJH",
        "prompt": "create a matplot",
        "timestamp": 1744370076271,
        "username": null
       }
      ]
     }
    },
    "editable": true,
    "slideshow": {
     "slide_type": ""
    },
    "tags": []
   },
   "outputs": [],
   "source": []
  }
 ],
 "metadata": {
  "kernelspec": {
   "display_name": "Python 3 (ipykernel)",
   "language": "python",
   "name": "python3"
  },
  "language_info": {
   "codemirror_mode": {
    "name": "ipython",
    "version": 3
   },
   "file_extension": ".py",
   "mimetype": "text/x-python",
   "name": "python",
   "nbconvert_exporter": "python",
   "pygments_lexer": "ipython3",
   "version": "3.11.11"
  }
 },
 "nbformat": 4,
 "nbformat_minor": 5
}
