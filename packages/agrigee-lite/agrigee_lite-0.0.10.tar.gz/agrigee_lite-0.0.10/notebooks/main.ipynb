{
 "cells": [
  {
   "cell_type": "code",
   "execution_count": 1,
   "metadata": {},
   "outputs": [],
   "source": [
    "import ee\n",
    "import geopandas as gpd\n",
    "import numpy as np\n",
    "import pandas as pd\n",
    "\n",
    "import agrigee_lite as agl\n",
    "\n",
    "np.set_printoptions(suppress=True)\n",
    "np.set_printoptions(precision=2)\n",
    "pd.set_option('display.float_format', '{:.2f}'.format)\n",
    "\n",
    "# pandas show all columns\n",
    "pd.set_option('display.max_columns', None)"
   ]
  },
  {
   "cell_type": "code",
   "execution_count": 2,
   "metadata": {},
   "outputs": [],
   "source": [
    "ee.Initialize(opt_url=\"https://earthengine-highvolume.googleapis.com\", project=\"ee-paulagibrim\")"
   ]
  },
  {
   "cell_type": "code",
   "execution_count": 4,
   "metadata": {},
   "outputs": [],
   "source": [
    "gdf = gpd.read_parquet(\"data/mt_crops.parquet\")\n",
    "gdf[\"start_date\"] = pd.to_datetime(gdf.year.apply(lambda x: f\"{x-1}-10-01\"))\n",
    "gdf[\"end_date\"] = pd.to_datetime(gdf.year.apply(lambda x: f\"{x}-10-01\"))"
   ]
  },
  {
   "cell_type": "code",
   "execution_count": 5,
   "metadata": {},
   "outputs": [
    {
     "name": "stdout",
     "output_type": "stream",
     "text": [
      "varda_id                   01911f59-27ba-7c52-a3a0-d044ffe357c1\n",
      "ha                                                       500.80\n",
      "geometry      POLYGON ((-55.94728879741619 -12.4627626790059...\n",
      "crops                                                        39\n",
      "percentage                                                 1.00\n",
      "year                                                       2020\n",
      "crop_name                                               Soybean\n",
      "start_date                                  2019-10-01 00:00:00\n",
      "end_date                                    2020-10-01 00:00:00\n",
      "Name: 50, dtype: object\n"
     ]
    }
   ],
   "source": [
    "row = gdf.iloc[50]\n",
    "\n",
    "print(row)"
   ]
  },
  {
   "cell_type": "code",
   "execution_count": 6,
   "metadata": {},
   "outputs": [],
   "source": [
    "sat_opt = agl.sat.Modis()"
   ]
  },
  {
   "cell_type": "code",
   "execution_count": 14,
   "metadata": {},
   "outputs": [],
   "source": [
    "from ee_s1_ard import S1ARDImageCollection"
   ]
  },
  {
   "cell_type": "code",
   "execution_count": 7,
   "metadata": {},
   "outputs": [
    {
     "name": "stderr",
     "output_type": "stream",
     "text": [
      "Downloading: 100%|██████████| 239/239 [01:08<00:00,  3.48it/s]\n"
     ]
    }
   ],
   "source": [
    "images = agl.get.images(row.geometry, row.start_date, row.end_date, sat_opt)"
   ]
  },
  {
   "cell_type": "code",
   "execution_count": 13,
   "metadata": {},
   "outputs": [
    {
     "data": {
      "text/plain": [
       "<matplotlib.image.AxesImage at 0x7f75686116d0>"
      ]
     },
     "execution_count": 13,
     "metadata": {},
     "output_type": "execute_result"
    },
    {
     "data": {
      "image/png": "[encoded data removed]",
      "text/plain": [
       "<Figure size 640x480 with 1 Axes>"
      ]
     },
     "metadata": {},
     "output_type": "display_data"
    }
   ],
   "source": [
    "# First band is RED, second is NIR\n",
    "import matplotlib.pyplot as plt\n",
    "\n",
    "plt.imshow(images[0, :, :, 1])"
   ]
  },
  {
   "cell_type": "code",
   "execution_count": null,
   "metadata": {},
   "outputs": [],
   "source": [
    "sat_opt = agl.sat.Modis()\n",
    "\n",
    "agl.vis.sits(row.geometry, row.start_date, row.end_date, sat_opt, \"evi2\")"
   ]
  },
  {
   "cell_type": "code",
   "execution_count": null,
   "metadata": {},
   "outputs": [],
   "source": [
    "agl.get.sits(row.geometry, row.start_date, row.end_date, sat_opt)"
   ]
  },
  {
   "cell_type": "code",
   "execution_count": null,
   "metadata": {},
   "outputs": [],
   "source": [
    "\n",
    "agl.get.images(row.geometry, row.start_date, row.end_date, sat_opt)"
   ]
  },
  {
   "cell_type": "code",
   "execution_count": null,
   "metadata": {},
   "outputs": [],
   "source": [
    "sat = agl.sat.Landsat5()\n",
    "\n",
    "images = agl.get.images(row.geometry, \"1990-10-01\", \"2000-10-01\", sat)"
   ]
  },
  {
   "cell_type": "code",
   "execution_count": null,
   "metadata": {},
   "outputs": [],
   "source": [
    "sat = agl.sat.Landsat4()\n",
    "\n",
    "agl.vis.sits(row.geometry, \"1990-10-01\", \"2000-10-01\", sat, \"evi2\")"
   ]
  },
  {
   "cell_type": "code",
   "execution_count": null,
   "metadata": {},
   "outputs": [],
   "source": [
    "sat = agl.sat.Landsat7()\n",
    "\n",
    "agl.vis.sits(row.geometry, row.start_date, row.end_date, sat, \"evi2\")"
   ]
  },
  {
   "cell_type": "code",
   "execution_count": null,
   "metadata": {},
   "outputs": [],
   "source": [
    "sat_opt = agl.sat.Sentinel2()\n",
    "\n",
    "agl.vis.sits(row.geometry, row.start_date, row.end_date, sat_opt, \"evi2\")"
   ]
  },
  {
   "cell_type": "code",
   "execution_count": null,
   "metadata": {},
   "outputs": [],
   "source": []
  },
  {
   "cell_type": "code",
   "execution_count": null,
   "metadata": {},
   "outputs": [],
   "source": [
    "sat_opt = agl.sat.Landsat8()\n",
    "\n",
    "agl.vis.sits(row.geometry, row.start_date, row.end_date, sat_opt, \"evi2\")"
   ]
  },
  {
   "cell_type": "code",
   "execution_count": null,
   "metadata": {},
   "outputs": [],
   "source": [
    "sat_opt = agl.sat.Landsat9()\n",
    "\n",
    "agl.vis.sits(row.geometry, \"2023-10-01\", \"2025-10-01\", sat_opt, \"evi2\")"
   ]
  },
  {
   "cell_type": "code",
   "execution_count": null,
   "metadata": {},
   "outputs": [],
   "source": [
    "agl.get.sits(row.geometry, \"1995-10-01\", \"1997-10-01\", sat)"
   ]
  },
  {
   "cell_type": "code",
   "execution_count": null,
   "metadata": {},
   "outputs": [],
   "source": [
    "sat = agl.sat.Sentinel1(ascending=False)\n",
    "\n",
    "agl.vis.sits(row.geometry, row.start_date, row.end_date, sat, \"vhvv\")"
   ]
  },
  {
   "cell_type": "code",
   "execution_count": null,
   "metadata": {},
   "outputs": [],
   "source": []
  },
  {
   "cell_type": "code",
   "execution_count": null,
   "metadata": {},
   "outputs": [],
   "source": [
    "sat = agl.sat.Sentinel2()\n",
    "\n",
    "agl.get.sits(row.geometry, row.start_date, row.end_date, sat, date_types=[\"fyear\"])"
   ]
  },
  {
   "cell_type": "code",
   "execution_count": null,
   "metadata": {},
   "outputs": [],
   "source": [
    "agl.get.sits(row.geometry, row.start_date, row.end_date, sat, date_types=[\"fyear\"])"
   ]
  },
  {
   "cell_type": "code",
   "execution_count": null,
   "metadata": {},
   "outputs": [],
   "source": [
    "images = agl.get.images(row.geometry, row.start_date, row.end_date, sat)"
   ]
  },
  {
   "cell_type": "code",
   "execution_count": null,
   "metadata": {},
   "outputs": [],
   "source": [
    "results = images[:, :, :, 1]/ images[:, :, :, 0]\n",
    "# results[np.isnan(results)] = 0"
   ]
  },
  {
   "cell_type": "code",
   "execution_count": null,
   "metadata": {},
   "outputs": [],
   "source": [
    "import matplotlib.pyplot as plt"
   ]
  },
  {
   "cell_type": "code",
   "execution_count": null,
   "metadata": {},
   "outputs": [],
   "source": [
    "np.percentile(results, 90)"
   ]
  },
  {
   "cell_type": "code",
   "execution_count": null,
   "metadata": {},
   "outputs": [],
   "source": [
    "plt.imshow(results[65, :, :], cmap=\"PRGn\", vmin=1.5, vmax=2.3)\n",
    "\n",
    "plt.colorbar()\n",
    "plt.show()"
   ]
  },
  {
   "cell_type": "code",
   "execution_count": null,
   "metadata": {},
   "outputs": [],
   "source": [
    "sampled_gdf = gdf.sample(5000, random_state=42).reset_index(drop=True)"
   ]
  },
  {
   "cell_type": "code",
   "execution_count": null,
   "metadata": {},
   "outputs": [],
   "source": [
    "sampled_gdf.rename(columns={\"year\": \"0\"})[\"0\"]"
   ]
  },
  {
   "cell_type": "code",
   "execution_count": null,
   "metadata": {},
   "outputs": [],
   "source": [
    "row = gdf.iloc[0]"
   ]
  },
  {
   "cell_type": "code",
   "execution_count": null,
   "metadata": {},
   "outputs": [],
   "source": [
    "agl.get.images(row.geometry, )"
   ]
  },
  {
   "cell_type": "code",
   "execution_count": null,
   "metadata": {},
   "outputs": [],
   "source": [
    "satellite = agl.sat.Sentinel2()"
   ]
  },
  {
   "cell_type": "code",
   "execution_count": null,
   "metadata": {},
   "outputs": [],
   "source": [
    "features = agl.get.multiple_sits(sampled_gdf, satellite)"
   ]
  },
  {
   "cell_type": "code",
   "execution_count": null,
   "metadata": {},
   "outputs": [],
   "source": [
    "sampled_gdf_f = sampled_gdf.merge(features, right_index=True, left_index=True)"
   ]
  },
  {
   "cell_type": "code",
   "execution_count": null,
   "metadata": {},
   "outputs": [],
   "source": [
    "from agrigee_lite.misc import wide_to_long_dataframe"
   ]
  },
  {
   "cell_type": "code",
   "execution_count": null,
   "metadata": {},
   "outputs": [],
   "source": [
    "def wide_to_long_dataframe(df: pd.DataFrame) -> pd.DataFrame:\n",
    "    df = df.copy()\n",
    "    df[\"indexnum\"] = range(len(df))\n",
    "    df_long = df.melt(id_vars=[\"indexnum\"], var_name=\"band_time\", value_name=\"value\")\n",
    "\n",
    "    df_long[[\"prefix\", \"band\", \"idx\"]] = df_long[\"band_time\"].str.extract(r\"([^_]+)_(\\w+)_(\\d+)\")\n",
    "\n",
    "    df_long[\"idx\"] = df_long[\"idx\"].astype(int)\n",
    "    df_long[\"value\"] = pd.to_numeric(df_long[\"value\"], errors=\"coerce\")\n",
    "\n",
    "    df_pivot = df_long.pivot(index=[\"indexnum\", \"idx\"], columns=\"band\", values=\"value\").reset_index()\n",
    "    df_pivot.sort_values(by=[\"indexnum\", \"idx\"], inplace=True)\n",
    "    df_pivot = df_pivot.drop(columns=[\"idx\"])\n",
    "    df_pivot.columns.name = None\n",
    "\n",
    "    df_pivot.dropna(inplace=True)\n",
    "    df_pivot = df_pivot[df_pivot.doy!=0].reset_index(drop=True)\n",
    "\n",
    "    return df_pivot"
   ]
  },
  {
   "cell_type": "code",
   "execution_count": null,
   "metadata": {},
   "outputs": [],
   "source": []
  },
  {
   "cell_type": "code",
   "execution_count": null,
   "metadata": {},
   "outputs": [],
   "source": [
    "import matplotlib.pyplot as plt"
   ]
  },
  {
   "cell_type": "code",
   "execution_count": null,
   "metadata": {},
   "outputs": [],
   "source": [
    "from agrigee_lite.misc import compute_index_from_df"
   ]
  },
  {
   "cell_type": "code",
   "execution_count": null,
   "metadata": {},
   "outputs": [],
   "source": [
    "from agrigee_lite.numpy_indices import ALL_NUMPY_INDICES"
   ]
  },
  {
   "cell_type": "code",
   "execution_count": null,
   "metadata": {},
   "outputs": [],
   "source": [
    "sampled_gdf_f.crop_name.value_counts()"
   ]
  },
  {
   "cell_type": "code",
   "execution_count": null,
   "metadata": {},
   "outputs": [],
   "source": [
    "grass = sampled_gdf_f[sampled_gdf_f.crop_name==\"Almonds\"].sample(1000, replace=True).reset_index(drop=True).drop(columns=[\"geometry\", \"year\", \"start_date\", \"end_date\", \"crop_name\",  \"centroid_x\", \"centroid_y\", \"cluster_id\"])\n",
    "\n",
    "# grass_feature = agl.get.multiple_sits(grass, satellite, force_redownload=True)\n",
    "\n",
    "grass_feature_long = wide_to_long_dataframe(grass)\n",
    "\n",
    "fig, ax = plt.subplots(1, figsize=(20, 10))\n",
    "\n",
    "for indexx in sorted(grass_feature_long.indexnum.unique().tolist()):\n",
    "    long_sits = grass_feature_long[grass_feature_long.indexnum==indexx].reset_index(drop=True).copy()\n",
    "    band_or_indice_to_plot = \"evi2\"\n",
    "\n",
    "    if band_or_indice_to_plot in ALL_NUMPY_INDICES:\n",
    "        y = compute_index_from_df(long_sits/10000, ALL_NUMPY_INDICES[band_or_indice_to_plot])\n",
    "    else:\n",
    "        y = long_sits[band_or_indice_to_plot].values\n",
    "\n",
    "    ax.plot(long_sits.doy, y, color=\"green\", alpha=0.1)\n",
    "\n",
    "plt.xlim(0, 366)\n",
    "plt.ylim(-0.1, 1.1)\n",
    "plt.show()"
   ]
  },
  {
   "cell_type": "code",
   "execution_count": null,
   "metadata": {},
   "outputs": [],
   "source": [
    "grass"
   ]
  },
  {
   "cell_type": "code",
   "execution_count": null,
   "metadata": {},
   "outputs": [],
   "source": [
    "gdf.crop_name.unique()"
   ]
  },
  {
   "cell_type": "code",
   "execution_count": null,
   "metadata": {},
   "outputs": [],
   "source": [
    "grass = gdf[gdf.crop_name=='Corn'].sample(1000).reset_index(drop=True)\n",
    "\n",
    "grass_feature = agl.get.multiple_sits(grass, satellite, force_redownload=True)\n",
    "\n",
    "grass_feature_long = wide_to_long_dataframe(grass_feature)\n",
    "\n",
    "fig, ax = plt.subplots(1, figsize=(20, 10))\n",
    "\n",
    "for indexx in sorted(grass_feature_long.indexnum.unique().tolist()):\n",
    "    long_sits = grass_feature_long[grass_feature_long.indexnum==indexx].reset_index(drop=True).copy()\n",
    "    band_or_indice_to_plot = \"evi2\"\n",
    "\n",
    "    if band_or_indice_to_plot in ALL_NUMPY_INDICES:\n",
    "        y = compute_index_from_df(long_sits/10000, ALL_NUMPY_INDICES[band_or_indice_to_plot])\n",
    "    else:\n",
    "        y = long_sits[band_or_indice_to_plot].values\n",
    "\n",
    "    ax.plot(long_sits.doy, y, color=\"green\", alpha=0.1)\n",
    "\n",
    "plt.xlim(0, 366)\n",
    "plt.ylim(-0.1, 1.1)\n",
    "plt.show()"
   ]
  },
  {
   "cell_type": "code",
   "execution_count": null,
   "metadata": {},
   "outputs": [],
   "source": [
    "agl.get.multiple_sits(gdf, satellite, force_redownload=True)"
   ]
  },
  {
   "cell_type": "code",
   "execution_count": null,
   "metadata": {},
   "outputs": [],
   "source": [
    "from agrigee_lite.get.sits import download_multiple_sits"
   ]
  },
  {
   "cell_type": "code",
   "execution_count": null,
   "metadata": {},
   "outputs": [],
   "source": [
    "download_multiple_sits(gdf.iloc[5:10].reset_index(), satellite)"
   ]
  },
  {
   "cell_type": "code",
   "execution_count": null,
   "metadata": {},
   "outputs": [],
   "source": [
    "download_multiple_sits(gdf.iloc[5:10].reset_index(), satellite)"
   ]
  },
  {
   "cell_type": "code",
   "execution_count": null,
   "metadata": {},
   "outputs": [],
   "source": [
    "agl.get.multiple_sits(gdf.sample(500, random_state=42).reset_index(), satellite, force_redownload=True)"
   ]
  },
  {
   "cell_type": "code",
   "execution_count": null,
   "metadata": {},
   "outputs": [],
   "source": [
    "agl.get.multiple_sits(gdf.sample(500, random_state=42).reset_index(), satellite, force_redownload=True)"
   ]
  },
  {
   "cell_type": "code",
   "execution_count": null,
   "metadata": {},
   "outputs": [],
   "source": [
    "sampled_gdf = gdf.sample(20000, random_state=42).reset_index(drop=True).copy()"
   ]
  },
  {
   "cell_type": "code",
   "execution_count": null,
   "metadata": {},
   "outputs": [],
   "source": [
    "agl.get.multiple_sits(sampled_gdf, satellite)"
   ]
  },
  {
   "cell_type": "code",
   "execution_count": null,
   "metadata": {},
   "outputs": [],
   "source": [
    "row = gdf.iloc[249766]\n",
    "print(row)\n",
    "\n",
    "agl.vis.sits(row.geometry, row.start_date, row.end_date, satellite, \"evi2\")"
   ]
  },
  {
   "cell_type": "code",
   "execution_count": null,
   "metadata": {},
   "outputs": [],
   "source": [
    "row = gdf.iloc[1]\n",
    "print(row)\n",
    "\n",
    "agl.vis.sits(row.geometry, row.start_date, row.end_date, satellite, \"evi2\")"
   ]
  }
 ],
 "metadata": {
  "kernelspec": {
   "display_name": ".venv",
   "language": "python",
   "name": "python3"
  },
  "language_info": {
   "codemirror_mode": {
    "name": "ipython",
    "version": 3
   },
   "file_extension": ".py",
   "mimetype": "text/x-python",
   "name": "python",
   "nbconvert_exporter": "python",
   "pygments_lexer": "ipython3",
   "version": "3.11.10"
  }
 },
 "nbformat": 4,
 "nbformat_minor": 2
}
