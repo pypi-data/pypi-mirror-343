{
 "cells": [
  {
   "cell_type": "code",
   "execution_count": 1,
   "id": "92e27e94",
   "metadata": {},
   "outputs": [],
   "source": [
    "from typing import TypedDict\n",
    "\n",
    "\n",
    "class SankeyDataDef1(TypedDict):\n",
    "    \"\"\"Definition of sankey data.\"\"\"\n",
    "\n",
    "    source: list[int]\n",
    "    target: list[int]\n",
    "    weights_source: list[float | int] | None\n",
    "    weights_target: list[float | int] | None\n",
    "\n",
    "\n",
    "class SankeyDataDef2(TypedDict):\n",
    "    \"\"\"Definition of sankey data.\"\"\"\n",
    "\n",
    "    source: list[int]\n",
    "    target: list[int]\n",
    "    weights: list[float | int]"
   ]
  },
  {
   "cell_type": "code",
   "execution_count": 2,
   "id": "3668d3a3",
   "metadata": {},
   "outputs": [
    {
     "data": {
      "text/plain": [
       "[{'source': [0, 0, 1, 1, 1],\n",
       "  'target': [4, 5, 4, 6, 7],\n",
       "  'weights': [10, 20, 40, 60, 10]}]"
      ]
     },
     "execution_count": 2,
     "metadata": {},
     "output_type": "execute_result"
    }
   ],
   "source": [
    "# data[0][\"weights\"]\n",
    "data: list[SankeyDataDef2] = [\n",
    "    {\n",
    "        \"source\": [0, 0, 1, 1, 1],\n",
    "        \"target\": [4, 5, 4, 6, 7],\n",
    "        \"weights\": [10, 20, 40, 60, 10],\n",
    "    },\n",
    "]\n",
    "data"
   ]
  },
  {
   "cell_type": "code",
   "execution_count": 3,
   "id": "99f51641",
   "metadata": {},
   "outputs": [],
   "source": [
    "import networkx as nx"
   ]
  },
  {
   "cell_type": "code",
   "execution_count": 4,
   "id": "62c250ec",
   "metadata": {},
   "outputs": [
    {
     "data": {
      "image/png": "[encoded data removed]",
      "text/plain": [
       "<Figure size 640x480 with 1 Axes>"
      ]
     },
     "metadata": {},
     "output_type": "display_data"
    }
   ],
   "source": [
    "graph = nx.DiGraph()\n",
    "\n",
    "pos = {}\n",
    "\n",
    "\n",
    "def _unique_list(l: list) -> list:\n",
    "    return list(set(l))\n",
    "\n",
    "\n",
    "for level_index, levels in enumerate(data):\n",
    "    unique_nodes = list({*levels[\"source\"], *levels[\"target\"]})\n",
    "\n",
    "    # for node in unique_nodes:\n",
    "    #     pos[node] = (0, 0)\n",
    "\n",
    "    x_source_offset = (len(_unique_list(levels[\"target\"])) - len(_unique_list(levels[\"source\"]))) / 2\n",
    "    x_target_offset = 0\n",
    "\n",
    "    for source, target, weight in zip(levels[\"source\"], levels[\"target\"], levels[\"weights\"], strict=True):\n",
    "        graph.add_node(source)\n",
    "        graph.add_node(target)\n",
    "        graph.add_edge(\n",
    "            source,\n",
    "            target,\n",
    "            weight=weight,\n",
    "        )\n",
    "\n",
    "        if source not in pos:\n",
    "            pos[source] = (x_source_offset, level_index)\n",
    "            x_source_offset += 1\n",
    "\n",
    "        if target not in pos:\n",
    "            pos[target] = (x_target_offset, level_index - 1)\n",
    "            x_target_offset += 1\n",
    "\n",
    "\n",
    "weights = nx.get_edge_attributes(graph, \"weight\").values()\n",
    "weights = [w / max(weights) * 2 + 1 for w in weights]\n",
    "\n",
    "nx.draw(graph, pos, with_labels=True, width=weights)"
   ]
  }
 ],
 "metadata": {
  "kernelspec": {
   "display_name": "venv",
   "language": "python",
   "name": "python3"
  },
  "language_info": {
   "codemirror_mode": {
    "name": "ipython",
    "version": 3
   },
   "file_extension": ".py",
   "mimetype": "text/x-python",
   "name": "python",
   "nbconvert_exporter": "python",
   "pygments_lexer": "ipython3",
   "version": "3.10.17"
  }
 },
 "nbformat": 4,
 "nbformat_minor": 5
}
